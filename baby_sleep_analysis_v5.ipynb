{
 "cells": [
  {
   "cell_type": "markdown",
   "metadata": {},
   "source": [
    "# Baby Sleep Analysis\n",
    "\n",
    "By Kenneth Burchfiel\n",
    "\n",
    "Released under the MIT License\n",
    "\n",
    "This script produces multiple analyses and visualizations of changes in infant sleep data over time. It focuses on the following metrics:\n",
    "\n",
    "1. The length of babies' longest sleep periods\n",
    "2. Daytime and nighttime sleep distributions\n",
    "3. Total sleep amounts\n",
    "4. How early into the evening nighttime sleep begins\n",
    "\n",
    "Sample copies of some of the interactive charts created by this script can be found [on this Google Sites](https://sites.google.com/view/sample-baby-sleep-charts/home) page. \n",
    "\n",
    "## Instructions for use:\n",
    "\n",
    "This script was designed to accommodate two different data sources:\n",
    "\n",
    "1. A .csv export of infant data from the Huckleberry app. (I have no affiliation with Huckleberry; it just happens to be the app that I use for sleep tracking purposes.)\n",
    "2. A custom .csv file that contains start and end times for each sleep period. (A sample version of this file can be found within 'sleep_dataset.csv'.)\n",
    "\n",
    "Regardless of which dataset you use, overwrite the 'sleep_dataset.csv' file with your copy of sleep data so that this script can process it correctly.\n",
    "\n",
    "If you have a different type of app or tracker that also supports .csv exports, you should be able to modify the code so that it supports whatever sleep data format it happens to use.\n",
    "\n",
    "**Note: by default, this notebook imports and analyzes a set of fictional sleep data stored as 'sleep_dataset.csv'. This dataset is NOT meant to indicate regular infant sleep patterns!** (To see how this table was created, open the 'Sleep Dataset Generator.ipynb' file.)"
   ]
  },
  {
   "cell_type": "code",
   "execution_count": 1,
   "metadata": {
    "execution": {
     "iopub.execute_input": "2024-05-14T17:17:18.006885Z",
     "iopub.status.busy": "2024-05-14T17:17:18.006885Z",
     "iopub.status.idle": "2024-05-14T17:17:19.466223Z",
     "shell.execute_reply": "2024-05-14T17:17:19.465218Z",
     "shell.execute_reply.started": "2024-05-14T17:17:18.006885Z"
    }
   },
   "outputs": [],
   "source": [
    "import time\n",
    "script_start_time = time.time()\n",
    "import pandas as pd\n",
    "import numpy as np\n",
    "import plotly.express as px\n",
    "import statsmodels.api as sm"
   ]
  },
  {
   "cell_type": "markdown",
   "metadata": {},
   "source": [
    "# Part 1: Creating and Updating a Sleep Data Table"
   ]
  },
  {
   "cell_type": "code",
   "execution_count": 2,
   "metadata": {
    "execution": {
     "iopub.execute_input": "2024-05-14T17:17:19.467234Z",
     "iopub.status.busy": "2024-05-14T17:17:19.466223Z",
     "iopub.status.idle": "2024-05-14T17:17:19.473446Z",
     "shell.execute_reply": "2024-05-14T17:17:19.473446Z",
     "shell.execute_reply.started": "2024-05-14T17:17:19.467234Z"
    }
   },
   "outputs": [],
   "source": [
    "data_for_author = False\n",
    "if data_for_author == True: # This block of code allows me to read in my own \n",
    "    # baby's sleep data from a separate folder, then save analyses of that data \n",
    "    # to that folder. In order to read your own sleep data,\n",
    "    # keep data_for_author False, then overwrite \n",
    "    # 'sleep_dataset.csv' with your own data file.\n",
    "    df_personal_data = pd.read_csv('personal_variables.csv', index_col = 'Variable')\n",
    "    dob = pd.to_datetime(df_personal_data.loc['dob', 'Value'])\n",
    "    path_to_data = df_personal_data.loc['path_to_data', 'Value']\n",
    "    max_night_start_date_limit = True\n",
    "    max_night_start_date = pd.to_datetime(df_personal_data.loc['max_night_start_date', 'Value']).date()\n",
    "    data_output_folder = df_personal_data.loc['data_and_chart_save_path', 'Value']\n",
    "    visualizations_folder = df_personal_data.loc['data_and_chart_save_path', 'Value']\n",
    "else:\n",
    "    dob = pd.to_datetime('2024-01-15') # Update this field with your baby's \n",
    "    # date of birth.\n",
    "    path_to_data = 'sleep_dataset.csv' # Either replace this name with the \n",
    "    # path to your own file\n",
    "    # or overwrite this .csv file with your data.\n",
    "    data_output_folder = 'Data_Output/'\n",
    "    visualizations_folder = 'Visualizations/'\n",
    "    # The following lines allow you to set a maximum date for your data. \n",
    "    # This can be useful if you only have partial data for the most recent \n",
    "    # date and don't want it to skew the output of your charts.\n",
    "    max_night_start_date_limit = False\n",
    "    max_night_start_date = pd.to_datetime('2024-07-13').date()\n",
    "    "
   ]
  },
  {
   "cell_type": "markdown",
   "metadata": {},
   "source": [
    "Defining nighttime start and end hours: (I use a 7 PM start time and a 7 AM end time, but feel free to change these to the hours that best fit your child. Note, however, that very unusual settings (such as a night start hour of 9 AM and a night end hour of 4 PM) may produce incorrect analyses and visualizations."
   ]
  },
  {
   "cell_type": "code",
   "execution_count": 3,
   "metadata": {
    "execution": {
     "iopub.execute_input": "2024-05-14T17:17:19.475452Z",
     "iopub.status.busy": "2024-05-14T17:17:19.475452Z",
     "iopub.status.idle": "2024-05-14T17:17:19.477897Z",
     "shell.execute_reply": "2024-05-14T17:17:19.477897Z",
     "shell.execute_reply.started": "2024-05-14T17:17:19.475452Z"
    }
   },
   "outputs": [],
   "source": [
    "# These values should be entered as 24-hour-formatted integers \n",
    "# (e.g. 19 rather than 7 PM or 19:00)\n",
    "night_start_hour = 19\n",
    "night_end_hour = 7 "
   ]
  },
  {
   "cell_type": "markdown",
   "metadata": {},
   "source": [
    "## Importing sleep data:\n",
    "\n",
    "Note: This script was originally designed to work with a Huckleberry .csv export, but it can accommodate other data sources as well provided that they list start and end times in YYYY-MM-DD HH:MM:SS format. (See sleep_data.csv as an example of which formats and field names to use.) If your data uses a different format, you can update the following cell to make your dataset compatible with this script."
   ]
  },
  {
   "cell_type": "code",
   "execution_count": 4,
   "metadata": {
    "execution": {
     "iopub.execute_input": "2024-05-14T17:17:19.478908Z",
     "iopub.status.busy": "2024-05-14T17:17:19.478908Z",
     "iopub.status.idle": "2024-05-14T17:17:19.498963Z",
     "shell.execute_reply": "2024-05-14T17:17:19.498963Z",
     "shell.execute_reply.started": "2024-05-14T17:17:19.478908Z"
    }
   },
   "outputs": [
    {
     "data": {
      "text/html": [
       "<div>\n",
       "<style scoped>\n",
       "    .dataframe tbody tr th:only-of-type {\n",
       "        vertical-align: middle;\n",
       "    }\n",
       "\n",
       "    .dataframe tbody tr th {\n",
       "        vertical-align: top;\n",
       "    }\n",
       "\n",
       "    .dataframe thead th {\n",
       "        text-align: right;\n",
       "    }\n",
       "</style>\n",
       "<table border=\"1\" class=\"dataframe\">\n",
       "  <thead>\n",
       "    <tr style=\"text-align: right;\">\n",
       "      <th></th>\n",
       "      <th>Sleep Start</th>\n",
       "      <th>Sleep End</th>\n",
       "    </tr>\n",
       "  </thead>\n",
       "  <tbody>\n",
       "    <tr>\n",
       "      <th>0</th>\n",
       "      <td>2024-01-15 16:31:00</td>\n",
       "      <td>2024-01-15 17:43:00</td>\n",
       "    </tr>\n",
       "    <tr>\n",
       "      <th>1</th>\n",
       "      <td>2024-01-15 18:46:00</td>\n",
       "      <td>2024-01-15 21:01:00</td>\n",
       "    </tr>\n",
       "    <tr>\n",
       "      <th>2</th>\n",
       "      <td>2024-01-16 01:00:00</td>\n",
       "      <td>2024-01-16 01:49:00</td>\n",
       "    </tr>\n",
       "    <tr>\n",
       "      <th>3</th>\n",
       "      <td>2024-01-16 05:48:00</td>\n",
       "      <td>2024-01-16 08:44:00</td>\n",
       "    </tr>\n",
       "    <tr>\n",
       "      <th>4</th>\n",
       "      <td>2024-01-16 09:53:00</td>\n",
       "      <td>2024-01-16 12:06:00</td>\n",
       "    </tr>\n",
       "    <tr>\n",
       "      <th>...</th>\n",
       "      <td>...</td>\n",
       "      <td>...</td>\n",
       "    </tr>\n",
       "    <tr>\n",
       "      <th>956</th>\n",
       "      <td>2024-07-13 19:09:00</td>\n",
       "      <td>2024-07-14 01:52:00</td>\n",
       "    </tr>\n",
       "    <tr>\n",
       "      <th>957</th>\n",
       "      <td>2024-07-14 04:18:00</td>\n",
       "      <td>2024-07-14 06:42:00</td>\n",
       "    </tr>\n",
       "    <tr>\n",
       "      <th>958</th>\n",
       "      <td>2024-07-14 08:38:00</td>\n",
       "      <td>2024-07-14 10:55:00</td>\n",
       "    </tr>\n",
       "    <tr>\n",
       "      <th>959</th>\n",
       "      <td>2024-07-14 13:13:00</td>\n",
       "      <td>2024-07-14 15:27:00</td>\n",
       "    </tr>\n",
       "    <tr>\n",
       "      <th>960</th>\n",
       "      <td>2024-07-14 17:52:00</td>\n",
       "      <td>2024-07-14 19:54:00</td>\n",
       "    </tr>\n",
       "  </tbody>\n",
       "</table>\n",
       "<p>961 rows × 2 columns</p>\n",
       "</div>"
      ],
      "text/plain": [
       "            Sleep Start           Sleep End\n",
       "0   2024-01-15 16:31:00 2024-01-15 17:43:00\n",
       "1   2024-01-15 18:46:00 2024-01-15 21:01:00\n",
       "2   2024-01-16 01:00:00 2024-01-16 01:49:00\n",
       "3   2024-01-16 05:48:00 2024-01-16 08:44:00\n",
       "4   2024-01-16 09:53:00 2024-01-16 12:06:00\n",
       "..                  ...                 ...\n",
       "956 2024-07-13 19:09:00 2024-07-14 01:52:00\n",
       "957 2024-07-14 04:18:00 2024-07-14 06:42:00\n",
       "958 2024-07-14 08:38:00 2024-07-14 10:55:00\n",
       "959 2024-07-14 13:13:00 2024-07-14 15:27:00\n",
       "960 2024-07-14 17:52:00 2024-07-14 19:54:00\n",
       "\n",
       "[961 rows x 2 columns]"
      ]
     },
     "execution_count": 4,
     "metadata": {},
     "output_type": "execute_result"
    }
   ],
   "source": [
    "df_baby_data = pd.read_csv(path_to_data)\n",
    "df_baby_data.rename(\n",
    "    columns = {'Start':'Sleep Start', 'End':'Sleep End'}, \n",
    "    inplace = True)\n",
    "for column in ['Sleep Start', 'Sleep End']:\n",
    "    df_baby_data[column] = pd.to_datetime(df_baby_data[column])  \n",
    "df_baby_data.sort_values('Sleep Start', inplace = True)\n",
    "if 'Type' in df_baby_data.columns:\n",
    "    df_sleep_data = df_baby_data.query(\n",
    "        \"Type == 'Sleep'\").copy().reset_index(\n",
    "        drop=True)[['Sleep Start', 'Sleep End']]\n",
    "else:\n",
    "    df_sleep_data = df_baby_data.copy()\n",
    "df_sleep_data"
   ]
  },
  {
   "cell_type": "markdown",
   "metadata": {},
   "source": [
    "Note: the following column adds in two additional entries with unusually long sleep periods. The first entry contains a sleep period that begins during the daytime on one date, goes through the whole night, and then ends on the next date. The second entry is even stranger: it begins during one nighttime period, lasts through the entire subsequent day, and then ends during the next nighttime period.\n",
    "\n",
    "These entries helped me write some code to handle these sorts of edge cases. However, now that that code has been added in, I commented it out so that the entries wouldn't distort the graphs created by the program or data imported by other users."
   ]
  },
  {
   "cell_type": "code",
   "execution_count": 5,
   "metadata": {
    "execution": {
     "iopub.execute_input": "2024-05-14T17:17:19.499973Z",
     "iopub.status.busy": "2024-05-14T17:17:19.499973Z",
     "iopub.status.idle": "2024-05-14T17:17:19.503293Z",
     "shell.execute_reply": "2024-05-14T17:17:19.503293Z",
     "shell.execute_reply.started": "2024-05-14T17:17:19.499973Z"
    }
   },
   "outputs": [],
   "source": [
    "# if data_for_author == False: \n",
    "#     day_night_day_sleep_period = pd.DataFrame(\n",
    "#         index = [0], data = {'Sleep Start':pd.to_datetime(\n",
    "#             '2024-07-14 18:26'),'Sleep End':pd.to_datetime(\n",
    "#             '2024-07-15 08:43')})\n",
    "    \n",
    "#     night_day_night_sleep_period = pd.DataFrame(\n",
    "#         index = [0], data = {'Sleep Start':pd.to_datetime(\n",
    "#             '2024-07-15 19:35'),'Sleep End':pd.to_datetime(\n",
    "#             '2024-07-16 20:24')})\n",
    "    \n",
    "    \n",
    "#     df_sleep_data = pd.concat(\n",
    "#         [df_sleep_data, \n",
    "#          day_night_day_sleep_period,\n",
    "#          night_day_night_sleep_period]).reset_index(\n",
    "#         drop=True)\n",
    "#     df_sleep_data"
   ]
  },
  {
   "cell_type": "markdown",
   "metadata": {},
   "source": [
    "### Calculating sleep durations (in hours) and data associated with each start and end time:"
   ]
  },
  {
   "cell_type": "code",
   "execution_count": 6,
   "metadata": {
    "execution": {
     "iopub.execute_input": "2024-05-14T17:17:19.504303Z",
     "iopub.status.busy": "2024-05-14T17:17:19.504303Z",
     "iopub.status.idle": "2024-05-14T17:17:19.518044Z",
     "shell.execute_reply": "2024-05-14T17:17:19.518044Z",
     "shell.execute_reply.started": "2024-05-14T17:17:19.504303Z"
    }
   },
   "outputs": [
    {
     "data": {
      "text/html": [
       "<div>\n",
       "<style scoped>\n",
       "    .dataframe tbody tr th:only-of-type {\n",
       "        vertical-align: middle;\n",
       "    }\n",
       "\n",
       "    .dataframe tbody tr th {\n",
       "        vertical-align: top;\n",
       "    }\n",
       "\n",
       "    .dataframe thead th {\n",
       "        text-align: right;\n",
       "    }\n",
       "</style>\n",
       "<table border=\"1\" class=\"dataframe\">\n",
       "  <thead>\n",
       "    <tr style=\"text-align: right;\">\n",
       "      <th></th>\n",
       "      <th>Sleep Start</th>\n",
       "      <th>Sleep End</th>\n",
       "      <th>Hours</th>\n",
       "      <th>Start Hour</th>\n",
       "      <th>End Hour</th>\n",
       "      <th>Start Date</th>\n",
       "      <th>End Date</th>\n",
       "    </tr>\n",
       "  </thead>\n",
       "  <tbody>\n",
       "    <tr>\n",
       "      <th>0</th>\n",
       "      <td>2024-01-15 16:31:00</td>\n",
       "      <td>2024-01-15 17:43:00</td>\n",
       "      <td>1.200000</td>\n",
       "      <td>16</td>\n",
       "      <td>17</td>\n",
       "      <td>2024-01-15</td>\n",
       "      <td>2024-01-15</td>\n",
       "    </tr>\n",
       "    <tr>\n",
       "      <th>1</th>\n",
       "      <td>2024-01-15 18:46:00</td>\n",
       "      <td>2024-01-15 21:01:00</td>\n",
       "      <td>2.250000</td>\n",
       "      <td>18</td>\n",
       "      <td>21</td>\n",
       "      <td>2024-01-15</td>\n",
       "      <td>2024-01-15</td>\n",
       "    </tr>\n",
       "    <tr>\n",
       "      <th>2</th>\n",
       "      <td>2024-01-16 01:00:00</td>\n",
       "      <td>2024-01-16 01:49:00</td>\n",
       "      <td>0.816667</td>\n",
       "      <td>1</td>\n",
       "      <td>1</td>\n",
       "      <td>2024-01-16</td>\n",
       "      <td>2024-01-16</td>\n",
       "    </tr>\n",
       "    <tr>\n",
       "      <th>3</th>\n",
       "      <td>2024-01-16 05:48:00</td>\n",
       "      <td>2024-01-16 08:44:00</td>\n",
       "      <td>2.933333</td>\n",
       "      <td>5</td>\n",
       "      <td>8</td>\n",
       "      <td>2024-01-16</td>\n",
       "      <td>2024-01-16</td>\n",
       "    </tr>\n",
       "    <tr>\n",
       "      <th>4</th>\n",
       "      <td>2024-01-16 09:53:00</td>\n",
       "      <td>2024-01-16 12:06:00</td>\n",
       "      <td>2.216667</td>\n",
       "      <td>9</td>\n",
       "      <td>12</td>\n",
       "      <td>2024-01-16</td>\n",
       "      <td>2024-01-16</td>\n",
       "    </tr>\n",
       "    <tr>\n",
       "      <th>...</th>\n",
       "      <td>...</td>\n",
       "      <td>...</td>\n",
       "      <td>...</td>\n",
       "      <td>...</td>\n",
       "      <td>...</td>\n",
       "      <td>...</td>\n",
       "      <td>...</td>\n",
       "    </tr>\n",
       "    <tr>\n",
       "      <th>956</th>\n",
       "      <td>2024-07-13 19:09:00</td>\n",
       "      <td>2024-07-14 01:52:00</td>\n",
       "      <td>6.716667</td>\n",
       "      <td>19</td>\n",
       "      <td>1</td>\n",
       "      <td>2024-07-13</td>\n",
       "      <td>2024-07-14</td>\n",
       "    </tr>\n",
       "    <tr>\n",
       "      <th>957</th>\n",
       "      <td>2024-07-14 04:18:00</td>\n",
       "      <td>2024-07-14 06:42:00</td>\n",
       "      <td>2.400000</td>\n",
       "      <td>4</td>\n",
       "      <td>6</td>\n",
       "      <td>2024-07-14</td>\n",
       "      <td>2024-07-14</td>\n",
       "    </tr>\n",
       "    <tr>\n",
       "      <th>958</th>\n",
       "      <td>2024-07-14 08:38:00</td>\n",
       "      <td>2024-07-14 10:55:00</td>\n",
       "      <td>2.283333</td>\n",
       "      <td>8</td>\n",
       "      <td>10</td>\n",
       "      <td>2024-07-14</td>\n",
       "      <td>2024-07-14</td>\n",
       "    </tr>\n",
       "    <tr>\n",
       "      <th>959</th>\n",
       "      <td>2024-07-14 13:13:00</td>\n",
       "      <td>2024-07-14 15:27:00</td>\n",
       "      <td>2.233333</td>\n",
       "      <td>13</td>\n",
       "      <td>15</td>\n",
       "      <td>2024-07-14</td>\n",
       "      <td>2024-07-14</td>\n",
       "    </tr>\n",
       "    <tr>\n",
       "      <th>960</th>\n",
       "      <td>2024-07-14 17:52:00</td>\n",
       "      <td>2024-07-14 19:54:00</td>\n",
       "      <td>2.033333</td>\n",
       "      <td>17</td>\n",
       "      <td>19</td>\n",
       "      <td>2024-07-14</td>\n",
       "      <td>2024-07-14</td>\n",
       "    </tr>\n",
       "  </tbody>\n",
       "</table>\n",
       "<p>961 rows × 7 columns</p>\n",
       "</div>"
      ],
      "text/plain": [
       "            Sleep Start           Sleep End     Hours  Start Hour  End Hour  \\\n",
       "0   2024-01-15 16:31:00 2024-01-15 17:43:00  1.200000          16        17   \n",
       "1   2024-01-15 18:46:00 2024-01-15 21:01:00  2.250000          18        21   \n",
       "2   2024-01-16 01:00:00 2024-01-16 01:49:00  0.816667           1         1   \n",
       "3   2024-01-16 05:48:00 2024-01-16 08:44:00  2.933333           5         8   \n",
       "4   2024-01-16 09:53:00 2024-01-16 12:06:00  2.216667           9        12   \n",
       "..                  ...                 ...       ...         ...       ...   \n",
       "956 2024-07-13 19:09:00 2024-07-14 01:52:00  6.716667          19         1   \n",
       "957 2024-07-14 04:18:00 2024-07-14 06:42:00  2.400000           4         6   \n",
       "958 2024-07-14 08:38:00 2024-07-14 10:55:00  2.283333           8        10   \n",
       "959 2024-07-14 13:13:00 2024-07-14 15:27:00  2.233333          13        15   \n",
       "960 2024-07-14 17:52:00 2024-07-14 19:54:00  2.033333          17        19   \n",
       "\n",
       "     Start Date    End Date  \n",
       "0    2024-01-15  2024-01-15  \n",
       "1    2024-01-15  2024-01-15  \n",
       "2    2024-01-16  2024-01-16  \n",
       "3    2024-01-16  2024-01-16  \n",
       "4    2024-01-16  2024-01-16  \n",
       "..          ...         ...  \n",
       "956  2024-07-13  2024-07-14  \n",
       "957  2024-07-14  2024-07-14  \n",
       "958  2024-07-14  2024-07-14  \n",
       "959  2024-07-14  2024-07-14  \n",
       "960  2024-07-14  2024-07-14  \n",
       "\n",
       "[961 rows x 7 columns]"
      ]
     },
     "execution_count": 6,
     "metadata": {},
     "output_type": "execute_result"
    }
   ],
   "source": [
    "df_sleep_data['Hours'] = (df_sleep_data['Sleep End'] - df_sleep_data['Sleep Start']\n",
    "                         ).dt.total_seconds() / 3600\n",
    "\n",
    "# Note: total_seconds() is used in the above code rather than seconds() \n",
    "# in order to ensure that we're retrieving the full value of the \n",
    "# duration between two time periods\n",
    "# rather than just the seconds component of the TimeDelta class.\n",
    "# See https://pandas.pydata.org/pandas-docs/stable/reference/api/pandas.Timedelta.html \n",
    "# for more information.\n",
    "\n",
    "df_sleep_data['Start Hour'] = df_sleep_data['Sleep Start'].dt.hour\n",
    "df_sleep_data['End Hour'] = df_sleep_data['Sleep End'].dt.hour\n",
    "\n",
    "\n",
    "df_sleep_data['Start Date'] = df_sleep_data['Sleep Start'].dt.date\n",
    "df_sleep_data['End Date'] = df_sleep_data['Sleep End'].dt.date\n",
    "df_sleep_data\n"
   ]
  },
  {
   "cell_type": "markdown",
   "metadata": {},
   "source": [
    "## Adding in nighttime start and end dates (along with columns that store the exact times that these periods began and ended):\n",
    "\n",
    "These fields will make it easier to determine the daytime and nighttime components of each sleep period."
   ]
  },
  {
   "cell_type": "code",
   "execution_count": 7,
   "metadata": {
    "execution": {
     "iopub.execute_input": "2024-05-14T17:17:19.519052Z",
     "iopub.status.busy": "2024-05-14T17:17:19.519052Z",
     "iopub.status.idle": "2024-05-14T17:17:19.539501Z",
     "shell.execute_reply": "2024-05-14T17:17:19.539501Z",
     "shell.execute_reply.started": "2024-05-14T17:17:19.519052Z"
    }
   },
   "outputs": [
    {
     "data": {
      "text/html": [
       "<div>\n",
       "<style scoped>\n",
       "    .dataframe tbody tr th:only-of-type {\n",
       "        vertical-align: middle;\n",
       "    }\n",
       "\n",
       "    .dataframe tbody tr th {\n",
       "        vertical-align: top;\n",
       "    }\n",
       "\n",
       "    .dataframe thead th {\n",
       "        text-align: right;\n",
       "    }\n",
       "</style>\n",
       "<table border=\"1\" class=\"dataframe\">\n",
       "  <thead>\n",
       "    <tr style=\"text-align: right;\">\n",
       "      <th></th>\n",
       "      <th>Sleep Start</th>\n",
       "      <th>Sleep End</th>\n",
       "      <th>Hours</th>\n",
       "      <th>Start Hour</th>\n",
       "      <th>End Hour</th>\n",
       "      <th>Start Date</th>\n",
       "      <th>End Date</th>\n",
       "      <th>Night Start Date</th>\n",
       "      <th>Night End Date</th>\n",
       "      <th>Night Start Time</th>\n",
       "      <th>Night End Time</th>\n",
       "    </tr>\n",
       "  </thead>\n",
       "  <tbody>\n",
       "    <tr>\n",
       "      <th>0</th>\n",
       "      <td>2024-01-15 16:31:00</td>\n",
       "      <td>2024-01-15 17:43:00</td>\n",
       "      <td>1.200000</td>\n",
       "      <td>16</td>\n",
       "      <td>17</td>\n",
       "      <td>2024-01-15</td>\n",
       "      <td>2024-01-15</td>\n",
       "      <td>2024-01-15</td>\n",
       "      <td>2024-01-16</td>\n",
       "      <td>2024-01-15 19:00:00</td>\n",
       "      <td>2024-01-16 07:00:00</td>\n",
       "    </tr>\n",
       "    <tr>\n",
       "      <th>1</th>\n",
       "      <td>2024-01-15 18:46:00</td>\n",
       "      <td>2024-01-15 21:01:00</td>\n",
       "      <td>2.250000</td>\n",
       "      <td>18</td>\n",
       "      <td>21</td>\n",
       "      <td>2024-01-15</td>\n",
       "      <td>2024-01-15</td>\n",
       "      <td>2024-01-15</td>\n",
       "      <td>2024-01-16</td>\n",
       "      <td>2024-01-15 19:00:00</td>\n",
       "      <td>2024-01-16 07:00:00</td>\n",
       "    </tr>\n",
       "    <tr>\n",
       "      <th>2</th>\n",
       "      <td>2024-01-16 01:00:00</td>\n",
       "      <td>2024-01-16 01:49:00</td>\n",
       "      <td>0.816667</td>\n",
       "      <td>1</td>\n",
       "      <td>1</td>\n",
       "      <td>2024-01-16</td>\n",
       "      <td>2024-01-16</td>\n",
       "      <td>2024-01-15</td>\n",
       "      <td>2024-01-16</td>\n",
       "      <td>2024-01-15 19:00:00</td>\n",
       "      <td>2024-01-16 07:00:00</td>\n",
       "    </tr>\n",
       "    <tr>\n",
       "      <th>3</th>\n",
       "      <td>2024-01-16 05:48:00</td>\n",
       "      <td>2024-01-16 08:44:00</td>\n",
       "      <td>2.933333</td>\n",
       "      <td>5</td>\n",
       "      <td>8</td>\n",
       "      <td>2024-01-16</td>\n",
       "      <td>2024-01-16</td>\n",
       "      <td>2024-01-15</td>\n",
       "      <td>2024-01-16</td>\n",
       "      <td>2024-01-15 19:00:00</td>\n",
       "      <td>2024-01-16 07:00:00</td>\n",
       "    </tr>\n",
       "    <tr>\n",
       "      <th>4</th>\n",
       "      <td>2024-01-16 09:53:00</td>\n",
       "      <td>2024-01-16 12:06:00</td>\n",
       "      <td>2.216667</td>\n",
       "      <td>9</td>\n",
       "      <td>12</td>\n",
       "      <td>2024-01-16</td>\n",
       "      <td>2024-01-16</td>\n",
       "      <td>2024-01-16</td>\n",
       "      <td>2024-01-17</td>\n",
       "      <td>2024-01-16 19:00:00</td>\n",
       "      <td>2024-01-17 07:00:00</td>\n",
       "    </tr>\n",
       "    <tr>\n",
       "      <th>...</th>\n",
       "      <td>...</td>\n",
       "      <td>...</td>\n",
       "      <td>...</td>\n",
       "      <td>...</td>\n",
       "      <td>...</td>\n",
       "      <td>...</td>\n",
       "      <td>...</td>\n",
       "      <td>...</td>\n",
       "      <td>...</td>\n",
       "      <td>...</td>\n",
       "      <td>...</td>\n",
       "    </tr>\n",
       "    <tr>\n",
       "      <th>956</th>\n",
       "      <td>2024-07-13 19:09:00</td>\n",
       "      <td>2024-07-14 01:52:00</td>\n",
       "      <td>6.716667</td>\n",
       "      <td>19</td>\n",
       "      <td>1</td>\n",
       "      <td>2024-07-13</td>\n",
       "      <td>2024-07-14</td>\n",
       "      <td>2024-07-13</td>\n",
       "      <td>2024-07-14</td>\n",
       "      <td>2024-07-13 19:00:00</td>\n",
       "      <td>2024-07-14 07:00:00</td>\n",
       "    </tr>\n",
       "    <tr>\n",
       "      <th>957</th>\n",
       "      <td>2024-07-14 04:18:00</td>\n",
       "      <td>2024-07-14 06:42:00</td>\n",
       "      <td>2.400000</td>\n",
       "      <td>4</td>\n",
       "      <td>6</td>\n",
       "      <td>2024-07-14</td>\n",
       "      <td>2024-07-14</td>\n",
       "      <td>2024-07-13</td>\n",
       "      <td>2024-07-14</td>\n",
       "      <td>2024-07-13 19:00:00</td>\n",
       "      <td>2024-07-14 07:00:00</td>\n",
       "    </tr>\n",
       "    <tr>\n",
       "      <th>958</th>\n",
       "      <td>2024-07-14 08:38:00</td>\n",
       "      <td>2024-07-14 10:55:00</td>\n",
       "      <td>2.283333</td>\n",
       "      <td>8</td>\n",
       "      <td>10</td>\n",
       "      <td>2024-07-14</td>\n",
       "      <td>2024-07-14</td>\n",
       "      <td>2024-07-14</td>\n",
       "      <td>2024-07-15</td>\n",
       "      <td>2024-07-14 19:00:00</td>\n",
       "      <td>2024-07-15 07:00:00</td>\n",
       "    </tr>\n",
       "    <tr>\n",
       "      <th>959</th>\n",
       "      <td>2024-07-14 13:13:00</td>\n",
       "      <td>2024-07-14 15:27:00</td>\n",
       "      <td>2.233333</td>\n",
       "      <td>13</td>\n",
       "      <td>15</td>\n",
       "      <td>2024-07-14</td>\n",
       "      <td>2024-07-14</td>\n",
       "      <td>2024-07-14</td>\n",
       "      <td>2024-07-15</td>\n",
       "      <td>2024-07-14 19:00:00</td>\n",
       "      <td>2024-07-15 07:00:00</td>\n",
       "    </tr>\n",
       "    <tr>\n",
       "      <th>960</th>\n",
       "      <td>2024-07-14 17:52:00</td>\n",
       "      <td>2024-07-14 19:54:00</td>\n",
       "      <td>2.033333</td>\n",
       "      <td>17</td>\n",
       "      <td>19</td>\n",
       "      <td>2024-07-14</td>\n",
       "      <td>2024-07-14</td>\n",
       "      <td>2024-07-14</td>\n",
       "      <td>2024-07-15</td>\n",
       "      <td>2024-07-14 19:00:00</td>\n",
       "      <td>2024-07-15 07:00:00</td>\n",
       "    </tr>\n",
       "  </tbody>\n",
       "</table>\n",
       "<p>961 rows × 11 columns</p>\n",
       "</div>"
      ],
      "text/plain": [
       "            Sleep Start           Sleep End     Hours  Start Hour  End Hour  \\\n",
       "0   2024-01-15 16:31:00 2024-01-15 17:43:00  1.200000          16        17   \n",
       "1   2024-01-15 18:46:00 2024-01-15 21:01:00  2.250000          18        21   \n",
       "2   2024-01-16 01:00:00 2024-01-16 01:49:00  0.816667           1         1   \n",
       "3   2024-01-16 05:48:00 2024-01-16 08:44:00  2.933333           5         8   \n",
       "4   2024-01-16 09:53:00 2024-01-16 12:06:00  2.216667           9        12   \n",
       "..                  ...                 ...       ...         ...       ...   \n",
       "956 2024-07-13 19:09:00 2024-07-14 01:52:00  6.716667          19         1   \n",
       "957 2024-07-14 04:18:00 2024-07-14 06:42:00  2.400000           4         6   \n",
       "958 2024-07-14 08:38:00 2024-07-14 10:55:00  2.283333           8        10   \n",
       "959 2024-07-14 13:13:00 2024-07-14 15:27:00  2.233333          13        15   \n",
       "960 2024-07-14 17:52:00 2024-07-14 19:54:00  2.033333          17        19   \n",
       "\n",
       "     Start Date    End Date Night Start Date Night End Date  \\\n",
       "0    2024-01-15  2024-01-15       2024-01-15     2024-01-16   \n",
       "1    2024-01-15  2024-01-15       2024-01-15     2024-01-16   \n",
       "2    2024-01-16  2024-01-16       2024-01-15     2024-01-16   \n",
       "3    2024-01-16  2024-01-16       2024-01-15     2024-01-16   \n",
       "4    2024-01-16  2024-01-16       2024-01-16     2024-01-17   \n",
       "..          ...         ...              ...            ...   \n",
       "956  2024-07-13  2024-07-14       2024-07-13     2024-07-14   \n",
       "957  2024-07-14  2024-07-14       2024-07-13     2024-07-14   \n",
       "958  2024-07-14  2024-07-14       2024-07-14     2024-07-15   \n",
       "959  2024-07-14  2024-07-14       2024-07-14     2024-07-15   \n",
       "960  2024-07-14  2024-07-14       2024-07-14     2024-07-15   \n",
       "\n",
       "       Night Start Time      Night End Time  \n",
       "0   2024-01-15 19:00:00 2024-01-16 07:00:00  \n",
       "1   2024-01-15 19:00:00 2024-01-16 07:00:00  \n",
       "2   2024-01-15 19:00:00 2024-01-16 07:00:00  \n",
       "3   2024-01-15 19:00:00 2024-01-16 07:00:00  \n",
       "4   2024-01-16 19:00:00 2024-01-17 07:00:00  \n",
       "..                  ...                 ...  \n",
       "956 2024-07-13 19:00:00 2024-07-14 07:00:00  \n",
       "957 2024-07-13 19:00:00 2024-07-14 07:00:00  \n",
       "958 2024-07-14 19:00:00 2024-07-15 07:00:00  \n",
       "959 2024-07-14 19:00:00 2024-07-15 07:00:00  \n",
       "960 2024-07-14 19:00:00 2024-07-15 07:00:00  \n",
       "\n",
       "[961 rows x 11 columns]"
      ]
     },
     "execution_count": 7,
     "metadata": {},
     "output_type": "execute_result"
    }
   ],
   "source": [
    "# Determining the date that nighttime began for the given sleep period:\n",
    "# if the sleep period began *or* ended before night_end_hour, this date will \n",
    "# be the day before End Date. (For instance, if the baby woke up at \n",
    "# 6 AM on 2024-07-10, and night_end_hour is set to 7 AM, Night Start Date \n",
    "# will be set as 2024-07-09. \n",
    "# In addition, if the sleep period's start and end dates\n",
    "# are different, the onset should always also be the day before End Date. (This \n",
    "# condition accounts for cases in which the baby started sleeping before \n",
    "# night_start_hour on day 1 and ended sleeping after night_end_hour on day 2.) \n",
    "# In all other cases, Night Start Date \n",
    "# will be made equal to End Date.\n",
    "\n",
    "condlist = [\n",
    "    (df_sleep_data['Start Hour'] < night_end_hour) | \n",
    "    (df_sleep_data['End Hour'] < night_end_hour),\n",
    "    (df_sleep_data['Start Date'] != df_sleep_data['End Date'])\n",
    "]\n",
    "\n",
    "choicelist = [\n",
    "    df_sleep_data['End Date'] - pd.Timedelta(days = 1),\n",
    "    df_sleep_data['End Date'] - pd.Timedelta(days = 1)\n",
    "]\n",
    "\n",
    "df_sleep_data['Night Start Date'] = np.select(condlist, choicelist, \n",
    "    df_sleep_data['End Date'])\n",
    "\n",
    "# Each Night End Date is simply the day after \n",
    "# its corresponding Night Start Date:\n",
    "df_sleep_data['Night End Date'] = (\n",
    "    pd.to_datetime(df_sleep_data['Night Start Date'])\n",
    "    + pd.Timedelta(days = 1)).dt.date\n",
    "    \n",
    "# Adding night_start_hour to this date in order to store the date\n",
    "# and hour at which the night began: (This will prove useful\n",
    "# for daytime and nighttime sleep duration calculations.)\n",
    "df_sleep_data['Night Start Time'] = (\n",
    "    pd.to_datetime(df_sleep_data['Night Start Date']) \n",
    "    + pd.Timedelta(hours = night_start_hour))\n",
    "\n",
    "df_sleep_data['Night End Time'] = (\n",
    "    pd.to_datetime(df_sleep_data['Night End Date']) \n",
    "    + pd.Timedelta(hours = night_end_hour))\n",
    "\n",
    "df_sleep_data"
   ]
  },
  {
   "cell_type": "raw",
   "metadata": {},
   "source": [
    "### Determining whether sleep periods began and ended during the daytime or the nighttime:"
   ]
  },
  {
   "cell_type": "code",
   "execution_count": 8,
   "metadata": {
    "execution": {
     "iopub.execute_input": "2024-05-14T17:17:19.540526Z",
     "iopub.status.busy": "2024-05-14T17:17:19.540526Z",
     "iopub.status.idle": "2024-05-14T17:17:19.548653Z",
     "shell.execute_reply": "2024-05-14T17:17:19.548653Z",
     "shell.execute_reply.started": "2024-05-14T17:17:19.540526Z"
    }
   },
   "outputs": [],
   "source": [
    "df_sleep_data['Start Period'] = np.where(\n",
    "    (df_sleep_data['Start Hour'] >= night_start_hour) |\n",
    "    (df_sleep_data['Start Hour'] < night_end_hour), 'Nighttime', 'Daytime')\n",
    "# An example of this logic in use: if night_start_hour is 19 (7 PM) and\n",
    "# night_end_hour is 7 (7 AM), all start hours from 19 to 23 and from 0 to 6\n",
    "# will receive a 'Nighttime' start period categorization.\n",
    "\n",
    "# Performing similar analyses for the end of each sleep entry:\n",
    "df_sleep_data['End Period'] = np.where(\n",
    "    (df_sleep_data['End Hour'] >= night_start_hour) |\n",
    "    (df_sleep_data['End Hour'] < night_end_hour), 'Nighttime', 'Daytime')\n",
    "\n",
    "# An upcoming section of code will divide the 'Hours' totals for certain\n",
    "# rows with particularly long sleep durations into separate daytime and \n",
    "# nighttime components. Therefore, the following line creates a copy of\n",
    "# these rows' original durations for use in later analyses.\n",
    "df_sleep_data['Original Hours'] = df_sleep_data['Hours'].copy()\n",
    "\n",
    "# We'll also keep a record of the baby's age (in days, weeks, and months)\n",
    "# at the time of each of these sleep durations. (We'll create a different\n",
    "# set of age values after making some later updates to the table,\n",
    "# but these values will be useful as index values for a pivot table\n",
    "# that stores the longest sleep durations logged each day.)\n",
    "\n",
    "df_sleep_data['Original Days Old'] = (pd.to_datetime(\n",
    "    df_sleep_data['Night Start Date']) - dob).dt.days\n",
    "df_sleep_data['Original Weeks Old'] = (\n",
    "    df_sleep_data['Original Days Old'] / 7).astype('int')\n",
    "df_sleep_data['Original Months Old'] = (\n",
    "    df_sleep_data['Original Days Old'] / 30).astype('int')\n",
    "\n"
   ]
  },
  {
   "cell_type": "markdown",
   "metadata": {},
   "source": [
    "## Accounting for special circumstances:\n",
    "\n",
    "This code will show the nighttime and daytime sleep durations associated with each entry. However, in order to provide accurate calculations, the code will need to account for a few special situations:\n",
    "\n",
    "1. Cases in which sleep periods began during the nighttime and ended during the daytime (these are probably quite common)\n",
    "2. Cases in which a baby fell asleep during the daytime on one day; continued sleeping through the night; and then woke up during the daytime on the following day (if this is your baby, **congratulations** on having such a great sleeper!)\n",
    "3. Cases in which a baby fell asleep during the nighttime on one day, slept through the entire following day, and then woke up during the following nighttime period (these are likely very rare, but I wanted the code to account for them also)\n",
    "\n",
    "The following blocks of code update the table so that these special cases can be processed correctly. These updates generally consist of splitting a single entry into two different entries. \n",
    "\n",
    "Why are these updates required? There are a few reasons:\n",
    "\n",
    "1. A later section of the code will use each row's start and end period values in order to determine how to allocate its hours into daytime and nighttime components. For rows with 'Daytime' start *and* end period values, all hours will be assigned to the daytime category; similarly, rows with 'Nighttime' start and end period values will have all of their hours added to the nighttime category. This would result in incorrect values for rows with a day-night-day or night-day-night pattern.\n",
    "\n",
    "2. If an entry begins at night but then ends during the day, the daytime periods would originally be categorized as belonging to the previous date's daytime period. Therefore, in order to show accurate daytime sleep values for each Night Start Date (the variable used by this script to calculate babies' ages), it's necessary to split these rows into their respective nighttime and daytime components, then assign a new Night Start Date to the row with the daytime component."
   ]
  },
  {
   "cell_type": "markdown",
   "metadata": {},
   "source": [
    "### Handling entries that begin during one daytime period, then end during the *next* day's daytime period (e.g. day-night-day entries)\n",
    "\n",
    "The code will process these cases by creating two copies of the data. The first copy will include the initial daytime and nighttime components whereas the second will include only the second daytime component. The code will then update df_sleep_data by replacing the original version of these rows with the new copies."
   ]
  },
  {
   "cell_type": "code",
   "execution_count": 9,
   "metadata": {
    "execution": {
     "iopub.execute_input": "2024-05-14T17:17:19.549673Z",
     "iopub.status.busy": "2024-05-14T17:17:19.549673Z",
     "iopub.status.idle": "2024-05-14T17:17:19.563725Z",
     "shell.execute_reply": "2024-05-14T17:17:19.563725Z",
     "shell.execute_reply.started": "2024-05-14T17:17:19.549673Z"
    }
   },
   "outputs": [
    {
     "data": {
      "text/html": [
       "<div>\n",
       "<style scoped>\n",
       "    .dataframe tbody tr th:only-of-type {\n",
       "        vertical-align: middle;\n",
       "    }\n",
       "\n",
       "    .dataframe tbody tr th {\n",
       "        vertical-align: top;\n",
       "    }\n",
       "\n",
       "    .dataframe thead th {\n",
       "        text-align: right;\n",
       "    }\n",
       "</style>\n",
       "<table border=\"1\" class=\"dataframe\">\n",
       "  <thead>\n",
       "    <tr style=\"text-align: right;\">\n",
       "      <th></th>\n",
       "      <th>Sleep Start</th>\n",
       "      <th>Sleep End</th>\n",
       "      <th>Hours</th>\n",
       "      <th>Start Hour</th>\n",
       "      <th>End Hour</th>\n",
       "      <th>Start Date</th>\n",
       "      <th>End Date</th>\n",
       "      <th>Night Start Date</th>\n",
       "      <th>Night End Date</th>\n",
       "      <th>Night Start Time</th>\n",
       "      <th>Night End Time</th>\n",
       "      <th>Start Period</th>\n",
       "      <th>End Period</th>\n",
       "      <th>Original Hours</th>\n",
       "      <th>Original Days Old</th>\n",
       "      <th>Original Weeks Old</th>\n",
       "      <th>Original Months Old</th>\n",
       "    </tr>\n",
       "  </thead>\n",
       "  <tbody>\n",
       "  </tbody>\n",
       "</table>\n",
       "</div>"
      ],
      "text/plain": [
       "Empty DataFrame\n",
       "Columns: [Sleep Start, Sleep End, Hours, Start Hour, End Hour, Start Date, End Date, Night Start Date, Night End Date, Night Start Time, Night End Time, Start Period, End Period, Original Hours, Original Days Old, Original Weeks Old, Original Months Old]\n",
       "Index: []"
      ]
     },
     "execution_count": 9,
     "metadata": {},
     "output_type": "execute_result"
    }
   ],
   "source": [
    "# Creating a row that stores both the first daytime component and the full\n",
    "# nighttime component of these periods:\n",
    "# (The benefit of keeping these two components together is that it will allow\n",
    "# for more accurate nighttime sleep start time calculations. (In these cases,\n",
    "# the nighttime sleep will actually have begun during the daytime period.\n",
    "# If the data had instead been split into 1st daytime and nighttime + 2nd \n",
    "# datetime sections, it would have been more difficult to explain when \n",
    "# each night sleep period actually began.\n",
    "\n",
    "df_day_night_day_pt_1 = df_sleep_data.query(\n",
    "    \"`Start Period` == 'Daytime' & `End Period` == 'Daytime' \\\n",
    "& `Start Date` != `End Date`\").copy()\n",
    "\n",
    "# Filtering out the second daytime component by setting the sleep end variables\n",
    "# equal to the end of the nighttime period:\n",
    "df_day_night_day_pt_1['Sleep End'] = df_day_night_day_pt_1['Night End Time']\n",
    "df_day_night_day_pt_1['End Hour'] = df_day_night_day_pt_1['Sleep End'].dt.hour\n",
    "df_day_night_day_pt_1['End Period'] = 'Nighttime' # Note: the time reflected\n",
    "# in Night End Time (which we're using as the end time in this DataFrame)\n",
    "# would normally be considered 'Daytime', but I'm setting it as \n",
    "# 'Nighttime' so that these rows won't be misinterpreted as \n",
    "# regular daytime-to-daytime periods, which would interfere with our\n",
    "# upcoming daytime- and nighttime-specific sleep duration calculations.\n",
    "\n",
    "# Updating the 'Hours' value to use our new Sleep End setting:\n",
    "df_day_night_day_pt_1['Hours'] = (df_day_night_day_pt_1['Sleep End'] \n",
    "- df_day_night_day_pt_1['Sleep Start']).dt.total_seconds() / 3600\n",
    "df_day_night_day_pt_1"
   ]
  },
  {
   "cell_type": "code",
   "execution_count": 10,
   "metadata": {
    "execution": {
     "iopub.execute_input": "2024-05-14T17:17:19.564730Z",
     "iopub.status.busy": "2024-05-14T17:17:19.564730Z",
     "iopub.status.idle": "2024-05-14T17:17:19.577988Z",
     "shell.execute_reply": "2024-05-14T17:17:19.577988Z",
     "shell.execute_reply.started": "2024-05-14T17:17:19.564730Z"
    }
   },
   "outputs": [
    {
     "data": {
      "text/html": [
       "<div>\n",
       "<style scoped>\n",
       "    .dataframe tbody tr th:only-of-type {\n",
       "        vertical-align: middle;\n",
       "    }\n",
       "\n",
       "    .dataframe tbody tr th {\n",
       "        vertical-align: top;\n",
       "    }\n",
       "\n",
       "    .dataframe thead th {\n",
       "        text-align: right;\n",
       "    }\n",
       "</style>\n",
       "<table border=\"1\" class=\"dataframe\">\n",
       "  <thead>\n",
       "    <tr style=\"text-align: right;\">\n",
       "      <th></th>\n",
       "      <th>Sleep Start</th>\n",
       "      <th>Sleep End</th>\n",
       "      <th>Hours</th>\n",
       "      <th>Start Hour</th>\n",
       "      <th>End Hour</th>\n",
       "      <th>Start Date</th>\n",
       "      <th>End Date</th>\n",
       "      <th>Night Start Date</th>\n",
       "      <th>Night End Date</th>\n",
       "      <th>Night Start Time</th>\n",
       "      <th>Night End Time</th>\n",
       "      <th>Start Period</th>\n",
       "      <th>End Period</th>\n",
       "      <th>Original Hours</th>\n",
       "      <th>Original Days Old</th>\n",
       "      <th>Original Weeks Old</th>\n",
       "      <th>Original Months Old</th>\n",
       "    </tr>\n",
       "  </thead>\n",
       "  <tbody>\n",
       "  </tbody>\n",
       "</table>\n",
       "</div>"
      ],
      "text/plain": [
       "Empty DataFrame\n",
       "Columns: [Sleep Start, Sleep End, Hours, Start Hour, End Hour, Start Date, End Date, Night Start Date, Night End Date, Night Start Time, Night End Time, Start Period, End Period, Original Hours, Original Days Old, Original Weeks Old, Original Months Old]\n",
       "Index: []"
      ]
     },
     "execution_count": 10,
     "metadata": {},
     "output_type": "execute_result"
    }
   ],
   "source": [
    "# Creating a row that stores the second daytime component\n",
    "# of these periods:\n",
    "df_day_night_day_pt_2 = df_sleep_data.query(\n",
    "    \"`Start Period` == 'Daytime' & `End Period` == 'Daytime' \\\n",
    "& `Start Date` != `End Date`\").copy()\n",
    "\n",
    "# Filtering out the periods already covered within df_day_night_day_part_1:\n",
    "df_day_night_day_pt_2['Sleep Start'] = df_day_night_day_pt_2['Night End Time']\n",
    "df_day_night_day_pt_2['Start Hour'] = df_day_night_day_pt_2[\n",
    "'Sleep Start'].dt.hour\n",
    "df_day_night_day_pt_2['Start Date'] = df_day_night_day_pt_2[\n",
    "'Night End Date']\n",
    "# Advancing various date-related columns by one day to adjust for the fact\n",
    "# that this modified sleep period corresponds to a later day than\n",
    "# the values stored within df_day_night_day_pt_1:\n",
    "for column in ['Night Start Date', 'Night End Date', \n",
    "               'Night Start Time', 'Night End Time']:\n",
    "    df_day_night_day_pt_2[column] += pd.to_timedelta(1, unit = 'days')\n",
    "df_day_night_day_pt_2['Hours'] = (\n",
    "    df_day_night_day_pt_2['Sleep End'] \n",
    "    - df_day_night_day_pt_2['Sleep Start']).dt.total_seconds() / 3600\n",
    "\n",
    "df_day_night_day_pt_2"
   ]
  },
  {
   "cell_type": "markdown",
   "metadata": {},
   "source": [
    "Replacing the original copies of these rows with the new copies:\n",
    "\n",
    "(This can be done by adding df_day_night_day_pt_1 and df_day_night_day_pt_2 to a copy of df_sleep_data that doesn't include the rows on which those DataFrames are based.)\n"
   ]
  },
  {
   "cell_type": "code",
   "execution_count": 11,
   "metadata": {
    "execution": {
     "iopub.execute_input": "2024-05-14T17:17:19.578993Z",
     "iopub.status.busy": "2024-05-14T17:17:19.578993Z",
     "iopub.status.idle": "2024-05-14T17:17:19.596826Z",
     "shell.execute_reply": "2024-05-14T17:17:19.596826Z",
     "shell.execute_reply.started": "2024-05-14T17:17:19.578993Z"
    }
   },
   "outputs": [
    {
     "data": {
      "text/html": [
       "<div>\n",
       "<style scoped>\n",
       "    .dataframe tbody tr th:only-of-type {\n",
       "        vertical-align: middle;\n",
       "    }\n",
       "\n",
       "    .dataframe tbody tr th {\n",
       "        vertical-align: top;\n",
       "    }\n",
       "\n",
       "    .dataframe thead th {\n",
       "        text-align: right;\n",
       "    }\n",
       "</style>\n",
       "<table border=\"1\" class=\"dataframe\">\n",
       "  <thead>\n",
       "    <tr style=\"text-align: right;\">\n",
       "      <th></th>\n",
       "      <th>Sleep Start</th>\n",
       "      <th>Sleep End</th>\n",
       "      <th>Hours</th>\n",
       "      <th>Start Hour</th>\n",
       "      <th>End Hour</th>\n",
       "      <th>Start Date</th>\n",
       "      <th>End Date</th>\n",
       "      <th>Night Start Date</th>\n",
       "      <th>Night End Date</th>\n",
       "      <th>Night Start Time</th>\n",
       "      <th>Night End Time</th>\n",
       "      <th>Start Period</th>\n",
       "      <th>End Period</th>\n",
       "      <th>Original Hours</th>\n",
       "      <th>Original Days Old</th>\n",
       "      <th>Original Weeks Old</th>\n",
       "      <th>Original Months Old</th>\n",
       "    </tr>\n",
       "  </thead>\n",
       "  <tbody>\n",
       "    <tr>\n",
       "      <th>0</th>\n",
       "      <td>2024-01-15 16:31:00</td>\n",
       "      <td>2024-01-15 17:43:00</td>\n",
       "      <td>1.200000</td>\n",
       "      <td>16</td>\n",
       "      <td>17</td>\n",
       "      <td>2024-01-15</td>\n",
       "      <td>2024-01-15</td>\n",
       "      <td>2024-01-15</td>\n",
       "      <td>2024-01-16</td>\n",
       "      <td>2024-01-15 19:00:00</td>\n",
       "      <td>2024-01-16 07:00:00</td>\n",
       "      <td>Daytime</td>\n",
       "      <td>Daytime</td>\n",
       "      <td>1.200000</td>\n",
       "      <td>0</td>\n",
       "      <td>0</td>\n",
       "      <td>0</td>\n",
       "    </tr>\n",
       "    <tr>\n",
       "      <th>1</th>\n",
       "      <td>2024-01-15 18:46:00</td>\n",
       "      <td>2024-01-15 21:01:00</td>\n",
       "      <td>2.250000</td>\n",
       "      <td>18</td>\n",
       "      <td>21</td>\n",
       "      <td>2024-01-15</td>\n",
       "      <td>2024-01-15</td>\n",
       "      <td>2024-01-15</td>\n",
       "      <td>2024-01-16</td>\n",
       "      <td>2024-01-15 19:00:00</td>\n",
       "      <td>2024-01-16 07:00:00</td>\n",
       "      <td>Daytime</td>\n",
       "      <td>Nighttime</td>\n",
       "      <td>2.250000</td>\n",
       "      <td>0</td>\n",
       "      <td>0</td>\n",
       "      <td>0</td>\n",
       "    </tr>\n",
       "    <tr>\n",
       "      <th>2</th>\n",
       "      <td>2024-01-16 01:00:00</td>\n",
       "      <td>2024-01-16 01:49:00</td>\n",
       "      <td>0.816667</td>\n",
       "      <td>1</td>\n",
       "      <td>1</td>\n",
       "      <td>2024-01-16</td>\n",
       "      <td>2024-01-16</td>\n",
       "      <td>2024-01-15</td>\n",
       "      <td>2024-01-16</td>\n",
       "      <td>2024-01-15 19:00:00</td>\n",
       "      <td>2024-01-16 07:00:00</td>\n",
       "      <td>Nighttime</td>\n",
       "      <td>Nighttime</td>\n",
       "      <td>0.816667</td>\n",
       "      <td>0</td>\n",
       "      <td>0</td>\n",
       "      <td>0</td>\n",
       "    </tr>\n",
       "    <tr>\n",
       "      <th>3</th>\n",
       "      <td>2024-01-16 05:48:00</td>\n",
       "      <td>2024-01-16 08:44:00</td>\n",
       "      <td>2.933333</td>\n",
       "      <td>5</td>\n",
       "      <td>8</td>\n",
       "      <td>2024-01-16</td>\n",
       "      <td>2024-01-16</td>\n",
       "      <td>2024-01-15</td>\n",
       "      <td>2024-01-16</td>\n",
       "      <td>2024-01-15 19:00:00</td>\n",
       "      <td>2024-01-16 07:00:00</td>\n",
       "      <td>Nighttime</td>\n",
       "      <td>Daytime</td>\n",
       "      <td>2.933333</td>\n",
       "      <td>0</td>\n",
       "      <td>0</td>\n",
       "      <td>0</td>\n",
       "    </tr>\n",
       "    <tr>\n",
       "      <th>4</th>\n",
       "      <td>2024-01-16 09:53:00</td>\n",
       "      <td>2024-01-16 12:06:00</td>\n",
       "      <td>2.216667</td>\n",
       "      <td>9</td>\n",
       "      <td>12</td>\n",
       "      <td>2024-01-16</td>\n",
       "      <td>2024-01-16</td>\n",
       "      <td>2024-01-16</td>\n",
       "      <td>2024-01-17</td>\n",
       "      <td>2024-01-16 19:00:00</td>\n",
       "      <td>2024-01-17 07:00:00</td>\n",
       "      <td>Daytime</td>\n",
       "      <td>Daytime</td>\n",
       "      <td>2.216667</td>\n",
       "      <td>1</td>\n",
       "      <td>0</td>\n",
       "      <td>0</td>\n",
       "    </tr>\n",
       "    <tr>\n",
       "      <th>...</th>\n",
       "      <td>...</td>\n",
       "      <td>...</td>\n",
       "      <td>...</td>\n",
       "      <td>...</td>\n",
       "      <td>...</td>\n",
       "      <td>...</td>\n",
       "      <td>...</td>\n",
       "      <td>...</td>\n",
       "      <td>...</td>\n",
       "      <td>...</td>\n",
       "      <td>...</td>\n",
       "      <td>...</td>\n",
       "      <td>...</td>\n",
       "      <td>...</td>\n",
       "      <td>...</td>\n",
       "      <td>...</td>\n",
       "      <td>...</td>\n",
       "    </tr>\n",
       "    <tr>\n",
       "      <th>956</th>\n",
       "      <td>2024-07-13 19:09:00</td>\n",
       "      <td>2024-07-14 01:52:00</td>\n",
       "      <td>6.716667</td>\n",
       "      <td>19</td>\n",
       "      <td>1</td>\n",
       "      <td>2024-07-13</td>\n",
       "      <td>2024-07-14</td>\n",
       "      <td>2024-07-13</td>\n",
       "      <td>2024-07-14</td>\n",
       "      <td>2024-07-13 19:00:00</td>\n",
       "      <td>2024-07-14 07:00:00</td>\n",
       "      <td>Nighttime</td>\n",
       "      <td>Nighttime</td>\n",
       "      <td>6.716667</td>\n",
       "      <td>180</td>\n",
       "      <td>25</td>\n",
       "      <td>6</td>\n",
       "    </tr>\n",
       "    <tr>\n",
       "      <th>957</th>\n",
       "      <td>2024-07-14 04:18:00</td>\n",
       "      <td>2024-07-14 06:42:00</td>\n",
       "      <td>2.400000</td>\n",
       "      <td>4</td>\n",
       "      <td>6</td>\n",
       "      <td>2024-07-14</td>\n",
       "      <td>2024-07-14</td>\n",
       "      <td>2024-07-13</td>\n",
       "      <td>2024-07-14</td>\n",
       "      <td>2024-07-13 19:00:00</td>\n",
       "      <td>2024-07-14 07:00:00</td>\n",
       "      <td>Nighttime</td>\n",
       "      <td>Nighttime</td>\n",
       "      <td>2.400000</td>\n",
       "      <td>180</td>\n",
       "      <td>25</td>\n",
       "      <td>6</td>\n",
       "    </tr>\n",
       "    <tr>\n",
       "      <th>958</th>\n",
       "      <td>2024-07-14 08:38:00</td>\n",
       "      <td>2024-07-14 10:55:00</td>\n",
       "      <td>2.283333</td>\n",
       "      <td>8</td>\n",
       "      <td>10</td>\n",
       "      <td>2024-07-14</td>\n",
       "      <td>2024-07-14</td>\n",
       "      <td>2024-07-14</td>\n",
       "      <td>2024-07-15</td>\n",
       "      <td>2024-07-14 19:00:00</td>\n",
       "      <td>2024-07-15 07:00:00</td>\n",
       "      <td>Daytime</td>\n",
       "      <td>Daytime</td>\n",
       "      <td>2.283333</td>\n",
       "      <td>181</td>\n",
       "      <td>25</td>\n",
       "      <td>6</td>\n",
       "    </tr>\n",
       "    <tr>\n",
       "      <th>959</th>\n",
       "      <td>2024-07-14 13:13:00</td>\n",
       "      <td>2024-07-14 15:27:00</td>\n",
       "      <td>2.233333</td>\n",
       "      <td>13</td>\n",
       "      <td>15</td>\n",
       "      <td>2024-07-14</td>\n",
       "      <td>2024-07-14</td>\n",
       "      <td>2024-07-14</td>\n",
       "      <td>2024-07-15</td>\n",
       "      <td>2024-07-14 19:00:00</td>\n",
       "      <td>2024-07-15 07:00:00</td>\n",
       "      <td>Daytime</td>\n",
       "      <td>Daytime</td>\n",
       "      <td>2.233333</td>\n",
       "      <td>181</td>\n",
       "      <td>25</td>\n",
       "      <td>6</td>\n",
       "    </tr>\n",
       "    <tr>\n",
       "      <th>960</th>\n",
       "      <td>2024-07-14 17:52:00</td>\n",
       "      <td>2024-07-14 19:54:00</td>\n",
       "      <td>2.033333</td>\n",
       "      <td>17</td>\n",
       "      <td>19</td>\n",
       "      <td>2024-07-14</td>\n",
       "      <td>2024-07-14</td>\n",
       "      <td>2024-07-14</td>\n",
       "      <td>2024-07-15</td>\n",
       "      <td>2024-07-14 19:00:00</td>\n",
       "      <td>2024-07-15 07:00:00</td>\n",
       "      <td>Daytime</td>\n",
       "      <td>Nighttime</td>\n",
       "      <td>2.033333</td>\n",
       "      <td>181</td>\n",
       "      <td>25</td>\n",
       "      <td>6</td>\n",
       "    </tr>\n",
       "  </tbody>\n",
       "</table>\n",
       "<p>961 rows × 17 columns</p>\n",
       "</div>"
      ],
      "text/plain": [
       "            Sleep Start           Sleep End     Hours  Start Hour  End Hour  \\\n",
       "0   2024-01-15 16:31:00 2024-01-15 17:43:00  1.200000          16        17   \n",
       "1   2024-01-15 18:46:00 2024-01-15 21:01:00  2.250000          18        21   \n",
       "2   2024-01-16 01:00:00 2024-01-16 01:49:00  0.816667           1         1   \n",
       "3   2024-01-16 05:48:00 2024-01-16 08:44:00  2.933333           5         8   \n",
       "4   2024-01-16 09:53:00 2024-01-16 12:06:00  2.216667           9        12   \n",
       "..                  ...                 ...       ...         ...       ...   \n",
       "956 2024-07-13 19:09:00 2024-07-14 01:52:00  6.716667          19         1   \n",
       "957 2024-07-14 04:18:00 2024-07-14 06:42:00  2.400000           4         6   \n",
       "958 2024-07-14 08:38:00 2024-07-14 10:55:00  2.283333           8        10   \n",
       "959 2024-07-14 13:13:00 2024-07-14 15:27:00  2.233333          13        15   \n",
       "960 2024-07-14 17:52:00 2024-07-14 19:54:00  2.033333          17        19   \n",
       "\n",
       "     Start Date    End Date Night Start Date Night End Date  \\\n",
       "0    2024-01-15  2024-01-15       2024-01-15     2024-01-16   \n",
       "1    2024-01-15  2024-01-15       2024-01-15     2024-01-16   \n",
       "2    2024-01-16  2024-01-16       2024-01-15     2024-01-16   \n",
       "3    2024-01-16  2024-01-16       2024-01-15     2024-01-16   \n",
       "4    2024-01-16  2024-01-16       2024-01-16     2024-01-17   \n",
       "..          ...         ...              ...            ...   \n",
       "956  2024-07-13  2024-07-14       2024-07-13     2024-07-14   \n",
       "957  2024-07-14  2024-07-14       2024-07-13     2024-07-14   \n",
       "958  2024-07-14  2024-07-14       2024-07-14     2024-07-15   \n",
       "959  2024-07-14  2024-07-14       2024-07-14     2024-07-15   \n",
       "960  2024-07-14  2024-07-14       2024-07-14     2024-07-15   \n",
       "\n",
       "       Night Start Time      Night End Time Start Period End Period  \\\n",
       "0   2024-01-15 19:00:00 2024-01-16 07:00:00      Daytime    Daytime   \n",
       "1   2024-01-15 19:00:00 2024-01-16 07:00:00      Daytime  Nighttime   \n",
       "2   2024-01-15 19:00:00 2024-01-16 07:00:00    Nighttime  Nighttime   \n",
       "3   2024-01-15 19:00:00 2024-01-16 07:00:00    Nighttime    Daytime   \n",
       "4   2024-01-16 19:00:00 2024-01-17 07:00:00      Daytime    Daytime   \n",
       "..                  ...                 ...          ...        ...   \n",
       "956 2024-07-13 19:00:00 2024-07-14 07:00:00    Nighttime  Nighttime   \n",
       "957 2024-07-13 19:00:00 2024-07-14 07:00:00    Nighttime  Nighttime   \n",
       "958 2024-07-14 19:00:00 2024-07-15 07:00:00      Daytime    Daytime   \n",
       "959 2024-07-14 19:00:00 2024-07-15 07:00:00      Daytime    Daytime   \n",
       "960 2024-07-14 19:00:00 2024-07-15 07:00:00      Daytime  Nighttime   \n",
       "\n",
       "     Original Hours  Original Days Old  Original Weeks Old  \\\n",
       "0          1.200000                  0                   0   \n",
       "1          2.250000                  0                   0   \n",
       "2          0.816667                  0                   0   \n",
       "3          2.933333                  0                   0   \n",
       "4          2.216667                  1                   0   \n",
       "..              ...                ...                 ...   \n",
       "956        6.716667                180                  25   \n",
       "957        2.400000                180                  25   \n",
       "958        2.283333                181                  25   \n",
       "959        2.233333                181                  25   \n",
       "960        2.033333                181                  25   \n",
       "\n",
       "     Original Months Old  \n",
       "0                      0  \n",
       "1                      0  \n",
       "2                      0  \n",
       "3                      0  \n",
       "4                      0  \n",
       "..                   ...  \n",
       "956                    6  \n",
       "957                    6  \n",
       "958                    6  \n",
       "959                    6  \n",
       "960                    6  \n",
       "\n",
       "[961 rows x 17 columns]"
      ]
     },
     "execution_count": 11,
     "metadata": {},
     "output_type": "execute_result"
    }
   ],
   "source": [
    "# The ~ in the following query statement instructs Python to select only those\n",
    "# rows that *do not* match the criteria contained within the parentheses.\n",
    "df_sleep_data = pd.concat(\n",
    "    [df_sleep_data.query(\n",
    "    \"~(`Start Period` == 'Daytime' & `End Period` == 'Daytime' \\\n",
    "& `Start Date` != `End Date`)\").copy(), \n",
    "     df_day_night_day_pt_1, df_day_night_day_pt_2]\n",
    ").reset_index(drop=True).sort_values('Sleep Start')\n",
    "df_sleep_data"
   ]
  },
  {
   "cell_type": "markdown",
   "metadata": {
    "execution": {
     "iopub.execute_input": "2024-05-13T19:05:08.327221Z",
     "iopub.status.busy": "2024-05-13T19:05:08.327221Z",
     "iopub.status.idle": "2024-05-13T19:05:08.335986Z",
     "shell.execute_reply": "2024-05-13T19:05:08.335986Z",
     "shell.execute_reply.started": "2024-05-13T19:05:08.327221Z"
    }
   },
   "source": [
    "### Handling night-day-night sleep entries:\n",
    "\n",
    "We'll perform a similar process for rows whose sleep periods begin during the nighttime; continue through the entire following daytime period, and then finish during the next nighttime period. (I figure this would be pretty unusual, but plenty about babies' sleep patterns can strike adults as unusual!)"
   ]
  },
  {
   "cell_type": "code",
   "execution_count": 12,
   "metadata": {
    "execution": {
     "iopub.execute_input": "2024-05-14T17:17:19.597831Z",
     "iopub.status.busy": "2024-05-14T17:17:19.597831Z",
     "iopub.status.idle": "2024-05-14T17:17:19.610009Z",
     "shell.execute_reply": "2024-05-14T17:17:19.610009Z",
     "shell.execute_reply.started": "2024-05-14T17:17:19.597831Z"
    }
   },
   "outputs": [
    {
     "data": {
      "text/html": [
       "<div>\n",
       "<style scoped>\n",
       "    .dataframe tbody tr th:only-of-type {\n",
       "        vertical-align: middle;\n",
       "    }\n",
       "\n",
       "    .dataframe tbody tr th {\n",
       "        vertical-align: top;\n",
       "    }\n",
       "\n",
       "    .dataframe thead th {\n",
       "        text-align: right;\n",
       "    }\n",
       "</style>\n",
       "<table border=\"1\" class=\"dataframe\">\n",
       "  <thead>\n",
       "    <tr style=\"text-align: right;\">\n",
       "      <th></th>\n",
       "      <th>Sleep Start</th>\n",
       "      <th>Sleep End</th>\n",
       "      <th>Hours</th>\n",
       "      <th>Start Hour</th>\n",
       "      <th>End Hour</th>\n",
       "      <th>Start Date</th>\n",
       "      <th>End Date</th>\n",
       "      <th>Night Start Date</th>\n",
       "      <th>Night End Date</th>\n",
       "      <th>Night Start Time</th>\n",
       "      <th>Night End Time</th>\n",
       "      <th>Start Period</th>\n",
       "      <th>End Period</th>\n",
       "      <th>Original Hours</th>\n",
       "      <th>Original Days Old</th>\n",
       "      <th>Original Weeks Old</th>\n",
       "      <th>Original Months Old</th>\n",
       "    </tr>\n",
       "  </thead>\n",
       "  <tbody>\n",
       "  </tbody>\n",
       "</table>\n",
       "</div>"
      ],
      "text/plain": [
       "Empty DataFrame\n",
       "Columns: [Sleep Start, Sleep End, Hours, Start Hour, End Hour, Start Date, End Date, Night Start Date, Night End Date, Night Start Time, Night End Time, Start Period, End Period, Original Hours, Original Days Old, Original Weeks Old, Original Months Old]\n",
       "Index: []"
      ]
     },
     "execution_count": 12,
     "metadata": {},
     "output_type": "execute_result"
    }
   ],
   "source": [
    "# Creating rows that store the first nighttime component af these periods:\n",
    "\n",
    "df_night_day_night_pt_1 = df_sleep_data.query(\n",
    "    \"`Start Period` == 'Nighttime' & `End Period` == 'Nighttime' \\\n",
    "& `Sleep End` > `Night End Time`\").copy()\n",
    "df_night_day_night_pt_1['Sleep End'] = df_night_day_night_pt_1['Night End Time']\n",
    "# Note: this end time is considered part of the daytime period; however,\n",
    "#  their End Period value will be kept as 'Nighttime' so that they won't have\n",
    "# any of their date values changed by a later script that processes \n",
    "# nighttime-to-daytime data.\n",
    "df_night_day_night_pt_1['End Hour'] = df_night_day_night_pt_1[\n",
    "'Sleep End'].dt.hour\n",
    "df_night_day_night_pt_1['Hours'] = (df_night_day_night_pt_1['Sleep End'] \n",
    "- df_night_day_night_pt_1['Sleep Start']).dt.total_seconds() / 3600\n",
    "df_night_day_night_pt_1\n",
    "\n",
    "\n",
    "df_night_day_night_pt_1"
   ]
  },
  {
   "cell_type": "code",
   "execution_count": 13,
   "metadata": {
    "execution": {
     "iopub.execute_input": "2024-05-14T17:17:19.611015Z",
     "iopub.status.busy": "2024-05-14T17:17:19.611015Z",
     "iopub.status.idle": "2024-05-14T17:17:19.623618Z",
     "shell.execute_reply": "2024-05-14T17:17:19.623618Z",
     "shell.execute_reply.started": "2024-05-14T17:17:19.611015Z"
    }
   },
   "outputs": [
    {
     "data": {
      "text/html": [
       "<div>\n",
       "<style scoped>\n",
       "    .dataframe tbody tr th:only-of-type {\n",
       "        vertical-align: middle;\n",
       "    }\n",
       "\n",
       "    .dataframe tbody tr th {\n",
       "        vertical-align: top;\n",
       "    }\n",
       "\n",
       "    .dataframe thead th {\n",
       "        text-align: right;\n",
       "    }\n",
       "</style>\n",
       "<table border=\"1\" class=\"dataframe\">\n",
       "  <thead>\n",
       "    <tr style=\"text-align: right;\">\n",
       "      <th></th>\n",
       "      <th>Sleep Start</th>\n",
       "      <th>Sleep End</th>\n",
       "      <th>Hours</th>\n",
       "      <th>Start Hour</th>\n",
       "      <th>End Hour</th>\n",
       "      <th>Start Date</th>\n",
       "      <th>End Date</th>\n",
       "      <th>Night Start Date</th>\n",
       "      <th>Night End Date</th>\n",
       "      <th>Night Start Time</th>\n",
       "      <th>Night End Time</th>\n",
       "      <th>Start Period</th>\n",
       "      <th>End Period</th>\n",
       "      <th>Original Hours</th>\n",
       "      <th>Original Days Old</th>\n",
       "      <th>Original Weeks Old</th>\n",
       "      <th>Original Months Old</th>\n",
       "    </tr>\n",
       "  </thead>\n",
       "  <tbody>\n",
       "  </tbody>\n",
       "</table>\n",
       "</div>"
      ],
      "text/plain": [
       "Empty DataFrame\n",
       "Columns: [Sleep Start, Sleep End, Hours, Start Hour, End Hour, Start Date, End Date, Night Start Date, Night End Date, Night Start Time, Night End Time, Start Period, End Period, Original Hours, Original Days Old, Original Weeks Old, Original Months Old]\n",
       "Index: []"
      ]
     },
     "execution_count": 13,
     "metadata": {},
     "output_type": "execute_result"
    }
   ],
   "source": [
    "# Creating rows that store both the full daytime component and the \n",
    "# second nighttime component.)\n",
    "df_night_day_night_pt_2 = df_sleep_data.query(\n",
    "    \"`Start Period` == 'Nighttime' & `End Period` == 'Nighttime' \\\n",
    "& `Sleep End` > `Night End Time`\").copy()\n",
    "df_night_day_night_pt_2['Sleep Start'] = df_night_day_night_pt_2[\n",
    "'Night End Time']\n",
    "df_night_day_night_pt_2['Start Date'] = df_night_day_night_pt_2[\n",
    "'Sleep Start'].dt.date\n",
    "df_night_day_night_pt_2['Start Hour'] = df_night_day_night_pt_2[\n",
    "'Sleep Start'].dt.hour\n",
    "# Now that we've used Night End Time to calculate our start time, we can advance\n",
    "# this and other date-related columns by a single day:\n",
    "for column in ['Night Start Date', 'Night End Date', \n",
    "               'Night Start Time', 'Night End Time']:\n",
    "    df_night_day_night_pt_2[column] += pd.to_timedelta(1, unit = 'days')\n",
    "df_night_day_night_pt_2['Start Period'] = 'Daytime' \n",
    "df_night_day_night_pt_2['Hours'] = (df_night_day_night_pt_2['Sleep End'] \n",
    "- df_night_day_night_pt_2['Sleep Start']).dt.total_seconds() / 3600\n",
    "df_night_day_night_pt_2"
   ]
  },
  {
   "cell_type": "markdown",
   "metadata": {},
   "source": [
    "Adding these new DataFrames into a copy of df_sleep_data that doesn't include their original underlying data:"
   ]
  },
  {
   "cell_type": "code",
   "execution_count": 14,
   "metadata": {
    "execution": {
     "iopub.execute_input": "2024-05-14T17:17:19.624624Z",
     "iopub.status.busy": "2024-05-14T17:17:19.624624Z",
     "iopub.status.idle": "2024-05-14T17:17:19.642021Z",
     "shell.execute_reply": "2024-05-14T17:17:19.642021Z",
     "shell.execute_reply.started": "2024-05-14T17:17:19.624624Z"
    }
   },
   "outputs": [
    {
     "data": {
      "text/html": [
       "<div>\n",
       "<style scoped>\n",
       "    .dataframe tbody tr th:only-of-type {\n",
       "        vertical-align: middle;\n",
       "    }\n",
       "\n",
       "    .dataframe tbody tr th {\n",
       "        vertical-align: top;\n",
       "    }\n",
       "\n",
       "    .dataframe thead th {\n",
       "        text-align: right;\n",
       "    }\n",
       "</style>\n",
       "<table border=\"1\" class=\"dataframe\">\n",
       "  <thead>\n",
       "    <tr style=\"text-align: right;\">\n",
       "      <th></th>\n",
       "      <th>Sleep Start</th>\n",
       "      <th>Sleep End</th>\n",
       "      <th>Hours</th>\n",
       "      <th>Start Hour</th>\n",
       "      <th>End Hour</th>\n",
       "      <th>Start Date</th>\n",
       "      <th>End Date</th>\n",
       "      <th>Night Start Date</th>\n",
       "      <th>Night End Date</th>\n",
       "      <th>Night Start Time</th>\n",
       "      <th>Night End Time</th>\n",
       "      <th>Start Period</th>\n",
       "      <th>End Period</th>\n",
       "      <th>Original Hours</th>\n",
       "      <th>Original Days Old</th>\n",
       "      <th>Original Weeks Old</th>\n",
       "      <th>Original Months Old</th>\n",
       "    </tr>\n",
       "  </thead>\n",
       "  <tbody>\n",
       "    <tr>\n",
       "      <th>0</th>\n",
       "      <td>2024-01-15 16:31:00</td>\n",
       "      <td>2024-01-15 17:43:00</td>\n",
       "      <td>1.200000</td>\n",
       "      <td>16</td>\n",
       "      <td>17</td>\n",
       "      <td>2024-01-15</td>\n",
       "      <td>2024-01-15</td>\n",
       "      <td>2024-01-15</td>\n",
       "      <td>2024-01-16</td>\n",
       "      <td>2024-01-15 19:00:00</td>\n",
       "      <td>2024-01-16 07:00:00</td>\n",
       "      <td>Daytime</td>\n",
       "      <td>Daytime</td>\n",
       "      <td>1.200000</td>\n",
       "      <td>0</td>\n",
       "      <td>0</td>\n",
       "      <td>0</td>\n",
       "    </tr>\n",
       "    <tr>\n",
       "      <th>1</th>\n",
       "      <td>2024-01-15 18:46:00</td>\n",
       "      <td>2024-01-15 21:01:00</td>\n",
       "      <td>2.250000</td>\n",
       "      <td>18</td>\n",
       "      <td>21</td>\n",
       "      <td>2024-01-15</td>\n",
       "      <td>2024-01-15</td>\n",
       "      <td>2024-01-15</td>\n",
       "      <td>2024-01-16</td>\n",
       "      <td>2024-01-15 19:00:00</td>\n",
       "      <td>2024-01-16 07:00:00</td>\n",
       "      <td>Daytime</td>\n",
       "      <td>Nighttime</td>\n",
       "      <td>2.250000</td>\n",
       "      <td>0</td>\n",
       "      <td>0</td>\n",
       "      <td>0</td>\n",
       "    </tr>\n",
       "    <tr>\n",
       "      <th>2</th>\n",
       "      <td>2024-01-16 01:00:00</td>\n",
       "      <td>2024-01-16 01:49:00</td>\n",
       "      <td>0.816667</td>\n",
       "      <td>1</td>\n",
       "      <td>1</td>\n",
       "      <td>2024-01-16</td>\n",
       "      <td>2024-01-16</td>\n",
       "      <td>2024-01-15</td>\n",
       "      <td>2024-01-16</td>\n",
       "      <td>2024-01-15 19:00:00</td>\n",
       "      <td>2024-01-16 07:00:00</td>\n",
       "      <td>Nighttime</td>\n",
       "      <td>Nighttime</td>\n",
       "      <td>0.816667</td>\n",
       "      <td>0</td>\n",
       "      <td>0</td>\n",
       "      <td>0</td>\n",
       "    </tr>\n",
       "    <tr>\n",
       "      <th>3</th>\n",
       "      <td>2024-01-16 05:48:00</td>\n",
       "      <td>2024-01-16 08:44:00</td>\n",
       "      <td>2.933333</td>\n",
       "      <td>5</td>\n",
       "      <td>8</td>\n",
       "      <td>2024-01-16</td>\n",
       "      <td>2024-01-16</td>\n",
       "      <td>2024-01-15</td>\n",
       "      <td>2024-01-16</td>\n",
       "      <td>2024-01-15 19:00:00</td>\n",
       "      <td>2024-01-16 07:00:00</td>\n",
       "      <td>Nighttime</td>\n",
       "      <td>Daytime</td>\n",
       "      <td>2.933333</td>\n",
       "      <td>0</td>\n",
       "      <td>0</td>\n",
       "      <td>0</td>\n",
       "    </tr>\n",
       "    <tr>\n",
       "      <th>4</th>\n",
       "      <td>2024-01-16 09:53:00</td>\n",
       "      <td>2024-01-16 12:06:00</td>\n",
       "      <td>2.216667</td>\n",
       "      <td>9</td>\n",
       "      <td>12</td>\n",
       "      <td>2024-01-16</td>\n",
       "      <td>2024-01-16</td>\n",
       "      <td>2024-01-16</td>\n",
       "      <td>2024-01-17</td>\n",
       "      <td>2024-01-16 19:00:00</td>\n",
       "      <td>2024-01-17 07:00:00</td>\n",
       "      <td>Daytime</td>\n",
       "      <td>Daytime</td>\n",
       "      <td>2.216667</td>\n",
       "      <td>1</td>\n",
       "      <td>0</td>\n",
       "      <td>0</td>\n",
       "    </tr>\n",
       "    <tr>\n",
       "      <th>...</th>\n",
       "      <td>...</td>\n",
       "      <td>...</td>\n",
       "      <td>...</td>\n",
       "      <td>...</td>\n",
       "      <td>...</td>\n",
       "      <td>...</td>\n",
       "      <td>...</td>\n",
       "      <td>...</td>\n",
       "      <td>...</td>\n",
       "      <td>...</td>\n",
       "      <td>...</td>\n",
       "      <td>...</td>\n",
       "      <td>...</td>\n",
       "      <td>...</td>\n",
       "      <td>...</td>\n",
       "      <td>...</td>\n",
       "      <td>...</td>\n",
       "    </tr>\n",
       "    <tr>\n",
       "      <th>956</th>\n",
       "      <td>2024-07-13 19:09:00</td>\n",
       "      <td>2024-07-14 01:52:00</td>\n",
       "      <td>6.716667</td>\n",
       "      <td>19</td>\n",
       "      <td>1</td>\n",
       "      <td>2024-07-13</td>\n",
       "      <td>2024-07-14</td>\n",
       "      <td>2024-07-13</td>\n",
       "      <td>2024-07-14</td>\n",
       "      <td>2024-07-13 19:00:00</td>\n",
       "      <td>2024-07-14 07:00:00</td>\n",
       "      <td>Nighttime</td>\n",
       "      <td>Nighttime</td>\n",
       "      <td>6.716667</td>\n",
       "      <td>180</td>\n",
       "      <td>25</td>\n",
       "      <td>6</td>\n",
       "    </tr>\n",
       "    <tr>\n",
       "      <th>957</th>\n",
       "      <td>2024-07-14 04:18:00</td>\n",
       "      <td>2024-07-14 06:42:00</td>\n",
       "      <td>2.400000</td>\n",
       "      <td>4</td>\n",
       "      <td>6</td>\n",
       "      <td>2024-07-14</td>\n",
       "      <td>2024-07-14</td>\n",
       "      <td>2024-07-13</td>\n",
       "      <td>2024-07-14</td>\n",
       "      <td>2024-07-13 19:00:00</td>\n",
       "      <td>2024-07-14 07:00:00</td>\n",
       "      <td>Nighttime</td>\n",
       "      <td>Nighttime</td>\n",
       "      <td>2.400000</td>\n",
       "      <td>180</td>\n",
       "      <td>25</td>\n",
       "      <td>6</td>\n",
       "    </tr>\n",
       "    <tr>\n",
       "      <th>958</th>\n",
       "      <td>2024-07-14 08:38:00</td>\n",
       "      <td>2024-07-14 10:55:00</td>\n",
       "      <td>2.283333</td>\n",
       "      <td>8</td>\n",
       "      <td>10</td>\n",
       "      <td>2024-07-14</td>\n",
       "      <td>2024-07-14</td>\n",
       "      <td>2024-07-14</td>\n",
       "      <td>2024-07-15</td>\n",
       "      <td>2024-07-14 19:00:00</td>\n",
       "      <td>2024-07-15 07:00:00</td>\n",
       "      <td>Daytime</td>\n",
       "      <td>Daytime</td>\n",
       "      <td>2.283333</td>\n",
       "      <td>181</td>\n",
       "      <td>25</td>\n",
       "      <td>6</td>\n",
       "    </tr>\n",
       "    <tr>\n",
       "      <th>959</th>\n",
       "      <td>2024-07-14 13:13:00</td>\n",
       "      <td>2024-07-14 15:27:00</td>\n",
       "      <td>2.233333</td>\n",
       "      <td>13</td>\n",
       "      <td>15</td>\n",
       "      <td>2024-07-14</td>\n",
       "      <td>2024-07-14</td>\n",
       "      <td>2024-07-14</td>\n",
       "      <td>2024-07-15</td>\n",
       "      <td>2024-07-14 19:00:00</td>\n",
       "      <td>2024-07-15 07:00:00</td>\n",
       "      <td>Daytime</td>\n",
       "      <td>Daytime</td>\n",
       "      <td>2.233333</td>\n",
       "      <td>181</td>\n",
       "      <td>25</td>\n",
       "      <td>6</td>\n",
       "    </tr>\n",
       "    <tr>\n",
       "      <th>960</th>\n",
       "      <td>2024-07-14 17:52:00</td>\n",
       "      <td>2024-07-14 19:54:00</td>\n",
       "      <td>2.033333</td>\n",
       "      <td>17</td>\n",
       "      <td>19</td>\n",
       "      <td>2024-07-14</td>\n",
       "      <td>2024-07-14</td>\n",
       "      <td>2024-07-14</td>\n",
       "      <td>2024-07-15</td>\n",
       "      <td>2024-07-14 19:00:00</td>\n",
       "      <td>2024-07-15 07:00:00</td>\n",
       "      <td>Daytime</td>\n",
       "      <td>Nighttime</td>\n",
       "      <td>2.033333</td>\n",
       "      <td>181</td>\n",
       "      <td>25</td>\n",
       "      <td>6</td>\n",
       "    </tr>\n",
       "  </tbody>\n",
       "</table>\n",
       "<p>961 rows × 17 columns</p>\n",
       "</div>"
      ],
      "text/plain": [
       "            Sleep Start           Sleep End     Hours  Start Hour  End Hour  \\\n",
       "0   2024-01-15 16:31:00 2024-01-15 17:43:00  1.200000          16        17   \n",
       "1   2024-01-15 18:46:00 2024-01-15 21:01:00  2.250000          18        21   \n",
       "2   2024-01-16 01:00:00 2024-01-16 01:49:00  0.816667           1         1   \n",
       "3   2024-01-16 05:48:00 2024-01-16 08:44:00  2.933333           5         8   \n",
       "4   2024-01-16 09:53:00 2024-01-16 12:06:00  2.216667           9        12   \n",
       "..                  ...                 ...       ...         ...       ...   \n",
       "956 2024-07-13 19:09:00 2024-07-14 01:52:00  6.716667          19         1   \n",
       "957 2024-07-14 04:18:00 2024-07-14 06:42:00  2.400000           4         6   \n",
       "958 2024-07-14 08:38:00 2024-07-14 10:55:00  2.283333           8        10   \n",
       "959 2024-07-14 13:13:00 2024-07-14 15:27:00  2.233333          13        15   \n",
       "960 2024-07-14 17:52:00 2024-07-14 19:54:00  2.033333          17        19   \n",
       "\n",
       "     Start Date    End Date Night Start Date Night End Date  \\\n",
       "0    2024-01-15  2024-01-15       2024-01-15     2024-01-16   \n",
       "1    2024-01-15  2024-01-15       2024-01-15     2024-01-16   \n",
       "2    2024-01-16  2024-01-16       2024-01-15     2024-01-16   \n",
       "3    2024-01-16  2024-01-16       2024-01-15     2024-01-16   \n",
       "4    2024-01-16  2024-01-16       2024-01-16     2024-01-17   \n",
       "..          ...         ...              ...            ...   \n",
       "956  2024-07-13  2024-07-14       2024-07-13     2024-07-14   \n",
       "957  2024-07-14  2024-07-14       2024-07-13     2024-07-14   \n",
       "958  2024-07-14  2024-07-14       2024-07-14     2024-07-15   \n",
       "959  2024-07-14  2024-07-14       2024-07-14     2024-07-15   \n",
       "960  2024-07-14  2024-07-14       2024-07-14     2024-07-15   \n",
       "\n",
       "       Night Start Time      Night End Time Start Period End Period  \\\n",
       "0   2024-01-15 19:00:00 2024-01-16 07:00:00      Daytime    Daytime   \n",
       "1   2024-01-15 19:00:00 2024-01-16 07:00:00      Daytime  Nighttime   \n",
       "2   2024-01-15 19:00:00 2024-01-16 07:00:00    Nighttime  Nighttime   \n",
       "3   2024-01-15 19:00:00 2024-01-16 07:00:00    Nighttime    Daytime   \n",
       "4   2024-01-16 19:00:00 2024-01-17 07:00:00      Daytime    Daytime   \n",
       "..                  ...                 ...          ...        ...   \n",
       "956 2024-07-13 19:00:00 2024-07-14 07:00:00    Nighttime  Nighttime   \n",
       "957 2024-07-13 19:00:00 2024-07-14 07:00:00    Nighttime  Nighttime   \n",
       "958 2024-07-14 19:00:00 2024-07-15 07:00:00      Daytime    Daytime   \n",
       "959 2024-07-14 19:00:00 2024-07-15 07:00:00      Daytime    Daytime   \n",
       "960 2024-07-14 19:00:00 2024-07-15 07:00:00      Daytime  Nighttime   \n",
       "\n",
       "     Original Hours  Original Days Old  Original Weeks Old  \\\n",
       "0          1.200000                  0                   0   \n",
       "1          2.250000                  0                   0   \n",
       "2          0.816667                  0                   0   \n",
       "3          2.933333                  0                   0   \n",
       "4          2.216667                  1                   0   \n",
       "..              ...                ...                 ...   \n",
       "956        6.716667                180                  25   \n",
       "957        2.400000                180                  25   \n",
       "958        2.283333                181                  25   \n",
       "959        2.233333                181                  25   \n",
       "960        2.033333                181                  25   \n",
       "\n",
       "     Original Months Old  \n",
       "0                      0  \n",
       "1                      0  \n",
       "2                      0  \n",
       "3                      0  \n",
       "4                      0  \n",
       "..                   ...  \n",
       "956                    6  \n",
       "957                    6  \n",
       "958                    6  \n",
       "959                    6  \n",
       "960                    6  \n",
       "\n",
       "[961 rows x 17 columns]"
      ]
     },
     "execution_count": 14,
     "metadata": {},
     "output_type": "execute_result"
    }
   ],
   "source": [
    "df_sleep_data = pd.concat(\n",
    "    [df_sleep_data.query(\n",
    "    \"~(`Start Period` == 'Nighttime' & `End Period` == 'Nighttime' \\\n",
    "& `Sleep End` > `Night End Time`)\").copy(),\n",
    "     df_night_day_night_pt_1, df_night_day_night_pt_2]\n",
    ").reset_index(drop=True).sort_values(\n",
    "    'Sleep Start')\n",
    "df_sleep_data"
   ]
  },
  {
   "cell_type": "markdown",
   "metadata": {},
   "source": [
    "### Handling entries that begin during the night and end during the day:\n",
    "\n",
    "Splitting these rows into nighttime- and daytime-only components will allow the daytime values to be associated with the following day's Night Start Date, thus preventing our daytime sleep totals for a given date from potentially including values from two different daytime periods."
   ]
  },
  {
   "cell_type": "code",
   "execution_count": 15,
   "metadata": {
    "execution": {
     "iopub.execute_input": "2024-05-14T17:17:19.645026Z",
     "iopub.status.busy": "2024-05-14T17:17:19.645026Z",
     "iopub.status.idle": "2024-05-14T17:17:19.662366Z",
     "shell.execute_reply": "2024-05-14T17:17:19.662366Z",
     "shell.execute_reply.started": "2024-05-14T17:17:19.645026Z"
    }
   },
   "outputs": [
    {
     "data": {
      "text/html": [
       "<div>\n",
       "<style scoped>\n",
       "    .dataframe tbody tr th:only-of-type {\n",
       "        vertical-align: middle;\n",
       "    }\n",
       "\n",
       "    .dataframe tbody tr th {\n",
       "        vertical-align: top;\n",
       "    }\n",
       "\n",
       "    .dataframe thead th {\n",
       "        text-align: right;\n",
       "    }\n",
       "</style>\n",
       "<table border=\"1\" class=\"dataframe\">\n",
       "  <thead>\n",
       "    <tr style=\"text-align: right;\">\n",
       "      <th></th>\n",
       "      <th>Sleep Start</th>\n",
       "      <th>Sleep End</th>\n",
       "      <th>Hours</th>\n",
       "      <th>Start Hour</th>\n",
       "      <th>End Hour</th>\n",
       "      <th>Start Date</th>\n",
       "      <th>End Date</th>\n",
       "      <th>Night Start Date</th>\n",
       "      <th>Night End Date</th>\n",
       "      <th>Night Start Time</th>\n",
       "      <th>Night End Time</th>\n",
       "      <th>Start Period</th>\n",
       "      <th>End Period</th>\n",
       "      <th>Original Hours</th>\n",
       "      <th>Original Days Old</th>\n",
       "      <th>Original Weeks Old</th>\n",
       "      <th>Original Months Old</th>\n",
       "    </tr>\n",
       "  </thead>\n",
       "  <tbody>\n",
       "    <tr>\n",
       "      <th>3</th>\n",
       "      <td>2024-01-16 05:48:00</td>\n",
       "      <td>2024-01-16 07:00:00</td>\n",
       "      <td>1.200000</td>\n",
       "      <td>5</td>\n",
       "      <td>7</td>\n",
       "      <td>2024-01-16</td>\n",
       "      <td>2024-01-16</td>\n",
       "      <td>2024-01-15</td>\n",
       "      <td>2024-01-16</td>\n",
       "      <td>2024-01-15 19:00:00</td>\n",
       "      <td>2024-01-16 07:00:00</td>\n",
       "      <td>Nighttime</td>\n",
       "      <td>Daytime</td>\n",
       "      <td>2.933333</td>\n",
       "      <td>0</td>\n",
       "      <td>0</td>\n",
       "      <td>0</td>\n",
       "    </tr>\n",
       "    <tr>\n",
       "      <th>19</th>\n",
       "      <td>2024-01-19 05:00:00</td>\n",
       "      <td>2024-01-19 07:00:00</td>\n",
       "      <td>2.000000</td>\n",
       "      <td>5</td>\n",
       "      <td>7</td>\n",
       "      <td>2024-01-19</td>\n",
       "      <td>2024-01-19</td>\n",
       "      <td>2024-01-18</td>\n",
       "      <td>2024-01-19</td>\n",
       "      <td>2024-01-18 19:00:00</td>\n",
       "      <td>2024-01-19 07:00:00</td>\n",
       "      <td>Nighttime</td>\n",
       "      <td>Daytime</td>\n",
       "      <td>2.500000</td>\n",
       "      <td>3</td>\n",
       "      <td>0</td>\n",
       "      <td>0</td>\n",
       "    </tr>\n",
       "    <tr>\n",
       "      <th>52</th>\n",
       "      <td>2024-01-25 05:14:00</td>\n",
       "      <td>2024-01-25 07:00:00</td>\n",
       "      <td>1.766667</td>\n",
       "      <td>5</td>\n",
       "      <td>7</td>\n",
       "      <td>2024-01-25</td>\n",
       "      <td>2024-01-25</td>\n",
       "      <td>2024-01-24</td>\n",
       "      <td>2024-01-25</td>\n",
       "      <td>2024-01-24 19:00:00</td>\n",
       "      <td>2024-01-25 07:00:00</td>\n",
       "      <td>Nighttime</td>\n",
       "      <td>Daytime</td>\n",
       "      <td>2.900000</td>\n",
       "      <td>9</td>\n",
       "      <td>1</td>\n",
       "      <td>0</td>\n",
       "    </tr>\n",
       "    <tr>\n",
       "      <th>64</th>\n",
       "      <td>2024-01-27 04:30:00</td>\n",
       "      <td>2024-01-27 07:00:00</td>\n",
       "      <td>2.500000</td>\n",
       "      <td>4</td>\n",
       "      <td>7</td>\n",
       "      <td>2024-01-27</td>\n",
       "      <td>2024-01-27</td>\n",
       "      <td>2024-01-26</td>\n",
       "      <td>2024-01-27</td>\n",
       "      <td>2024-01-26 19:00:00</td>\n",
       "      <td>2024-01-27 07:00:00</td>\n",
       "      <td>Nighttime</td>\n",
       "      <td>Daytime</td>\n",
       "      <td>2.716667</td>\n",
       "      <td>11</td>\n",
       "      <td>1</td>\n",
       "      <td>0</td>\n",
       "    </tr>\n",
       "    <tr>\n",
       "      <th>99</th>\n",
       "      <td>2024-02-02 04:39:00</td>\n",
       "      <td>2024-02-02 07:00:00</td>\n",
       "      <td>2.350000</td>\n",
       "      <td>4</td>\n",
       "      <td>7</td>\n",
       "      <td>2024-02-02</td>\n",
       "      <td>2024-02-02</td>\n",
       "      <td>2024-02-01</td>\n",
       "      <td>2024-02-02</td>\n",
       "      <td>2024-02-01 19:00:00</td>\n",
       "      <td>2024-02-02 07:00:00</td>\n",
       "      <td>Nighttime</td>\n",
       "      <td>Daytime</td>\n",
       "      <td>2.600000</td>\n",
       "      <td>17</td>\n",
       "      <td>2</td>\n",
       "      <td>0</td>\n",
       "    </tr>\n",
       "    <tr>\n",
       "      <th>...</th>\n",
       "      <td>...</td>\n",
       "      <td>...</td>\n",
       "      <td>...</td>\n",
       "      <td>...</td>\n",
       "      <td>...</td>\n",
       "      <td>...</td>\n",
       "      <td>...</td>\n",
       "      <td>...</td>\n",
       "      <td>...</td>\n",
       "      <td>...</td>\n",
       "      <td>...</td>\n",
       "      <td>...</td>\n",
       "      <td>...</td>\n",
       "      <td>...</td>\n",
       "      <td>...</td>\n",
       "      <td>...</td>\n",
       "      <td>...</td>\n",
       "    </tr>\n",
       "    <tr>\n",
       "      <th>937</th>\n",
       "      <td>2024-07-08 20:00:00</td>\n",
       "      <td>2024-07-09 07:00:00</td>\n",
       "      <td>11.000000</td>\n",
       "      <td>20</td>\n",
       "      <td>7</td>\n",
       "      <td>2024-07-08</td>\n",
       "      <td>2024-07-09</td>\n",
       "      <td>2024-07-08</td>\n",
       "      <td>2024-07-09</td>\n",
       "      <td>2024-07-08 19:00:00</td>\n",
       "      <td>2024-07-09 07:00:00</td>\n",
       "      <td>Nighttime</td>\n",
       "      <td>Daytime</td>\n",
       "      <td>11.816667</td>\n",
       "      <td>175</td>\n",
       "      <td>25</td>\n",
       "      <td>5</td>\n",
       "    </tr>\n",
       "    <tr>\n",
       "      <th>941</th>\n",
       "      <td>2024-07-09 22:29:00</td>\n",
       "      <td>2024-07-10 07:00:00</td>\n",
       "      <td>8.516667</td>\n",
       "      <td>22</td>\n",
       "      <td>7</td>\n",
       "      <td>2024-07-09</td>\n",
       "      <td>2024-07-10</td>\n",
       "      <td>2024-07-09</td>\n",
       "      <td>2024-07-10</td>\n",
       "      <td>2024-07-09 19:00:00</td>\n",
       "      <td>2024-07-10 07:00:00</td>\n",
       "      <td>Nighttime</td>\n",
       "      <td>Daytime</td>\n",
       "      <td>11.966667</td>\n",
       "      <td>176</td>\n",
       "      <td>25</td>\n",
       "      <td>5</td>\n",
       "    </tr>\n",
       "    <tr>\n",
       "      <th>945</th>\n",
       "      <td>2024-07-11 05:23:00</td>\n",
       "      <td>2024-07-11 07:00:00</td>\n",
       "      <td>1.616667</td>\n",
       "      <td>5</td>\n",
       "      <td>7</td>\n",
       "      <td>2024-07-11</td>\n",
       "      <td>2024-07-11</td>\n",
       "      <td>2024-07-10</td>\n",
       "      <td>2024-07-11</td>\n",
       "      <td>2024-07-10 19:00:00</td>\n",
       "      <td>2024-07-11 07:00:00</td>\n",
       "      <td>Nighttime</td>\n",
       "      <td>Daytime</td>\n",
       "      <td>2.966667</td>\n",
       "      <td>177</td>\n",
       "      <td>25</td>\n",
       "      <td>5</td>\n",
       "    </tr>\n",
       "    <tr>\n",
       "      <th>949</th>\n",
       "      <td>2024-07-11 20:52:00</td>\n",
       "      <td>2024-07-12 07:00:00</td>\n",
       "      <td>10.133333</td>\n",
       "      <td>20</td>\n",
       "      <td>7</td>\n",
       "      <td>2024-07-11</td>\n",
       "      <td>2024-07-12</td>\n",
       "      <td>2024-07-11</td>\n",
       "      <td>2024-07-12</td>\n",
       "      <td>2024-07-11 19:00:00</td>\n",
       "      <td>2024-07-12 07:00:00</td>\n",
       "      <td>Nighttime</td>\n",
       "      <td>Daytime</td>\n",
       "      <td>11.983333</td>\n",
       "      <td>178</td>\n",
       "      <td>25</td>\n",
       "      <td>5</td>\n",
       "    </tr>\n",
       "    <tr>\n",
       "      <th>953</th>\n",
       "      <td>2024-07-12 21:26:00</td>\n",
       "      <td>2024-07-13 07:00:00</td>\n",
       "      <td>9.566667</td>\n",
       "      <td>21</td>\n",
       "      <td>7</td>\n",
       "      <td>2024-07-12</td>\n",
       "      <td>2024-07-13</td>\n",
       "      <td>2024-07-12</td>\n",
       "      <td>2024-07-13</td>\n",
       "      <td>2024-07-12 19:00:00</td>\n",
       "      <td>2024-07-13 07:00:00</td>\n",
       "      <td>Nighttime</td>\n",
       "      <td>Daytime</td>\n",
       "      <td>11.916667</td>\n",
       "      <td>179</td>\n",
       "      <td>25</td>\n",
       "      <td>5</td>\n",
       "    </tr>\n",
       "  </tbody>\n",
       "</table>\n",
       "<p>118 rows × 17 columns</p>\n",
       "</div>"
      ],
      "text/plain": [
       "            Sleep Start           Sleep End      Hours  Start Hour  End Hour  \\\n",
       "3   2024-01-16 05:48:00 2024-01-16 07:00:00   1.200000           5         7   \n",
       "19  2024-01-19 05:00:00 2024-01-19 07:00:00   2.000000           5         7   \n",
       "52  2024-01-25 05:14:00 2024-01-25 07:00:00   1.766667           5         7   \n",
       "64  2024-01-27 04:30:00 2024-01-27 07:00:00   2.500000           4         7   \n",
       "99  2024-02-02 04:39:00 2024-02-02 07:00:00   2.350000           4         7   \n",
       "..                  ...                 ...        ...         ...       ...   \n",
       "937 2024-07-08 20:00:00 2024-07-09 07:00:00  11.000000          20         7   \n",
       "941 2024-07-09 22:29:00 2024-07-10 07:00:00   8.516667          22         7   \n",
       "945 2024-07-11 05:23:00 2024-07-11 07:00:00   1.616667           5         7   \n",
       "949 2024-07-11 20:52:00 2024-07-12 07:00:00  10.133333          20         7   \n",
       "953 2024-07-12 21:26:00 2024-07-13 07:00:00   9.566667          21         7   \n",
       "\n",
       "     Start Date    End Date Night Start Date Night End Date  \\\n",
       "3    2024-01-16  2024-01-16       2024-01-15     2024-01-16   \n",
       "19   2024-01-19  2024-01-19       2024-01-18     2024-01-19   \n",
       "52   2024-01-25  2024-01-25       2024-01-24     2024-01-25   \n",
       "64   2024-01-27  2024-01-27       2024-01-26     2024-01-27   \n",
       "99   2024-02-02  2024-02-02       2024-02-01     2024-02-02   \n",
       "..          ...         ...              ...            ...   \n",
       "937  2024-07-08  2024-07-09       2024-07-08     2024-07-09   \n",
       "941  2024-07-09  2024-07-10       2024-07-09     2024-07-10   \n",
       "945  2024-07-11  2024-07-11       2024-07-10     2024-07-11   \n",
       "949  2024-07-11  2024-07-12       2024-07-11     2024-07-12   \n",
       "953  2024-07-12  2024-07-13       2024-07-12     2024-07-13   \n",
       "\n",
       "       Night Start Time      Night End Time Start Period End Period  \\\n",
       "3   2024-01-15 19:00:00 2024-01-16 07:00:00    Nighttime    Daytime   \n",
       "19  2024-01-18 19:00:00 2024-01-19 07:00:00    Nighttime    Daytime   \n",
       "52  2024-01-24 19:00:00 2024-01-25 07:00:00    Nighttime    Daytime   \n",
       "64  2024-01-26 19:00:00 2024-01-27 07:00:00    Nighttime    Daytime   \n",
       "99  2024-02-01 19:00:00 2024-02-02 07:00:00    Nighttime    Daytime   \n",
       "..                  ...                 ...          ...        ...   \n",
       "937 2024-07-08 19:00:00 2024-07-09 07:00:00    Nighttime    Daytime   \n",
       "941 2024-07-09 19:00:00 2024-07-10 07:00:00    Nighttime    Daytime   \n",
       "945 2024-07-10 19:00:00 2024-07-11 07:00:00    Nighttime    Daytime   \n",
       "949 2024-07-11 19:00:00 2024-07-12 07:00:00    Nighttime    Daytime   \n",
       "953 2024-07-12 19:00:00 2024-07-13 07:00:00    Nighttime    Daytime   \n",
       "\n",
       "     Original Hours  Original Days Old  Original Weeks Old  \\\n",
       "3          2.933333                  0                   0   \n",
       "19         2.500000                  3                   0   \n",
       "52         2.900000                  9                   1   \n",
       "64         2.716667                 11                   1   \n",
       "99         2.600000                 17                   2   \n",
       "..              ...                ...                 ...   \n",
       "937       11.816667                175                  25   \n",
       "941       11.966667                176                  25   \n",
       "945        2.966667                177                  25   \n",
       "949       11.983333                178                  25   \n",
       "953       11.916667                179                  25   \n",
       "\n",
       "     Original Months Old  \n",
       "3                      0  \n",
       "19                     0  \n",
       "52                     0  \n",
       "64                     0  \n",
       "99                     0  \n",
       "..                   ...  \n",
       "937                    5  \n",
       "941                    5  \n",
       "945                    5  \n",
       "949                    5  \n",
       "953                    5  \n",
       "\n",
       "[118 rows x 17 columns]"
      ]
     },
     "execution_count": 15,
     "metadata": {},
     "output_type": "execute_result"
    }
   ],
   "source": [
    "# Calculating the nighttime component of these dates (which will extend from\n",
    "# the original start time to Night End Time):\n",
    "df_night_to_day_nighttime = df_sleep_data.query(\n",
    "    \"`Start Period` == 'Nighttime' & `End Period` == 'Daytime'\").copy()\n",
    "df_night_to_day_nighttime['Sleep End'] = df_night_to_day_nighttime[\n",
    "'Night End Time']\n",
    "df_night_to_day_nighttime['End Hour'] = df_night_to_day_nighttime[\n",
    "'Sleep End'].dt.hour\n",
    "df_night_to_day_nighttime['Hours'] = (\n",
    "    df_night_to_day_nighttime['Sleep End'] - df_night_to_day_nighttime[\n",
    "    'Sleep Start']).dt.total_seconds() / 3600\n",
    "\n",
    "df_night_to_day_nighttime\n"
   ]
  },
  {
   "cell_type": "code",
   "execution_count": 16,
   "metadata": {
    "execution": {
     "iopub.execute_input": "2024-05-14T17:17:19.663371Z",
     "iopub.status.busy": "2024-05-14T17:17:19.663371Z",
     "iopub.status.idle": "2024-05-14T17:17:19.683399Z",
     "shell.execute_reply": "2024-05-14T17:17:19.683399Z",
     "shell.execute_reply.started": "2024-05-14T17:17:19.663371Z"
    }
   },
   "outputs": [
    {
     "data": {
      "text/html": [
       "<div>\n",
       "<style scoped>\n",
       "    .dataframe tbody tr th:only-of-type {\n",
       "        vertical-align: middle;\n",
       "    }\n",
       "\n",
       "    .dataframe tbody tr th {\n",
       "        vertical-align: top;\n",
       "    }\n",
       "\n",
       "    .dataframe thead th {\n",
       "        text-align: right;\n",
       "    }\n",
       "</style>\n",
       "<table border=\"1\" class=\"dataframe\">\n",
       "  <thead>\n",
       "    <tr style=\"text-align: right;\">\n",
       "      <th></th>\n",
       "      <th>Sleep Start</th>\n",
       "      <th>Sleep End</th>\n",
       "      <th>Hours</th>\n",
       "      <th>Start Hour</th>\n",
       "      <th>End Hour</th>\n",
       "      <th>Start Date</th>\n",
       "      <th>End Date</th>\n",
       "      <th>Night Start Date</th>\n",
       "      <th>Night End Date</th>\n",
       "      <th>Night Start Time</th>\n",
       "      <th>Night End Time</th>\n",
       "      <th>Start Period</th>\n",
       "      <th>End Period</th>\n",
       "      <th>Original Hours</th>\n",
       "      <th>Original Days Old</th>\n",
       "      <th>Original Weeks Old</th>\n",
       "      <th>Original Months Old</th>\n",
       "    </tr>\n",
       "  </thead>\n",
       "  <tbody>\n",
       "    <tr>\n",
       "      <th>3</th>\n",
       "      <td>2024-01-16 07:00:00</td>\n",
       "      <td>2024-01-16 08:44:00</td>\n",
       "      <td>1.733333</td>\n",
       "      <td>7</td>\n",
       "      <td>8</td>\n",
       "      <td>2024-01-16</td>\n",
       "      <td>2024-01-16</td>\n",
       "      <td>2024-01-16</td>\n",
       "      <td>2024-01-17</td>\n",
       "      <td>2024-01-16 19:00:00</td>\n",
       "      <td>2024-01-17 07:00:00</td>\n",
       "      <td>Daytime</td>\n",
       "      <td>Daytime</td>\n",
       "      <td>2.933333</td>\n",
       "      <td>0</td>\n",
       "      <td>0</td>\n",
       "      <td>0</td>\n",
       "    </tr>\n",
       "    <tr>\n",
       "      <th>19</th>\n",
       "      <td>2024-01-19 07:00:00</td>\n",
       "      <td>2024-01-19 07:30:00</td>\n",
       "      <td>0.500000</td>\n",
       "      <td>7</td>\n",
       "      <td>7</td>\n",
       "      <td>2024-01-19</td>\n",
       "      <td>2024-01-19</td>\n",
       "      <td>2024-01-19</td>\n",
       "      <td>2024-01-20</td>\n",
       "      <td>2024-01-19 19:00:00</td>\n",
       "      <td>2024-01-20 07:00:00</td>\n",
       "      <td>Daytime</td>\n",
       "      <td>Daytime</td>\n",
       "      <td>2.500000</td>\n",
       "      <td>3</td>\n",
       "      <td>0</td>\n",
       "      <td>0</td>\n",
       "    </tr>\n",
       "    <tr>\n",
       "      <th>52</th>\n",
       "      <td>2024-01-25 07:00:00</td>\n",
       "      <td>2024-01-25 08:08:00</td>\n",
       "      <td>1.133333</td>\n",
       "      <td>7</td>\n",
       "      <td>8</td>\n",
       "      <td>2024-01-25</td>\n",
       "      <td>2024-01-25</td>\n",
       "      <td>2024-01-25</td>\n",
       "      <td>2024-01-26</td>\n",
       "      <td>2024-01-25 19:00:00</td>\n",
       "      <td>2024-01-26 07:00:00</td>\n",
       "      <td>Daytime</td>\n",
       "      <td>Daytime</td>\n",
       "      <td>2.900000</td>\n",
       "      <td>9</td>\n",
       "      <td>1</td>\n",
       "      <td>0</td>\n",
       "    </tr>\n",
       "    <tr>\n",
       "      <th>64</th>\n",
       "      <td>2024-01-27 07:00:00</td>\n",
       "      <td>2024-01-27 07:13:00</td>\n",
       "      <td>0.216667</td>\n",
       "      <td>7</td>\n",
       "      <td>7</td>\n",
       "      <td>2024-01-27</td>\n",
       "      <td>2024-01-27</td>\n",
       "      <td>2024-01-27</td>\n",
       "      <td>2024-01-28</td>\n",
       "      <td>2024-01-27 19:00:00</td>\n",
       "      <td>2024-01-28 07:00:00</td>\n",
       "      <td>Daytime</td>\n",
       "      <td>Daytime</td>\n",
       "      <td>2.716667</td>\n",
       "      <td>11</td>\n",
       "      <td>1</td>\n",
       "      <td>0</td>\n",
       "    </tr>\n",
       "    <tr>\n",
       "      <th>99</th>\n",
       "      <td>2024-02-02 07:00:00</td>\n",
       "      <td>2024-02-02 07:15:00</td>\n",
       "      <td>0.250000</td>\n",
       "      <td>7</td>\n",
       "      <td>7</td>\n",
       "      <td>2024-02-02</td>\n",
       "      <td>2024-02-02</td>\n",
       "      <td>2024-02-02</td>\n",
       "      <td>2024-02-03</td>\n",
       "      <td>2024-02-02 19:00:00</td>\n",
       "      <td>2024-02-03 07:00:00</td>\n",
       "      <td>Daytime</td>\n",
       "      <td>Daytime</td>\n",
       "      <td>2.600000</td>\n",
       "      <td>17</td>\n",
       "      <td>2</td>\n",
       "      <td>0</td>\n",
       "    </tr>\n",
       "    <tr>\n",
       "      <th>...</th>\n",
       "      <td>...</td>\n",
       "      <td>...</td>\n",
       "      <td>...</td>\n",
       "      <td>...</td>\n",
       "      <td>...</td>\n",
       "      <td>...</td>\n",
       "      <td>...</td>\n",
       "      <td>...</td>\n",
       "      <td>...</td>\n",
       "      <td>...</td>\n",
       "      <td>...</td>\n",
       "      <td>...</td>\n",
       "      <td>...</td>\n",
       "      <td>...</td>\n",
       "      <td>...</td>\n",
       "      <td>...</td>\n",
       "      <td>...</td>\n",
       "    </tr>\n",
       "    <tr>\n",
       "      <th>937</th>\n",
       "      <td>2024-07-09 07:00:00</td>\n",
       "      <td>2024-07-09 07:49:00</td>\n",
       "      <td>0.816667</td>\n",
       "      <td>7</td>\n",
       "      <td>7</td>\n",
       "      <td>2024-07-09</td>\n",
       "      <td>2024-07-09</td>\n",
       "      <td>2024-07-09</td>\n",
       "      <td>2024-07-10</td>\n",
       "      <td>2024-07-09 19:00:00</td>\n",
       "      <td>2024-07-10 07:00:00</td>\n",
       "      <td>Daytime</td>\n",
       "      <td>Daytime</td>\n",
       "      <td>11.816667</td>\n",
       "      <td>175</td>\n",
       "      <td>25</td>\n",
       "      <td>5</td>\n",
       "    </tr>\n",
       "    <tr>\n",
       "      <th>941</th>\n",
       "      <td>2024-07-10 07:00:00</td>\n",
       "      <td>2024-07-10 10:27:00</td>\n",
       "      <td>3.450000</td>\n",
       "      <td>7</td>\n",
       "      <td>10</td>\n",
       "      <td>2024-07-10</td>\n",
       "      <td>2024-07-10</td>\n",
       "      <td>2024-07-10</td>\n",
       "      <td>2024-07-11</td>\n",
       "      <td>2024-07-10 19:00:00</td>\n",
       "      <td>2024-07-11 07:00:00</td>\n",
       "      <td>Daytime</td>\n",
       "      <td>Daytime</td>\n",
       "      <td>11.966667</td>\n",
       "      <td>176</td>\n",
       "      <td>25</td>\n",
       "      <td>5</td>\n",
       "    </tr>\n",
       "    <tr>\n",
       "      <th>945</th>\n",
       "      <td>2024-07-11 07:00:00</td>\n",
       "      <td>2024-07-11 08:21:00</td>\n",
       "      <td>1.350000</td>\n",
       "      <td>7</td>\n",
       "      <td>8</td>\n",
       "      <td>2024-07-11</td>\n",
       "      <td>2024-07-11</td>\n",
       "      <td>2024-07-11</td>\n",
       "      <td>2024-07-12</td>\n",
       "      <td>2024-07-11 19:00:00</td>\n",
       "      <td>2024-07-12 07:00:00</td>\n",
       "      <td>Daytime</td>\n",
       "      <td>Daytime</td>\n",
       "      <td>2.966667</td>\n",
       "      <td>177</td>\n",
       "      <td>25</td>\n",
       "      <td>5</td>\n",
       "    </tr>\n",
       "    <tr>\n",
       "      <th>949</th>\n",
       "      <td>2024-07-12 07:00:00</td>\n",
       "      <td>2024-07-12 08:51:00</td>\n",
       "      <td>1.850000</td>\n",
       "      <td>7</td>\n",
       "      <td>8</td>\n",
       "      <td>2024-07-12</td>\n",
       "      <td>2024-07-12</td>\n",
       "      <td>2024-07-12</td>\n",
       "      <td>2024-07-13</td>\n",
       "      <td>2024-07-12 19:00:00</td>\n",
       "      <td>2024-07-13 07:00:00</td>\n",
       "      <td>Daytime</td>\n",
       "      <td>Daytime</td>\n",
       "      <td>11.983333</td>\n",
       "      <td>178</td>\n",
       "      <td>25</td>\n",
       "      <td>5</td>\n",
       "    </tr>\n",
       "    <tr>\n",
       "      <th>953</th>\n",
       "      <td>2024-07-13 07:00:00</td>\n",
       "      <td>2024-07-13 09:21:00</td>\n",
       "      <td>2.350000</td>\n",
       "      <td>7</td>\n",
       "      <td>9</td>\n",
       "      <td>2024-07-13</td>\n",
       "      <td>2024-07-13</td>\n",
       "      <td>2024-07-13</td>\n",
       "      <td>2024-07-14</td>\n",
       "      <td>2024-07-13 19:00:00</td>\n",
       "      <td>2024-07-14 07:00:00</td>\n",
       "      <td>Daytime</td>\n",
       "      <td>Daytime</td>\n",
       "      <td>11.916667</td>\n",
       "      <td>179</td>\n",
       "      <td>25</td>\n",
       "      <td>5</td>\n",
       "    </tr>\n",
       "  </tbody>\n",
       "</table>\n",
       "<p>118 rows × 17 columns</p>\n",
       "</div>"
      ],
      "text/plain": [
       "            Sleep Start           Sleep End     Hours  Start Hour  End Hour  \\\n",
       "3   2024-01-16 07:00:00 2024-01-16 08:44:00  1.733333           7         8   \n",
       "19  2024-01-19 07:00:00 2024-01-19 07:30:00  0.500000           7         7   \n",
       "52  2024-01-25 07:00:00 2024-01-25 08:08:00  1.133333           7         8   \n",
       "64  2024-01-27 07:00:00 2024-01-27 07:13:00  0.216667           7         7   \n",
       "99  2024-02-02 07:00:00 2024-02-02 07:15:00  0.250000           7         7   \n",
       "..                  ...                 ...       ...         ...       ...   \n",
       "937 2024-07-09 07:00:00 2024-07-09 07:49:00  0.816667           7         7   \n",
       "941 2024-07-10 07:00:00 2024-07-10 10:27:00  3.450000           7        10   \n",
       "945 2024-07-11 07:00:00 2024-07-11 08:21:00  1.350000           7         8   \n",
       "949 2024-07-12 07:00:00 2024-07-12 08:51:00  1.850000           7         8   \n",
       "953 2024-07-13 07:00:00 2024-07-13 09:21:00  2.350000           7         9   \n",
       "\n",
       "     Start Date    End Date Night Start Date Night End Date  \\\n",
       "3    2024-01-16  2024-01-16       2024-01-16     2024-01-17   \n",
       "19   2024-01-19  2024-01-19       2024-01-19     2024-01-20   \n",
       "52   2024-01-25  2024-01-25       2024-01-25     2024-01-26   \n",
       "64   2024-01-27  2024-01-27       2024-01-27     2024-01-28   \n",
       "99   2024-02-02  2024-02-02       2024-02-02     2024-02-03   \n",
       "..          ...         ...              ...            ...   \n",
       "937  2024-07-09  2024-07-09       2024-07-09     2024-07-10   \n",
       "941  2024-07-10  2024-07-10       2024-07-10     2024-07-11   \n",
       "945  2024-07-11  2024-07-11       2024-07-11     2024-07-12   \n",
       "949  2024-07-12  2024-07-12       2024-07-12     2024-07-13   \n",
       "953  2024-07-13  2024-07-13       2024-07-13     2024-07-14   \n",
       "\n",
       "       Night Start Time      Night End Time Start Period End Period  \\\n",
       "3   2024-01-16 19:00:00 2024-01-17 07:00:00      Daytime    Daytime   \n",
       "19  2024-01-19 19:00:00 2024-01-20 07:00:00      Daytime    Daytime   \n",
       "52  2024-01-25 19:00:00 2024-01-26 07:00:00      Daytime    Daytime   \n",
       "64  2024-01-27 19:00:00 2024-01-28 07:00:00      Daytime    Daytime   \n",
       "99  2024-02-02 19:00:00 2024-02-03 07:00:00      Daytime    Daytime   \n",
       "..                  ...                 ...          ...        ...   \n",
       "937 2024-07-09 19:00:00 2024-07-10 07:00:00      Daytime    Daytime   \n",
       "941 2024-07-10 19:00:00 2024-07-11 07:00:00      Daytime    Daytime   \n",
       "945 2024-07-11 19:00:00 2024-07-12 07:00:00      Daytime    Daytime   \n",
       "949 2024-07-12 19:00:00 2024-07-13 07:00:00      Daytime    Daytime   \n",
       "953 2024-07-13 19:00:00 2024-07-14 07:00:00      Daytime    Daytime   \n",
       "\n",
       "     Original Hours  Original Days Old  Original Weeks Old  \\\n",
       "3          2.933333                  0                   0   \n",
       "19         2.500000                  3                   0   \n",
       "52         2.900000                  9                   1   \n",
       "64         2.716667                 11                   1   \n",
       "99         2.600000                 17                   2   \n",
       "..              ...                ...                 ...   \n",
       "937       11.816667                175                  25   \n",
       "941       11.966667                176                  25   \n",
       "945        2.966667                177                  25   \n",
       "949       11.983333                178                  25   \n",
       "953       11.916667                179                  25   \n",
       "\n",
       "     Original Months Old  \n",
       "3                      0  \n",
       "19                     0  \n",
       "52                     0  \n",
       "64                     0  \n",
       "99                     0  \n",
       "..                   ...  \n",
       "937                    5  \n",
       "941                    5  \n",
       "945                    5  \n",
       "949                    5  \n",
       "953                    5  \n",
       "\n",
       "[118 rows x 17 columns]"
      ]
     },
     "execution_count": 16,
     "metadata": {},
     "output_type": "execute_result"
    }
   ],
   "source": [
    "# Calculating the daytime component (which will begin at Night End Time\n",
    "# and then continue until the original end time(:\n",
    "df_night_to_day_daytime = df_sleep_data.query(\n",
    "    \"`Start Period` == 'Nighttime' & `End Period` == 'Daytime'\").copy()\n",
    "df_night_to_day_daytime['Start Period'] = 'Daytime'\n",
    "df_night_to_day_daytime['Sleep Start'] = \\\n",
    "df_night_to_day_daytime['Night End Time']\n",
    "df_night_to_day_daytime['Start Hour'] = \\\n",
    "df_night_to_day_daytime['Sleep Start'].dt.hour\n",
    "df_night_to_day_daytime['Start Date'] = \\\n",
    "df_night_to_day_daytime['Night End Date']\n",
    "# Advancing various date-related values by one day:\n",
    "for column in [\n",
    "    'Night Start Date', 'Night End Date', \n",
    "    'Night Start Time', 'Night End Time']:\n",
    "    df_night_to_day_daytime[column] += pd.to_timedelta(1, unit = 'days')\n",
    "df_night_to_day_daytime['Hours'] = (\n",
    "    df_night_to_day_daytime['Sleep End'] - \n",
    "    df_night_to_day_daytime['Sleep Start']).dt.total_seconds() / 3600\n",
    "\n",
    "\n",
    "df_night_to_day_daytime\n"
   ]
  },
  {
   "cell_type": "markdown",
   "metadata": {},
   "source": [
    "Adding these new rows back to a copy of the original dataset that excludes all night-to-day values:"
   ]
  },
  {
   "cell_type": "code",
   "execution_count": 17,
   "metadata": {
    "execution": {
     "iopub.execute_input": "2024-05-14T17:17:19.684405Z",
     "iopub.status.busy": "2024-05-14T17:17:19.684405Z",
     "iopub.status.idle": "2024-05-14T17:17:19.704355Z",
     "shell.execute_reply": "2024-05-14T17:17:19.704355Z",
     "shell.execute_reply.started": "2024-05-14T17:17:19.684405Z"
    }
   },
   "outputs": [
    {
     "data": {
      "text/html": [
       "<div>\n",
       "<style scoped>\n",
       "    .dataframe tbody tr th:only-of-type {\n",
       "        vertical-align: middle;\n",
       "    }\n",
       "\n",
       "    .dataframe tbody tr th {\n",
       "        vertical-align: top;\n",
       "    }\n",
       "\n",
       "    .dataframe thead th {\n",
       "        text-align: right;\n",
       "    }\n",
       "</style>\n",
       "<table border=\"1\" class=\"dataframe\">\n",
       "  <thead>\n",
       "    <tr style=\"text-align: right;\">\n",
       "      <th></th>\n",
       "      <th>Sleep Start</th>\n",
       "      <th>Sleep End</th>\n",
       "      <th>Hours</th>\n",
       "      <th>Start Hour</th>\n",
       "      <th>End Hour</th>\n",
       "      <th>Start Date</th>\n",
       "      <th>End Date</th>\n",
       "      <th>Night Start Date</th>\n",
       "      <th>Night End Date</th>\n",
       "      <th>Night Start Time</th>\n",
       "      <th>Night End Time</th>\n",
       "      <th>Start Period</th>\n",
       "      <th>End Period</th>\n",
       "      <th>Original Hours</th>\n",
       "      <th>Original Days Old</th>\n",
       "      <th>Original Weeks Old</th>\n",
       "      <th>Original Months Old</th>\n",
       "    </tr>\n",
       "  </thead>\n",
       "  <tbody>\n",
       "    <tr>\n",
       "      <th>0</th>\n",
       "      <td>2024-01-15 16:31:00</td>\n",
       "      <td>2024-01-15 17:43:00</td>\n",
       "      <td>1.200000</td>\n",
       "      <td>16</td>\n",
       "      <td>17</td>\n",
       "      <td>2024-01-15</td>\n",
       "      <td>2024-01-15</td>\n",
       "      <td>2024-01-15</td>\n",
       "      <td>2024-01-16</td>\n",
       "      <td>2024-01-15 19:00:00</td>\n",
       "      <td>2024-01-16 07:00:00</td>\n",
       "      <td>Daytime</td>\n",
       "      <td>Daytime</td>\n",
       "      <td>1.200000</td>\n",
       "      <td>0</td>\n",
       "      <td>0</td>\n",
       "      <td>0</td>\n",
       "    </tr>\n",
       "    <tr>\n",
       "      <th>1</th>\n",
       "      <td>2024-01-15 18:46:00</td>\n",
       "      <td>2024-01-15 21:01:00</td>\n",
       "      <td>2.250000</td>\n",
       "      <td>18</td>\n",
       "      <td>21</td>\n",
       "      <td>2024-01-15</td>\n",
       "      <td>2024-01-15</td>\n",
       "      <td>2024-01-15</td>\n",
       "      <td>2024-01-16</td>\n",
       "      <td>2024-01-15 19:00:00</td>\n",
       "      <td>2024-01-16 07:00:00</td>\n",
       "      <td>Daytime</td>\n",
       "      <td>Nighttime</td>\n",
       "      <td>2.250000</td>\n",
       "      <td>0</td>\n",
       "      <td>0</td>\n",
       "      <td>0</td>\n",
       "    </tr>\n",
       "    <tr>\n",
       "      <th>2</th>\n",
       "      <td>2024-01-16 01:00:00</td>\n",
       "      <td>2024-01-16 01:49:00</td>\n",
       "      <td>0.816667</td>\n",
       "      <td>1</td>\n",
       "      <td>1</td>\n",
       "      <td>2024-01-16</td>\n",
       "      <td>2024-01-16</td>\n",
       "      <td>2024-01-15</td>\n",
       "      <td>2024-01-16</td>\n",
       "      <td>2024-01-15 19:00:00</td>\n",
       "      <td>2024-01-16 07:00:00</td>\n",
       "      <td>Nighttime</td>\n",
       "      <td>Nighttime</td>\n",
       "      <td>0.816667</td>\n",
       "      <td>0</td>\n",
       "      <td>0</td>\n",
       "      <td>0</td>\n",
       "    </tr>\n",
       "    <tr>\n",
       "      <th>3</th>\n",
       "      <td>2024-01-16 05:48:00</td>\n",
       "      <td>2024-01-16 07:00:00</td>\n",
       "      <td>1.200000</td>\n",
       "      <td>5</td>\n",
       "      <td>7</td>\n",
       "      <td>2024-01-16</td>\n",
       "      <td>2024-01-16</td>\n",
       "      <td>2024-01-15</td>\n",
       "      <td>2024-01-16</td>\n",
       "      <td>2024-01-15 19:00:00</td>\n",
       "      <td>2024-01-16 07:00:00</td>\n",
       "      <td>Nighttime</td>\n",
       "      <td>Daytime</td>\n",
       "      <td>2.933333</td>\n",
       "      <td>0</td>\n",
       "      <td>0</td>\n",
       "      <td>0</td>\n",
       "    </tr>\n",
       "    <tr>\n",
       "      <th>4</th>\n",
       "      <td>2024-01-16 07:00:00</td>\n",
       "      <td>2024-01-16 08:44:00</td>\n",
       "      <td>1.733333</td>\n",
       "      <td>7</td>\n",
       "      <td>8</td>\n",
       "      <td>2024-01-16</td>\n",
       "      <td>2024-01-16</td>\n",
       "      <td>2024-01-16</td>\n",
       "      <td>2024-01-17</td>\n",
       "      <td>2024-01-16 19:00:00</td>\n",
       "      <td>2024-01-17 07:00:00</td>\n",
       "      <td>Daytime</td>\n",
       "      <td>Daytime</td>\n",
       "      <td>2.933333</td>\n",
       "      <td>0</td>\n",
       "      <td>0</td>\n",
       "      <td>0</td>\n",
       "    </tr>\n",
       "    <tr>\n",
       "      <th>...</th>\n",
       "      <td>...</td>\n",
       "      <td>...</td>\n",
       "      <td>...</td>\n",
       "      <td>...</td>\n",
       "      <td>...</td>\n",
       "      <td>...</td>\n",
       "      <td>...</td>\n",
       "      <td>...</td>\n",
       "      <td>...</td>\n",
       "      <td>...</td>\n",
       "      <td>...</td>\n",
       "      <td>...</td>\n",
       "      <td>...</td>\n",
       "      <td>...</td>\n",
       "      <td>...</td>\n",
       "      <td>...</td>\n",
       "      <td>...</td>\n",
       "    </tr>\n",
       "    <tr>\n",
       "      <th>1074</th>\n",
       "      <td>2024-07-13 19:09:00</td>\n",
       "      <td>2024-07-14 01:52:00</td>\n",
       "      <td>6.716667</td>\n",
       "      <td>19</td>\n",
       "      <td>1</td>\n",
       "      <td>2024-07-13</td>\n",
       "      <td>2024-07-14</td>\n",
       "      <td>2024-07-13</td>\n",
       "      <td>2024-07-14</td>\n",
       "      <td>2024-07-13 19:00:00</td>\n",
       "      <td>2024-07-14 07:00:00</td>\n",
       "      <td>Nighttime</td>\n",
       "      <td>Nighttime</td>\n",
       "      <td>6.716667</td>\n",
       "      <td>180</td>\n",
       "      <td>25</td>\n",
       "      <td>6</td>\n",
       "    </tr>\n",
       "    <tr>\n",
       "      <th>1075</th>\n",
       "      <td>2024-07-14 04:18:00</td>\n",
       "      <td>2024-07-14 06:42:00</td>\n",
       "      <td>2.400000</td>\n",
       "      <td>4</td>\n",
       "      <td>6</td>\n",
       "      <td>2024-07-14</td>\n",
       "      <td>2024-07-14</td>\n",
       "      <td>2024-07-13</td>\n",
       "      <td>2024-07-14</td>\n",
       "      <td>2024-07-13 19:00:00</td>\n",
       "      <td>2024-07-14 07:00:00</td>\n",
       "      <td>Nighttime</td>\n",
       "      <td>Nighttime</td>\n",
       "      <td>2.400000</td>\n",
       "      <td>180</td>\n",
       "      <td>25</td>\n",
       "      <td>6</td>\n",
       "    </tr>\n",
       "    <tr>\n",
       "      <th>1076</th>\n",
       "      <td>2024-07-14 08:38:00</td>\n",
       "      <td>2024-07-14 10:55:00</td>\n",
       "      <td>2.283333</td>\n",
       "      <td>8</td>\n",
       "      <td>10</td>\n",
       "      <td>2024-07-14</td>\n",
       "      <td>2024-07-14</td>\n",
       "      <td>2024-07-14</td>\n",
       "      <td>2024-07-15</td>\n",
       "      <td>2024-07-14 19:00:00</td>\n",
       "      <td>2024-07-15 07:00:00</td>\n",
       "      <td>Daytime</td>\n",
       "      <td>Daytime</td>\n",
       "      <td>2.283333</td>\n",
       "      <td>181</td>\n",
       "      <td>25</td>\n",
       "      <td>6</td>\n",
       "    </tr>\n",
       "    <tr>\n",
       "      <th>1077</th>\n",
       "      <td>2024-07-14 13:13:00</td>\n",
       "      <td>2024-07-14 15:27:00</td>\n",
       "      <td>2.233333</td>\n",
       "      <td>13</td>\n",
       "      <td>15</td>\n",
       "      <td>2024-07-14</td>\n",
       "      <td>2024-07-14</td>\n",
       "      <td>2024-07-14</td>\n",
       "      <td>2024-07-15</td>\n",
       "      <td>2024-07-14 19:00:00</td>\n",
       "      <td>2024-07-15 07:00:00</td>\n",
       "      <td>Daytime</td>\n",
       "      <td>Daytime</td>\n",
       "      <td>2.233333</td>\n",
       "      <td>181</td>\n",
       "      <td>25</td>\n",
       "      <td>6</td>\n",
       "    </tr>\n",
       "    <tr>\n",
       "      <th>1078</th>\n",
       "      <td>2024-07-14 17:52:00</td>\n",
       "      <td>2024-07-14 19:54:00</td>\n",
       "      <td>2.033333</td>\n",
       "      <td>17</td>\n",
       "      <td>19</td>\n",
       "      <td>2024-07-14</td>\n",
       "      <td>2024-07-14</td>\n",
       "      <td>2024-07-14</td>\n",
       "      <td>2024-07-15</td>\n",
       "      <td>2024-07-14 19:00:00</td>\n",
       "      <td>2024-07-15 07:00:00</td>\n",
       "      <td>Daytime</td>\n",
       "      <td>Nighttime</td>\n",
       "      <td>2.033333</td>\n",
       "      <td>181</td>\n",
       "      <td>25</td>\n",
       "      <td>6</td>\n",
       "    </tr>\n",
       "  </tbody>\n",
       "</table>\n",
       "<p>1079 rows × 17 columns</p>\n",
       "</div>"
      ],
      "text/plain": [
       "             Sleep Start           Sleep End     Hours  Start Hour  End Hour  \\\n",
       "0    2024-01-15 16:31:00 2024-01-15 17:43:00  1.200000          16        17   \n",
       "1    2024-01-15 18:46:00 2024-01-15 21:01:00  2.250000          18        21   \n",
       "2    2024-01-16 01:00:00 2024-01-16 01:49:00  0.816667           1         1   \n",
       "3    2024-01-16 05:48:00 2024-01-16 07:00:00  1.200000           5         7   \n",
       "4    2024-01-16 07:00:00 2024-01-16 08:44:00  1.733333           7         8   \n",
       "...                  ...                 ...       ...         ...       ...   \n",
       "1074 2024-07-13 19:09:00 2024-07-14 01:52:00  6.716667          19         1   \n",
       "1075 2024-07-14 04:18:00 2024-07-14 06:42:00  2.400000           4         6   \n",
       "1076 2024-07-14 08:38:00 2024-07-14 10:55:00  2.283333           8        10   \n",
       "1077 2024-07-14 13:13:00 2024-07-14 15:27:00  2.233333          13        15   \n",
       "1078 2024-07-14 17:52:00 2024-07-14 19:54:00  2.033333          17        19   \n",
       "\n",
       "      Start Date    End Date Night Start Date Night End Date  \\\n",
       "0     2024-01-15  2024-01-15       2024-01-15     2024-01-16   \n",
       "1     2024-01-15  2024-01-15       2024-01-15     2024-01-16   \n",
       "2     2024-01-16  2024-01-16       2024-01-15     2024-01-16   \n",
       "3     2024-01-16  2024-01-16       2024-01-15     2024-01-16   \n",
       "4     2024-01-16  2024-01-16       2024-01-16     2024-01-17   \n",
       "...          ...         ...              ...            ...   \n",
       "1074  2024-07-13  2024-07-14       2024-07-13     2024-07-14   \n",
       "1075  2024-07-14  2024-07-14       2024-07-13     2024-07-14   \n",
       "1076  2024-07-14  2024-07-14       2024-07-14     2024-07-15   \n",
       "1077  2024-07-14  2024-07-14       2024-07-14     2024-07-15   \n",
       "1078  2024-07-14  2024-07-14       2024-07-14     2024-07-15   \n",
       "\n",
       "        Night Start Time      Night End Time Start Period End Period  \\\n",
       "0    2024-01-15 19:00:00 2024-01-16 07:00:00      Daytime    Daytime   \n",
       "1    2024-01-15 19:00:00 2024-01-16 07:00:00      Daytime  Nighttime   \n",
       "2    2024-01-15 19:00:00 2024-01-16 07:00:00    Nighttime  Nighttime   \n",
       "3    2024-01-15 19:00:00 2024-01-16 07:00:00    Nighttime    Daytime   \n",
       "4    2024-01-16 19:00:00 2024-01-17 07:00:00      Daytime    Daytime   \n",
       "...                  ...                 ...          ...        ...   \n",
       "1074 2024-07-13 19:00:00 2024-07-14 07:00:00    Nighttime  Nighttime   \n",
       "1075 2024-07-13 19:00:00 2024-07-14 07:00:00    Nighttime  Nighttime   \n",
       "1076 2024-07-14 19:00:00 2024-07-15 07:00:00      Daytime    Daytime   \n",
       "1077 2024-07-14 19:00:00 2024-07-15 07:00:00      Daytime    Daytime   \n",
       "1078 2024-07-14 19:00:00 2024-07-15 07:00:00      Daytime  Nighttime   \n",
       "\n",
       "      Original Hours  Original Days Old  Original Weeks Old  \\\n",
       "0           1.200000                  0                   0   \n",
       "1           2.250000                  0                   0   \n",
       "2           0.816667                  0                   0   \n",
       "3           2.933333                  0                   0   \n",
       "4           2.933333                  0                   0   \n",
       "...              ...                ...                 ...   \n",
       "1074        6.716667                180                  25   \n",
       "1075        2.400000                180                  25   \n",
       "1076        2.283333                181                  25   \n",
       "1077        2.233333                181                  25   \n",
       "1078        2.033333                181                  25   \n",
       "\n",
       "      Original Months Old  \n",
       "0                       0  \n",
       "1                       0  \n",
       "2                       0  \n",
       "3                       0  \n",
       "4                       0  \n",
       "...                   ...  \n",
       "1074                    6  \n",
       "1075                    6  \n",
       "1076                    6  \n",
       "1077                    6  \n",
       "1078                    6  \n",
       "\n",
       "[1079 rows x 17 columns]"
      ]
     },
     "execution_count": 17,
     "metadata": {},
     "output_type": "execute_result"
    }
   ],
   "source": [
    "df_sleep_data = pd.concat(\n",
    "    [df_sleep_data.query(\"~(`Start Period` == 'Nighttime' \\\n",
    "& `End Period` == 'Daytime')\").copy(), \n",
    "     df_night_to_day_nighttime, \n",
    "     df_night_to_day_daytime]).sort_values('Sleep Start')\n",
    "# If a sleep period ended right at Night End Time, the above script would have \n",
    "# split its row into a nighttime component and a 0-minute daytime \n",
    "# component for the next day. The following line addresses this issue by \n",
    "# removing any rows with an Hours value of 0.\n",
    "df_sleep_data = df_sleep_data.query(\"Hours != 0\").copy(\n",
    ").reset_index(drop=True)\n",
    "\n",
    "df_sleep_data"
   ]
  },
  {
   "cell_type": "markdown",
   "metadata": {
    "execution": {
     "iopub.execute_input": "2024-05-14T00:32:36.078977Z",
     "iopub.status.busy": "2024-05-14T00:32:36.077980Z",
     "iopub.status.idle": "2024-05-14T00:32:36.081611Z",
     "shell.execute_reply": "2024-05-14T00:32:36.081611Z",
     "shell.execute_reply.started": "2024-05-14T00:32:36.078977Z"
    }
   },
   "source": [
    "Now that we've finished creating extra rows of data, we can filter the dataset to exclude any rows that fall beyond the specified maximum Night Start Date."
   ]
  },
  {
   "cell_type": "code",
   "execution_count": 18,
   "metadata": {
    "execution": {
     "iopub.execute_input": "2024-05-14T17:17:19.705361Z",
     "iopub.status.busy": "2024-05-14T17:17:19.705361Z",
     "iopub.status.idle": "2024-05-14T17:17:19.721067Z",
     "shell.execute_reply": "2024-05-14T17:17:19.721067Z",
     "shell.execute_reply.started": "2024-05-14T17:17:19.705361Z"
    }
   },
   "outputs": [
    {
     "data": {
      "text/html": [
       "<div>\n",
       "<style scoped>\n",
       "    .dataframe tbody tr th:only-of-type {\n",
       "        vertical-align: middle;\n",
       "    }\n",
       "\n",
       "    .dataframe tbody tr th {\n",
       "        vertical-align: top;\n",
       "    }\n",
       "\n",
       "    .dataframe thead th {\n",
       "        text-align: right;\n",
       "    }\n",
       "</style>\n",
       "<table border=\"1\" class=\"dataframe\">\n",
       "  <thead>\n",
       "    <tr style=\"text-align: right;\">\n",
       "      <th></th>\n",
       "      <th>Sleep Start</th>\n",
       "      <th>Sleep End</th>\n",
       "      <th>Hours</th>\n",
       "      <th>Start Hour</th>\n",
       "      <th>End Hour</th>\n",
       "      <th>Start Date</th>\n",
       "      <th>End Date</th>\n",
       "      <th>Night Start Date</th>\n",
       "      <th>Night End Date</th>\n",
       "      <th>Night Start Time</th>\n",
       "      <th>Night End Time</th>\n",
       "      <th>Start Period</th>\n",
       "      <th>End Period</th>\n",
       "      <th>Original Hours</th>\n",
       "      <th>Original Days Old</th>\n",
       "      <th>Original Weeks Old</th>\n",
       "      <th>Original Months Old</th>\n",
       "    </tr>\n",
       "  </thead>\n",
       "  <tbody>\n",
       "    <tr>\n",
       "      <th>1066</th>\n",
       "      <td>2024-07-12 07:00:00</td>\n",
       "      <td>2024-07-12 08:51:00</td>\n",
       "      <td>1.850000</td>\n",
       "      <td>7</td>\n",
       "      <td>8</td>\n",
       "      <td>2024-07-12</td>\n",
       "      <td>2024-07-12</td>\n",
       "      <td>2024-07-12</td>\n",
       "      <td>2024-07-13</td>\n",
       "      <td>2024-07-12 19:00:00</td>\n",
       "      <td>2024-07-13 07:00:00</td>\n",
       "      <td>Daytime</td>\n",
       "      <td>Daytime</td>\n",
       "      <td>11.983333</td>\n",
       "      <td>178</td>\n",
       "      <td>25</td>\n",
       "      <td>5</td>\n",
       "    </tr>\n",
       "    <tr>\n",
       "      <th>1067</th>\n",
       "      <td>2024-07-12 10:21:00</td>\n",
       "      <td>2024-07-12 12:31:00</td>\n",
       "      <td>2.166667</td>\n",
       "      <td>10</td>\n",
       "      <td>12</td>\n",
       "      <td>2024-07-12</td>\n",
       "      <td>2024-07-12</td>\n",
       "      <td>2024-07-12</td>\n",
       "      <td>2024-07-13</td>\n",
       "      <td>2024-07-12 19:00:00</td>\n",
       "      <td>2024-07-13 07:00:00</td>\n",
       "      <td>Daytime</td>\n",
       "      <td>Daytime</td>\n",
       "      <td>2.166667</td>\n",
       "      <td>179</td>\n",
       "      <td>25</td>\n",
       "      <td>5</td>\n",
       "    </tr>\n",
       "    <tr>\n",
       "      <th>1068</th>\n",
       "      <td>2024-07-12 14:22:00</td>\n",
       "      <td>2024-07-12 16:13:00</td>\n",
       "      <td>1.850000</td>\n",
       "      <td>14</td>\n",
       "      <td>16</td>\n",
       "      <td>2024-07-12</td>\n",
       "      <td>2024-07-12</td>\n",
       "      <td>2024-07-12</td>\n",
       "      <td>2024-07-13</td>\n",
       "      <td>2024-07-12 19:00:00</td>\n",
       "      <td>2024-07-13 07:00:00</td>\n",
       "      <td>Daytime</td>\n",
       "      <td>Daytime</td>\n",
       "      <td>1.850000</td>\n",
       "      <td>179</td>\n",
       "      <td>25</td>\n",
       "      <td>5</td>\n",
       "    </tr>\n",
       "    <tr>\n",
       "      <th>1069</th>\n",
       "      <td>2024-07-12 17:52:00</td>\n",
       "      <td>2024-07-12 19:31:00</td>\n",
       "      <td>1.650000</td>\n",
       "      <td>17</td>\n",
       "      <td>19</td>\n",
       "      <td>2024-07-12</td>\n",
       "      <td>2024-07-12</td>\n",
       "      <td>2024-07-12</td>\n",
       "      <td>2024-07-13</td>\n",
       "      <td>2024-07-12 19:00:00</td>\n",
       "      <td>2024-07-13 07:00:00</td>\n",
       "      <td>Daytime</td>\n",
       "      <td>Nighttime</td>\n",
       "      <td>1.650000</td>\n",
       "      <td>179</td>\n",
       "      <td>25</td>\n",
       "      <td>5</td>\n",
       "    </tr>\n",
       "    <tr>\n",
       "      <th>1070</th>\n",
       "      <td>2024-07-12 21:26:00</td>\n",
       "      <td>2024-07-13 07:00:00</td>\n",
       "      <td>9.566667</td>\n",
       "      <td>21</td>\n",
       "      <td>7</td>\n",
       "      <td>2024-07-12</td>\n",
       "      <td>2024-07-13</td>\n",
       "      <td>2024-07-12</td>\n",
       "      <td>2024-07-13</td>\n",
       "      <td>2024-07-12 19:00:00</td>\n",
       "      <td>2024-07-13 07:00:00</td>\n",
       "      <td>Nighttime</td>\n",
       "      <td>Daytime</td>\n",
       "      <td>11.916667</td>\n",
       "      <td>179</td>\n",
       "      <td>25</td>\n",
       "      <td>5</td>\n",
       "    </tr>\n",
       "    <tr>\n",
       "      <th>1071</th>\n",
       "      <td>2024-07-13 07:00:00</td>\n",
       "      <td>2024-07-13 09:21:00</td>\n",
       "      <td>2.350000</td>\n",
       "      <td>7</td>\n",
       "      <td>9</td>\n",
       "      <td>2024-07-13</td>\n",
       "      <td>2024-07-13</td>\n",
       "      <td>2024-07-13</td>\n",
       "      <td>2024-07-14</td>\n",
       "      <td>2024-07-13 19:00:00</td>\n",
       "      <td>2024-07-14 07:00:00</td>\n",
       "      <td>Daytime</td>\n",
       "      <td>Daytime</td>\n",
       "      <td>11.916667</td>\n",
       "      <td>179</td>\n",
       "      <td>25</td>\n",
       "      <td>5</td>\n",
       "    </tr>\n",
       "    <tr>\n",
       "      <th>1072</th>\n",
       "      <td>2024-07-13 11:23:00</td>\n",
       "      <td>2024-07-13 13:44:00</td>\n",
       "      <td>2.350000</td>\n",
       "      <td>11</td>\n",
       "      <td>13</td>\n",
       "      <td>2024-07-13</td>\n",
       "      <td>2024-07-13</td>\n",
       "      <td>2024-07-13</td>\n",
       "      <td>2024-07-14</td>\n",
       "      <td>2024-07-13 19:00:00</td>\n",
       "      <td>2024-07-14 07:00:00</td>\n",
       "      <td>Daytime</td>\n",
       "      <td>Daytime</td>\n",
       "      <td>2.350000</td>\n",
       "      <td>180</td>\n",
       "      <td>25</td>\n",
       "      <td>6</td>\n",
       "    </tr>\n",
       "    <tr>\n",
       "      <th>1073</th>\n",
       "      <td>2024-07-13 16:10:00</td>\n",
       "      <td>2024-07-13 18:12:00</td>\n",
       "      <td>2.033333</td>\n",
       "      <td>16</td>\n",
       "      <td>18</td>\n",
       "      <td>2024-07-13</td>\n",
       "      <td>2024-07-13</td>\n",
       "      <td>2024-07-13</td>\n",
       "      <td>2024-07-14</td>\n",
       "      <td>2024-07-13 19:00:00</td>\n",
       "      <td>2024-07-14 07:00:00</td>\n",
       "      <td>Daytime</td>\n",
       "      <td>Daytime</td>\n",
       "      <td>2.033333</td>\n",
       "      <td>180</td>\n",
       "      <td>25</td>\n",
       "      <td>6</td>\n",
       "    </tr>\n",
       "    <tr>\n",
       "      <th>1074</th>\n",
       "      <td>2024-07-13 19:09:00</td>\n",
       "      <td>2024-07-14 01:52:00</td>\n",
       "      <td>6.716667</td>\n",
       "      <td>19</td>\n",
       "      <td>1</td>\n",
       "      <td>2024-07-13</td>\n",
       "      <td>2024-07-14</td>\n",
       "      <td>2024-07-13</td>\n",
       "      <td>2024-07-14</td>\n",
       "      <td>2024-07-13 19:00:00</td>\n",
       "      <td>2024-07-14 07:00:00</td>\n",
       "      <td>Nighttime</td>\n",
       "      <td>Nighttime</td>\n",
       "      <td>6.716667</td>\n",
       "      <td>180</td>\n",
       "      <td>25</td>\n",
       "      <td>6</td>\n",
       "    </tr>\n",
       "    <tr>\n",
       "      <th>1075</th>\n",
       "      <td>2024-07-14 04:18:00</td>\n",
       "      <td>2024-07-14 06:42:00</td>\n",
       "      <td>2.400000</td>\n",
       "      <td>4</td>\n",
       "      <td>6</td>\n",
       "      <td>2024-07-14</td>\n",
       "      <td>2024-07-14</td>\n",
       "      <td>2024-07-13</td>\n",
       "      <td>2024-07-14</td>\n",
       "      <td>2024-07-13 19:00:00</td>\n",
       "      <td>2024-07-14 07:00:00</td>\n",
       "      <td>Nighttime</td>\n",
       "      <td>Nighttime</td>\n",
       "      <td>2.400000</td>\n",
       "      <td>180</td>\n",
       "      <td>25</td>\n",
       "      <td>6</td>\n",
       "    </tr>\n",
       "  </tbody>\n",
       "</table>\n",
       "</div>"
      ],
      "text/plain": [
       "             Sleep Start           Sleep End     Hours  Start Hour  End Hour  \\\n",
       "1066 2024-07-12 07:00:00 2024-07-12 08:51:00  1.850000           7         8   \n",
       "1067 2024-07-12 10:21:00 2024-07-12 12:31:00  2.166667          10        12   \n",
       "1068 2024-07-12 14:22:00 2024-07-12 16:13:00  1.850000          14        16   \n",
       "1069 2024-07-12 17:52:00 2024-07-12 19:31:00  1.650000          17        19   \n",
       "1070 2024-07-12 21:26:00 2024-07-13 07:00:00  9.566667          21         7   \n",
       "1071 2024-07-13 07:00:00 2024-07-13 09:21:00  2.350000           7         9   \n",
       "1072 2024-07-13 11:23:00 2024-07-13 13:44:00  2.350000          11        13   \n",
       "1073 2024-07-13 16:10:00 2024-07-13 18:12:00  2.033333          16        18   \n",
       "1074 2024-07-13 19:09:00 2024-07-14 01:52:00  6.716667          19         1   \n",
       "1075 2024-07-14 04:18:00 2024-07-14 06:42:00  2.400000           4         6   \n",
       "\n",
       "      Start Date    End Date Night Start Date Night End Date  \\\n",
       "1066  2024-07-12  2024-07-12       2024-07-12     2024-07-13   \n",
       "1067  2024-07-12  2024-07-12       2024-07-12     2024-07-13   \n",
       "1068  2024-07-12  2024-07-12       2024-07-12     2024-07-13   \n",
       "1069  2024-07-12  2024-07-12       2024-07-12     2024-07-13   \n",
       "1070  2024-07-12  2024-07-13       2024-07-12     2024-07-13   \n",
       "1071  2024-07-13  2024-07-13       2024-07-13     2024-07-14   \n",
       "1072  2024-07-13  2024-07-13       2024-07-13     2024-07-14   \n",
       "1073  2024-07-13  2024-07-13       2024-07-13     2024-07-14   \n",
       "1074  2024-07-13  2024-07-14       2024-07-13     2024-07-14   \n",
       "1075  2024-07-14  2024-07-14       2024-07-13     2024-07-14   \n",
       "\n",
       "        Night Start Time      Night End Time Start Period End Period  \\\n",
       "1066 2024-07-12 19:00:00 2024-07-13 07:00:00      Daytime    Daytime   \n",
       "1067 2024-07-12 19:00:00 2024-07-13 07:00:00      Daytime    Daytime   \n",
       "1068 2024-07-12 19:00:00 2024-07-13 07:00:00      Daytime    Daytime   \n",
       "1069 2024-07-12 19:00:00 2024-07-13 07:00:00      Daytime  Nighttime   \n",
       "1070 2024-07-12 19:00:00 2024-07-13 07:00:00    Nighttime    Daytime   \n",
       "1071 2024-07-13 19:00:00 2024-07-14 07:00:00      Daytime    Daytime   \n",
       "1072 2024-07-13 19:00:00 2024-07-14 07:00:00      Daytime    Daytime   \n",
       "1073 2024-07-13 19:00:00 2024-07-14 07:00:00      Daytime    Daytime   \n",
       "1074 2024-07-13 19:00:00 2024-07-14 07:00:00    Nighttime  Nighttime   \n",
       "1075 2024-07-13 19:00:00 2024-07-14 07:00:00    Nighttime  Nighttime   \n",
       "\n",
       "      Original Hours  Original Days Old  Original Weeks Old  \\\n",
       "1066       11.983333                178                  25   \n",
       "1067        2.166667                179                  25   \n",
       "1068        1.850000                179                  25   \n",
       "1069        1.650000                179                  25   \n",
       "1070       11.916667                179                  25   \n",
       "1071       11.916667                179                  25   \n",
       "1072        2.350000                180                  25   \n",
       "1073        2.033333                180                  25   \n",
       "1074        6.716667                180                  25   \n",
       "1075        2.400000                180                  25   \n",
       "\n",
       "      Original Months Old  \n",
       "1066                    5  \n",
       "1067                    5  \n",
       "1068                    5  \n",
       "1069                    5  \n",
       "1070                    5  \n",
       "1071                    5  \n",
       "1072                    6  \n",
       "1073                    6  \n",
       "1074                    6  \n",
       "1075                    6  "
      ]
     },
     "execution_count": 18,
     "metadata": {},
     "output_type": "execute_result"
    }
   ],
   "source": [
    "if max_night_start_date_limit == True:\n",
    "    df_sleep_data.query(\n",
    "        \"`Night Start Date` <= @max_night_start_date\", \n",
    "        inplace = True)\n",
    "\n",
    "df_sleep_data.tail(10)"
   ]
  },
  {
   "cell_type": "markdown",
   "metadata": {},
   "source": [
    "### Adding age information to the dataset:"
   ]
  },
  {
   "cell_type": "code",
   "execution_count": 19,
   "metadata": {
    "execution": {
     "iopub.execute_input": "2024-05-14T17:17:19.722076Z",
     "iopub.status.busy": "2024-05-14T17:17:19.722076Z",
     "iopub.status.idle": "2024-05-14T17:17:19.728241Z",
     "shell.execute_reply": "2024-05-14T17:17:19.728241Z",
     "shell.execute_reply.started": "2024-05-14T17:17:19.722076Z"
    }
   },
   "outputs": [],
   "source": [
    "# Note that the Days Old, Weeks Old, and Months Old columns\n",
    "# are based on Night Start Date rather than the original Start Date column\n",
    "# so that these values will always be the same for a given \n",
    "# Night Start Date value.\n",
    "df_sleep_data['Days Old'] = (pd.to_datetime(\n",
    "    df_sleep_data['Night Start Date']) - dob).dt.days\n",
    "df_sleep_data['Weeks Old'] = (\n",
    "    df_sleep_data['Days Old'] / 7).astype('int')\n",
    "df_sleep_data['Months Old'] = (\n",
    "    df_sleep_data['Days Old'] / 30).astype('int')\n"
   ]
  },
  {
   "cell_type": "markdown",
   "metadata": {},
   "source": [
    "### Determining the number of daytime and nighttime hours represented by each entry\n",
    "\n",
    "Depending on when a sleep period began and ended, it might have only daytime hours, only nighttime hours, or a mix of both. We can calculate the number of hours belonging to each period using numpy's select() function. We'll calculate daytime and nighttime sleep periods differently for each of the four possible start/end period conditions (e.g. day-to-day, night-to-night, day-to-night, and night-to-day).\n",
    "\n",
    "**Simple calculations**:\n",
    "day-to-day: 0 nighttime hours; daytime hours will equal the Hours column\n",
    "night-to-night: 0 daytime hours; nighttime hours will equal the Hours column\n",
    "\n",
    "(The earlier section of this script that split day-night-day and night-day-night entries into separate rows ensured that these calculations would still be valid for those sleep entries. If we hadn't split those rows, day-night-day and night-day-night entries would be perceived by the code as containing *only* daytime or nighttime sleep, respectively.)\n",
    "\n",
    "**Somewhat more complex calculations**:\n",
    "day-to-night: daytime hours will equal the duration between Sleep Start and Night Start Time; nighttime hours will equal the duration between Night Start Time and Sleep End\n",
    "night-to-day: nighttime hours will equal the duration between Sleep Start and Night End Time; daytime hours will equal the duration between Night End Time and Sleep End"
   ]
  },
  {
   "cell_type": "code",
   "execution_count": 20,
   "metadata": {
    "execution": {
     "iopub.execute_input": "2024-05-14T17:17:19.729250Z",
     "iopub.status.busy": "2024-05-14T17:17:19.729250Z",
     "iopub.status.idle": "2024-05-14T17:17:19.750589Z",
     "shell.execute_reply": "2024-05-14T17:17:19.750589Z",
     "shell.execute_reply.started": "2024-05-14T17:17:19.729250Z"
    }
   },
   "outputs": [
    {
     "data": {
      "text/html": [
       "<div>\n",
       "<style scoped>\n",
       "    .dataframe tbody tr th:only-of-type {\n",
       "        vertical-align: middle;\n",
       "    }\n",
       "\n",
       "    .dataframe tbody tr th {\n",
       "        vertical-align: top;\n",
       "    }\n",
       "\n",
       "    .dataframe thead th {\n",
       "        text-align: right;\n",
       "    }\n",
       "</style>\n",
       "<table border=\"1\" class=\"dataframe\">\n",
       "  <thead>\n",
       "    <tr style=\"text-align: right;\">\n",
       "      <th></th>\n",
       "      <th>Sleep Start</th>\n",
       "      <th>Sleep End</th>\n",
       "      <th>Hours</th>\n",
       "      <th>Start Hour</th>\n",
       "      <th>End Hour</th>\n",
       "      <th>Start Date</th>\n",
       "      <th>End Date</th>\n",
       "      <th>Night Start Date</th>\n",
       "      <th>Night End Date</th>\n",
       "      <th>Night Start Time</th>\n",
       "      <th>...</th>\n",
       "      <th>End Period</th>\n",
       "      <th>Original Hours</th>\n",
       "      <th>Original Days Old</th>\n",
       "      <th>Original Weeks Old</th>\n",
       "      <th>Original Months Old</th>\n",
       "      <th>Days Old</th>\n",
       "      <th>Weeks Old</th>\n",
       "      <th>Months Old</th>\n",
       "      <th>Day Sleep Hours</th>\n",
       "      <th>Night Sleep Hours</th>\n",
       "    </tr>\n",
       "  </thead>\n",
       "  <tbody>\n",
       "    <tr>\n",
       "      <th>1066</th>\n",
       "      <td>2024-07-12 07:00:00</td>\n",
       "      <td>2024-07-12 08:51:00</td>\n",
       "      <td>1.850000</td>\n",
       "      <td>7</td>\n",
       "      <td>8</td>\n",
       "      <td>2024-07-12</td>\n",
       "      <td>2024-07-12</td>\n",
       "      <td>2024-07-12</td>\n",
       "      <td>2024-07-13</td>\n",
       "      <td>2024-07-12 19:00:00</td>\n",
       "      <td>...</td>\n",
       "      <td>Daytime</td>\n",
       "      <td>11.983333</td>\n",
       "      <td>178</td>\n",
       "      <td>25</td>\n",
       "      <td>5</td>\n",
       "      <td>179</td>\n",
       "      <td>25</td>\n",
       "      <td>5</td>\n",
       "      <td>1.850000</td>\n",
       "      <td>0.000000</td>\n",
       "    </tr>\n",
       "    <tr>\n",
       "      <th>1067</th>\n",
       "      <td>2024-07-12 10:21:00</td>\n",
       "      <td>2024-07-12 12:31:00</td>\n",
       "      <td>2.166667</td>\n",
       "      <td>10</td>\n",
       "      <td>12</td>\n",
       "      <td>2024-07-12</td>\n",
       "      <td>2024-07-12</td>\n",
       "      <td>2024-07-12</td>\n",
       "      <td>2024-07-13</td>\n",
       "      <td>2024-07-12 19:00:00</td>\n",
       "      <td>...</td>\n",
       "      <td>Daytime</td>\n",
       "      <td>2.166667</td>\n",
       "      <td>179</td>\n",
       "      <td>25</td>\n",
       "      <td>5</td>\n",
       "      <td>179</td>\n",
       "      <td>25</td>\n",
       "      <td>5</td>\n",
       "      <td>2.166667</td>\n",
       "      <td>0.000000</td>\n",
       "    </tr>\n",
       "    <tr>\n",
       "      <th>1068</th>\n",
       "      <td>2024-07-12 14:22:00</td>\n",
       "      <td>2024-07-12 16:13:00</td>\n",
       "      <td>1.850000</td>\n",
       "      <td>14</td>\n",
       "      <td>16</td>\n",
       "      <td>2024-07-12</td>\n",
       "      <td>2024-07-12</td>\n",
       "      <td>2024-07-12</td>\n",
       "      <td>2024-07-13</td>\n",
       "      <td>2024-07-12 19:00:00</td>\n",
       "      <td>...</td>\n",
       "      <td>Daytime</td>\n",
       "      <td>1.850000</td>\n",
       "      <td>179</td>\n",
       "      <td>25</td>\n",
       "      <td>5</td>\n",
       "      <td>179</td>\n",
       "      <td>25</td>\n",
       "      <td>5</td>\n",
       "      <td>1.850000</td>\n",
       "      <td>0.000000</td>\n",
       "    </tr>\n",
       "    <tr>\n",
       "      <th>1069</th>\n",
       "      <td>2024-07-12 17:52:00</td>\n",
       "      <td>2024-07-12 19:31:00</td>\n",
       "      <td>1.650000</td>\n",
       "      <td>17</td>\n",
       "      <td>19</td>\n",
       "      <td>2024-07-12</td>\n",
       "      <td>2024-07-12</td>\n",
       "      <td>2024-07-12</td>\n",
       "      <td>2024-07-13</td>\n",
       "      <td>2024-07-12 19:00:00</td>\n",
       "      <td>...</td>\n",
       "      <td>Nighttime</td>\n",
       "      <td>1.650000</td>\n",
       "      <td>179</td>\n",
       "      <td>25</td>\n",
       "      <td>5</td>\n",
       "      <td>179</td>\n",
       "      <td>25</td>\n",
       "      <td>5</td>\n",
       "      <td>1.133333</td>\n",
       "      <td>0.516667</td>\n",
       "    </tr>\n",
       "    <tr>\n",
       "      <th>1070</th>\n",
       "      <td>2024-07-12 21:26:00</td>\n",
       "      <td>2024-07-13 07:00:00</td>\n",
       "      <td>9.566667</td>\n",
       "      <td>21</td>\n",
       "      <td>7</td>\n",
       "      <td>2024-07-12</td>\n",
       "      <td>2024-07-13</td>\n",
       "      <td>2024-07-12</td>\n",
       "      <td>2024-07-13</td>\n",
       "      <td>2024-07-12 19:00:00</td>\n",
       "      <td>...</td>\n",
       "      <td>Daytime</td>\n",
       "      <td>11.916667</td>\n",
       "      <td>179</td>\n",
       "      <td>25</td>\n",
       "      <td>5</td>\n",
       "      <td>179</td>\n",
       "      <td>25</td>\n",
       "      <td>5</td>\n",
       "      <td>0.000000</td>\n",
       "      <td>9.566667</td>\n",
       "    </tr>\n",
       "    <tr>\n",
       "      <th>1071</th>\n",
       "      <td>2024-07-13 07:00:00</td>\n",
       "      <td>2024-07-13 09:21:00</td>\n",
       "      <td>2.350000</td>\n",
       "      <td>7</td>\n",
       "      <td>9</td>\n",
       "      <td>2024-07-13</td>\n",
       "      <td>2024-07-13</td>\n",
       "      <td>2024-07-13</td>\n",
       "      <td>2024-07-14</td>\n",
       "      <td>2024-07-13 19:00:00</td>\n",
       "      <td>...</td>\n",
       "      <td>Daytime</td>\n",
       "      <td>11.916667</td>\n",
       "      <td>179</td>\n",
       "      <td>25</td>\n",
       "      <td>5</td>\n",
       "      <td>180</td>\n",
       "      <td>25</td>\n",
       "      <td>6</td>\n",
       "      <td>2.350000</td>\n",
       "      <td>0.000000</td>\n",
       "    </tr>\n",
       "    <tr>\n",
       "      <th>1072</th>\n",
       "      <td>2024-07-13 11:23:00</td>\n",
       "      <td>2024-07-13 13:44:00</td>\n",
       "      <td>2.350000</td>\n",
       "      <td>11</td>\n",
       "      <td>13</td>\n",
       "      <td>2024-07-13</td>\n",
       "      <td>2024-07-13</td>\n",
       "      <td>2024-07-13</td>\n",
       "      <td>2024-07-14</td>\n",
       "      <td>2024-07-13 19:00:00</td>\n",
       "      <td>...</td>\n",
       "      <td>Daytime</td>\n",
       "      <td>2.350000</td>\n",
       "      <td>180</td>\n",
       "      <td>25</td>\n",
       "      <td>6</td>\n",
       "      <td>180</td>\n",
       "      <td>25</td>\n",
       "      <td>6</td>\n",
       "      <td>2.350000</td>\n",
       "      <td>0.000000</td>\n",
       "    </tr>\n",
       "    <tr>\n",
       "      <th>1073</th>\n",
       "      <td>2024-07-13 16:10:00</td>\n",
       "      <td>2024-07-13 18:12:00</td>\n",
       "      <td>2.033333</td>\n",
       "      <td>16</td>\n",
       "      <td>18</td>\n",
       "      <td>2024-07-13</td>\n",
       "      <td>2024-07-13</td>\n",
       "      <td>2024-07-13</td>\n",
       "      <td>2024-07-14</td>\n",
       "      <td>2024-07-13 19:00:00</td>\n",
       "      <td>...</td>\n",
       "      <td>Daytime</td>\n",
       "      <td>2.033333</td>\n",
       "      <td>180</td>\n",
       "      <td>25</td>\n",
       "      <td>6</td>\n",
       "      <td>180</td>\n",
       "      <td>25</td>\n",
       "      <td>6</td>\n",
       "      <td>2.033333</td>\n",
       "      <td>0.000000</td>\n",
       "    </tr>\n",
       "    <tr>\n",
       "      <th>1074</th>\n",
       "      <td>2024-07-13 19:09:00</td>\n",
       "      <td>2024-07-14 01:52:00</td>\n",
       "      <td>6.716667</td>\n",
       "      <td>19</td>\n",
       "      <td>1</td>\n",
       "      <td>2024-07-13</td>\n",
       "      <td>2024-07-14</td>\n",
       "      <td>2024-07-13</td>\n",
       "      <td>2024-07-14</td>\n",
       "      <td>2024-07-13 19:00:00</td>\n",
       "      <td>...</td>\n",
       "      <td>Nighttime</td>\n",
       "      <td>6.716667</td>\n",
       "      <td>180</td>\n",
       "      <td>25</td>\n",
       "      <td>6</td>\n",
       "      <td>180</td>\n",
       "      <td>25</td>\n",
       "      <td>6</td>\n",
       "      <td>0.000000</td>\n",
       "      <td>6.716667</td>\n",
       "    </tr>\n",
       "    <tr>\n",
       "      <th>1075</th>\n",
       "      <td>2024-07-14 04:18:00</td>\n",
       "      <td>2024-07-14 06:42:00</td>\n",
       "      <td>2.400000</td>\n",
       "      <td>4</td>\n",
       "      <td>6</td>\n",
       "      <td>2024-07-14</td>\n",
       "      <td>2024-07-14</td>\n",
       "      <td>2024-07-13</td>\n",
       "      <td>2024-07-14</td>\n",
       "      <td>2024-07-13 19:00:00</td>\n",
       "      <td>...</td>\n",
       "      <td>Nighttime</td>\n",
       "      <td>2.400000</td>\n",
       "      <td>180</td>\n",
       "      <td>25</td>\n",
       "      <td>6</td>\n",
       "      <td>180</td>\n",
       "      <td>25</td>\n",
       "      <td>6</td>\n",
       "      <td>0.000000</td>\n",
       "      <td>2.400000</td>\n",
       "    </tr>\n",
       "  </tbody>\n",
       "</table>\n",
       "<p>10 rows × 22 columns</p>\n",
       "</div>"
      ],
      "text/plain": [
       "             Sleep Start           Sleep End     Hours  Start Hour  End Hour  \\\n",
       "1066 2024-07-12 07:00:00 2024-07-12 08:51:00  1.850000           7         8   \n",
       "1067 2024-07-12 10:21:00 2024-07-12 12:31:00  2.166667          10        12   \n",
       "1068 2024-07-12 14:22:00 2024-07-12 16:13:00  1.850000          14        16   \n",
       "1069 2024-07-12 17:52:00 2024-07-12 19:31:00  1.650000          17        19   \n",
       "1070 2024-07-12 21:26:00 2024-07-13 07:00:00  9.566667          21         7   \n",
       "1071 2024-07-13 07:00:00 2024-07-13 09:21:00  2.350000           7         9   \n",
       "1072 2024-07-13 11:23:00 2024-07-13 13:44:00  2.350000          11        13   \n",
       "1073 2024-07-13 16:10:00 2024-07-13 18:12:00  2.033333          16        18   \n",
       "1074 2024-07-13 19:09:00 2024-07-14 01:52:00  6.716667          19         1   \n",
       "1075 2024-07-14 04:18:00 2024-07-14 06:42:00  2.400000           4         6   \n",
       "\n",
       "      Start Date    End Date Night Start Date Night End Date  \\\n",
       "1066  2024-07-12  2024-07-12       2024-07-12     2024-07-13   \n",
       "1067  2024-07-12  2024-07-12       2024-07-12     2024-07-13   \n",
       "1068  2024-07-12  2024-07-12       2024-07-12     2024-07-13   \n",
       "1069  2024-07-12  2024-07-12       2024-07-12     2024-07-13   \n",
       "1070  2024-07-12  2024-07-13       2024-07-12     2024-07-13   \n",
       "1071  2024-07-13  2024-07-13       2024-07-13     2024-07-14   \n",
       "1072  2024-07-13  2024-07-13       2024-07-13     2024-07-14   \n",
       "1073  2024-07-13  2024-07-13       2024-07-13     2024-07-14   \n",
       "1074  2024-07-13  2024-07-14       2024-07-13     2024-07-14   \n",
       "1075  2024-07-14  2024-07-14       2024-07-13     2024-07-14   \n",
       "\n",
       "        Night Start Time  ... End Period Original Hours Original Days Old  \\\n",
       "1066 2024-07-12 19:00:00  ...    Daytime      11.983333               178   \n",
       "1067 2024-07-12 19:00:00  ...    Daytime       2.166667               179   \n",
       "1068 2024-07-12 19:00:00  ...    Daytime       1.850000               179   \n",
       "1069 2024-07-12 19:00:00  ...  Nighttime       1.650000               179   \n",
       "1070 2024-07-12 19:00:00  ...    Daytime      11.916667               179   \n",
       "1071 2024-07-13 19:00:00  ...    Daytime      11.916667               179   \n",
       "1072 2024-07-13 19:00:00  ...    Daytime       2.350000               180   \n",
       "1073 2024-07-13 19:00:00  ...    Daytime       2.033333               180   \n",
       "1074 2024-07-13 19:00:00  ...  Nighttime       6.716667               180   \n",
       "1075 2024-07-13 19:00:00  ...  Nighttime       2.400000               180   \n",
       "\n",
       "      Original Weeks Old  Original Months Old  Days Old  Weeks Old  \\\n",
       "1066                  25                    5       179         25   \n",
       "1067                  25                    5       179         25   \n",
       "1068                  25                    5       179         25   \n",
       "1069                  25                    5       179         25   \n",
       "1070                  25                    5       179         25   \n",
       "1071                  25                    5       180         25   \n",
       "1072                  25                    6       180         25   \n",
       "1073                  25                    6       180         25   \n",
       "1074                  25                    6       180         25   \n",
       "1075                  25                    6       180         25   \n",
       "\n",
       "      Months Old  Day Sleep Hours  Night Sleep Hours  \n",
       "1066           5         1.850000           0.000000  \n",
       "1067           5         2.166667           0.000000  \n",
       "1068           5         1.850000           0.000000  \n",
       "1069           5         1.133333           0.516667  \n",
       "1070           5         0.000000           9.566667  \n",
       "1071           6         2.350000           0.000000  \n",
       "1072           6         2.350000           0.000000  \n",
       "1073           6         2.033333           0.000000  \n",
       "1074           6         0.000000           6.716667  \n",
       "1075           6         0.000000           2.400000  \n",
       "\n",
       "[10 rows x 22 columns]"
      ]
     },
     "execution_count": 20,
     "metadata": {},
     "output_type": "execute_result"
    }
   ],
   "source": [
    "# Calculating daytime sleep durations:\n",
    "\n",
    "condlist = [\n",
    "    (df_sleep_data['Start Period'] == 'Daytime') \n",
    "    & (df_sleep_data['End Period'] == 'Daytime'),\n",
    "    (df_sleep_data['Start Period'] == 'Nighttime') \n",
    "    & (df_sleep_data['End Period'] == 'Nighttime'),\n",
    "    (df_sleep_data['Start Period'] == 'Daytime') \n",
    "    & (df_sleep_data['End Period'] == 'Nighttime'),\n",
    "    (df_sleep_data['Start Period'] == 'Nighttime') \n",
    "    & (df_sleep_data['End Period'] == 'Daytime')\n",
    "]\n",
    "\n",
    "choicelist = [\n",
    "    df_sleep_data['Hours'],\n",
    "    0,\n",
    "    (df_sleep_data['Night Start Time'] \n",
    "     - df_sleep_data['Sleep Start']).dt.total_seconds() / 3600,\n",
    "    (df_sleep_data['Sleep End'] \n",
    "     - df_sleep_data['Night End Time']).dt.total_seconds() / 3600    \n",
    "]\n",
    "\n",
    "df_sleep_data['Day Sleep Hours'] = np.select(condlist, choicelist, np.NaN)\n",
    "\n",
    "\n",
    "# Calculating nighttime sleep durations:\n",
    "\n",
    "condlist = [\n",
    "    (df_sleep_data['Start Period'] == 'Daytime') \n",
    "    & (df_sleep_data['End Period'] == 'Daytime'),\n",
    "    (df_sleep_data['Start Period'] == 'Nighttime') \n",
    "    & (df_sleep_data['End Period'] == 'Nighttime'),\n",
    "    (df_sleep_data['Start Period'] == 'Daytime') \n",
    "    & (df_sleep_data['End Period'] == 'Nighttime'),\n",
    "    (df_sleep_data['Start Period'] == 'Nighttime') \n",
    "    & (df_sleep_data['End Period'] == 'Daytime')\n",
    "]\n",
    "\n",
    "choicelist = [\n",
    "    0,\n",
    "    df_sleep_data['Hours'],\n",
    "    (df_sleep_data['Sleep End'] \n",
    "     - df_sleep_data['Night Start Time']).dt.total_seconds() / 3600,\n",
    "    (df_sleep_data['Night End Time'] \n",
    "     - df_sleep_data['Sleep Start']).dt.total_seconds() / 3600\n",
    "   \n",
    "]\n",
    "\n",
    "\n",
    "df_sleep_data['Night Sleep Hours'] = np.select(condlist, choicelist, np.NaN)\n",
    "\n",
    "df_sleep_data.tail(10)"
   ]
  },
  {
   "cell_type": "markdown",
   "metadata": {
    "execution": {
     "iopub.execute_input": "2024-04-28T03:09:32.204957Z",
     "iopub.status.busy": "2024-04-28T03:09:32.204957Z",
     "iopub.status.idle": "2024-04-28T03:09:32.209461Z",
     "shell.execute_reply": "2024-04-28T03:09:32.209461Z",
     "shell.execute_reply.started": "2024-04-28T03:09:32.204957Z"
    }
   },
   "source": [
    "Confirming that the code correctly divided each sleep period into its respective daytime and nighttime components:"
   ]
  },
  {
   "cell_type": "code",
   "execution_count": 21,
   "metadata": {
    "execution": {
     "iopub.execute_input": "2024-05-14T17:17:19.751599Z",
     "iopub.status.busy": "2024-05-14T17:17:19.751599Z",
     "iopub.status.idle": "2024-05-14T17:17:19.762111Z",
     "shell.execute_reply": "2024-05-14T17:17:19.762111Z",
     "shell.execute_reply.started": "2024-05-14T17:17:19.751599Z"
    }
   },
   "outputs": [
    {
     "data": {
      "text/html": [
       "<div>\n",
       "<style scoped>\n",
       "    .dataframe tbody tr th:only-of-type {\n",
       "        vertical-align: middle;\n",
       "    }\n",
       "\n",
       "    .dataframe tbody tr th {\n",
       "        vertical-align: top;\n",
       "    }\n",
       "\n",
       "    .dataframe thead th {\n",
       "        text-align: right;\n",
       "    }\n",
       "</style>\n",
       "<table border=\"1\" class=\"dataframe\">\n",
       "  <thead>\n",
       "    <tr style=\"text-align: right;\">\n",
       "      <th></th>\n",
       "      <th>Sleep Start</th>\n",
       "      <th>Sleep End</th>\n",
       "      <th>Hours</th>\n",
       "      <th>Start Hour</th>\n",
       "      <th>End Hour</th>\n",
       "      <th>Start Date</th>\n",
       "      <th>End Date</th>\n",
       "      <th>Night Start Date</th>\n",
       "      <th>Night End Date</th>\n",
       "      <th>Night Start Time</th>\n",
       "      <th>...</th>\n",
       "      <th>End Period</th>\n",
       "      <th>Original Hours</th>\n",
       "      <th>Original Days Old</th>\n",
       "      <th>Original Weeks Old</th>\n",
       "      <th>Original Months Old</th>\n",
       "      <th>Days Old</th>\n",
       "      <th>Weeks Old</th>\n",
       "      <th>Months Old</th>\n",
       "      <th>Day Sleep Hours</th>\n",
       "      <th>Night Sleep Hours</th>\n",
       "    </tr>\n",
       "  </thead>\n",
       "  <tbody>\n",
       "  </tbody>\n",
       "</table>\n",
       "<p>0 rows × 22 columns</p>\n",
       "</div>"
      ],
      "text/plain": [
       "Empty DataFrame\n",
       "Columns: [Sleep Start, Sleep End, Hours, Start Hour, End Hour, Start Date, End Date, Night Start Date, Night End Date, Night Start Time, Night End Time, Start Period, End Period, Original Hours, Original Days Old, Original Weeks Old, Original Months Old, Days Old, Weeks Old, Months Old, Day Sleep Hours, Night Sleep Hours]\n",
       "Index: []\n",
       "\n",
       "[0 rows x 22 columns]"
      ]
     },
     "execution_count": 21,
     "metadata": {},
     "output_type": "execute_result"
    }
   ],
   "source": [
    "df_sleep_data.query(\n",
    "    \"abs(`Day Sleep Hours` + `Night Sleep Hours` - Hours) > 0.001\") # This\n",
    "    # query() call checks to see whether the sum of any row's\n",
    "    # day sleep and night sleep durations differs from its total sleep duration.\n",
    "    # (Note that > 0.001 is used rather than != 0 because, due to the \n",
    "    # limitations of discrete mathematics, certain Day + Night sums \n",
    "    # may differ *very* slightly from the corresponding Hours totals."
   ]
  },
  {
   "cell_type": "markdown",
   "metadata": {},
   "source": [
    "## Calculating how early into the night a given sleep period began:\n",
    "\n",
    "(If a sleep period began during the daytime, this value will be negative.)"
   ]
  },
  {
   "cell_type": "code",
   "execution_count": 22,
   "metadata": {
    "execution": {
     "iopub.execute_input": "2024-05-14T17:17:19.763117Z",
     "iopub.status.busy": "2024-05-14T17:17:19.763117Z",
     "iopub.status.idle": "2024-05-14T17:17:19.783646Z",
     "shell.execute_reply": "2024-05-14T17:17:19.783646Z",
     "shell.execute_reply.started": "2024-05-14T17:17:19.763117Z"
    }
   },
   "outputs": [
    {
     "data": {
      "text/html": [
       "<div>\n",
       "<style scoped>\n",
       "    .dataframe tbody tr th:only-of-type {\n",
       "        vertical-align: middle;\n",
       "    }\n",
       "\n",
       "    .dataframe tbody tr th {\n",
       "        vertical-align: top;\n",
       "    }\n",
       "\n",
       "    .dataframe thead th {\n",
       "        text-align: right;\n",
       "    }\n",
       "</style>\n",
       "<table border=\"1\" class=\"dataframe\">\n",
       "  <thead>\n",
       "    <tr style=\"text-align: right;\">\n",
       "      <th></th>\n",
       "      <th>Sleep Start</th>\n",
       "      <th>Sleep End</th>\n",
       "      <th>Hours</th>\n",
       "      <th>Start Hour</th>\n",
       "      <th>End Hour</th>\n",
       "      <th>Start Date</th>\n",
       "      <th>End Date</th>\n",
       "      <th>Night Start Date</th>\n",
       "      <th>Night End Date</th>\n",
       "      <th>Night Start Time</th>\n",
       "      <th>...</th>\n",
       "      <th>Original Hours</th>\n",
       "      <th>Original Days Old</th>\n",
       "      <th>Original Weeks Old</th>\n",
       "      <th>Original Months Old</th>\n",
       "      <th>Days Old</th>\n",
       "      <th>Weeks Old</th>\n",
       "      <th>Months Old</th>\n",
       "      <th>Day Sleep Hours</th>\n",
       "      <th>Night Sleep Hours</th>\n",
       "      <th>Hours After Night Start Time</th>\n",
       "    </tr>\n",
       "  </thead>\n",
       "  <tbody>\n",
       "    <tr>\n",
       "      <th>894</th>\n",
       "      <td>2024-06-08 07:00:00</td>\n",
       "      <td>2024-06-08 07:21:00</td>\n",
       "      <td>0.350000</td>\n",
       "      <td>7</td>\n",
       "      <td>7</td>\n",
       "      <td>2024-06-08</td>\n",
       "      <td>2024-06-08</td>\n",
       "      <td>2024-06-08</td>\n",
       "      <td>2024-06-09</td>\n",
       "      <td>2024-06-08 19:00:00</td>\n",
       "      <td>...</td>\n",
       "      <td>11.816667</td>\n",
       "      <td>144</td>\n",
       "      <td>20</td>\n",
       "      <td>4</td>\n",
       "      <td>145</td>\n",
       "      <td>20</td>\n",
       "      <td>4</td>\n",
       "      <td>0.350000</td>\n",
       "      <td>0.000000</td>\n",
       "      <td>-12.000000</td>\n",
       "    </tr>\n",
       "    <tr>\n",
       "      <th>729</th>\n",
       "      <td>2024-05-08 07:00:00</td>\n",
       "      <td>2024-05-08 09:04:00</td>\n",
       "      <td>2.066667</td>\n",
       "      <td>7</td>\n",
       "      <td>9</td>\n",
       "      <td>2024-05-08</td>\n",
       "      <td>2024-05-08</td>\n",
       "      <td>2024-05-08</td>\n",
       "      <td>2024-05-09</td>\n",
       "      <td>2024-05-08 19:00:00</td>\n",
       "      <td>...</td>\n",
       "      <td>2.666667</td>\n",
       "      <td>113</td>\n",
       "      <td>16</td>\n",
       "      <td>3</td>\n",
       "      <td>114</td>\n",
       "      <td>16</td>\n",
       "      <td>3</td>\n",
       "      <td>2.066667</td>\n",
       "      <td>0.000000</td>\n",
       "      <td>-12.000000</td>\n",
       "    </tr>\n",
       "    <tr>\n",
       "      <th>1002</th>\n",
       "      <td>2024-06-29 07:00:00</td>\n",
       "      <td>2024-06-29 07:11:00</td>\n",
       "      <td>0.183333</td>\n",
       "      <td>7</td>\n",
       "      <td>7</td>\n",
       "      <td>2024-06-29</td>\n",
       "      <td>2024-06-29</td>\n",
       "      <td>2024-06-29</td>\n",
       "      <td>2024-06-30</td>\n",
       "      <td>2024-06-29 19:00:00</td>\n",
       "      <td>...</td>\n",
       "      <td>9.683333</td>\n",
       "      <td>165</td>\n",
       "      <td>23</td>\n",
       "      <td>5</td>\n",
       "      <td>166</td>\n",
       "      <td>23</td>\n",
       "      <td>5</td>\n",
       "      <td>0.183333</td>\n",
       "      <td>0.000000</td>\n",
       "      <td>-12.000000</td>\n",
       "    </tr>\n",
       "    <tr>\n",
       "      <th>952</th>\n",
       "      <td>2024-06-19 07:00:00</td>\n",
       "      <td>2024-06-19 08:00:00</td>\n",
       "      <td>1.000000</td>\n",
       "      <td>7</td>\n",
       "      <td>8</td>\n",
       "      <td>2024-06-19</td>\n",
       "      <td>2024-06-19</td>\n",
       "      <td>2024-06-19</td>\n",
       "      <td>2024-06-20</td>\n",
       "      <td>2024-06-19 19:00:00</td>\n",
       "      <td>...</td>\n",
       "      <td>11.900000</td>\n",
       "      <td>155</td>\n",
       "      <td>22</td>\n",
       "      <td>5</td>\n",
       "      <td>156</td>\n",
       "      <td>22</td>\n",
       "      <td>5</td>\n",
       "      <td>1.000000</td>\n",
       "      <td>0.000000</td>\n",
       "      <td>-12.000000</td>\n",
       "    </tr>\n",
       "    <tr>\n",
       "      <th>808</th>\n",
       "      <td>2024-05-23 07:00:00</td>\n",
       "      <td>2024-05-23 08:17:00</td>\n",
       "      <td>1.283333</td>\n",
       "      <td>7</td>\n",
       "      <td>8</td>\n",
       "      <td>2024-05-23</td>\n",
       "      <td>2024-05-23</td>\n",
       "      <td>2024-05-23</td>\n",
       "      <td>2024-05-24</td>\n",
       "      <td>2024-05-23 19:00:00</td>\n",
       "      <td>...</td>\n",
       "      <td>9.466667</td>\n",
       "      <td>128</td>\n",
       "      <td>18</td>\n",
       "      <td>4</td>\n",
       "      <td>129</td>\n",
       "      <td>18</td>\n",
       "      <td>4</td>\n",
       "      <td>1.283333</td>\n",
       "      <td>0.000000</td>\n",
       "      <td>-12.000000</td>\n",
       "    </tr>\n",
       "    <tr>\n",
       "      <th>...</th>\n",
       "      <td>...</td>\n",
       "      <td>...</td>\n",
       "      <td>...</td>\n",
       "      <td>...</td>\n",
       "      <td>...</td>\n",
       "      <td>...</td>\n",
       "      <td>...</td>\n",
       "      <td>...</td>\n",
       "      <td>...</td>\n",
       "      <td>...</td>\n",
       "      <td>...</td>\n",
       "      <td>...</td>\n",
       "      <td>...</td>\n",
       "      <td>...</td>\n",
       "      <td>...</td>\n",
       "      <td>...</td>\n",
       "      <td>...</td>\n",
       "      <td>...</td>\n",
       "      <td>...</td>\n",
       "      <td>...</td>\n",
       "      <td>...</td>\n",
       "    </tr>\n",
       "    <tr>\n",
       "      <th>691</th>\n",
       "      <td>2024-05-01 06:53:00</td>\n",
       "      <td>2024-05-01 07:00:00</td>\n",
       "      <td>0.116667</td>\n",
       "      <td>6</td>\n",
       "      <td>7</td>\n",
       "      <td>2024-05-01</td>\n",
       "      <td>2024-05-01</td>\n",
       "      <td>2024-04-30</td>\n",
       "      <td>2024-05-01</td>\n",
       "      <td>2024-04-30 19:00:00</td>\n",
       "      <td>...</td>\n",
       "      <td>2.466667</td>\n",
       "      <td>106</td>\n",
       "      <td>15</td>\n",
       "      <td>3</td>\n",
       "      <td>106</td>\n",
       "      <td>15</td>\n",
       "      <td>3</td>\n",
       "      <td>0.000000</td>\n",
       "      <td>0.116667</td>\n",
       "      <td>11.883333</td>\n",
       "    </tr>\n",
       "    <tr>\n",
       "      <th>303</th>\n",
       "      <td>2024-03-02 06:56:00</td>\n",
       "      <td>2024-03-02 07:00:00</td>\n",
       "      <td>0.066667</td>\n",
       "      <td>6</td>\n",
       "      <td>7</td>\n",
       "      <td>2024-03-02</td>\n",
       "      <td>2024-03-02</td>\n",
       "      <td>2024-03-01</td>\n",
       "      <td>2024-03-02</td>\n",
       "      <td>2024-03-01 19:00:00</td>\n",
       "      <td>...</td>\n",
       "      <td>2.983333</td>\n",
       "      <td>46</td>\n",
       "      <td>6</td>\n",
       "      <td>1</td>\n",
       "      <td>46</td>\n",
       "      <td>6</td>\n",
       "      <td>1</td>\n",
       "      <td>0.000000</td>\n",
       "      <td>0.066667</td>\n",
       "      <td>11.933333</td>\n",
       "    </tr>\n",
       "    <tr>\n",
       "      <th>661</th>\n",
       "      <td>2024-04-26 06:57:00</td>\n",
       "      <td>2024-04-26 07:00:00</td>\n",
       "      <td>0.050000</td>\n",
       "      <td>6</td>\n",
       "      <td>7</td>\n",
       "      <td>2024-04-26</td>\n",
       "      <td>2024-04-26</td>\n",
       "      <td>2024-04-25</td>\n",
       "      <td>2024-04-26</td>\n",
       "      <td>2024-04-25 19:00:00</td>\n",
       "      <td>...</td>\n",
       "      <td>2.783333</td>\n",
       "      <td>101</td>\n",
       "      <td>14</td>\n",
       "      <td>3</td>\n",
       "      <td>101</td>\n",
       "      <td>14</td>\n",
       "      <td>3</td>\n",
       "      <td>0.000000</td>\n",
       "      <td>0.050000</td>\n",
       "      <td>11.950000</td>\n",
       "    </tr>\n",
       "    <tr>\n",
       "      <th>206</th>\n",
       "      <td>2024-02-18 06:59:00</td>\n",
       "      <td>2024-02-18 07:00:00</td>\n",
       "      <td>0.016667</td>\n",
       "      <td>6</td>\n",
       "      <td>7</td>\n",
       "      <td>2024-02-18</td>\n",
       "      <td>2024-02-18</td>\n",
       "      <td>2024-02-17</td>\n",
       "      <td>2024-02-18</td>\n",
       "      <td>2024-02-17 19:00:00</td>\n",
       "      <td>...</td>\n",
       "      <td>2.766667</td>\n",
       "      <td>33</td>\n",
       "      <td>4</td>\n",
       "      <td>1</td>\n",
       "      <td>33</td>\n",
       "      <td>4</td>\n",
       "      <td>1</td>\n",
       "      <td>0.000000</td>\n",
       "      <td>0.016667</td>\n",
       "      <td>11.983333</td>\n",
       "    </tr>\n",
       "    <tr>\n",
       "      <th>347</th>\n",
       "      <td>2024-03-08 06:59:00</td>\n",
       "      <td>2024-03-08 07:00:00</td>\n",
       "      <td>0.016667</td>\n",
       "      <td>6</td>\n",
       "      <td>7</td>\n",
       "      <td>2024-03-08</td>\n",
       "      <td>2024-03-08</td>\n",
       "      <td>2024-03-07</td>\n",
       "      <td>2024-03-08</td>\n",
       "      <td>2024-03-07 19:00:00</td>\n",
       "      <td>...</td>\n",
       "      <td>2.716667</td>\n",
       "      <td>52</td>\n",
       "      <td>7</td>\n",
       "      <td>1</td>\n",
       "      <td>52</td>\n",
       "      <td>7</td>\n",
       "      <td>1</td>\n",
       "      <td>0.000000</td>\n",
       "      <td>0.016667</td>\n",
       "      <td>11.983333</td>\n",
       "    </tr>\n",
       "  </tbody>\n",
       "</table>\n",
       "<p>1076 rows × 23 columns</p>\n",
       "</div>"
      ],
      "text/plain": [
       "             Sleep Start           Sleep End     Hours  Start Hour  End Hour  \\\n",
       "894  2024-06-08 07:00:00 2024-06-08 07:21:00  0.350000           7         7   \n",
       "729  2024-05-08 07:00:00 2024-05-08 09:04:00  2.066667           7         9   \n",
       "1002 2024-06-29 07:00:00 2024-06-29 07:11:00  0.183333           7         7   \n",
       "952  2024-06-19 07:00:00 2024-06-19 08:00:00  1.000000           7         8   \n",
       "808  2024-05-23 07:00:00 2024-05-23 08:17:00  1.283333           7         8   \n",
       "...                  ...                 ...       ...         ...       ...   \n",
       "691  2024-05-01 06:53:00 2024-05-01 07:00:00  0.116667           6         7   \n",
       "303  2024-03-02 06:56:00 2024-03-02 07:00:00  0.066667           6         7   \n",
       "661  2024-04-26 06:57:00 2024-04-26 07:00:00  0.050000           6         7   \n",
       "206  2024-02-18 06:59:00 2024-02-18 07:00:00  0.016667           6         7   \n",
       "347  2024-03-08 06:59:00 2024-03-08 07:00:00  0.016667           6         7   \n",
       "\n",
       "      Start Date    End Date Night Start Date Night End Date  \\\n",
       "894   2024-06-08  2024-06-08       2024-06-08     2024-06-09   \n",
       "729   2024-05-08  2024-05-08       2024-05-08     2024-05-09   \n",
       "1002  2024-06-29  2024-06-29       2024-06-29     2024-06-30   \n",
       "952   2024-06-19  2024-06-19       2024-06-19     2024-06-20   \n",
       "808   2024-05-23  2024-05-23       2024-05-23     2024-05-24   \n",
       "...          ...         ...              ...            ...   \n",
       "691   2024-05-01  2024-05-01       2024-04-30     2024-05-01   \n",
       "303   2024-03-02  2024-03-02       2024-03-01     2024-03-02   \n",
       "661   2024-04-26  2024-04-26       2024-04-25     2024-04-26   \n",
       "206   2024-02-18  2024-02-18       2024-02-17     2024-02-18   \n",
       "347   2024-03-08  2024-03-08       2024-03-07     2024-03-08   \n",
       "\n",
       "        Night Start Time  ... Original Hours Original Days Old  \\\n",
       "894  2024-06-08 19:00:00  ...      11.816667               144   \n",
       "729  2024-05-08 19:00:00  ...       2.666667               113   \n",
       "1002 2024-06-29 19:00:00  ...       9.683333               165   \n",
       "952  2024-06-19 19:00:00  ...      11.900000               155   \n",
       "808  2024-05-23 19:00:00  ...       9.466667               128   \n",
       "...                  ...  ...            ...               ...   \n",
       "691  2024-04-30 19:00:00  ...       2.466667               106   \n",
       "303  2024-03-01 19:00:00  ...       2.983333                46   \n",
       "661  2024-04-25 19:00:00  ...       2.783333               101   \n",
       "206  2024-02-17 19:00:00  ...       2.766667                33   \n",
       "347  2024-03-07 19:00:00  ...       2.716667                52   \n",
       "\n",
       "     Original Weeks Old  Original Months Old  Days Old  Weeks Old  Months Old  \\\n",
       "894                  20                    4       145         20           4   \n",
       "729                  16                    3       114         16           3   \n",
       "1002                 23                    5       166         23           5   \n",
       "952                  22                    5       156         22           5   \n",
       "808                  18                    4       129         18           4   \n",
       "...                 ...                  ...       ...        ...         ...   \n",
       "691                  15                    3       106         15           3   \n",
       "303                   6                    1        46          6           1   \n",
       "661                  14                    3       101         14           3   \n",
       "206                   4                    1        33          4           1   \n",
       "347                   7                    1        52          7           1   \n",
       "\n",
       "      Day Sleep Hours  Night Sleep Hours  Hours After Night Start Time  \n",
       "894          0.350000           0.000000                    -12.000000  \n",
       "729          2.066667           0.000000                    -12.000000  \n",
       "1002         0.183333           0.000000                    -12.000000  \n",
       "952          1.000000           0.000000                    -12.000000  \n",
       "808          1.283333           0.000000                    -12.000000  \n",
       "...               ...                ...                           ...  \n",
       "691          0.000000           0.116667                     11.883333  \n",
       "303          0.000000           0.066667                     11.933333  \n",
       "661          0.000000           0.050000                     11.950000  \n",
       "206          0.000000           0.016667                     11.983333  \n",
       "347          0.000000           0.016667                     11.983333  \n",
       "\n",
       "[1076 rows x 23 columns]"
      ]
     },
     "execution_count": 22,
     "metadata": {},
     "output_type": "execute_result"
    }
   ],
   "source": [
    "df_sleep_data['Hours After Night Start Time'] = (\n",
    "    df_sleep_data['Sleep Start'] \n",
    "    - df_sleep_data['Night Start Time']).dt.total_seconds() / 3600\n",
    "\n",
    "# Identifying the earliest and latest values:\n",
    "df_sleep_data.sort_values(['Hours After Night Start Time'])"
   ]
  },
  {
   "cell_type": "markdown",
   "metadata": {},
   "source": [
    "# Part 2: Analyzing and Visualizing Data"
   ]
  },
  {
   "cell_type": "markdown",
   "metadata": {},
   "source": [
    "### Determining each day's longest sleep period:\n",
    "\n",
    "We'll use the 'Original Hours' values for these calculations rather than the 'Hours' value, as the latter values got split into multiple entries for all day-night-day and night-day-night sleep periods. In addition, the 'Original' day, month, and week columns will be used as the index, since the same 'Original Hours' total can appear within multiple 'Days Old', 'Months Old', and 'Weeks Old' values due to the aforementioned split."
   ]
  },
  {
   "cell_type": "code",
   "execution_count": 23,
   "metadata": {
    "execution": {
     "iopub.execute_input": "2024-05-14T17:17:19.784661Z",
     "iopub.status.busy": "2024-05-14T17:17:19.784661Z",
     "iopub.status.idle": "2024-05-14T17:17:19.797881Z",
     "shell.execute_reply": "2024-05-14T17:17:19.797881Z",
     "shell.execute_reply.started": "2024-05-14T17:17:19.784661Z"
    }
   },
   "outputs": [
    {
     "data": {
      "text/plain": [
       "Index(['Months Old', 'Weeks Old', 'Days Old', 'Hours', 'Count'], dtype='object')"
      ]
     },
     "execution_count": 23,
     "metadata": {},
     "output_type": "execute_result"
    }
   ],
   "source": [
    "df_longest_sleep_periods_by_day = df_sleep_data.pivot_table(\n",
    "    index = ['Original Months Old', 'Original Weeks Old', 'Original Days Old'], \n",
    "    values = 'Original Hours', aggfunc = 'max').reset_index()\n",
    "# Simplifying column names by removing their 'Original ' component:\n",
    "df_longest_sleep_periods_by_day.columns = [\n",
    "    column.replace('Original ', '') \n",
    "    for column in df_longest_sleep_periods_by_day.columns]\n",
    "\n",
    "df_longest_sleep_periods_by_day['Count'] = 1 # This value will be helpful\n",
    "# for calculating weekly averages\n",
    "df_longest_sleep_periods_by_day.to_csv(\n",
    "    f'{data_output_folder}longest_sleep_periods_by_day.csv', index = False)\n",
    "df_longest_sleep_periods_by_day.columns"
   ]
  },
  {
   "cell_type": "code",
   "execution_count": 24,
   "metadata": {
    "execution": {
     "iopub.execute_input": "2024-05-14T17:17:19.798890Z",
     "iopub.status.busy": "2024-05-14T17:17:19.798890Z",
     "iopub.status.idle": "2024-05-14T17:17:19.806593Z",
     "shell.execute_reply": "2024-05-14T17:17:19.806593Z",
     "shell.execute_reply.started": "2024-05-14T17:17:19.798890Z"
    }
   },
   "outputs": [
    {
     "data": {
      "text/html": [
       "<div>\n",
       "<style scoped>\n",
       "    .dataframe tbody tr th:only-of-type {\n",
       "        vertical-align: middle;\n",
       "    }\n",
       "\n",
       "    .dataframe tbody tr th {\n",
       "        vertical-align: top;\n",
       "    }\n",
       "\n",
       "    .dataframe thead th {\n",
       "        text-align: right;\n",
       "    }\n",
       "</style>\n",
       "<table border=\"1\" class=\"dataframe\">\n",
       "  <thead>\n",
       "    <tr style=\"text-align: right;\">\n",
       "      <th></th>\n",
       "      <th>Months Old</th>\n",
       "      <th>Weeks Old</th>\n",
       "      <th>Days Old</th>\n",
       "      <th>Hours</th>\n",
       "      <th>Count</th>\n",
       "    </tr>\n",
       "  </thead>\n",
       "  <tbody>\n",
       "    <tr>\n",
       "      <th>178</th>\n",
       "      <td>5</td>\n",
       "      <td>25</td>\n",
       "      <td>178</td>\n",
       "      <td>11.983333</td>\n",
       "      <td>1</td>\n",
       "    </tr>\n",
       "    <tr>\n",
       "      <th>153</th>\n",
       "      <td>5</td>\n",
       "      <td>21</td>\n",
       "      <td>153</td>\n",
       "      <td>11.983333</td>\n",
       "      <td>1</td>\n",
       "    </tr>\n",
       "    <tr>\n",
       "      <th>176</th>\n",
       "      <td>5</td>\n",
       "      <td>25</td>\n",
       "      <td>176</td>\n",
       "      <td>11.966667</td>\n",
       "      <td>1</td>\n",
       "    </tr>\n",
       "    <tr>\n",
       "      <th>152</th>\n",
       "      <td>5</td>\n",
       "      <td>21</td>\n",
       "      <td>152</td>\n",
       "      <td>11.950000</td>\n",
       "      <td>1</td>\n",
       "    </tr>\n",
       "    <tr>\n",
       "      <th>160</th>\n",
       "      <td>5</td>\n",
       "      <td>22</td>\n",
       "      <td>160</td>\n",
       "      <td>11.950000</td>\n",
       "      <td>1</td>\n",
       "    </tr>\n",
       "    <tr>\n",
       "      <th>...</th>\n",
       "      <td>...</td>\n",
       "      <td>...</td>\n",
       "      <td>...</td>\n",
       "      <td>...</td>\n",
       "      <td>...</td>\n",
       "    </tr>\n",
       "    <tr>\n",
       "      <th>3</th>\n",
       "      <td>0</td>\n",
       "      <td>0</td>\n",
       "      <td>3</td>\n",
       "      <td>2.666667</td>\n",
       "      <td>1</td>\n",
       "    </tr>\n",
       "    <tr>\n",
       "      <th>16</th>\n",
       "      <td>0</td>\n",
       "      <td>2</td>\n",
       "      <td>16</td>\n",
       "      <td>2.650000</td>\n",
       "      <td>1</td>\n",
       "    </tr>\n",
       "    <tr>\n",
       "      <th>18</th>\n",
       "      <td>0</td>\n",
       "      <td>2</td>\n",
       "      <td>18</td>\n",
       "      <td>2.650000</td>\n",
       "      <td>1</td>\n",
       "    </tr>\n",
       "    <tr>\n",
       "      <th>15</th>\n",
       "      <td>0</td>\n",
       "      <td>2</td>\n",
       "      <td>15</td>\n",
       "      <td>2.516667</td>\n",
       "      <td>1</td>\n",
       "    </tr>\n",
       "    <tr>\n",
       "      <th>10</th>\n",
       "      <td>0</td>\n",
       "      <td>1</td>\n",
       "      <td>10</td>\n",
       "      <td>2.500000</td>\n",
       "      <td>1</td>\n",
       "    </tr>\n",
       "  </tbody>\n",
       "</table>\n",
       "<p>181 rows × 5 columns</p>\n",
       "</div>"
      ],
      "text/plain": [
       "     Months Old  Weeks Old  Days Old      Hours  Count\n",
       "178           5         25       178  11.983333      1\n",
       "153           5         21       153  11.983333      1\n",
       "176           5         25       176  11.966667      1\n",
       "152           5         21       152  11.950000      1\n",
       "160           5         22       160  11.950000      1\n",
       "..          ...        ...       ...        ...    ...\n",
       "3             0          0         3   2.666667      1\n",
       "16            0          2        16   2.650000      1\n",
       "18            0          2        18   2.650000      1\n",
       "15            0          2        15   2.516667      1\n",
       "10            0          1        10   2.500000      1\n",
       "\n",
       "[181 rows x 5 columns]"
      ]
     },
     "execution_count": 24,
     "metadata": {},
     "output_type": "execute_result"
    }
   ],
   "source": [
    "df_longest_sleep_periods_by_day.sort_values('Hours', ascending = False)"
   ]
  },
  {
   "cell_type": "markdown",
   "metadata": {},
   "source": [
    "### Determining each week's average longest sleep period:"
   ]
  },
  {
   "cell_type": "code",
   "execution_count": 25,
   "metadata": {
    "execution": {
     "iopub.execute_input": "2024-05-14T17:17:19.807601Z",
     "iopub.status.busy": "2024-05-14T17:17:19.807601Z",
     "iopub.status.idle": "2024-05-14T17:17:19.811756Z",
     "shell.execute_reply": "2024-05-14T17:17:19.811756Z",
     "shell.execute_reply.started": "2024-05-14T17:17:19.807601Z"
    }
   },
   "outputs": [],
   "source": [
    "def add_rounded_values(\n",
    "    df, source_column = 'Hours', \n",
    "    rounded_column_name = 'Rounded_Hours',\n",
    "    tenths_cutoff = 20, integer_cutoff = 30):\n",
    "    \n",
    "    '''This function creates a rounded set of values within a DataFrame\n",
    "    that can be incorporated into charts' data labels. \n",
    "    \n",
    "    df: the DataFrame to which to add the rounded values.\n",
    "    source_column: the original values within the DataFrame to round.\n",
    "    rounded_column_name: the name to assign this rounded column.\n",
    "    \n",
    "    In order to prevent these labels from making the resulting chart too \n",
    "    crowded, the script will round these values to the nearest \n",
    "    tenth if there are fewer than tenths_cutoff rows in the table and \n",
    "    to the nearest integer if there are between tenths_cutoff \n",
    "    and integer_cutoff rows. If the row count exceeds integer_cutoff, \n",
    "    the rounded values will all be np.NaN so that no values will appear\n",
    "    within the chart. \n",
    "    \n",
    "    (An alternative approach would be not to create\n",
    "    the column with rounded values to begin with if the row count exceeds\n",
    "    integer_cutoff, but this would cause the chart creation code to crash \n",
    "    unless it was instructed not to try to use this column.'''\n",
    "    \n",
    "    if len(df) <= tenths_cutoff:\n",
    "        round_value = 1\n",
    "    elif len(df) > tenths_cutoff:\n",
    "        round_value = 0\n",
    "    \n",
    "    if len(df) <= integer_cutoff:\n",
    "        df[rounded_column_name] = df[source_column].round(round_value)\n",
    "    \n",
    "    else:\n",
    "        df[rounded_column_name] = np.NaN"
   ]
  },
  {
   "cell_type": "code",
   "execution_count": 26,
   "metadata": {
    "execution": {
     "iopub.execute_input": "2024-05-14T17:17:19.812766Z",
     "iopub.status.busy": "2024-05-14T17:17:19.812766Z",
     "iopub.status.idle": "2024-05-14T17:17:19.826309Z",
     "shell.execute_reply": "2024-05-14T17:17:19.826309Z",
     "shell.execute_reply.started": "2024-05-14T17:17:19.812766Z"
    }
   },
   "outputs": [
    {
     "data": {
      "text/html": [
       "<div>\n",
       "<style scoped>\n",
       "    .dataframe tbody tr th:only-of-type {\n",
       "        vertical-align: middle;\n",
       "    }\n",
       "\n",
       "    .dataframe tbody tr th {\n",
       "        vertical-align: top;\n",
       "    }\n",
       "\n",
       "    .dataframe thead th {\n",
       "        text-align: right;\n",
       "    }\n",
       "</style>\n",
       "<table border=\"1\" class=\"dataframe\">\n",
       "  <thead>\n",
       "    <tr style=\"text-align: right;\">\n",
       "      <th></th>\n",
       "      <th>Weeks Old</th>\n",
       "      <th>Count</th>\n",
       "      <th>Hours</th>\n",
       "      <th>Rounded_Hours</th>\n",
       "    </tr>\n",
       "  </thead>\n",
       "  <tbody>\n",
       "    <tr>\n",
       "      <th>0</th>\n",
       "      <td>0</td>\n",
       "      <td>7</td>\n",
       "      <td>2.871429</td>\n",
       "      <td>3.0</td>\n",
       "    </tr>\n",
       "    <tr>\n",
       "      <th>1</th>\n",
       "      <td>1</td>\n",
       "      <td>7</td>\n",
       "      <td>2.814286</td>\n",
       "      <td>3.0</td>\n",
       "    </tr>\n",
       "    <tr>\n",
       "      <th>2</th>\n",
       "      <td>2</td>\n",
       "      <td>7</td>\n",
       "      <td>2.711905</td>\n",
       "      <td>3.0</td>\n",
       "    </tr>\n",
       "    <tr>\n",
       "      <th>3</th>\n",
       "      <td>3</td>\n",
       "      <td>7</td>\n",
       "      <td>2.873810</td>\n",
       "      <td>3.0</td>\n",
       "    </tr>\n",
       "    <tr>\n",
       "      <th>4</th>\n",
       "      <td>4</td>\n",
       "      <td>7</td>\n",
       "      <td>3.209524</td>\n",
       "      <td>3.0</td>\n",
       "    </tr>\n",
       "    <tr>\n",
       "      <th>5</th>\n",
       "      <td>5</td>\n",
       "      <td>7</td>\n",
       "      <td>3.166667</td>\n",
       "      <td>3.0</td>\n",
       "    </tr>\n",
       "    <tr>\n",
       "      <th>6</th>\n",
       "      <td>6</td>\n",
       "      <td>7</td>\n",
       "      <td>3.602381</td>\n",
       "      <td>4.0</td>\n",
       "    </tr>\n",
       "    <tr>\n",
       "      <th>7</th>\n",
       "      <td>7</td>\n",
       "      <td>7</td>\n",
       "      <td>3.852381</td>\n",
       "      <td>4.0</td>\n",
       "    </tr>\n",
       "    <tr>\n",
       "      <th>8</th>\n",
       "      <td>8</td>\n",
       "      <td>7</td>\n",
       "      <td>4.900000</td>\n",
       "      <td>5.0</td>\n",
       "    </tr>\n",
       "    <tr>\n",
       "      <th>9</th>\n",
       "      <td>9</td>\n",
       "      <td>7</td>\n",
       "      <td>4.780952</td>\n",
       "      <td>5.0</td>\n",
       "    </tr>\n",
       "    <tr>\n",
       "      <th>10</th>\n",
       "      <td>10</td>\n",
       "      <td>7</td>\n",
       "      <td>5.854762</td>\n",
       "      <td>6.0</td>\n",
       "    </tr>\n",
       "    <tr>\n",
       "      <th>11</th>\n",
       "      <td>11</td>\n",
       "      <td>7</td>\n",
       "      <td>5.652381</td>\n",
       "      <td>6.0</td>\n",
       "    </tr>\n",
       "    <tr>\n",
       "      <th>12</th>\n",
       "      <td>12</td>\n",
       "      <td>7</td>\n",
       "      <td>5.452381</td>\n",
       "      <td>5.0</td>\n",
       "    </tr>\n",
       "    <tr>\n",
       "      <th>13</th>\n",
       "      <td>13</td>\n",
       "      <td>7</td>\n",
       "      <td>8.359524</td>\n",
       "      <td>8.0</td>\n",
       "    </tr>\n",
       "    <tr>\n",
       "      <th>14</th>\n",
       "      <td>14</td>\n",
       "      <td>7</td>\n",
       "      <td>7.580952</td>\n",
       "      <td>8.0</td>\n",
       "    </tr>\n",
       "    <tr>\n",
       "      <th>15</th>\n",
       "      <td>15</td>\n",
       "      <td>7</td>\n",
       "      <td>8.304762</td>\n",
       "      <td>8.0</td>\n",
       "    </tr>\n",
       "    <tr>\n",
       "      <th>16</th>\n",
       "      <td>16</td>\n",
       "      <td>7</td>\n",
       "      <td>9.259524</td>\n",
       "      <td>9.0</td>\n",
       "    </tr>\n",
       "    <tr>\n",
       "      <th>17</th>\n",
       "      <td>17</td>\n",
       "      <td>7</td>\n",
       "      <td>10.288095</td>\n",
       "      <td>10.0</td>\n",
       "    </tr>\n",
       "    <tr>\n",
       "      <th>18</th>\n",
       "      <td>18</td>\n",
       "      <td>7</td>\n",
       "      <td>9.071429</td>\n",
       "      <td>9.0</td>\n",
       "    </tr>\n",
       "    <tr>\n",
       "      <th>19</th>\n",
       "      <td>19</td>\n",
       "      <td>7</td>\n",
       "      <td>8.788095</td>\n",
       "      <td>9.0</td>\n",
       "    </tr>\n",
       "    <tr>\n",
       "      <th>20</th>\n",
       "      <td>20</td>\n",
       "      <td>7</td>\n",
       "      <td>10.519048</td>\n",
       "      <td>11.0</td>\n",
       "    </tr>\n",
       "    <tr>\n",
       "      <th>21</th>\n",
       "      <td>21</td>\n",
       "      <td>7</td>\n",
       "      <td>9.926190</td>\n",
       "      <td>10.0</td>\n",
       "    </tr>\n",
       "    <tr>\n",
       "      <th>22</th>\n",
       "      <td>22</td>\n",
       "      <td>7</td>\n",
       "      <td>11.357143</td>\n",
       "      <td>11.0</td>\n",
       "    </tr>\n",
       "    <tr>\n",
       "      <th>23</th>\n",
       "      <td>23</td>\n",
       "      <td>7</td>\n",
       "      <td>10.657143</td>\n",
       "      <td>11.0</td>\n",
       "    </tr>\n",
       "    <tr>\n",
       "      <th>24</th>\n",
       "      <td>24</td>\n",
       "      <td>7</td>\n",
       "      <td>9.969048</td>\n",
       "      <td>10.0</td>\n",
       "    </tr>\n",
       "    <tr>\n",
       "      <th>25</th>\n",
       "      <td>25</td>\n",
       "      <td>6</td>\n",
       "      <td>10.266667</td>\n",
       "      <td>10.0</td>\n",
       "    </tr>\n",
       "  </tbody>\n",
       "</table>\n",
       "</div>"
      ],
      "text/plain": [
       "    Weeks Old  Count      Hours  Rounded_Hours\n",
       "0           0      7   2.871429            3.0\n",
       "1           1      7   2.814286            3.0\n",
       "2           2      7   2.711905            3.0\n",
       "3           3      7   2.873810            3.0\n",
       "4           4      7   3.209524            3.0\n",
       "5           5      7   3.166667            3.0\n",
       "6           6      7   3.602381            4.0\n",
       "7           7      7   3.852381            4.0\n",
       "8           8      7   4.900000            5.0\n",
       "9           9      7   4.780952            5.0\n",
       "10         10      7   5.854762            6.0\n",
       "11         11      7   5.652381            6.0\n",
       "12         12      7   5.452381            5.0\n",
       "13         13      7   8.359524            8.0\n",
       "14         14      7   7.580952            8.0\n",
       "15         15      7   8.304762            8.0\n",
       "16         16      7   9.259524            9.0\n",
       "17         17      7  10.288095           10.0\n",
       "18         18      7   9.071429            9.0\n",
       "19         19      7   8.788095            9.0\n",
       "20         20      7  10.519048           11.0\n",
       "21         21      7   9.926190           10.0\n",
       "22         22      7  11.357143           11.0\n",
       "23         23      7  10.657143           11.0\n",
       "24         24      7   9.969048           10.0\n",
       "25         25      6  10.266667           10.0"
      ]
     },
     "execution_count": 26,
     "metadata": {},
     "output_type": "execute_result"
    }
   ],
   "source": [
    "df_average_longest_sleep_period_by_week = \\\n",
    "df_longest_sleep_periods_by_day.pivot_table(\n",
    "    index = 'Weeks Old', values = ['Hours', 'Count'], \n",
    "    aggfunc = 'sum').reset_index()\n",
    "\n",
    "# Dividing 'Hours' sums by 'Count' sums in order to determine the *average*\n",
    "# longest sleep period logged each week:\n",
    "df_average_longest_sleep_period_by_week['Hours'] /= \\\n",
    "df_average_longest_sleep_period_by_week['Count']\n",
    "\n",
    "# Creating a rounded set of values that can be incorporated into data labels:\n",
    "\n",
    "add_rounded_values(\n",
    "    df_average_longest_sleep_period_by_week)\n",
    "    \n",
    "df_average_longest_sleep_period_by_week.to_csv(\n",
    "    f'{data_output_folder}average_longest_sleep_period_by_week.csv', \n",
    "    index = False)\n",
    "df_average_longest_sleep_period_by_week"
   ]
  },
  {
   "cell_type": "markdown",
   "metadata": {},
   "source": [
    "### Calculating the average longest sleep period achieved each month:"
   ]
  },
  {
   "cell_type": "markdown",
   "metadata": {},
   "source": [
    "Here with editing:\n",
    "\n",
    "Add rounded column values here also using the function you created earlier.\n",
    "    "
   ]
  },
  {
   "cell_type": "code",
   "execution_count": 27,
   "metadata": {
    "execution": {
     "iopub.execute_input": "2024-05-14T17:17:19.827316Z",
     "iopub.status.busy": "2024-05-14T17:17:19.827316Z",
     "iopub.status.idle": "2024-05-14T17:17:19.837904Z",
     "shell.execute_reply": "2024-05-14T17:17:19.837904Z",
     "shell.execute_reply.started": "2024-05-14T17:17:19.827316Z"
    }
   },
   "outputs": [
    {
     "data": {
      "text/html": [
       "<div>\n",
       "<style scoped>\n",
       "    .dataframe tbody tr th:only-of-type {\n",
       "        vertical-align: middle;\n",
       "    }\n",
       "\n",
       "    .dataframe tbody tr th {\n",
       "        vertical-align: top;\n",
       "    }\n",
       "\n",
       "    .dataframe thead th {\n",
       "        text-align: right;\n",
       "    }\n",
       "</style>\n",
       "<table border=\"1\" class=\"dataframe\">\n",
       "  <thead>\n",
       "    <tr style=\"text-align: right;\">\n",
       "      <th></th>\n",
       "      <th>Months Old</th>\n",
       "      <th>Count</th>\n",
       "      <th>Hours</th>\n",
       "      <th>Rounded_Hours</th>\n",
       "    </tr>\n",
       "  </thead>\n",
       "  <tbody>\n",
       "    <tr>\n",
       "      <th>0</th>\n",
       "      <td>0</td>\n",
       "      <td>30</td>\n",
       "      <td>2.818889</td>\n",
       "      <td>2.8</td>\n",
       "    </tr>\n",
       "    <tr>\n",
       "      <th>1</th>\n",
       "      <td>1</td>\n",
       "      <td>30</td>\n",
       "      <td>3.556667</td>\n",
       "      <td>3.6</td>\n",
       "    </tr>\n",
       "    <tr>\n",
       "      <th>2</th>\n",
       "      <td>2</td>\n",
       "      <td>30</td>\n",
       "      <td>5.390000</td>\n",
       "      <td>5.4</td>\n",
       "    </tr>\n",
       "    <tr>\n",
       "      <th>3</th>\n",
       "      <td>3</td>\n",
       "      <td>30</td>\n",
       "      <td>8.523333</td>\n",
       "      <td>8.5</td>\n",
       "    </tr>\n",
       "    <tr>\n",
       "      <th>4</th>\n",
       "      <td>4</td>\n",
       "      <td>30</td>\n",
       "      <td>9.696111</td>\n",
       "      <td>9.7</td>\n",
       "    </tr>\n",
       "    <tr>\n",
       "      <th>5</th>\n",
       "      <td>5</td>\n",
       "      <td>30</td>\n",
       "      <td>10.536667</td>\n",
       "      <td>10.5</td>\n",
       "    </tr>\n",
       "    <tr>\n",
       "      <th>6</th>\n",
       "      <td>6</td>\n",
       "      <td>1</td>\n",
       "      <td>6.716667</td>\n",
       "      <td>6.7</td>\n",
       "    </tr>\n",
       "  </tbody>\n",
       "</table>\n",
       "</div>"
      ],
      "text/plain": [
       "   Months Old  Count      Hours  Rounded_Hours\n",
       "0           0     30   2.818889            2.8\n",
       "1           1     30   3.556667            3.6\n",
       "2           2     30   5.390000            5.4\n",
       "3           3     30   8.523333            8.5\n",
       "4           4     30   9.696111            9.7\n",
       "5           5     30  10.536667           10.5\n",
       "6           6      1   6.716667            6.7"
      ]
     },
     "execution_count": 27,
     "metadata": {},
     "output_type": "execute_result"
    }
   ],
   "source": [
    "df_average_longest_sleep_period_by_month = \\\n",
    "df_longest_sleep_periods_by_day.pivot_table(\n",
    "    index = 'Months Old', values = ['Hours', 'Count'], \n",
    "    aggfunc = 'sum').reset_index()\n",
    "df_average_longest_sleep_period_by_month['Hours'] /= \\\n",
    "df_average_longest_sleep_period_by_month['Count']\n",
    "\n",
    "add_rounded_values(df_average_longest_sleep_period_by_month)\n",
    "\n",
    "df_average_longest_sleep_period_by_month.to_csv(\n",
    "    f'{data_output_folder}average_longest_sleep_period_by_month.csv', \n",
    "    index = False)\n",
    "df_average_longest_sleep_period_by_month"
   ]
  },
  {
   "cell_type": "markdown",
   "metadata": {},
   "source": [
    "## Charting these longest sleep periods via Plotly, then saving the output to .png and .html files:"
   ]
  },
  {
   "cell_type": "code",
   "execution_count": 28,
   "metadata": {
    "execution": {
     "iopub.execute_input": "2024-05-14T17:17:19.838910Z",
     "iopub.status.busy": "2024-05-14T17:17:19.838910Z",
     "iopub.status.idle": "2024-05-14T17:17:21.349103Z",
     "shell.execute_reply": "2024-05-14T17:17:21.349103Z",
     "shell.execute_reply.started": "2024-05-14T17:17:19.838910Z"
    }
   },
   "outputs": [
    {
     "data": {
      "application/vnd.plotly.v1+json": {
       "config": {
        "plotlyServerURL": "https://plot.ly"
       },
       "data": [
        {
         "hovertemplate": "Days Old=%{x}<br>Hours=%{y}<extra></extra>",
         "legendgroup": "",
         "line": {
          "color": "#636efa",
          "dash": "solid"
         },
         "marker": {
          "symbol": "circle"
         },
         "mode": "lines",
         "name": "",
         "orientation": "v",
         "showlegend": false,
         "type": "scatter",
         "x": [
          0,
          1,
          2,
          3,
          4,
          5,
          6,
          7,
          8,
          9,
          10,
          11,
          12,
          13,
          14,
          15,
          16,
          17,
          18,
          19,
          20,
          21,
          22,
          23,
          24,
          25,
          26,
          27,
          28,
          29,
          30,
          31,
          32,
          33,
          34,
          35,
          36,
          37,
          38,
          39,
          40,
          41,
          42,
          43,
          44,
          45,
          46,
          47,
          48,
          49,
          50,
          51,
          52,
          53,
          54,
          55,
          56,
          57,
          58,
          59,
          60,
          61,
          62,
          63,
          64,
          65,
          66,
          67,
          68,
          69,
          70,
          71,
          72,
          73,
          74,
          75,
          76,
          77,
          78,
          79,
          80,
          81,
          82,
          83,
          84,
          85,
          86,
          87,
          88,
          89,
          90,
          91,
          92,
          93,
          94,
          95,
          96,
          97,
          98,
          99,
          100,
          101,
          102,
          103,
          104,
          105,
          106,
          107,
          108,
          109,
          110,
          111,
          112,
          113,
          114,
          115,
          116,
          117,
          118,
          119,
          120,
          121,
          122,
          123,
          124,
          125,
          126,
          127,
          128,
          129,
          130,
          131,
          132,
          133,
          134,
          135,
          136,
          137,
          138,
          139,
          140,
          141,
          142,
          143,
          144,
          145,
          146,
          147,
          148,
          149,
          150,
          151,
          152,
          153,
          154,
          155,
          156,
          157,
          158,
          159,
          160,
          161,
          162,
          163,
          164,
          165,
          166,
          167,
          168,
          169,
          170,
          171,
          172,
          173,
          174,
          175,
          176,
          177,
          178,
          179,
          180
         ],
         "xaxis": "x",
         "y": [
          2.933333333333333,
          2.933333333333333,
          2.8833333333333333,
          2.6666666666666665,
          2.8,
          2.9,
          2.9833333333333334,
          2.95,
          2.783333333333333,
          2.9,
          2.5,
          2.7666666666666666,
          2.933333333333333,
          2.8666666666666667,
          2.75,
          2.5166666666666666,
          2.65,
          2.7666666666666666,
          2.65,
          2.7666666666666666,
          2.8833333333333333,
          2.9166666666666665,
          2.683333333333333,
          2.95,
          2.75,
          3.033333333333333,
          2.8333333333333335,
          2.95,
          2.85,
          2.816666666666667,
          3.466666666666667,
          3.683333333333333,
          3.783333333333333,
          2.9833333333333334,
          2.8833333333333333,
          3.933333333333333,
          2.9,
          2.9833333333333334,
          2.8333333333333335,
          3.05,
          3.4833333333333334,
          2.9833333333333334,
          3.4833333333333334,
          2.95,
          4.216666666666667,
          4.15,
          2.9833333333333334,
          4.683333333333334,
          2.75,
          3.45,
          3.15,
          4.75,
          4.633333333333334,
          4.833333333333333,
          2.85,
          3.3,
          3.466666666666667,
          4.633333333333334,
          3,
          4.45,
          6.466666666666667,
          6.116666666666666,
          6.166666666666667,
          3.15,
          4.533333333333333,
          6.583333333333333,
          5.316666666666666,
          5.966666666666667,
          3.283333333333333,
          4.633333333333334,
          3.716666666666667,
          7.766666666666667,
          3.3833333333333333,
          3.5166666666666666,
          7.233333333333333,
          7.366666666666666,
          8,
          5.833333333333333,
          5.666666666666667,
          4.716666666666667,
          4.366666666666666,
          6.266666666666667,
          8.216666666666667,
          4.5,
          4.483333333333333,
          3.683333333333333,
          8.183333333333334,
          3.533333333333333,
          4.05,
          5,
          9.233333333333333,
          9.483333333333333,
          7.7,
          6.233333333333333,
          7.85,
          8.733333333333333,
          9.566666666666666,
          8.95,
          10.183333333333334,
          10.016666666666667,
          4.65,
          8.516666666666667,
          7.033333333333333,
          5.833333333333333,
          6.833333333333333,
          4.416666666666667,
          9.65,
          5.083333333333333,
          11.433333333333334,
          11.483333333333333,
          7.616666666666666,
          8.45,
          11.533333333333333,
          6.983333333333333,
          10.416666666666666,
          6.266666666666667,
          7.316666666666666,
          11.716666666666667,
          10.583333333333334,
          11.933333333333334,
          10.133333333333333,
          9.333333333333334,
          9.2,
          11.866666666666667,
          11.033333333333333,
          8.516666666666667,
          11.816666666666666,
          11.9,
          9.466666666666667,
          10.85,
          6.116666666666666,
          5.583333333333333,
          7.766666666666667,
          10.6,
          9.483333333333333,
          7.133333333333334,
          9.133333333333333,
          6.75,
          11.933333333333334,
          6.483333333333333,
          11.9,
          10.516666666666667,
          6.916666666666667,
          8.783333333333333,
          11.816666666666666,
          11.833333333333334,
          11.866666666666667,
          11.816666666666666,
          11.933333333333334,
          8.4,
          7.783333333333333,
          5.616666666666666,
          11.95,
          11.983333333333333,
          10,
          11.9,
          10.416666666666666,
          11.816666666666666,
          11.866666666666667,
          11.55,
          11.95,
          11.85,
          8.316666666666666,
          11.866666666666667,
          9.216666666666667,
          9.683333333333334,
          11.866666666666667,
          11.8,
          9.466666666666667,
          11.933333333333334,
          11.833333333333334,
          6.933333333333334,
          11.833333333333334,
          7.1,
          10.683333333333334,
          11.816666666666666,
          11.966666666666667,
          7.2,
          11.983333333333333,
          11.916666666666666,
          6.716666666666667
         ],
         "yaxis": "y"
        }
       ],
       "layout": {
        "legend": {
         "tracegroupgap": 0
        },
        "template": {
         "data": {
          "bar": [
           {
            "error_x": {
             "color": "#2a3f5f"
            },
            "error_y": {
             "color": "#2a3f5f"
            },
            "marker": {
             "line": {
              "color": "#E5ECF6",
              "width": 0.5
             },
             "pattern": {
              "fillmode": "overlay",
              "size": 10,
              "solidity": 0.2
             }
            },
            "type": "bar"
           }
          ],
          "barpolar": [
           {
            "marker": {
             "line": {
              "color": "#E5ECF6",
              "width": 0.5
             },
             "pattern": {
              "fillmode": "overlay",
              "size": 10,
              "solidity": 0.2
             }
            },
            "type": "barpolar"
           }
          ],
          "carpet": [
           {
            "aaxis": {
             "endlinecolor": "#2a3f5f",
             "gridcolor": "white",
             "linecolor": "white",
             "minorgridcolor": "white",
             "startlinecolor": "#2a3f5f"
            },
            "baxis": {
             "endlinecolor": "#2a3f5f",
             "gridcolor": "white",
             "linecolor": "white",
             "minorgridcolor": "white",
             "startlinecolor": "#2a3f5f"
            },
            "type": "carpet"
           }
          ],
          "choropleth": [
           {
            "colorbar": {
             "outlinewidth": 0,
             "ticks": ""
            },
            "type": "choropleth"
           }
          ],
          "contour": [
           {
            "colorbar": {
             "outlinewidth": 0,
             "ticks": ""
            },
            "colorscale": [
             [
              0,
              "#0d0887"
             ],
             [
              0.1111111111111111,
              "#46039f"
             ],
             [
              0.2222222222222222,
              "#7201a8"
             ],
             [
              0.3333333333333333,
              "#9c179e"
             ],
             [
              0.4444444444444444,
              "#bd3786"
             ],
             [
              0.5555555555555556,
              "#d8576b"
             ],
             [
              0.6666666666666666,
              "#ed7953"
             ],
             [
              0.7777777777777778,
              "#fb9f3a"
             ],
             [
              0.8888888888888888,
              "#fdca26"
             ],
             [
              1,
              "#f0f921"
             ]
            ],
            "type": "contour"
           }
          ],
          "contourcarpet": [
           {
            "colorbar": {
             "outlinewidth": 0,
             "ticks": ""
            },
            "type": "contourcarpet"
           }
          ],
          "heatmap": [
           {
            "colorbar": {
             "outlinewidth": 0,
             "ticks": ""
            },
            "colorscale": [
             [
              0,
              "#0d0887"
             ],
             [
              0.1111111111111111,
              "#46039f"
             ],
             [
              0.2222222222222222,
              "#7201a8"
             ],
             [
              0.3333333333333333,
              "#9c179e"
             ],
             [
              0.4444444444444444,
              "#bd3786"
             ],
             [
              0.5555555555555556,
              "#d8576b"
             ],
             [
              0.6666666666666666,
              "#ed7953"
             ],
             [
              0.7777777777777778,
              "#fb9f3a"
             ],
             [
              0.8888888888888888,
              "#fdca26"
             ],
             [
              1,
              "#f0f921"
             ]
            ],
            "type": "heatmap"
           }
          ],
          "heatmapgl": [
           {
            "colorbar": {
             "outlinewidth": 0,
             "ticks": ""
            },
            "colorscale": [
             [
              0,
              "#0d0887"
             ],
             [
              0.1111111111111111,
              "#46039f"
             ],
             [
              0.2222222222222222,
              "#7201a8"
             ],
             [
              0.3333333333333333,
              "#9c179e"
             ],
             [
              0.4444444444444444,
              "#bd3786"
             ],
             [
              0.5555555555555556,
              "#d8576b"
             ],
             [
              0.6666666666666666,
              "#ed7953"
             ],
             [
              0.7777777777777778,
              "#fb9f3a"
             ],
             [
              0.8888888888888888,
              "#fdca26"
             ],
             [
              1,
              "#f0f921"
             ]
            ],
            "type": "heatmapgl"
           }
          ],
          "histogram": [
           {
            "marker": {
             "pattern": {
              "fillmode": "overlay",
              "size": 10,
              "solidity": 0.2
             }
            },
            "type": "histogram"
           }
          ],
          "histogram2d": [
           {
            "colorbar": {
             "outlinewidth": 0,
             "ticks": ""
            },
            "colorscale": [
             [
              0,
              "#0d0887"
             ],
             [
              0.1111111111111111,
              "#46039f"
             ],
             [
              0.2222222222222222,
              "#7201a8"
             ],
             [
              0.3333333333333333,
              "#9c179e"
             ],
             [
              0.4444444444444444,
              "#bd3786"
             ],
             [
              0.5555555555555556,
              "#d8576b"
             ],
             [
              0.6666666666666666,
              "#ed7953"
             ],
             [
              0.7777777777777778,
              "#fb9f3a"
             ],
             [
              0.8888888888888888,
              "#fdca26"
             ],
             [
              1,
              "#f0f921"
             ]
            ],
            "type": "histogram2d"
           }
          ],
          "histogram2dcontour": [
           {
            "colorbar": {
             "outlinewidth": 0,
             "ticks": ""
            },
            "colorscale": [
             [
              0,
              "#0d0887"
             ],
             [
              0.1111111111111111,
              "#46039f"
             ],
             [
              0.2222222222222222,
              "#7201a8"
             ],
             [
              0.3333333333333333,
              "#9c179e"
             ],
             [
              0.4444444444444444,
              "#bd3786"
             ],
             [
              0.5555555555555556,
              "#d8576b"
             ],
             [
              0.6666666666666666,
              "#ed7953"
             ],
             [
              0.7777777777777778,
              "#fb9f3a"
             ],
             [
              0.8888888888888888,
              "#fdca26"
             ],
             [
              1,
              "#f0f921"
             ]
            ],
            "type": "histogram2dcontour"
           }
          ],
          "mesh3d": [
           {
            "colorbar": {
             "outlinewidth": 0,
             "ticks": ""
            },
            "type": "mesh3d"
           }
          ],
          "parcoords": [
           {
            "line": {
             "colorbar": {
              "outlinewidth": 0,
              "ticks": ""
             }
            },
            "type": "parcoords"
           }
          ],
          "pie": [
           {
            "automargin": true,
            "type": "pie"
           }
          ],
          "scatter": [
           {
            "fillpattern": {
             "fillmode": "overlay",
             "size": 10,
             "solidity": 0.2
            },
            "type": "scatter"
           }
          ],
          "scatter3d": [
           {
            "line": {
             "colorbar": {
              "outlinewidth": 0,
              "ticks": ""
             }
            },
            "marker": {
             "colorbar": {
              "outlinewidth": 0,
              "ticks": ""
             }
            },
            "type": "scatter3d"
           }
          ],
          "scattercarpet": [
           {
            "marker": {
             "colorbar": {
              "outlinewidth": 0,
              "ticks": ""
             }
            },
            "type": "scattercarpet"
           }
          ],
          "scattergeo": [
           {
            "marker": {
             "colorbar": {
              "outlinewidth": 0,
              "ticks": ""
             }
            },
            "type": "scattergeo"
           }
          ],
          "scattergl": [
           {
            "marker": {
             "colorbar": {
              "outlinewidth": 0,
              "ticks": ""
             }
            },
            "type": "scattergl"
           }
          ],
          "scattermapbox": [
           {
            "marker": {
             "colorbar": {
              "outlinewidth": 0,
              "ticks": ""
             }
            },
            "type": "scattermapbox"
           }
          ],
          "scatterpolar": [
           {
            "marker": {
             "colorbar": {
              "outlinewidth": 0,
              "ticks": ""
             }
            },
            "type": "scatterpolar"
           }
          ],
          "scatterpolargl": [
           {
            "marker": {
             "colorbar": {
              "outlinewidth": 0,
              "ticks": ""
             }
            },
            "type": "scatterpolargl"
           }
          ],
          "scatterternary": [
           {
            "marker": {
             "colorbar": {
              "outlinewidth": 0,
              "ticks": ""
             }
            },
            "type": "scatterternary"
           }
          ],
          "surface": [
           {
            "colorbar": {
             "outlinewidth": 0,
             "ticks": ""
            },
            "colorscale": [
             [
              0,
              "#0d0887"
             ],
             [
              0.1111111111111111,
              "#46039f"
             ],
             [
              0.2222222222222222,
              "#7201a8"
             ],
             [
              0.3333333333333333,
              "#9c179e"
             ],
             [
              0.4444444444444444,
              "#bd3786"
             ],
             [
              0.5555555555555556,
              "#d8576b"
             ],
             [
              0.6666666666666666,
              "#ed7953"
             ],
             [
              0.7777777777777778,
              "#fb9f3a"
             ],
             [
              0.8888888888888888,
              "#fdca26"
             ],
             [
              1,
              "#f0f921"
             ]
            ],
            "type": "surface"
           }
          ],
          "table": [
           {
            "cells": {
             "fill": {
              "color": "#EBF0F8"
             },
             "line": {
              "color": "white"
             }
            },
            "header": {
             "fill": {
              "color": "#C8D4E3"
             },
             "line": {
              "color": "white"
             }
            },
            "type": "table"
           }
          ]
         },
         "layout": {
          "annotationdefaults": {
           "arrowcolor": "#2a3f5f",
           "arrowhead": 0,
           "arrowwidth": 1
          },
          "autotypenumbers": "strict",
          "coloraxis": {
           "colorbar": {
            "outlinewidth": 0,
            "ticks": ""
           }
          },
          "colorscale": {
           "diverging": [
            [
             0,
             "#8e0152"
            ],
            [
             0.1,
             "#c51b7d"
            ],
            [
             0.2,
             "#de77ae"
            ],
            [
             0.3,
             "#f1b6da"
            ],
            [
             0.4,
             "#fde0ef"
            ],
            [
             0.5,
             "#f7f7f7"
            ],
            [
             0.6,
             "#e6f5d0"
            ],
            [
             0.7,
             "#b8e186"
            ],
            [
             0.8,
             "#7fbc41"
            ],
            [
             0.9,
             "#4d9221"
            ],
            [
             1,
             "#276419"
            ]
           ],
           "sequential": [
            [
             0,
             "#0d0887"
            ],
            [
             0.1111111111111111,
             "#46039f"
            ],
            [
             0.2222222222222222,
             "#7201a8"
            ],
            [
             0.3333333333333333,
             "#9c179e"
            ],
            [
             0.4444444444444444,
             "#bd3786"
            ],
            [
             0.5555555555555556,
             "#d8576b"
            ],
            [
             0.6666666666666666,
             "#ed7953"
            ],
            [
             0.7777777777777778,
             "#fb9f3a"
            ],
            [
             0.8888888888888888,
             "#fdca26"
            ],
            [
             1,
             "#f0f921"
            ]
           ],
           "sequentialminus": [
            [
             0,
             "#0d0887"
            ],
            [
             0.1111111111111111,
             "#46039f"
            ],
            [
             0.2222222222222222,
             "#7201a8"
            ],
            [
             0.3333333333333333,
             "#9c179e"
            ],
            [
             0.4444444444444444,
             "#bd3786"
            ],
            [
             0.5555555555555556,
             "#d8576b"
            ],
            [
             0.6666666666666666,
             "#ed7953"
            ],
            [
             0.7777777777777778,
             "#fb9f3a"
            ],
            [
             0.8888888888888888,
             "#fdca26"
            ],
            [
             1,
             "#f0f921"
            ]
           ]
          },
          "colorway": [
           "#636efa",
           "#EF553B",
           "#00cc96",
           "#ab63fa",
           "#FFA15A",
           "#19d3f3",
           "#FF6692",
           "#B6E880",
           "#FF97FF",
           "#FECB52"
          ],
          "font": {
           "color": "#2a3f5f"
          },
          "geo": {
           "bgcolor": "white",
           "lakecolor": "white",
           "landcolor": "#E5ECF6",
           "showlakes": true,
           "showland": true,
           "subunitcolor": "white"
          },
          "hoverlabel": {
           "align": "left"
          },
          "hovermode": "closest",
          "mapbox": {
           "style": "light"
          },
          "paper_bgcolor": "white",
          "plot_bgcolor": "#E5ECF6",
          "polar": {
           "angularaxis": {
            "gridcolor": "white",
            "linecolor": "white",
            "ticks": ""
           },
           "bgcolor": "#E5ECF6",
           "radialaxis": {
            "gridcolor": "white",
            "linecolor": "white",
            "ticks": ""
           }
          },
          "scene": {
           "xaxis": {
            "backgroundcolor": "#E5ECF6",
            "gridcolor": "white",
            "gridwidth": 2,
            "linecolor": "white",
            "showbackground": true,
            "ticks": "",
            "zerolinecolor": "white"
           },
           "yaxis": {
            "backgroundcolor": "#E5ECF6",
            "gridcolor": "white",
            "gridwidth": 2,
            "linecolor": "white",
            "showbackground": true,
            "ticks": "",
            "zerolinecolor": "white"
           },
           "zaxis": {
            "backgroundcolor": "#E5ECF6",
            "gridcolor": "white",
            "gridwidth": 2,
            "linecolor": "white",
            "showbackground": true,
            "ticks": "",
            "zerolinecolor": "white"
           }
          },
          "shapedefaults": {
           "line": {
            "color": "#2a3f5f"
           }
          },
          "ternary": {
           "aaxis": {
            "gridcolor": "white",
            "linecolor": "white",
            "ticks": ""
           },
           "baxis": {
            "gridcolor": "white",
            "linecolor": "white",
            "ticks": ""
           },
           "bgcolor": "#E5ECF6",
           "caxis": {
            "gridcolor": "white",
            "linecolor": "white",
            "ticks": ""
           }
          },
          "title": {
           "x": 0.05
          },
          "xaxis": {
           "automargin": true,
           "gridcolor": "white",
           "linecolor": "white",
           "ticks": "",
           "title": {
            "standoff": 15
           },
           "zerolinecolor": "white",
           "zerolinewidth": 2
          },
          "yaxis": {
           "automargin": true,
           "gridcolor": "white",
           "linecolor": "white",
           "ticks": "",
           "title": {
            "standoff": 15
           },
           "zerolinecolor": "white",
           "zerolinewidth": 2
          }
         }
        },
        "title": {
         "text": "Longest Sleep Periods by Age (in Days)"
        },
        "xaxis": {
         "anchor": "y",
         "domain": [
          0,
          1
         ],
         "title": {
          "text": "Days Old"
         }
        },
        "yaxis": {
         "anchor": "x",
         "domain": [
          0,
          1
         ],
         "title": {
          "text": "Hours"
         }
        }
       }
      }
     },
     "metadata": {},
     "output_type": "display_data"
    }
   ],
   "source": [
    "px_longest_sleep_periods_by_day = px.line(\n",
    "    df_longest_sleep_periods_by_day, x = 'Days Old', y = 'Hours',\n",
    "title = 'Longest Sleep Periods by Age (in Days)')\n",
    "\n",
    "px_longest_sleep_periods_by_day.write_html(\n",
    "    f'{visualizations_folder}longest_sleep_periods_by_day.html')\n",
    "px_longest_sleep_periods_by_day.write_image(\n",
    "    f'{visualizations_folder}longest_sleep_periods_by_day.png', scale = 4)\n",
    "px_longest_sleep_periods_by_day\n"
   ]
  },
  {
   "cell_type": "code",
   "execution_count": 29,
   "metadata": {
    "execution": {
     "iopub.execute_input": "2024-05-14T17:17:21.350113Z",
     "iopub.status.busy": "2024-05-14T17:17:21.350113Z",
     "iopub.status.idle": "2024-05-14T17:17:21.594195Z",
     "shell.execute_reply": "2024-05-14T17:17:21.594195Z",
     "shell.execute_reply.started": "2024-05-14T17:17:21.350113Z"
    }
   },
   "outputs": [
    {
     "data": {
      "application/vnd.plotly.v1+json": {
       "config": {
        "plotlyServerURL": "https://plot.ly"
       },
       "data": [
        {
         "hovertemplate": "Days Old=%{x}<br>Hours=%{y}<extra></extra>",
         "legendgroup": "",
         "marker": {
          "color": "#636efa",
          "symbol": "circle"
         },
         "mode": "markers",
         "name": "",
         "orientation": "v",
         "showlegend": false,
         "type": "scatter",
         "x": [
          0,
          1,
          2,
          3,
          4,
          5,
          6,
          7,
          8,
          9,
          10,
          11,
          12,
          13,
          14,
          15,
          16,
          17,
          18,
          19,
          20,
          21,
          22,
          23,
          24,
          25,
          26,
          27,
          28,
          29,
          30,
          31,
          32,
          33,
          34,
          35,
          36,
          37,
          38,
          39,
          40,
          41,
          42,
          43,
          44,
          45,
          46,
          47,
          48,
          49,
          50,
          51,
          52,
          53,
          54,
          55,
          56,
          57,
          58,
          59,
          60,
          61,
          62,
          63,
          64,
          65,
          66,
          67,
          68,
          69,
          70,
          71,
          72,
          73,
          74,
          75,
          76,
          77,
          78,
          79,
          80,
          81,
          82,
          83,
          84,
          85,
          86,
          87,
          88,
          89,
          90,
          91,
          92,
          93,
          94,
          95,
          96,
          97,
          98,
          99,
          100,
          101,
          102,
          103,
          104,
          105,
          106,
          107,
          108,
          109,
          110,
          111,
          112,
          113,
          114,
          115,
          116,
          117,
          118,
          119,
          120,
          121,
          122,
          123,
          124,
          125,
          126,
          127,
          128,
          129,
          130,
          131,
          132,
          133,
          134,
          135,
          136,
          137,
          138,
          139,
          140,
          141,
          142,
          143,
          144,
          145,
          146,
          147,
          148,
          149,
          150,
          151,
          152,
          153,
          154,
          155,
          156,
          157,
          158,
          159,
          160,
          161,
          162,
          163,
          164,
          165,
          166,
          167,
          168,
          169,
          170,
          171,
          172,
          173,
          174,
          175,
          176,
          177,
          178,
          179,
          180
         ],
         "xaxis": "x",
         "y": [
          2.933333333333333,
          2.933333333333333,
          2.8833333333333333,
          2.6666666666666665,
          2.8,
          2.9,
          2.9833333333333334,
          2.95,
          2.783333333333333,
          2.9,
          2.5,
          2.7666666666666666,
          2.933333333333333,
          2.8666666666666667,
          2.75,
          2.5166666666666666,
          2.65,
          2.7666666666666666,
          2.65,
          2.7666666666666666,
          2.8833333333333333,
          2.9166666666666665,
          2.683333333333333,
          2.95,
          2.75,
          3.033333333333333,
          2.8333333333333335,
          2.95,
          2.85,
          2.816666666666667,
          3.466666666666667,
          3.683333333333333,
          3.783333333333333,
          2.9833333333333334,
          2.8833333333333333,
          3.933333333333333,
          2.9,
          2.9833333333333334,
          2.8333333333333335,
          3.05,
          3.4833333333333334,
          2.9833333333333334,
          3.4833333333333334,
          2.95,
          4.216666666666667,
          4.15,
          2.9833333333333334,
          4.683333333333334,
          2.75,
          3.45,
          3.15,
          4.75,
          4.633333333333334,
          4.833333333333333,
          2.85,
          3.3,
          3.466666666666667,
          4.633333333333334,
          3,
          4.45,
          6.466666666666667,
          6.116666666666666,
          6.166666666666667,
          3.15,
          4.533333333333333,
          6.583333333333333,
          5.316666666666666,
          5.966666666666667,
          3.283333333333333,
          4.633333333333334,
          3.716666666666667,
          7.766666666666667,
          3.3833333333333333,
          3.5166666666666666,
          7.233333333333333,
          7.366666666666666,
          8,
          5.833333333333333,
          5.666666666666667,
          4.716666666666667,
          4.366666666666666,
          6.266666666666667,
          8.216666666666667,
          4.5,
          4.483333333333333,
          3.683333333333333,
          8.183333333333334,
          3.533333333333333,
          4.05,
          5,
          9.233333333333333,
          9.483333333333333,
          7.7,
          6.233333333333333,
          7.85,
          8.733333333333333,
          9.566666666666666,
          8.95,
          10.183333333333334,
          10.016666666666667,
          4.65,
          8.516666666666667,
          7.033333333333333,
          5.833333333333333,
          6.833333333333333,
          4.416666666666667,
          9.65,
          5.083333333333333,
          11.433333333333334,
          11.483333333333333,
          7.616666666666666,
          8.45,
          11.533333333333333,
          6.983333333333333,
          10.416666666666666,
          6.266666666666667,
          7.316666666666666,
          11.716666666666667,
          10.583333333333334,
          11.933333333333334,
          10.133333333333333,
          9.333333333333334,
          9.2,
          11.866666666666667,
          11.033333333333333,
          8.516666666666667,
          11.816666666666666,
          11.9,
          9.466666666666667,
          10.85,
          6.116666666666666,
          5.583333333333333,
          7.766666666666667,
          10.6,
          9.483333333333333,
          7.133333333333334,
          9.133333333333333,
          6.75,
          11.933333333333334,
          6.483333333333333,
          11.9,
          10.516666666666667,
          6.916666666666667,
          8.783333333333333,
          11.816666666666666,
          11.833333333333334,
          11.866666666666667,
          11.816666666666666,
          11.933333333333334,
          8.4,
          7.783333333333333,
          5.616666666666666,
          11.95,
          11.983333333333333,
          10,
          11.9,
          10.416666666666666,
          11.816666666666666,
          11.866666666666667,
          11.55,
          11.95,
          11.85,
          8.316666666666666,
          11.866666666666667,
          9.216666666666667,
          9.683333333333334,
          11.866666666666667,
          11.8,
          9.466666666666667,
          11.933333333333334,
          11.833333333333334,
          6.933333333333334,
          11.833333333333334,
          7.1,
          10.683333333333334,
          11.816666666666666,
          11.966666666666667,
          7.2,
          11.983333333333333,
          11.916666666666666,
          6.716666666666667
         ],
         "yaxis": "y"
        },
        {
         "hovertemplate": "<b>OLS trendline</b><br>Hours = 0.0552861 * Days Old + 1.77766<br>R<sup>2</sup>=0.730885<br><br>Days Old=%{x}<br>Hours=%{y} <b>(trend)</b><extra></extra>",
         "legendgroup": "",
         "marker": {
          "color": "#636efa",
          "symbol": "circle"
         },
         "mode": "lines",
         "name": "",
         "showlegend": false,
         "type": "scatter",
         "x": [
          0,
          1,
          2,
          3,
          4,
          5,
          6,
          7,
          8,
          9,
          10,
          11,
          12,
          13,
          14,
          15,
          16,
          17,
          18,
          19,
          20,
          21,
          22,
          23,
          24,
          25,
          26,
          27,
          28,
          29,
          30,
          31,
          32,
          33,
          34,
          35,
          36,
          37,
          38,
          39,
          40,
          41,
          42,
          43,
          44,
          45,
          46,
          47,
          48,
          49,
          50,
          51,
          52,
          53,
          54,
          55,
          56,
          57,
          58,
          59,
          60,
          61,
          62,
          63,
          64,
          65,
          66,
          67,
          68,
          69,
          70,
          71,
          72,
          73,
          74,
          75,
          76,
          77,
          78,
          79,
          80,
          81,
          82,
          83,
          84,
          85,
          86,
          87,
          88,
          89,
          90,
          91,
          92,
          93,
          94,
          95,
          96,
          97,
          98,
          99,
          100,
          101,
          102,
          103,
          104,
          105,
          106,
          107,
          108,
          109,
          110,
          111,
          112,
          113,
          114,
          115,
          116,
          117,
          118,
          119,
          120,
          121,
          122,
          123,
          124,
          125,
          126,
          127,
          128,
          129,
          130,
          131,
          132,
          133,
          134,
          135,
          136,
          137,
          138,
          139,
          140,
          141,
          142,
          143,
          144,
          145,
          146,
          147,
          148,
          149,
          150,
          151,
          152,
          153,
          154,
          155,
          156,
          157,
          158,
          159,
          160,
          161,
          162,
          163,
          164,
          165,
          166,
          167,
          168,
          169,
          170,
          171,
          172,
          173,
          174,
          175,
          176,
          177,
          178,
          179,
          180
         ],
         "xaxis": "x",
         "y": [
          1.7776587132940727,
          1.8329448053481205,
          1.8882308974021682,
          1.943516989456216,
          1.998803081510264,
          2.0540891735643116,
          2.1093752656183598,
          2.1646613576724074,
          2.2199474497264555,
          2.275233541780503,
          2.330519633834551,
          2.3858057258885985,
          2.4410918179426466,
          2.4963779099966947,
          2.5516640020507424,
          2.60695009410479,
          2.6622361861588377,
          2.717522278212886,
          2.7728083702669335,
          2.8280944623209816,
          2.8833805543750293,
          2.938666646429077,
          2.9939527384831246,
          3.0492388305371727,
          3.104524922591221,
          3.1598110146452685,
          3.215097106699316,
          3.270383198753364,
          3.325669290807412,
          3.38095538286146,
          3.4362414749155077,
          3.4915275669695554,
          3.546813659023603,
          3.602099751077651,
          3.6573858431316992,
          3.712671935185747,
          3.7679580272397946,
          3.8232441192938422,
          3.87853021134789,
          3.9338163034019384,
          3.989102395455986,
          4.044388487510034,
          4.099674579564081,
          4.154960671618129,
          4.210246763672177,
          4.265532855726225,
          4.320818947780273,
          4.376105039834321,
          4.431391131888368,
          4.486677223942416,
          4.5419633159964645,
          4.597249408050512,
          4.65253550010456,
          4.7078215921586075,
          4.763107684212655,
          4.818393776266704,
          4.873679868320751,
          4.928965960374799,
          4.984252052428847,
          5.039538144482894,
          5.094824236536942,
          5.150110328590991,
          5.205396420645038,
          5.260682512699086,
          5.315968604753134,
          5.371254696807181,
          5.42654078886123,
          5.4818268809152775,
          5.537112972969325,
          5.592399065023373,
          5.6476851570774205,
          5.702971249131469,
          5.758257341185517,
          5.813543433239564,
          5.868829525293612,
          5.92411561734766,
          5.979401709401707,
          6.034687801455755,
          6.089973893509804,
          6.145259985563851,
          6.200546077617899,
          6.2558321696719466,
          6.311118261725994,
          6.366404353780043,
          6.42169044583409,
          6.476976537888138,
          6.532262629942186,
          6.587548721996233,
          6.642834814050281,
          6.69812090610433,
          6.753406998158377,
          6.808693090212425,
          6.863979182266473,
          6.91926527432052,
          6.974551366374569,
          7.0298374584286165,
          7.085123550482664,
          7.140409642536712,
          7.1956957345907595,
          7.250981826644808,
          7.306267918698856,
          7.361554010752903,
          7.416840102806951,
          7.472126194860999,
          7.527412286915047,
          7.582698378969095,
          7.637984471023143,
          7.69327056307719,
          7.748556655131238,
          7.803842747185286,
          7.859128839239334,
          7.914414931293382,
          7.9697010233474295,
          8.024987115401478,
          8.080273207455525,
          8.135559299509573,
          8.190845391563622,
          8.246131483617669,
          8.301417575671717,
          8.356703667725764,
          8.411989759779813,
          8.467275851833861,
          8.522561943887908,
          8.577848035941956,
          8.633134127996003,
          8.688420220050052,
          8.7437063121041,
          8.798992404158147,
          8.854278496212196,
          8.909564588266242,
          8.964850680320291,
          9.02013677237434,
          9.075422864428386,
          9.130708956482435,
          9.185995048536482,
          9.24128114059053,
          9.296567232644579,
          9.351853324698626,
          9.407139416752674,
          9.46242550880672,
          9.51771160086077,
          9.572997692914816,
          9.628283784968865,
          9.683569877022913,
          9.73885596907696,
          9.794142061131009,
          9.849428153185057,
          9.904714245239104,
          9.960000337293152,
          10.0152864293472,
          10.070572521401248,
          10.125858613455296,
          10.181144705509343,
          10.236430797563392,
          10.291716889617438,
          10.347002981671487,
          10.402289073725536,
          10.457575165779582,
          10.512861257833631,
          10.568147349887678,
          10.623433441941726,
          10.678719533995775,
          10.734005626049822,
          10.78929171810387,
          10.844577810157917,
          10.899863902211965,
          10.955149994266014,
          11.01043608632006,
          11.06572217837411,
          11.121008270428156,
          11.176294362482205,
          11.231580454536253,
          11.2868665465903,
          11.342152638644349,
          11.397438730698395,
          11.452724822752444,
          11.50801091480649,
          11.56329700686054,
          11.618583098914588,
          11.673869190968635,
          11.729155283022683
         ],
         "yaxis": "y"
        }
       ],
       "layout": {
        "legend": {
         "tracegroupgap": 0
        },
        "template": {
         "data": {
          "bar": [
           {
            "error_x": {
             "color": "#2a3f5f"
            },
            "error_y": {
             "color": "#2a3f5f"
            },
            "marker": {
             "line": {
              "color": "#E5ECF6",
              "width": 0.5
             },
             "pattern": {
              "fillmode": "overlay",
              "size": 10,
              "solidity": 0.2
             }
            },
            "type": "bar"
           }
          ],
          "barpolar": [
           {
            "marker": {
             "line": {
              "color": "#E5ECF6",
              "width": 0.5
             },
             "pattern": {
              "fillmode": "overlay",
              "size": 10,
              "solidity": 0.2
             }
            },
            "type": "barpolar"
           }
          ],
          "carpet": [
           {
            "aaxis": {
             "endlinecolor": "#2a3f5f",
             "gridcolor": "white",
             "linecolor": "white",
             "minorgridcolor": "white",
             "startlinecolor": "#2a3f5f"
            },
            "baxis": {
             "endlinecolor": "#2a3f5f",
             "gridcolor": "white",
             "linecolor": "white",
             "minorgridcolor": "white",
             "startlinecolor": "#2a3f5f"
            },
            "type": "carpet"
           }
          ],
          "choropleth": [
           {
            "colorbar": {
             "outlinewidth": 0,
             "ticks": ""
            },
            "type": "choropleth"
           }
          ],
          "contour": [
           {
            "colorbar": {
             "outlinewidth": 0,
             "ticks": ""
            },
            "colorscale": [
             [
              0,
              "#0d0887"
             ],
             [
              0.1111111111111111,
              "#46039f"
             ],
             [
              0.2222222222222222,
              "#7201a8"
             ],
             [
              0.3333333333333333,
              "#9c179e"
             ],
             [
              0.4444444444444444,
              "#bd3786"
             ],
             [
              0.5555555555555556,
              "#d8576b"
             ],
             [
              0.6666666666666666,
              "#ed7953"
             ],
             [
              0.7777777777777778,
              "#fb9f3a"
             ],
             [
              0.8888888888888888,
              "#fdca26"
             ],
             [
              1,
              "#f0f921"
             ]
            ],
            "type": "contour"
           }
          ],
          "contourcarpet": [
           {
            "colorbar": {
             "outlinewidth": 0,
             "ticks": ""
            },
            "type": "contourcarpet"
           }
          ],
          "heatmap": [
           {
            "colorbar": {
             "outlinewidth": 0,
             "ticks": ""
            },
            "colorscale": [
             [
              0,
              "#0d0887"
             ],
             [
              0.1111111111111111,
              "#46039f"
             ],
             [
              0.2222222222222222,
              "#7201a8"
             ],
             [
              0.3333333333333333,
              "#9c179e"
             ],
             [
              0.4444444444444444,
              "#bd3786"
             ],
             [
              0.5555555555555556,
              "#d8576b"
             ],
             [
              0.6666666666666666,
              "#ed7953"
             ],
             [
              0.7777777777777778,
              "#fb9f3a"
             ],
             [
              0.8888888888888888,
              "#fdca26"
             ],
             [
              1,
              "#f0f921"
             ]
            ],
            "type": "heatmap"
           }
          ],
          "heatmapgl": [
           {
            "colorbar": {
             "outlinewidth": 0,
             "ticks": ""
            },
            "colorscale": [
             [
              0,
              "#0d0887"
             ],
             [
              0.1111111111111111,
              "#46039f"
             ],
             [
              0.2222222222222222,
              "#7201a8"
             ],
             [
              0.3333333333333333,
              "#9c179e"
             ],
             [
              0.4444444444444444,
              "#bd3786"
             ],
             [
              0.5555555555555556,
              "#d8576b"
             ],
             [
              0.6666666666666666,
              "#ed7953"
             ],
             [
              0.7777777777777778,
              "#fb9f3a"
             ],
             [
              0.8888888888888888,
              "#fdca26"
             ],
             [
              1,
              "#f0f921"
             ]
            ],
            "type": "heatmapgl"
           }
          ],
          "histogram": [
           {
            "marker": {
             "pattern": {
              "fillmode": "overlay",
              "size": 10,
              "solidity": 0.2
             }
            },
            "type": "histogram"
           }
          ],
          "histogram2d": [
           {
            "colorbar": {
             "outlinewidth": 0,
             "ticks": ""
            },
            "colorscale": [
             [
              0,
              "#0d0887"
             ],
             [
              0.1111111111111111,
              "#46039f"
             ],
             [
              0.2222222222222222,
              "#7201a8"
             ],
             [
              0.3333333333333333,
              "#9c179e"
             ],
             [
              0.4444444444444444,
              "#bd3786"
             ],
             [
              0.5555555555555556,
              "#d8576b"
             ],
             [
              0.6666666666666666,
              "#ed7953"
             ],
             [
              0.7777777777777778,
              "#fb9f3a"
             ],
             [
              0.8888888888888888,
              "#fdca26"
             ],
             [
              1,
              "#f0f921"
             ]
            ],
            "type": "histogram2d"
           }
          ],
          "histogram2dcontour": [
           {
            "colorbar": {
             "outlinewidth": 0,
             "ticks": ""
            },
            "colorscale": [
             [
              0,
              "#0d0887"
             ],
             [
              0.1111111111111111,
              "#46039f"
             ],
             [
              0.2222222222222222,
              "#7201a8"
             ],
             [
              0.3333333333333333,
              "#9c179e"
             ],
             [
              0.4444444444444444,
              "#bd3786"
             ],
             [
              0.5555555555555556,
              "#d8576b"
             ],
             [
              0.6666666666666666,
              "#ed7953"
             ],
             [
              0.7777777777777778,
              "#fb9f3a"
             ],
             [
              0.8888888888888888,
              "#fdca26"
             ],
             [
              1,
              "#f0f921"
             ]
            ],
            "type": "histogram2dcontour"
           }
          ],
          "mesh3d": [
           {
            "colorbar": {
             "outlinewidth": 0,
             "ticks": ""
            },
            "type": "mesh3d"
           }
          ],
          "parcoords": [
           {
            "line": {
             "colorbar": {
              "outlinewidth": 0,
              "ticks": ""
             }
            },
            "type": "parcoords"
           }
          ],
          "pie": [
           {
            "automargin": true,
            "type": "pie"
           }
          ],
          "scatter": [
           {
            "fillpattern": {
             "fillmode": "overlay",
             "size": 10,
             "solidity": 0.2
            },
            "type": "scatter"
           }
          ],
          "scatter3d": [
           {
            "line": {
             "colorbar": {
              "outlinewidth": 0,
              "ticks": ""
             }
            },
            "marker": {
             "colorbar": {
              "outlinewidth": 0,
              "ticks": ""
             }
            },
            "type": "scatter3d"
           }
          ],
          "scattercarpet": [
           {
            "marker": {
             "colorbar": {
              "outlinewidth": 0,
              "ticks": ""
             }
            },
            "type": "scattercarpet"
           }
          ],
          "scattergeo": [
           {
            "marker": {
             "colorbar": {
              "outlinewidth": 0,
              "ticks": ""
             }
            },
            "type": "scattergeo"
           }
          ],
          "scattergl": [
           {
            "marker": {
             "colorbar": {
              "outlinewidth": 0,
              "ticks": ""
             }
            },
            "type": "scattergl"
           }
          ],
          "scattermapbox": [
           {
            "marker": {
             "colorbar": {
              "outlinewidth": 0,
              "ticks": ""
             }
            },
            "type": "scattermapbox"
           }
          ],
          "scatterpolar": [
           {
            "marker": {
             "colorbar": {
              "outlinewidth": 0,
              "ticks": ""
             }
            },
            "type": "scatterpolar"
           }
          ],
          "scatterpolargl": [
           {
            "marker": {
             "colorbar": {
              "outlinewidth": 0,
              "ticks": ""
             }
            },
            "type": "scatterpolargl"
           }
          ],
          "scatterternary": [
           {
            "marker": {
             "colorbar": {
              "outlinewidth": 0,
              "ticks": ""
             }
            },
            "type": "scatterternary"
           }
          ],
          "surface": [
           {
            "colorbar": {
             "outlinewidth": 0,
             "ticks": ""
            },
            "colorscale": [
             [
              0,
              "#0d0887"
             ],
             [
              0.1111111111111111,
              "#46039f"
             ],
             [
              0.2222222222222222,
              "#7201a8"
             ],
             [
              0.3333333333333333,
              "#9c179e"
             ],
             [
              0.4444444444444444,
              "#bd3786"
             ],
             [
              0.5555555555555556,
              "#d8576b"
             ],
             [
              0.6666666666666666,
              "#ed7953"
             ],
             [
              0.7777777777777778,
              "#fb9f3a"
             ],
             [
              0.8888888888888888,
              "#fdca26"
             ],
             [
              1,
              "#f0f921"
             ]
            ],
            "type": "surface"
           }
          ],
          "table": [
           {
            "cells": {
             "fill": {
              "color": "#EBF0F8"
             },
             "line": {
              "color": "white"
             }
            },
            "header": {
             "fill": {
              "color": "#C8D4E3"
             },
             "line": {
              "color": "white"
             }
            },
            "type": "table"
           }
          ]
         },
         "layout": {
          "annotationdefaults": {
           "arrowcolor": "#2a3f5f",
           "arrowhead": 0,
           "arrowwidth": 1
          },
          "autotypenumbers": "strict",
          "coloraxis": {
           "colorbar": {
            "outlinewidth": 0,
            "ticks": ""
           }
          },
          "colorscale": {
           "diverging": [
            [
             0,
             "#8e0152"
            ],
            [
             0.1,
             "#c51b7d"
            ],
            [
             0.2,
             "#de77ae"
            ],
            [
             0.3,
             "#f1b6da"
            ],
            [
             0.4,
             "#fde0ef"
            ],
            [
             0.5,
             "#f7f7f7"
            ],
            [
             0.6,
             "#e6f5d0"
            ],
            [
             0.7,
             "#b8e186"
            ],
            [
             0.8,
             "#7fbc41"
            ],
            [
             0.9,
             "#4d9221"
            ],
            [
             1,
             "#276419"
            ]
           ],
           "sequential": [
            [
             0,
             "#0d0887"
            ],
            [
             0.1111111111111111,
             "#46039f"
            ],
            [
             0.2222222222222222,
             "#7201a8"
            ],
            [
             0.3333333333333333,
             "#9c179e"
            ],
            [
             0.4444444444444444,
             "#bd3786"
            ],
            [
             0.5555555555555556,
             "#d8576b"
            ],
            [
             0.6666666666666666,
             "#ed7953"
            ],
            [
             0.7777777777777778,
             "#fb9f3a"
            ],
            [
             0.8888888888888888,
             "#fdca26"
            ],
            [
             1,
             "#f0f921"
            ]
           ],
           "sequentialminus": [
            [
             0,
             "#0d0887"
            ],
            [
             0.1111111111111111,
             "#46039f"
            ],
            [
             0.2222222222222222,
             "#7201a8"
            ],
            [
             0.3333333333333333,
             "#9c179e"
            ],
            [
             0.4444444444444444,
             "#bd3786"
            ],
            [
             0.5555555555555556,
             "#d8576b"
            ],
            [
             0.6666666666666666,
             "#ed7953"
            ],
            [
             0.7777777777777778,
             "#fb9f3a"
            ],
            [
             0.8888888888888888,
             "#fdca26"
            ],
            [
             1,
             "#f0f921"
            ]
           ]
          },
          "colorway": [
           "#636efa",
           "#EF553B",
           "#00cc96",
           "#ab63fa",
           "#FFA15A",
           "#19d3f3",
           "#FF6692",
           "#B6E880",
           "#FF97FF",
           "#FECB52"
          ],
          "font": {
           "color": "#2a3f5f"
          },
          "geo": {
           "bgcolor": "white",
           "lakecolor": "white",
           "landcolor": "#E5ECF6",
           "showlakes": true,
           "showland": true,
           "subunitcolor": "white"
          },
          "hoverlabel": {
           "align": "left"
          },
          "hovermode": "closest",
          "mapbox": {
           "style": "light"
          },
          "paper_bgcolor": "white",
          "plot_bgcolor": "#E5ECF6",
          "polar": {
           "angularaxis": {
            "gridcolor": "white",
            "linecolor": "white",
            "ticks": ""
           },
           "bgcolor": "#E5ECF6",
           "radialaxis": {
            "gridcolor": "white",
            "linecolor": "white",
            "ticks": ""
           }
          },
          "scene": {
           "xaxis": {
            "backgroundcolor": "#E5ECF6",
            "gridcolor": "white",
            "gridwidth": 2,
            "linecolor": "white",
            "showbackground": true,
            "ticks": "",
            "zerolinecolor": "white"
           },
           "yaxis": {
            "backgroundcolor": "#E5ECF6",
            "gridcolor": "white",
            "gridwidth": 2,
            "linecolor": "white",
            "showbackground": true,
            "ticks": "",
            "zerolinecolor": "white"
           },
           "zaxis": {
            "backgroundcolor": "#E5ECF6",
            "gridcolor": "white",
            "gridwidth": 2,
            "linecolor": "white",
            "showbackground": true,
            "ticks": "",
            "zerolinecolor": "white"
           }
          },
          "shapedefaults": {
           "line": {
            "color": "#2a3f5f"
           }
          },
          "ternary": {
           "aaxis": {
            "gridcolor": "white",
            "linecolor": "white",
            "ticks": ""
           },
           "baxis": {
            "gridcolor": "white",
            "linecolor": "white",
            "ticks": ""
           },
           "bgcolor": "#E5ECF6",
           "caxis": {
            "gridcolor": "white",
            "linecolor": "white",
            "ticks": ""
           }
          },
          "title": {
           "x": 0.05
          },
          "xaxis": {
           "automargin": true,
           "gridcolor": "white",
           "linecolor": "white",
           "ticks": "",
           "title": {
            "standoff": 15
           },
           "zerolinecolor": "white",
           "zerolinewidth": 2
          },
          "yaxis": {
           "automargin": true,
           "gridcolor": "white",
           "linecolor": "white",
           "ticks": "",
           "title": {
            "standoff": 15
           },
           "zerolinecolor": "white",
           "zerolinewidth": 2
          }
         }
        },
        "title": {
         "text": "Longest Sleep Periods by Age (in Days)"
        },
        "xaxis": {
         "anchor": "y",
         "domain": [
          0,
          1
         ],
         "title": {
          "text": "Days Old"
         }
        },
        "yaxis": {
         "anchor": "x",
         "domain": [
          0,
          1
         ],
         "title": {
          "text": "Hours"
         }
        }
       }
      }
     },
     "metadata": {},
     "output_type": "display_data"
    }
   ],
   "source": [
    "# This scatter plot includes a best fit line; hovering over the line\n",
    "# allows you to view its regression coefficients and R^2 values.\n",
    "px_longest_sleep_periods_by_day_scatter = px.scatter(\n",
    "    df_longest_sleep_periods_by_day, x = 'Days Old', y = 'Hours', \n",
    "    trendline = 'ols',\n",
    "    title = 'Longest Sleep Periods by Age (in Days)')\n",
    "\n",
    "px_longest_sleep_periods_by_day_scatter.write_html(\n",
    "    f'{visualizations_folder}longest_sleep_periods_by_day_scatter.html')\n",
    "px_longest_sleep_periods_by_day_scatter.write_image(\n",
    "    f'{visualizations_folder}longest_sleep_periods_by_day_scatter.png', \n",
    "    scale = 4)\n",
    "px_longest_sleep_periods_by_day_scatter\n"
   ]
  },
  {
   "cell_type": "code",
   "execution_count": 30,
   "metadata": {
    "execution": {
     "iopub.execute_input": "2024-05-14T17:17:21.595206Z",
     "iopub.status.busy": "2024-05-14T17:17:21.595206Z",
     "iopub.status.idle": "2024-05-14T17:17:21.764287Z",
     "shell.execute_reply": "2024-05-14T17:17:21.764287Z",
     "shell.execute_reply.started": "2024-05-14T17:17:21.595206Z"
    }
   },
   "outputs": [
    {
     "data": {
      "application/vnd.plotly.v1+json": {
       "config": {
        "plotlyServerURL": "https://plot.ly"
       },
       "data": [
        {
         "hovertemplate": "Weeks Old=%{x}<br>Hours=%{y}<br>Rounded_Hours=%{text}<extra></extra>",
         "legendgroup": "",
         "line": {
          "color": "#636efa",
          "dash": "solid"
         },
         "marker": {
          "symbol": "circle"
         },
         "mode": "lines+markers+text",
         "name": "",
         "orientation": "v",
         "showlegend": false,
         "text": [
          3,
          3,
          3,
          3,
          3,
          3,
          4,
          4,
          5,
          5,
          6,
          6,
          5,
          8,
          8,
          8,
          9,
          10,
          9,
          9,
          11,
          10,
          11,
          11,
          10,
          10
         ],
         "textposition": "top center",
         "type": "scatter",
         "x": [
          0,
          1,
          2,
          3,
          4,
          5,
          6,
          7,
          8,
          9,
          10,
          11,
          12,
          13,
          14,
          15,
          16,
          17,
          18,
          19,
          20,
          21,
          22,
          23,
          24,
          25
         ],
         "xaxis": "x",
         "y": [
          2.871428571428571,
          2.814285714285714,
          2.711904761904762,
          2.873809523809524,
          3.2095238095238097,
          3.166666666666667,
          3.6023809523809525,
          3.852380952380952,
          4.8999999999999995,
          4.780952380952381,
          5.854761904761905,
          5.652380952380952,
          5.452380952380952,
          8.35952380952381,
          7.5809523809523816,
          8.304761904761905,
          9.25952380952381,
          10.288095238095238,
          9.071428571428571,
          8.788095238095238,
          10.51904761904762,
          9.926190476190476,
          11.357142857142858,
          10.657142857142857,
          9.969047619047618,
          10.266666666666666
         ],
         "yaxis": "y"
        }
       ],
       "layout": {
        "legend": {
         "tracegroupgap": 0
        },
        "template": {
         "data": {
          "bar": [
           {
            "error_x": {
             "color": "#2a3f5f"
            },
            "error_y": {
             "color": "#2a3f5f"
            },
            "marker": {
             "line": {
              "color": "#E5ECF6",
              "width": 0.5
             },
             "pattern": {
              "fillmode": "overlay",
              "size": 10,
              "solidity": 0.2
             }
            },
            "type": "bar"
           }
          ],
          "barpolar": [
           {
            "marker": {
             "line": {
              "color": "#E5ECF6",
              "width": 0.5
             },
             "pattern": {
              "fillmode": "overlay",
              "size": 10,
              "solidity": 0.2
             }
            },
            "type": "barpolar"
           }
          ],
          "carpet": [
           {
            "aaxis": {
             "endlinecolor": "#2a3f5f",
             "gridcolor": "white",
             "linecolor": "white",
             "minorgridcolor": "white",
             "startlinecolor": "#2a3f5f"
            },
            "baxis": {
             "endlinecolor": "#2a3f5f",
             "gridcolor": "white",
             "linecolor": "white",
             "minorgridcolor": "white",
             "startlinecolor": "#2a3f5f"
            },
            "type": "carpet"
           }
          ],
          "choropleth": [
           {
            "colorbar": {
             "outlinewidth": 0,
             "ticks": ""
            },
            "type": "choropleth"
           }
          ],
          "contour": [
           {
            "colorbar": {
             "outlinewidth": 0,
             "ticks": ""
            },
            "colorscale": [
             [
              0,
              "#0d0887"
             ],
             [
              0.1111111111111111,
              "#46039f"
             ],
             [
              0.2222222222222222,
              "#7201a8"
             ],
             [
              0.3333333333333333,
              "#9c179e"
             ],
             [
              0.4444444444444444,
              "#bd3786"
             ],
             [
              0.5555555555555556,
              "#d8576b"
             ],
             [
              0.6666666666666666,
              "#ed7953"
             ],
             [
              0.7777777777777778,
              "#fb9f3a"
             ],
             [
              0.8888888888888888,
              "#fdca26"
             ],
             [
              1,
              "#f0f921"
             ]
            ],
            "type": "contour"
           }
          ],
          "contourcarpet": [
           {
            "colorbar": {
             "outlinewidth": 0,
             "ticks": ""
            },
            "type": "contourcarpet"
           }
          ],
          "heatmap": [
           {
            "colorbar": {
             "outlinewidth": 0,
             "ticks": ""
            },
            "colorscale": [
             [
              0,
              "#0d0887"
             ],
             [
              0.1111111111111111,
              "#46039f"
             ],
             [
              0.2222222222222222,
              "#7201a8"
             ],
             [
              0.3333333333333333,
              "#9c179e"
             ],
             [
              0.4444444444444444,
              "#bd3786"
             ],
             [
              0.5555555555555556,
              "#d8576b"
             ],
             [
              0.6666666666666666,
              "#ed7953"
             ],
             [
              0.7777777777777778,
              "#fb9f3a"
             ],
             [
              0.8888888888888888,
              "#fdca26"
             ],
             [
              1,
              "#f0f921"
             ]
            ],
            "type": "heatmap"
           }
          ],
          "heatmapgl": [
           {
            "colorbar": {
             "outlinewidth": 0,
             "ticks": ""
            },
            "colorscale": [
             [
              0,
              "#0d0887"
             ],
             [
              0.1111111111111111,
              "#46039f"
             ],
             [
              0.2222222222222222,
              "#7201a8"
             ],
             [
              0.3333333333333333,
              "#9c179e"
             ],
             [
              0.4444444444444444,
              "#bd3786"
             ],
             [
              0.5555555555555556,
              "#d8576b"
             ],
             [
              0.6666666666666666,
              "#ed7953"
             ],
             [
              0.7777777777777778,
              "#fb9f3a"
             ],
             [
              0.8888888888888888,
              "#fdca26"
             ],
             [
              1,
              "#f0f921"
             ]
            ],
            "type": "heatmapgl"
           }
          ],
          "histogram": [
           {
            "marker": {
             "pattern": {
              "fillmode": "overlay",
              "size": 10,
              "solidity": 0.2
             }
            },
            "type": "histogram"
           }
          ],
          "histogram2d": [
           {
            "colorbar": {
             "outlinewidth": 0,
             "ticks": ""
            },
            "colorscale": [
             [
              0,
              "#0d0887"
             ],
             [
              0.1111111111111111,
              "#46039f"
             ],
             [
              0.2222222222222222,
              "#7201a8"
             ],
             [
              0.3333333333333333,
              "#9c179e"
             ],
             [
              0.4444444444444444,
              "#bd3786"
             ],
             [
              0.5555555555555556,
              "#d8576b"
             ],
             [
              0.6666666666666666,
              "#ed7953"
             ],
             [
              0.7777777777777778,
              "#fb9f3a"
             ],
             [
              0.8888888888888888,
              "#fdca26"
             ],
             [
              1,
              "#f0f921"
             ]
            ],
            "type": "histogram2d"
           }
          ],
          "histogram2dcontour": [
           {
            "colorbar": {
             "outlinewidth": 0,
             "ticks": ""
            },
            "colorscale": [
             [
              0,
              "#0d0887"
             ],
             [
              0.1111111111111111,
              "#46039f"
             ],
             [
              0.2222222222222222,
              "#7201a8"
             ],
             [
              0.3333333333333333,
              "#9c179e"
             ],
             [
              0.4444444444444444,
              "#bd3786"
             ],
             [
              0.5555555555555556,
              "#d8576b"
             ],
             [
              0.6666666666666666,
              "#ed7953"
             ],
             [
              0.7777777777777778,
              "#fb9f3a"
             ],
             [
              0.8888888888888888,
              "#fdca26"
             ],
             [
              1,
              "#f0f921"
             ]
            ],
            "type": "histogram2dcontour"
           }
          ],
          "mesh3d": [
           {
            "colorbar": {
             "outlinewidth": 0,
             "ticks": ""
            },
            "type": "mesh3d"
           }
          ],
          "parcoords": [
           {
            "line": {
             "colorbar": {
              "outlinewidth": 0,
              "ticks": ""
             }
            },
            "type": "parcoords"
           }
          ],
          "pie": [
           {
            "automargin": true,
            "type": "pie"
           }
          ],
          "scatter": [
           {
            "fillpattern": {
             "fillmode": "overlay",
             "size": 10,
             "solidity": 0.2
            },
            "type": "scatter"
           }
          ],
          "scatter3d": [
           {
            "line": {
             "colorbar": {
              "outlinewidth": 0,
              "ticks": ""
             }
            },
            "marker": {
             "colorbar": {
              "outlinewidth": 0,
              "ticks": ""
             }
            },
            "type": "scatter3d"
           }
          ],
          "scattercarpet": [
           {
            "marker": {
             "colorbar": {
              "outlinewidth": 0,
              "ticks": ""
             }
            },
            "type": "scattercarpet"
           }
          ],
          "scattergeo": [
           {
            "marker": {
             "colorbar": {
              "outlinewidth": 0,
              "ticks": ""
             }
            },
            "type": "scattergeo"
           }
          ],
          "scattergl": [
           {
            "marker": {
             "colorbar": {
              "outlinewidth": 0,
              "ticks": ""
             }
            },
            "type": "scattergl"
           }
          ],
          "scattermapbox": [
           {
            "marker": {
             "colorbar": {
              "outlinewidth": 0,
              "ticks": ""
             }
            },
            "type": "scattermapbox"
           }
          ],
          "scatterpolar": [
           {
            "marker": {
             "colorbar": {
              "outlinewidth": 0,
              "ticks": ""
             }
            },
            "type": "scatterpolar"
           }
          ],
          "scatterpolargl": [
           {
            "marker": {
             "colorbar": {
              "outlinewidth": 0,
              "ticks": ""
             }
            },
            "type": "scatterpolargl"
           }
          ],
          "scatterternary": [
           {
            "marker": {
             "colorbar": {
              "outlinewidth": 0,
              "ticks": ""
             }
            },
            "type": "scatterternary"
           }
          ],
          "surface": [
           {
            "colorbar": {
             "outlinewidth": 0,
             "ticks": ""
            },
            "colorscale": [
             [
              0,
              "#0d0887"
             ],
             [
              0.1111111111111111,
              "#46039f"
             ],
             [
              0.2222222222222222,
              "#7201a8"
             ],
             [
              0.3333333333333333,
              "#9c179e"
             ],
             [
              0.4444444444444444,
              "#bd3786"
             ],
             [
              0.5555555555555556,
              "#d8576b"
             ],
             [
              0.6666666666666666,
              "#ed7953"
             ],
             [
              0.7777777777777778,
              "#fb9f3a"
             ],
             [
              0.8888888888888888,
              "#fdca26"
             ],
             [
              1,
              "#f0f921"
             ]
            ],
            "type": "surface"
           }
          ],
          "table": [
           {
            "cells": {
             "fill": {
              "color": "#EBF0F8"
             },
             "line": {
              "color": "white"
             }
            },
            "header": {
             "fill": {
              "color": "#C8D4E3"
             },
             "line": {
              "color": "white"
             }
            },
            "type": "table"
           }
          ]
         },
         "layout": {
          "annotationdefaults": {
           "arrowcolor": "#2a3f5f",
           "arrowhead": 0,
           "arrowwidth": 1
          },
          "autotypenumbers": "strict",
          "coloraxis": {
           "colorbar": {
            "outlinewidth": 0,
            "ticks": ""
           }
          },
          "colorscale": {
           "diverging": [
            [
             0,
             "#8e0152"
            ],
            [
             0.1,
             "#c51b7d"
            ],
            [
             0.2,
             "#de77ae"
            ],
            [
             0.3,
             "#f1b6da"
            ],
            [
             0.4,
             "#fde0ef"
            ],
            [
             0.5,
             "#f7f7f7"
            ],
            [
             0.6,
             "#e6f5d0"
            ],
            [
             0.7,
             "#b8e186"
            ],
            [
             0.8,
             "#7fbc41"
            ],
            [
             0.9,
             "#4d9221"
            ],
            [
             1,
             "#276419"
            ]
           ],
           "sequential": [
            [
             0,
             "#0d0887"
            ],
            [
             0.1111111111111111,
             "#46039f"
            ],
            [
             0.2222222222222222,
             "#7201a8"
            ],
            [
             0.3333333333333333,
             "#9c179e"
            ],
            [
             0.4444444444444444,
             "#bd3786"
            ],
            [
             0.5555555555555556,
             "#d8576b"
            ],
            [
             0.6666666666666666,
             "#ed7953"
            ],
            [
             0.7777777777777778,
             "#fb9f3a"
            ],
            [
             0.8888888888888888,
             "#fdca26"
            ],
            [
             1,
             "#f0f921"
            ]
           ],
           "sequentialminus": [
            [
             0,
             "#0d0887"
            ],
            [
             0.1111111111111111,
             "#46039f"
            ],
            [
             0.2222222222222222,
             "#7201a8"
            ],
            [
             0.3333333333333333,
             "#9c179e"
            ],
            [
             0.4444444444444444,
             "#bd3786"
            ],
            [
             0.5555555555555556,
             "#d8576b"
            ],
            [
             0.6666666666666666,
             "#ed7953"
            ],
            [
             0.7777777777777778,
             "#fb9f3a"
            ],
            [
             0.8888888888888888,
             "#fdca26"
            ],
            [
             1,
             "#f0f921"
            ]
           ]
          },
          "colorway": [
           "#636efa",
           "#EF553B",
           "#00cc96",
           "#ab63fa",
           "#FFA15A",
           "#19d3f3",
           "#FF6692",
           "#B6E880",
           "#FF97FF",
           "#FECB52"
          ],
          "font": {
           "color": "#2a3f5f"
          },
          "geo": {
           "bgcolor": "white",
           "lakecolor": "white",
           "landcolor": "#E5ECF6",
           "showlakes": true,
           "showland": true,
           "subunitcolor": "white"
          },
          "hoverlabel": {
           "align": "left"
          },
          "hovermode": "closest",
          "mapbox": {
           "style": "light"
          },
          "paper_bgcolor": "white",
          "plot_bgcolor": "#E5ECF6",
          "polar": {
           "angularaxis": {
            "gridcolor": "white",
            "linecolor": "white",
            "ticks": ""
           },
           "bgcolor": "#E5ECF6",
           "radialaxis": {
            "gridcolor": "white",
            "linecolor": "white",
            "ticks": ""
           }
          },
          "scene": {
           "xaxis": {
            "backgroundcolor": "#E5ECF6",
            "gridcolor": "white",
            "gridwidth": 2,
            "linecolor": "white",
            "showbackground": true,
            "ticks": "",
            "zerolinecolor": "white"
           },
           "yaxis": {
            "backgroundcolor": "#E5ECF6",
            "gridcolor": "white",
            "gridwidth": 2,
            "linecolor": "white",
            "showbackground": true,
            "ticks": "",
            "zerolinecolor": "white"
           },
           "zaxis": {
            "backgroundcolor": "#E5ECF6",
            "gridcolor": "white",
            "gridwidth": 2,
            "linecolor": "white",
            "showbackground": true,
            "ticks": "",
            "zerolinecolor": "white"
           }
          },
          "shapedefaults": {
           "line": {
            "color": "#2a3f5f"
           }
          },
          "ternary": {
           "aaxis": {
            "gridcolor": "white",
            "linecolor": "white",
            "ticks": ""
           },
           "baxis": {
            "gridcolor": "white",
            "linecolor": "white",
            "ticks": ""
           },
           "bgcolor": "#E5ECF6",
           "caxis": {
            "gridcolor": "white",
            "linecolor": "white",
            "ticks": ""
           }
          },
          "title": {
           "x": 0.05
          },
          "xaxis": {
           "automargin": true,
           "gridcolor": "white",
           "linecolor": "white",
           "ticks": "",
           "title": {
            "standoff": 15
           },
           "zerolinecolor": "white",
           "zerolinewidth": 2
          },
          "yaxis": {
           "automargin": true,
           "gridcolor": "white",
           "linecolor": "white",
           "ticks": "",
           "title": {
            "standoff": 15
           },
           "zerolinecolor": "white",
           "zerolinewidth": 2
          }
         }
        },
        "title": {
         "text": "Longest Sleep Periods by Age (in Weeks)"
        },
        "xaxis": {
         "anchor": "y",
         "domain": [
          0,
          1
         ],
         "title": {
          "text": "Weeks Old"
         },
         "type": "category"
        },
        "yaxis": {
         "anchor": "x",
         "domain": [
          0,
          1
         ],
         "title": {
          "text": "Hours"
         }
        }
       }
      }
     },
     "metadata": {},
     "output_type": "display_data"
    }
   ],
   "source": [
    "px_longest_sleep_periods_by_week = px.line(\n",
    "    df_average_longest_sleep_period_by_week, \n",
    "    x = 'Weeks Old', y = 'Hours', text = 'Rounded_Hours',\n",
    "title = 'Longest Sleep Periods by Age (in Weeks)')\n",
    "# The following line keeps each 'Weeks Old' value distinct.\n",
    "px_longest_sleep_periods_by_week.update_xaxes(type = 'category')\n",
    "px_longest_sleep_periods_by_week.update_traces(textposition = 'top center')\n",
    "px_longest_sleep_periods_by_week.write_html(\n",
    "    f'{visualizations_folder}longest_sleep_periods_by_week.html')\n",
    "px_longest_sleep_periods_by_week.write_image(\n",
    "    f'{visualizations_folder}longest_sleep_periods_by_week.png', scale = 4)\n",
    "px_longest_sleep_periods_by_week\n"
   ]
  },
  {
   "cell_type": "code",
   "execution_count": 31,
   "metadata": {
    "execution": {
     "iopub.execute_input": "2024-05-14T17:17:21.765298Z",
     "iopub.status.busy": "2024-05-14T17:17:21.765298Z",
     "iopub.status.idle": "2024-05-14T17:17:21.946768Z",
     "shell.execute_reply": "2024-05-14T17:17:21.946768Z",
     "shell.execute_reply.started": "2024-05-14T17:17:21.765298Z"
    }
   },
   "outputs": [
    {
     "data": {
      "application/vnd.plotly.v1+json": {
       "config": {
        "plotlyServerURL": "https://plot.ly"
       },
       "data": [
        {
         "hovertemplate": "Months Old=%{x}<br>Hours=%{y}<br>Rounded_Hours=%{text}<extra></extra>",
         "legendgroup": "",
         "line": {
          "color": "#636efa",
          "dash": "solid"
         },
         "marker": {
          "symbol": "circle"
         },
         "mode": "lines+markers+text",
         "name": "",
         "orientation": "v",
         "showlegend": false,
         "text": [
          2.8,
          3.6,
          5.4,
          8.5,
          9.7,
          10.5,
          6.7
         ],
         "textposition": "top center",
         "type": "scatter",
         "x": [
          0,
          1,
          2,
          3,
          4,
          5,
          6
         ],
         "xaxis": "x",
         "y": [
          2.8188888888888886,
          3.5566666666666666,
          5.39,
          8.523333333333333,
          9.696111111111112,
          10.536666666666667,
          6.716666666666667
         ],
         "yaxis": "y"
        }
       ],
       "layout": {
        "legend": {
         "tracegroupgap": 0
        },
        "template": {
         "data": {
          "bar": [
           {
            "error_x": {
             "color": "#2a3f5f"
            },
            "error_y": {
             "color": "#2a3f5f"
            },
            "marker": {
             "line": {
              "color": "#E5ECF6",
              "width": 0.5
             },
             "pattern": {
              "fillmode": "overlay",
              "size": 10,
              "solidity": 0.2
             }
            },
            "type": "bar"
           }
          ],
          "barpolar": [
           {
            "marker": {
             "line": {
              "color": "#E5ECF6",
              "width": 0.5
             },
             "pattern": {
              "fillmode": "overlay",
              "size": 10,
              "solidity": 0.2
             }
            },
            "type": "barpolar"
           }
          ],
          "carpet": [
           {
            "aaxis": {
             "endlinecolor": "#2a3f5f",
             "gridcolor": "white",
             "linecolor": "white",
             "minorgridcolor": "white",
             "startlinecolor": "#2a3f5f"
            },
            "baxis": {
             "endlinecolor": "#2a3f5f",
             "gridcolor": "white",
             "linecolor": "white",
             "minorgridcolor": "white",
             "startlinecolor": "#2a3f5f"
            },
            "type": "carpet"
           }
          ],
          "choropleth": [
           {
            "colorbar": {
             "outlinewidth": 0,
             "ticks": ""
            },
            "type": "choropleth"
           }
          ],
          "contour": [
           {
            "colorbar": {
             "outlinewidth": 0,
             "ticks": ""
            },
            "colorscale": [
             [
              0,
              "#0d0887"
             ],
             [
              0.1111111111111111,
              "#46039f"
             ],
             [
              0.2222222222222222,
              "#7201a8"
             ],
             [
              0.3333333333333333,
              "#9c179e"
             ],
             [
              0.4444444444444444,
              "#bd3786"
             ],
             [
              0.5555555555555556,
              "#d8576b"
             ],
             [
              0.6666666666666666,
              "#ed7953"
             ],
             [
              0.7777777777777778,
              "#fb9f3a"
             ],
             [
              0.8888888888888888,
              "#fdca26"
             ],
             [
              1,
              "#f0f921"
             ]
            ],
            "type": "contour"
           }
          ],
          "contourcarpet": [
           {
            "colorbar": {
             "outlinewidth": 0,
             "ticks": ""
            },
            "type": "contourcarpet"
           }
          ],
          "heatmap": [
           {
            "colorbar": {
             "outlinewidth": 0,
             "ticks": ""
            },
            "colorscale": [
             [
              0,
              "#0d0887"
             ],
             [
              0.1111111111111111,
              "#46039f"
             ],
             [
              0.2222222222222222,
              "#7201a8"
             ],
             [
              0.3333333333333333,
              "#9c179e"
             ],
             [
              0.4444444444444444,
              "#bd3786"
             ],
             [
              0.5555555555555556,
              "#d8576b"
             ],
             [
              0.6666666666666666,
              "#ed7953"
             ],
             [
              0.7777777777777778,
              "#fb9f3a"
             ],
             [
              0.8888888888888888,
              "#fdca26"
             ],
             [
              1,
              "#f0f921"
             ]
            ],
            "type": "heatmap"
           }
          ],
          "heatmapgl": [
           {
            "colorbar": {
             "outlinewidth": 0,
             "ticks": ""
            },
            "colorscale": [
             [
              0,
              "#0d0887"
             ],
             [
              0.1111111111111111,
              "#46039f"
             ],
             [
              0.2222222222222222,
              "#7201a8"
             ],
             [
              0.3333333333333333,
              "#9c179e"
             ],
             [
              0.4444444444444444,
              "#bd3786"
             ],
             [
              0.5555555555555556,
              "#d8576b"
             ],
             [
              0.6666666666666666,
              "#ed7953"
             ],
             [
              0.7777777777777778,
              "#fb9f3a"
             ],
             [
              0.8888888888888888,
              "#fdca26"
             ],
             [
              1,
              "#f0f921"
             ]
            ],
            "type": "heatmapgl"
           }
          ],
          "histogram": [
           {
            "marker": {
             "pattern": {
              "fillmode": "overlay",
              "size": 10,
              "solidity": 0.2
             }
            },
            "type": "histogram"
           }
          ],
          "histogram2d": [
           {
            "colorbar": {
             "outlinewidth": 0,
             "ticks": ""
            },
            "colorscale": [
             [
              0,
              "#0d0887"
             ],
             [
              0.1111111111111111,
              "#46039f"
             ],
             [
              0.2222222222222222,
              "#7201a8"
             ],
             [
              0.3333333333333333,
              "#9c179e"
             ],
             [
              0.4444444444444444,
              "#bd3786"
             ],
             [
              0.5555555555555556,
              "#d8576b"
             ],
             [
              0.6666666666666666,
              "#ed7953"
             ],
             [
              0.7777777777777778,
              "#fb9f3a"
             ],
             [
              0.8888888888888888,
              "#fdca26"
             ],
             [
              1,
              "#f0f921"
             ]
            ],
            "type": "histogram2d"
           }
          ],
          "histogram2dcontour": [
           {
            "colorbar": {
             "outlinewidth": 0,
             "ticks": ""
            },
            "colorscale": [
             [
              0,
              "#0d0887"
             ],
             [
              0.1111111111111111,
              "#46039f"
             ],
             [
              0.2222222222222222,
              "#7201a8"
             ],
             [
              0.3333333333333333,
              "#9c179e"
             ],
             [
              0.4444444444444444,
              "#bd3786"
             ],
             [
              0.5555555555555556,
              "#d8576b"
             ],
             [
              0.6666666666666666,
              "#ed7953"
             ],
             [
              0.7777777777777778,
              "#fb9f3a"
             ],
             [
              0.8888888888888888,
              "#fdca26"
             ],
             [
              1,
              "#f0f921"
             ]
            ],
            "type": "histogram2dcontour"
           }
          ],
          "mesh3d": [
           {
            "colorbar": {
             "outlinewidth": 0,
             "ticks": ""
            },
            "type": "mesh3d"
           }
          ],
          "parcoords": [
           {
            "line": {
             "colorbar": {
              "outlinewidth": 0,
              "ticks": ""
             }
            },
            "type": "parcoords"
           }
          ],
          "pie": [
           {
            "automargin": true,
            "type": "pie"
           }
          ],
          "scatter": [
           {
            "fillpattern": {
             "fillmode": "overlay",
             "size": 10,
             "solidity": 0.2
            },
            "type": "scatter"
           }
          ],
          "scatter3d": [
           {
            "line": {
             "colorbar": {
              "outlinewidth": 0,
              "ticks": ""
             }
            },
            "marker": {
             "colorbar": {
              "outlinewidth": 0,
              "ticks": ""
             }
            },
            "type": "scatter3d"
           }
          ],
          "scattercarpet": [
           {
            "marker": {
             "colorbar": {
              "outlinewidth": 0,
              "ticks": ""
             }
            },
            "type": "scattercarpet"
           }
          ],
          "scattergeo": [
           {
            "marker": {
             "colorbar": {
              "outlinewidth": 0,
              "ticks": ""
             }
            },
            "type": "scattergeo"
           }
          ],
          "scattergl": [
           {
            "marker": {
             "colorbar": {
              "outlinewidth": 0,
              "ticks": ""
             }
            },
            "type": "scattergl"
           }
          ],
          "scattermapbox": [
           {
            "marker": {
             "colorbar": {
              "outlinewidth": 0,
              "ticks": ""
             }
            },
            "type": "scattermapbox"
           }
          ],
          "scatterpolar": [
           {
            "marker": {
             "colorbar": {
              "outlinewidth": 0,
              "ticks": ""
             }
            },
            "type": "scatterpolar"
           }
          ],
          "scatterpolargl": [
           {
            "marker": {
             "colorbar": {
              "outlinewidth": 0,
              "ticks": ""
             }
            },
            "type": "scatterpolargl"
           }
          ],
          "scatterternary": [
           {
            "marker": {
             "colorbar": {
              "outlinewidth": 0,
              "ticks": ""
             }
            },
            "type": "scatterternary"
           }
          ],
          "surface": [
           {
            "colorbar": {
             "outlinewidth": 0,
             "ticks": ""
            },
            "colorscale": [
             [
              0,
              "#0d0887"
             ],
             [
              0.1111111111111111,
              "#46039f"
             ],
             [
              0.2222222222222222,
              "#7201a8"
             ],
             [
              0.3333333333333333,
              "#9c179e"
             ],
             [
              0.4444444444444444,
              "#bd3786"
             ],
             [
              0.5555555555555556,
              "#d8576b"
             ],
             [
              0.6666666666666666,
              "#ed7953"
             ],
             [
              0.7777777777777778,
              "#fb9f3a"
             ],
             [
              0.8888888888888888,
              "#fdca26"
             ],
             [
              1,
              "#f0f921"
             ]
            ],
            "type": "surface"
           }
          ],
          "table": [
           {
            "cells": {
             "fill": {
              "color": "#EBF0F8"
             },
             "line": {
              "color": "white"
             }
            },
            "header": {
             "fill": {
              "color": "#C8D4E3"
             },
             "line": {
              "color": "white"
             }
            },
            "type": "table"
           }
          ]
         },
         "layout": {
          "annotationdefaults": {
           "arrowcolor": "#2a3f5f",
           "arrowhead": 0,
           "arrowwidth": 1
          },
          "autotypenumbers": "strict",
          "coloraxis": {
           "colorbar": {
            "outlinewidth": 0,
            "ticks": ""
           }
          },
          "colorscale": {
           "diverging": [
            [
             0,
             "#8e0152"
            ],
            [
             0.1,
             "#c51b7d"
            ],
            [
             0.2,
             "#de77ae"
            ],
            [
             0.3,
             "#f1b6da"
            ],
            [
             0.4,
             "#fde0ef"
            ],
            [
             0.5,
             "#f7f7f7"
            ],
            [
             0.6,
             "#e6f5d0"
            ],
            [
             0.7,
             "#b8e186"
            ],
            [
             0.8,
             "#7fbc41"
            ],
            [
             0.9,
             "#4d9221"
            ],
            [
             1,
             "#276419"
            ]
           ],
           "sequential": [
            [
             0,
             "#0d0887"
            ],
            [
             0.1111111111111111,
             "#46039f"
            ],
            [
             0.2222222222222222,
             "#7201a8"
            ],
            [
             0.3333333333333333,
             "#9c179e"
            ],
            [
             0.4444444444444444,
             "#bd3786"
            ],
            [
             0.5555555555555556,
             "#d8576b"
            ],
            [
             0.6666666666666666,
             "#ed7953"
            ],
            [
             0.7777777777777778,
             "#fb9f3a"
            ],
            [
             0.8888888888888888,
             "#fdca26"
            ],
            [
             1,
             "#f0f921"
            ]
           ],
           "sequentialminus": [
            [
             0,
             "#0d0887"
            ],
            [
             0.1111111111111111,
             "#46039f"
            ],
            [
             0.2222222222222222,
             "#7201a8"
            ],
            [
             0.3333333333333333,
             "#9c179e"
            ],
            [
             0.4444444444444444,
             "#bd3786"
            ],
            [
             0.5555555555555556,
             "#d8576b"
            ],
            [
             0.6666666666666666,
             "#ed7953"
            ],
            [
             0.7777777777777778,
             "#fb9f3a"
            ],
            [
             0.8888888888888888,
             "#fdca26"
            ],
            [
             1,
             "#f0f921"
            ]
           ]
          },
          "colorway": [
           "#636efa",
           "#EF553B",
           "#00cc96",
           "#ab63fa",
           "#FFA15A",
           "#19d3f3",
           "#FF6692",
           "#B6E880",
           "#FF97FF",
           "#FECB52"
          ],
          "font": {
           "color": "#2a3f5f"
          },
          "geo": {
           "bgcolor": "white",
           "lakecolor": "white",
           "landcolor": "#E5ECF6",
           "showlakes": true,
           "showland": true,
           "subunitcolor": "white"
          },
          "hoverlabel": {
           "align": "left"
          },
          "hovermode": "closest",
          "mapbox": {
           "style": "light"
          },
          "paper_bgcolor": "white",
          "plot_bgcolor": "#E5ECF6",
          "polar": {
           "angularaxis": {
            "gridcolor": "white",
            "linecolor": "white",
            "ticks": ""
           },
           "bgcolor": "#E5ECF6",
           "radialaxis": {
            "gridcolor": "white",
            "linecolor": "white",
            "ticks": ""
           }
          },
          "scene": {
           "xaxis": {
            "backgroundcolor": "#E5ECF6",
            "gridcolor": "white",
            "gridwidth": 2,
            "linecolor": "white",
            "showbackground": true,
            "ticks": "",
            "zerolinecolor": "white"
           },
           "yaxis": {
            "backgroundcolor": "#E5ECF6",
            "gridcolor": "white",
            "gridwidth": 2,
            "linecolor": "white",
            "showbackground": true,
            "ticks": "",
            "zerolinecolor": "white"
           },
           "zaxis": {
            "backgroundcolor": "#E5ECF6",
            "gridcolor": "white",
            "gridwidth": 2,
            "linecolor": "white",
            "showbackground": true,
            "ticks": "",
            "zerolinecolor": "white"
           }
          },
          "shapedefaults": {
           "line": {
            "color": "#2a3f5f"
           }
          },
          "ternary": {
           "aaxis": {
            "gridcolor": "white",
            "linecolor": "white",
            "ticks": ""
           },
           "baxis": {
            "gridcolor": "white",
            "linecolor": "white",
            "ticks": ""
           },
           "bgcolor": "#E5ECF6",
           "caxis": {
            "gridcolor": "white",
            "linecolor": "white",
            "ticks": ""
           }
          },
          "title": {
           "x": 0.05
          },
          "xaxis": {
           "automargin": true,
           "gridcolor": "white",
           "linecolor": "white",
           "ticks": "",
           "title": {
            "standoff": 15
           },
           "zerolinecolor": "white",
           "zerolinewidth": 2
          },
          "yaxis": {
           "automargin": true,
           "gridcolor": "white",
           "linecolor": "white",
           "ticks": "",
           "title": {
            "standoff": 15
           },
           "zerolinecolor": "white",
           "zerolinewidth": 2
          }
         }
        },
        "title": {
         "text": "Longest Sleep Periods by Age (in Months)"
        },
        "xaxis": {
         "anchor": "y",
         "domain": [
          0,
          1
         ],
         "title": {
          "text": "Months Old"
         }
        },
        "yaxis": {
         "anchor": "x",
         "domain": [
          0,
          1
         ],
         "title": {
          "text": "Hours"
         }
        }
       }
      }
     },
     "metadata": {},
     "output_type": "display_data"
    }
   ],
   "source": [
    "px_longest_sleep_periods_by_month = px.line(\n",
    "    df_average_longest_sleep_period_by_month, x = 'Months Old', \n",
    "    y = 'Hours', text = 'Rounded_Hours',\n",
    "    title = 'Longest Sleep Periods by Age (in Months)')\n",
    "px_longest_sleep_periods_by_day.update_xaxes(type = 'category')\n",
    "px_longest_sleep_periods_by_month.update_traces(\n",
    "    textposition = 'top center')\n",
    "px_longest_sleep_periods_by_month.write_html(\n",
    "    f'{visualizations_folder}longest_sleep_periods_by_month.html')\n",
    "px_longest_sleep_periods_by_month.write_image(\n",
    "    f'{visualizations_folder}longest_sleep_periods_by_month.png', scale = 5)\n",
    "px_longest_sleep_periods_by_month\n"
   ]
  },
  {
   "cell_type": "markdown",
   "metadata": {},
   "source": [
    "## Creating a regression equation in order to assess the relationship between age and longest sleep periods:\n",
    "\n",
    "(This code assumes that the relationship between age and sleep length is linear, but this linear relationship can't continue indefinitely. Therefore, a regression_age_limit variable was added in to limit the upper age range of the regression data. I added in 120 days as the default limit, but feel free to adjust this to a longer or shorter length to better match your own baby's data.)"
   ]
  },
  {
   "cell_type": "code",
   "execution_count": 32,
   "metadata": {
    "execution": {
     "iopub.execute_input": "2024-05-14T17:17:21.947774Z",
     "iopub.status.busy": "2024-05-14T17:17:21.947774Z",
     "iopub.status.idle": "2024-05-14T17:17:21.950936Z",
     "shell.execute_reply": "2024-05-14T17:17:21.950936Z",
     "shell.execute_reply.started": "2024-05-14T17:17:21.947774Z"
    }
   },
   "outputs": [],
   "source": [
    "# Here with editing"
   ]
  },
  {
   "cell_type": "code",
   "execution_count": 33,
   "metadata": {
    "execution": {
     "iopub.execute_input": "2024-05-14T17:17:21.951940Z",
     "iopub.status.busy": "2024-05-14T17:17:21.951940Z",
     "iopub.status.idle": "2024-05-14T17:17:21.966921Z",
     "shell.execute_reply": "2024-05-14T17:17:21.966921Z",
     "shell.execute_reply.started": "2024-05-14T17:17:21.951940Z"
    }
   },
   "outputs": [
    {
     "name": "stdout",
     "output_type": "stream",
     "text": [
      "                            OLS Regression Results                            \n",
      "==============================================================================\n",
      "Dep. Variable:                  Hours   R-squared:                       0.652\n",
      "Model:                            OLS   Adj. R-squared:                  0.649\n",
      "Method:                 Least Squares   F-statistic:                     221.2\n",
      "Date:                Tue, 14 May 2024   Prob (F-statistic):           7.89e-29\n",
      "Time:                        21:46:49   Log-Likelihood:                -221.17\n",
      "No. Observations:                 120   AIC:                             446.3\n",
      "Df Residuals:                     118   BIC:                             451.9\n",
      "Df Model:                           1                                         \n",
      "Covariance Type:            nonrobust                                         \n",
      "==============================================================================\n",
      "                 coef    std err          t      P>|t|      [0.025      0.975]\n",
      "------------------------------------------------------------------------------\n",
      "const          1.4776      0.280      5.284      0.000       0.924       2.031\n",
      "Days Old       0.0604      0.004     14.874      0.000       0.052       0.068\n",
      "==============================================================================\n",
      "Omnibus:                        0.534   Durbin-Watson:                   1.605\n",
      "Prob(Omnibus):                  0.766   Jarque-Bera (JB):                0.670\n",
      "Skew:                           0.064   Prob(JB):                        0.715\n",
      "Kurtosis:                       2.657   Cond. No.                         137.\n",
      "==============================================================================\n",
      "\n",
      "Notes:\n",
      "[1] Standard Errors assume that the covariance matrix of the errors is correctly specified.\n"
     ]
    }
   ],
   "source": [
    "regression_age_limit = 120\n",
    "\n",
    "y = df_longest_sleep_periods_by_day.query(\n",
    "    \"`Days Old` < @regression_age_limit\").copy()['Hours']\n",
    "x = df_longest_sleep_periods_by_day.query(\n",
    "    \"`Days Old` < @regression_age_limit\").copy()['Days Old'].copy()\n",
    "x = sm.add_constant(x)\n",
    "model = sm.OLS(y, x)\n",
    "results = model.fit()\n",
    "print(results.summary())"
   ]
  },
  {
   "cell_type": "markdown",
   "metadata": {},
   "source": [
    "The regression model estimates the duration of the baby's longest sleep periods (in hours) as the sum of a constant value ('const') and the product of the Days Old coefficient and the child's age (in days). For instance, if const is 2 and the Days Old coefficient is 0.05, the predicted longest sleep length for the baby on day 100 would be (2 + 100 * 0.05) --> (2 + 5) --> 7 hours."
   ]
  },
  {
   "cell_type": "markdown",
   "metadata": {},
   "source": [
    "## Calculating the amount of daytime vs. nighttime sleep that the baby received each day:\n"
   ]
  },
  {
   "cell_type": "code",
   "execution_count": 34,
   "metadata": {
    "execution": {
     "iopub.execute_input": "2024-05-14T17:17:21.967925Z",
     "iopub.status.busy": "2024-05-14T17:17:21.967925Z",
     "iopub.status.idle": "2024-05-14T17:17:21.980432Z",
     "shell.execute_reply": "2024-05-14T17:17:21.980432Z",
     "shell.execute_reply.started": "2024-05-14T17:17:21.967925Z"
    }
   },
   "outputs": [
    {
     "data": {
      "text/html": [
       "<div>\n",
       "<style scoped>\n",
       "    .dataframe tbody tr th:only-of-type {\n",
       "        vertical-align: middle;\n",
       "    }\n",
       "\n",
       "    .dataframe tbody tr th {\n",
       "        vertical-align: top;\n",
       "    }\n",
       "\n",
       "    .dataframe thead th {\n",
       "        text-align: right;\n",
       "    }\n",
       "</style>\n",
       "<table border=\"1\" class=\"dataframe\">\n",
       "  <thead>\n",
       "    <tr style=\"text-align: right;\">\n",
       "      <th></th>\n",
       "      <th>Months Old</th>\n",
       "      <th>Weeks Old</th>\n",
       "      <th>Days Old</th>\n",
       "      <th>Day Sleep Hours</th>\n",
       "      <th>Night Sleep Hours</th>\n",
       "      <th>Count</th>\n",
       "    </tr>\n",
       "  </thead>\n",
       "  <tbody>\n",
       "    <tr>\n",
       "      <th>0</th>\n",
       "      <td>0</td>\n",
       "      <td>0</td>\n",
       "      <td>0</td>\n",
       "      <td>1.433333</td>\n",
       "      <td>4.033333</td>\n",
       "      <td>1</td>\n",
       "    </tr>\n",
       "    <tr>\n",
       "      <th>1</th>\n",
       "      <td>0</td>\n",
       "      <td>0</td>\n",
       "      <td>1</td>\n",
       "      <td>8.250000</td>\n",
       "      <td>3.783333</td>\n",
       "      <td>1</td>\n",
       "    </tr>\n",
       "    <tr>\n",
       "      <th>2</th>\n",
       "      <td>0</td>\n",
       "      <td>0</td>\n",
       "      <td>2</td>\n",
       "      <td>7.300000</td>\n",
       "      <td>3.566667</td>\n",
       "      <td>1</td>\n",
       "    </tr>\n",
       "    <tr>\n",
       "      <th>3</th>\n",
       "      <td>0</td>\n",
       "      <td>0</td>\n",
       "      <td>3</td>\n",
       "      <td>6.850000</td>\n",
       "      <td>4.650000</td>\n",
       "      <td>1</td>\n",
       "    </tr>\n",
       "    <tr>\n",
       "      <th>4</th>\n",
       "      <td>0</td>\n",
       "      <td>0</td>\n",
       "      <td>4</td>\n",
       "      <td>7.883333</td>\n",
       "      <td>4.216667</td>\n",
       "      <td>1</td>\n",
       "    </tr>\n",
       "    <tr>\n",
       "      <th>...</th>\n",
       "      <td>...</td>\n",
       "      <td>...</td>\n",
       "      <td>...</td>\n",
       "      <td>...</td>\n",
       "      <td>...</td>\n",
       "      <td>...</td>\n",
       "    </tr>\n",
       "    <tr>\n",
       "      <th>176</th>\n",
       "      <td>5</td>\n",
       "      <td>25</td>\n",
       "      <td>176</td>\n",
       "      <td>5.683333</td>\n",
       "      <td>10.283333</td>\n",
       "      <td>1</td>\n",
       "    </tr>\n",
       "    <tr>\n",
       "      <th>177</th>\n",
       "      <td>5</td>\n",
       "      <td>25</td>\n",
       "      <td>177</td>\n",
       "      <td>7.566667</td>\n",
       "      <td>8.816667</td>\n",
       "      <td>1</td>\n",
       "    </tr>\n",
       "    <tr>\n",
       "      <th>178</th>\n",
       "      <td>5</td>\n",
       "      <td>25</td>\n",
       "      <td>178</td>\n",
       "      <td>7.466667</td>\n",
       "      <td>10.250000</td>\n",
       "      <td>1</td>\n",
       "    </tr>\n",
       "    <tr>\n",
       "      <th>179</th>\n",
       "      <td>5</td>\n",
       "      <td>25</td>\n",
       "      <td>179</td>\n",
       "      <td>7.000000</td>\n",
       "      <td>10.083333</td>\n",
       "      <td>1</td>\n",
       "    </tr>\n",
       "    <tr>\n",
       "      <th>180</th>\n",
       "      <td>6</td>\n",
       "      <td>25</td>\n",
       "      <td>180</td>\n",
       "      <td>6.733333</td>\n",
       "      <td>9.116667</td>\n",
       "      <td>1</td>\n",
       "    </tr>\n",
       "  </tbody>\n",
       "</table>\n",
       "<p>181 rows × 6 columns</p>\n",
       "</div>"
      ],
      "text/plain": [
       "     Months Old  Weeks Old  Days Old  Day Sleep Hours  Night Sleep Hours  \\\n",
       "0             0          0         0         1.433333           4.033333   \n",
       "1             0          0         1         8.250000           3.783333   \n",
       "2             0          0         2         7.300000           3.566667   \n",
       "3             0          0         3         6.850000           4.650000   \n",
       "4             0          0         4         7.883333           4.216667   \n",
       "..          ...        ...       ...              ...                ...   \n",
       "176           5         25       176         5.683333          10.283333   \n",
       "177           5         25       177         7.566667           8.816667   \n",
       "178           5         25       178         7.466667          10.250000   \n",
       "179           5         25       179         7.000000          10.083333   \n",
       "180           6         25       180         6.733333           9.116667   \n",
       "\n",
       "     Count  \n",
       "0        1  \n",
       "1        1  \n",
       "2        1  \n",
       "3        1  \n",
       "4        1  \n",
       "..     ...  \n",
       "176      1  \n",
       "177      1  \n",
       "178      1  \n",
       "179      1  \n",
       "180      1  \n",
       "\n",
       "[181 rows x 6 columns]"
      ]
     },
     "execution_count": 34,
     "metadata": {},
     "output_type": "execute_result"
    }
   ],
   "source": [
    "df_daily_sleep_by_period = df_sleep_data.pivot_table(\n",
    "    index = ['Months Old', 'Weeks Old', 'Days Old'], \n",
    "    values = ['Day Sleep Hours', \n",
    "        'Night Sleep Hours'], aggfunc = 'sum').reset_index()\n",
    "df_daily_sleep_by_period['Count'] = 1\n",
    "df_daily_sleep_by_period.to_csv(\n",
    "    f'{data_output_folder}daily_sleep_by_period.csv', \n",
    "    index = False)\n",
    "\n",
    "df_daily_sleep_by_period\n"
   ]
  },
  {
   "cell_type": "markdown",
   "metadata": {},
   "source": [
    "### Plotting these daily sleep distributions:"
   ]
  },
  {
   "cell_type": "code",
   "execution_count": 35,
   "metadata": {
    "execution": {
     "iopub.execute_input": "2024-05-14T17:17:21.981442Z",
     "iopub.status.busy": "2024-05-14T17:17:21.981442Z",
     "iopub.status.idle": "2024-05-14T17:17:22.166350Z",
     "shell.execute_reply": "2024-05-14T17:17:22.166350Z",
     "shell.execute_reply.started": "2024-05-14T17:17:21.981442Z"
    }
   },
   "outputs": [
    {
     "data": {
      "application/vnd.plotly.v1+json": {
       "config": {
        "plotlyServerURL": "https://plot.ly"
       },
       "data": [
        {
         "hovertemplate": "variable=Night Sleep Hours<br>Days Old=%{x}<br>value=%{y}<extra></extra>",
         "legendgroup": "Night Sleep Hours",
         "line": {
          "color": "#636efa",
          "dash": "solid"
         },
         "marker": {
          "symbol": "circle"
         },
         "mode": "lines",
         "name": "Night Sleep Hours",
         "orientation": "v",
         "showlegend": true,
         "type": "scatter",
         "x": [
          0,
          1,
          2,
          3,
          4,
          5,
          6,
          7,
          8,
          9,
          10,
          11,
          12,
          13,
          14,
          15,
          16,
          17,
          18,
          19,
          20,
          21,
          22,
          23,
          24,
          25,
          26,
          27,
          28,
          29,
          30,
          31,
          32,
          33,
          34,
          35,
          36,
          37,
          38,
          39,
          40,
          41,
          42,
          43,
          44,
          45,
          46,
          47,
          48,
          49,
          50,
          51,
          52,
          53,
          54,
          55,
          56,
          57,
          58,
          59,
          60,
          61,
          62,
          63,
          64,
          65,
          66,
          67,
          68,
          69,
          70,
          71,
          72,
          73,
          74,
          75,
          76,
          77,
          78,
          79,
          80,
          81,
          82,
          83,
          84,
          85,
          86,
          87,
          88,
          89,
          90,
          91,
          92,
          93,
          94,
          95,
          96,
          97,
          98,
          99,
          100,
          101,
          102,
          103,
          104,
          105,
          106,
          107,
          108,
          109,
          110,
          111,
          112,
          113,
          114,
          115,
          116,
          117,
          118,
          119,
          120,
          121,
          122,
          123,
          124,
          125,
          126,
          127,
          128,
          129,
          130,
          131,
          132,
          133,
          134,
          135,
          136,
          137,
          138,
          139,
          140,
          141,
          142,
          143,
          144,
          145,
          146,
          147,
          148,
          149,
          150,
          151,
          152,
          153,
          154,
          155,
          156,
          157,
          158,
          159,
          160,
          161,
          162,
          163,
          164,
          165,
          166,
          167,
          168,
          169,
          170,
          171,
          172,
          173,
          174,
          175,
          176,
          177,
          178,
          179,
          180
         ],
         "xaxis": "x",
         "y": [
          4.033333333333333,
          3.783333333333333,
          3.5666666666666664,
          4.65,
          4.216666666666667,
          3.7,
          4.233333333333333,
          5.199999999999999,
          4.116666666666667,
          5.55,
          5.033333333333333,
          5.616666666666667,
          5.133333333333333,
          4.55,
          4.683333333333334,
          5.1,
          4.816666666666666,
          6.516666666666667,
          4.6,
          4.533333333333333,
          5.733333333333333,
          5.633333333333333,
          6.583333333333333,
          6.316666666666666,
          5.816666666666666,
          6.550000000000001,
          6.5,
          6.516666666666667,
          6.300000000000001,
          6.15,
          6.316666666666667,
          7.316666666666666,
          7.983333333333333,
          6.633333333333334,
          7.433333333333334,
          8.383333333333333,
          7.766666666666667,
          7.7,
          8.033333333333333,
          8.566666666666666,
          8.25,
          8.416666666666668,
          7.916666666666666,
          8.733333333333334,
          8.733333333333333,
          8.533333333333333,
          8.05,
          7.816666666666667,
          7.966666666666667,
          8.433333333333334,
          8.450000000000001,
          9.766666666666666,
          8.55,
          8.516666666666666,
          7.966666666666667,
          9.166666666666666,
          7.983333333333333,
          8.416666666666666,
          8.033333333333333,
          8.266666666666667,
          9.466666666666667,
          9.416666666666666,
          9.116666666666667,
          8.8,
          8.816666666666666,
          9.533333333333333,
          8.633333333333333,
          9.1,
          8.233333333333334,
          8.383333333333333,
          8.9,
          9.266666666666666,
          7.699999999999999,
          8.316666666666666,
          9.65,
          9.6,
          9.3,
          8.716666666666667,
          8.55,
          8.35,
          8.883333333333333,
          9.6,
          9.716666666666667,
          9.133333333333333,
          8.383333333333333,
          9.05,
          9.183333333333334,
          8.25,
          8.616666666666667,
          8.9,
          10.333333333333334,
          9.816666666666666,
          9.766666666666667,
          9.033333333333333,
          9.383333333333333,
          8.866666666666665,
          10.366666666666667,
          10.283333333333333,
          10.616666666666667,
          10.700000000000001,
          9.3,
          9.633333333333335,
          9.383333333333333,
          8.416666666666666,
          9.75,
          9.05,
          9.766666666666667,
          7.916666666666666,
          10.6,
          10.716666666666667,
          8.6,
          9.433333333333332,
          11.533333333333333,
          9.05,
          10.8,
          8.833333333333334,
          8.766666666666666,
          10.933333333333334,
          10.516666666666667,
          9.95,
          10.133333333333333,
          10.616666666666667,
          10.483333333333334,
          10.7,
          10.05,
          10.083333333333334,
          10.066666666666666,
          10.166666666666666,
          10.166666666666668,
          10.65,
          8.899999999999999,
          8.433333333333334,
          10.05,
          10.6,
          10.766666666666666,
          9.966666666666667,
          10.416666666666666,
          9.483333333333333,
          9.933333333333334,
          8.466666666666667,
          11.9,
          10.516666666666667,
          8.283333333333333,
          10.233333333333333,
          11.466666666666667,
          10.850000000000001,
          11.033333333333333,
          10.95,
          10.666666666666668,
          9.783333333333333,
          8.883333333333333,
          9.166666666666666,
          10.4,
          11.666666666666666,
          10.766666666666667,
          10.9,
          10.25,
          11.166666666666666,
          10.616666666666667,
          10.433333333333334,
          10.833333333333334,
          10.416666666666666,
          8.95,
          11.683333333333334,
          9.633333333333333,
          9.916666666666666,
          10.566666666666666,
          11.316666666666666,
          10.483333333333334,
          10.166666666666666,
          10.483333333333334,
          8.3,
          10.733333333333333,
          8.516666666666666,
          10.683333333333334,
          11,
          10.283333333333335,
          8.816666666666666,
          10.25,
          10.083333333333334,
          9.116666666666667
         ],
         "yaxis": "y"
        },
        {
         "hovertemplate": "variable=Day Sleep Hours<br>Days Old=%{x}<br>value=%{y}<extra></extra>",
         "legendgroup": "Day Sleep Hours",
         "line": {
          "color": "#EF553B",
          "dash": "solid"
         },
         "marker": {
          "symbol": "circle"
         },
         "mode": "lines",
         "name": "Day Sleep Hours",
         "orientation": "v",
         "showlegend": true,
         "type": "scatter",
         "x": [
          0,
          1,
          2,
          3,
          4,
          5,
          6,
          7,
          8,
          9,
          10,
          11,
          12,
          13,
          14,
          15,
          16,
          17,
          18,
          19,
          20,
          21,
          22,
          23,
          24,
          25,
          26,
          27,
          28,
          29,
          30,
          31,
          32,
          33,
          34,
          35,
          36,
          37,
          38,
          39,
          40,
          41,
          42,
          43,
          44,
          45,
          46,
          47,
          48,
          49,
          50,
          51,
          52,
          53,
          54,
          55,
          56,
          57,
          58,
          59,
          60,
          61,
          62,
          63,
          64,
          65,
          66,
          67,
          68,
          69,
          70,
          71,
          72,
          73,
          74,
          75,
          76,
          77,
          78,
          79,
          80,
          81,
          82,
          83,
          84,
          85,
          86,
          87,
          88,
          89,
          90,
          91,
          92,
          93,
          94,
          95,
          96,
          97,
          98,
          99,
          100,
          101,
          102,
          103,
          104,
          105,
          106,
          107,
          108,
          109,
          110,
          111,
          112,
          113,
          114,
          115,
          116,
          117,
          118,
          119,
          120,
          121,
          122,
          123,
          124,
          125,
          126,
          127,
          128,
          129,
          130,
          131,
          132,
          133,
          134,
          135,
          136,
          137,
          138,
          139,
          140,
          141,
          142,
          143,
          144,
          145,
          146,
          147,
          148,
          149,
          150,
          151,
          152,
          153,
          154,
          155,
          156,
          157,
          158,
          159,
          160,
          161,
          162,
          163,
          164,
          165,
          166,
          167,
          168,
          169,
          170,
          171,
          172,
          173,
          174,
          175,
          176,
          177,
          178,
          179,
          180
         ],
         "xaxis": "x",
         "y": [
          1.4333333333333333,
          8.25,
          7.300000000000001,
          6.85,
          7.883333333333333,
          6.9,
          6.866666666666667,
          7.466666666666667,
          6.416666666666666,
          7.216666666666667,
          7.883333333333333,
          6.633333333333333,
          7.833333333333333,
          7.066666666666666,
          8.4,
          7.433333333333334,
          7.25,
          7.583333333333334,
          7.783333333333333,
          8.366666666666667,
          8.166666666666666,
          7.333333333333334,
          7.733333333333333,
          6.783333333333333,
          7.533333333333333,
          8.133333333333333,
          7.133333333333334,
          7.566666666666666,
          7.9,
          8.383333333333333,
          8.883333333333333,
          8.016666666666666,
          7.866666666666667,
          7.7,
          8.35,
          8.033333333333333,
          7.816666666666666,
          7.516666666666667,
          7.916666666666667,
          7.1000000000000005,
          7.533333333333333,
          7.333333333333334,
          8.783333333333333,
          7.133333333333334,
          7.45,
          8.65,
          6.833333333333334,
          8.883333333333333,
          8.2,
          7.383333333333334,
          7.583333333333333,
          7.433333333333334,
          6.916666666666667,
          8.283333333333333,
          8.35,
          6.55,
          7.966666666666667,
          7.55,
          8.016666666666666,
          7.833333333333333,
          7.216666666666667,
          7.216666666666667,
          7.55,
          7.5,
          7.783333333333333,
          7.766666666666667,
          7.933333333333334,
          7.8500000000000005,
          7.383333333333333,
          7.6,
          7.633333333333333,
          7.183333333333334,
          8.05,
          8,
          7.466666666666667,
          7.533333333333333,
          8.116666666666667,
          7.766666666666667,
          7.75,
          7.816666666666666,
          7.333333333333333,
          6.683333333333334,
          7.300000000000001,
          6.916666666666667,
          7.3,
          7,
          7.283333333333333,
          7.683333333333334,
          6.333333333333334,
          6.666666666666667,
          6.316666666666666,
          7,
          7.9,
          6.416666666666667,
          8.05,
          8.1,
          8.433333333333334,
          6.616666666666667,
          7.3999999999999995,
          7.266666666666667,
          6.766666666666667,
          6.7,
          7.75,
          7.216666666666667,
          6.85,
          7.5166666666666675,
          7.133333333333333,
          8.3,
          8.033333333333333,
          6.533333333333333,
          6.5,
          7.583333333333334,
          5.95,
          6.816666666666667,
          7.566666666666666,
          6.300000000000001,
          7.783333333333333,
          6.95,
          6.85,
          6.983333333333333,
          8.066666666666666,
          6.85,
          5.916666666666667,
          6.199999999999999,
          7.283333333333333,
          7.116666666666667,
          6.716666666666667,
          7.233333333333333,
          7.583333333333333,
          6.983333333333333,
          6.816666666666667,
          6.816666666666666,
          6.8,
          6.033333333333333,
          7.033333333333333,
          6.35,
          5.95,
          7.066666666666666,
          6.416666666666666,
          8,
          6.866666666666667,
          6,
          6.55,
          7.133333333333334,
          7.283333333333333,
          5.9,
          7.433333333333334,
          6.833333333333333,
          7.216666666666667,
          6.7,
          6.7333333333333325,
          7.316666666666667,
          6.4,
          7.316666666666667,
          6.35,
          7.7,
          6.116666666666666,
          6.866666666666667,
          6.8,
          6.683333333333334,
          7.2666666666666675,
          6.866666666666667,
          6.55,
          7,
          6.833333333333334,
          6.016666666666667,
          6.5,
          6.933333333333334,
          5.916666666666666,
          7.666666666666666,
          7.466666666666667,
          6.616666666666667,
          7.05,
          6.516666666666667,
          7.016666666666667,
          6.466666666666667,
          5.683333333333333,
          7.566666666666666,
          7.466666666666667,
          7,
          6.733333333333333
         ],
         "yaxis": "y"
        }
       ],
       "layout": {
        "legend": {
         "title": {
          "text": "Metric"
         },
         "tracegroupgap": 0
        },
        "template": {
         "data": {
          "bar": [
           {
            "error_x": {
             "color": "#2a3f5f"
            },
            "error_y": {
             "color": "#2a3f5f"
            },
            "marker": {
             "line": {
              "color": "#E5ECF6",
              "width": 0.5
             },
             "pattern": {
              "fillmode": "overlay",
              "size": 10,
              "solidity": 0.2
             }
            },
            "type": "bar"
           }
          ],
          "barpolar": [
           {
            "marker": {
             "line": {
              "color": "#E5ECF6",
              "width": 0.5
             },
             "pattern": {
              "fillmode": "overlay",
              "size": 10,
              "solidity": 0.2
             }
            },
            "type": "barpolar"
           }
          ],
          "carpet": [
           {
            "aaxis": {
             "endlinecolor": "#2a3f5f",
             "gridcolor": "white",
             "linecolor": "white",
             "minorgridcolor": "white",
             "startlinecolor": "#2a3f5f"
            },
            "baxis": {
             "endlinecolor": "#2a3f5f",
             "gridcolor": "white",
             "linecolor": "white",
             "minorgridcolor": "white",
             "startlinecolor": "#2a3f5f"
            },
            "type": "carpet"
           }
          ],
          "choropleth": [
           {
            "colorbar": {
             "outlinewidth": 0,
             "ticks": ""
            },
            "type": "choropleth"
           }
          ],
          "contour": [
           {
            "colorbar": {
             "outlinewidth": 0,
             "ticks": ""
            },
            "colorscale": [
             [
              0,
              "#0d0887"
             ],
             [
              0.1111111111111111,
              "#46039f"
             ],
             [
              0.2222222222222222,
              "#7201a8"
             ],
             [
              0.3333333333333333,
              "#9c179e"
             ],
             [
              0.4444444444444444,
              "#bd3786"
             ],
             [
              0.5555555555555556,
              "#d8576b"
             ],
             [
              0.6666666666666666,
              "#ed7953"
             ],
             [
              0.7777777777777778,
              "#fb9f3a"
             ],
             [
              0.8888888888888888,
              "#fdca26"
             ],
             [
              1,
              "#f0f921"
             ]
            ],
            "type": "contour"
           }
          ],
          "contourcarpet": [
           {
            "colorbar": {
             "outlinewidth": 0,
             "ticks": ""
            },
            "type": "contourcarpet"
           }
          ],
          "heatmap": [
           {
            "colorbar": {
             "outlinewidth": 0,
             "ticks": ""
            },
            "colorscale": [
             [
              0,
              "#0d0887"
             ],
             [
              0.1111111111111111,
              "#46039f"
             ],
             [
              0.2222222222222222,
              "#7201a8"
             ],
             [
              0.3333333333333333,
              "#9c179e"
             ],
             [
              0.4444444444444444,
              "#bd3786"
             ],
             [
              0.5555555555555556,
              "#d8576b"
             ],
             [
              0.6666666666666666,
              "#ed7953"
             ],
             [
              0.7777777777777778,
              "#fb9f3a"
             ],
             [
              0.8888888888888888,
              "#fdca26"
             ],
             [
              1,
              "#f0f921"
             ]
            ],
            "type": "heatmap"
           }
          ],
          "heatmapgl": [
           {
            "colorbar": {
             "outlinewidth": 0,
             "ticks": ""
            },
            "colorscale": [
             [
              0,
              "#0d0887"
             ],
             [
              0.1111111111111111,
              "#46039f"
             ],
             [
              0.2222222222222222,
              "#7201a8"
             ],
             [
              0.3333333333333333,
              "#9c179e"
             ],
             [
              0.4444444444444444,
              "#bd3786"
             ],
             [
              0.5555555555555556,
              "#d8576b"
             ],
             [
              0.6666666666666666,
              "#ed7953"
             ],
             [
              0.7777777777777778,
              "#fb9f3a"
             ],
             [
              0.8888888888888888,
              "#fdca26"
             ],
             [
              1,
              "#f0f921"
             ]
            ],
            "type": "heatmapgl"
           }
          ],
          "histogram": [
           {
            "marker": {
             "pattern": {
              "fillmode": "overlay",
              "size": 10,
              "solidity": 0.2
             }
            },
            "type": "histogram"
           }
          ],
          "histogram2d": [
           {
            "colorbar": {
             "outlinewidth": 0,
             "ticks": ""
            },
            "colorscale": [
             [
              0,
              "#0d0887"
             ],
             [
              0.1111111111111111,
              "#46039f"
             ],
             [
              0.2222222222222222,
              "#7201a8"
             ],
             [
              0.3333333333333333,
              "#9c179e"
             ],
             [
              0.4444444444444444,
              "#bd3786"
             ],
             [
              0.5555555555555556,
              "#d8576b"
             ],
             [
              0.6666666666666666,
              "#ed7953"
             ],
             [
              0.7777777777777778,
              "#fb9f3a"
             ],
             [
              0.8888888888888888,
              "#fdca26"
             ],
             [
              1,
              "#f0f921"
             ]
            ],
            "type": "histogram2d"
           }
          ],
          "histogram2dcontour": [
           {
            "colorbar": {
             "outlinewidth": 0,
             "ticks": ""
            },
            "colorscale": [
             [
              0,
              "#0d0887"
             ],
             [
              0.1111111111111111,
              "#46039f"
             ],
             [
              0.2222222222222222,
              "#7201a8"
             ],
             [
              0.3333333333333333,
              "#9c179e"
             ],
             [
              0.4444444444444444,
              "#bd3786"
             ],
             [
              0.5555555555555556,
              "#d8576b"
             ],
             [
              0.6666666666666666,
              "#ed7953"
             ],
             [
              0.7777777777777778,
              "#fb9f3a"
             ],
             [
              0.8888888888888888,
              "#fdca26"
             ],
             [
              1,
              "#f0f921"
             ]
            ],
            "type": "histogram2dcontour"
           }
          ],
          "mesh3d": [
           {
            "colorbar": {
             "outlinewidth": 0,
             "ticks": ""
            },
            "type": "mesh3d"
           }
          ],
          "parcoords": [
           {
            "line": {
             "colorbar": {
              "outlinewidth": 0,
              "ticks": ""
             }
            },
            "type": "parcoords"
           }
          ],
          "pie": [
           {
            "automargin": true,
            "type": "pie"
           }
          ],
          "scatter": [
           {
            "fillpattern": {
             "fillmode": "overlay",
             "size": 10,
             "solidity": 0.2
            },
            "type": "scatter"
           }
          ],
          "scatter3d": [
           {
            "line": {
             "colorbar": {
              "outlinewidth": 0,
              "ticks": ""
             }
            },
            "marker": {
             "colorbar": {
              "outlinewidth": 0,
              "ticks": ""
             }
            },
            "type": "scatter3d"
           }
          ],
          "scattercarpet": [
           {
            "marker": {
             "colorbar": {
              "outlinewidth": 0,
              "ticks": ""
             }
            },
            "type": "scattercarpet"
           }
          ],
          "scattergeo": [
           {
            "marker": {
             "colorbar": {
              "outlinewidth": 0,
              "ticks": ""
             }
            },
            "type": "scattergeo"
           }
          ],
          "scattergl": [
           {
            "marker": {
             "colorbar": {
              "outlinewidth": 0,
              "ticks": ""
             }
            },
            "type": "scattergl"
           }
          ],
          "scattermapbox": [
           {
            "marker": {
             "colorbar": {
              "outlinewidth": 0,
              "ticks": ""
             }
            },
            "type": "scattermapbox"
           }
          ],
          "scatterpolar": [
           {
            "marker": {
             "colorbar": {
              "outlinewidth": 0,
              "ticks": ""
             }
            },
            "type": "scatterpolar"
           }
          ],
          "scatterpolargl": [
           {
            "marker": {
             "colorbar": {
              "outlinewidth": 0,
              "ticks": ""
             }
            },
            "type": "scatterpolargl"
           }
          ],
          "scatterternary": [
           {
            "marker": {
             "colorbar": {
              "outlinewidth": 0,
              "ticks": ""
             }
            },
            "type": "scatterternary"
           }
          ],
          "surface": [
           {
            "colorbar": {
             "outlinewidth": 0,
             "ticks": ""
            },
            "colorscale": [
             [
              0,
              "#0d0887"
             ],
             [
              0.1111111111111111,
              "#46039f"
             ],
             [
              0.2222222222222222,
              "#7201a8"
             ],
             [
              0.3333333333333333,
              "#9c179e"
             ],
             [
              0.4444444444444444,
              "#bd3786"
             ],
             [
              0.5555555555555556,
              "#d8576b"
             ],
             [
              0.6666666666666666,
              "#ed7953"
             ],
             [
              0.7777777777777778,
              "#fb9f3a"
             ],
             [
              0.8888888888888888,
              "#fdca26"
             ],
             [
              1,
              "#f0f921"
             ]
            ],
            "type": "surface"
           }
          ],
          "table": [
           {
            "cells": {
             "fill": {
              "color": "#EBF0F8"
             },
             "line": {
              "color": "white"
             }
            },
            "header": {
             "fill": {
              "color": "#C8D4E3"
             },
             "line": {
              "color": "white"
             }
            },
            "type": "table"
           }
          ]
         },
         "layout": {
          "annotationdefaults": {
           "arrowcolor": "#2a3f5f",
           "arrowhead": 0,
           "arrowwidth": 1
          },
          "autotypenumbers": "strict",
          "coloraxis": {
           "colorbar": {
            "outlinewidth": 0,
            "ticks": ""
           }
          },
          "colorscale": {
           "diverging": [
            [
             0,
             "#8e0152"
            ],
            [
             0.1,
             "#c51b7d"
            ],
            [
             0.2,
             "#de77ae"
            ],
            [
             0.3,
             "#f1b6da"
            ],
            [
             0.4,
             "#fde0ef"
            ],
            [
             0.5,
             "#f7f7f7"
            ],
            [
             0.6,
             "#e6f5d0"
            ],
            [
             0.7,
             "#b8e186"
            ],
            [
             0.8,
             "#7fbc41"
            ],
            [
             0.9,
             "#4d9221"
            ],
            [
             1,
             "#276419"
            ]
           ],
           "sequential": [
            [
             0,
             "#0d0887"
            ],
            [
             0.1111111111111111,
             "#46039f"
            ],
            [
             0.2222222222222222,
             "#7201a8"
            ],
            [
             0.3333333333333333,
             "#9c179e"
            ],
            [
             0.4444444444444444,
             "#bd3786"
            ],
            [
             0.5555555555555556,
             "#d8576b"
            ],
            [
             0.6666666666666666,
             "#ed7953"
            ],
            [
             0.7777777777777778,
             "#fb9f3a"
            ],
            [
             0.8888888888888888,
             "#fdca26"
            ],
            [
             1,
             "#f0f921"
            ]
           ],
           "sequentialminus": [
            [
             0,
             "#0d0887"
            ],
            [
             0.1111111111111111,
             "#46039f"
            ],
            [
             0.2222222222222222,
             "#7201a8"
            ],
            [
             0.3333333333333333,
             "#9c179e"
            ],
            [
             0.4444444444444444,
             "#bd3786"
            ],
            [
             0.5555555555555556,
             "#d8576b"
            ],
            [
             0.6666666666666666,
             "#ed7953"
            ],
            [
             0.7777777777777778,
             "#fb9f3a"
            ],
            [
             0.8888888888888888,
             "#fdca26"
            ],
            [
             1,
             "#f0f921"
            ]
           ]
          },
          "colorway": [
           "#636efa",
           "#EF553B",
           "#00cc96",
           "#ab63fa",
           "#FFA15A",
           "#19d3f3",
           "#FF6692",
           "#B6E880",
           "#FF97FF",
           "#FECB52"
          ],
          "font": {
           "color": "#2a3f5f"
          },
          "geo": {
           "bgcolor": "white",
           "lakecolor": "white",
           "landcolor": "#E5ECF6",
           "showlakes": true,
           "showland": true,
           "subunitcolor": "white"
          },
          "hoverlabel": {
           "align": "left"
          },
          "hovermode": "closest",
          "mapbox": {
           "style": "light"
          },
          "paper_bgcolor": "white",
          "plot_bgcolor": "#E5ECF6",
          "polar": {
           "angularaxis": {
            "gridcolor": "white",
            "linecolor": "white",
            "ticks": ""
           },
           "bgcolor": "#E5ECF6",
           "radialaxis": {
            "gridcolor": "white",
            "linecolor": "white",
            "ticks": ""
           }
          },
          "scene": {
           "xaxis": {
            "backgroundcolor": "#E5ECF6",
            "gridcolor": "white",
            "gridwidth": 2,
            "linecolor": "white",
            "showbackground": true,
            "ticks": "",
            "zerolinecolor": "white"
           },
           "yaxis": {
            "backgroundcolor": "#E5ECF6",
            "gridcolor": "white",
            "gridwidth": 2,
            "linecolor": "white",
            "showbackground": true,
            "ticks": "",
            "zerolinecolor": "white"
           },
           "zaxis": {
            "backgroundcolor": "#E5ECF6",
            "gridcolor": "white",
            "gridwidth": 2,
            "linecolor": "white",
            "showbackground": true,
            "ticks": "",
            "zerolinecolor": "white"
           }
          },
          "shapedefaults": {
           "line": {
            "color": "#2a3f5f"
           }
          },
          "ternary": {
           "aaxis": {
            "gridcolor": "white",
            "linecolor": "white",
            "ticks": ""
           },
           "baxis": {
            "gridcolor": "white",
            "linecolor": "white",
            "ticks": ""
           },
           "bgcolor": "#E5ECF6",
           "caxis": {
            "gridcolor": "white",
            "linecolor": "white",
            "ticks": ""
           }
          },
          "title": {
           "x": 0.05
          },
          "xaxis": {
           "automargin": true,
           "gridcolor": "white",
           "linecolor": "white",
           "ticks": "",
           "title": {
            "standoff": 15
           },
           "zerolinecolor": "white",
           "zerolinewidth": 2
          },
          "yaxis": {
           "automargin": true,
           "gridcolor": "white",
           "linecolor": "white",
           "ticks": "",
           "title": {
            "standoff": 15
           },
           "zerolinecolor": "white",
           "zerolinewidth": 2
          }
         }
        },
        "title": {
         "text": "Daily Day and Night Sleep Totals by Age (in Days)"
        },
        "xaxis": {
         "anchor": "y",
         "domain": [
          0,
          1
         ],
         "title": {
          "text": "Days Old"
         }
        },
        "yaxis": {
         "anchor": "x",
         "domain": [
          0,
          1
         ],
         "title": {
          "text": "Hours"
         }
        }
       }
      }
     },
     "metadata": {},
     "output_type": "display_data"
    }
   ],
   "source": [
    "fig_sleep_distribution = px.line(\n",
    "    df_daily_sleep_by_period, x = 'Days Old', \n",
    "    y = ['Night Sleep Hours', 'Day Sleep Hours'], \n",
    "title = 'Daily Day and Night Sleep Totals by Age (in Days)')\n",
    "# The default y axis name for line charts with multiple y variables\n",
    "# is 'value,' but this can be updated to 'Hours' using the following line.\n",
    "fig_sleep_distribution.update_layout(yaxis_title = 'Hours', \n",
    "                                     legend_title = 'Metric')\n",
    "fig_sleep_distribution.write_html(\n",
    "    f'{visualizations_folder}daily_total_sleep_by_period.html')\n",
    "fig_sleep_distribution.write_image(\n",
    "    f'{visualizations_folder}daily_total_sleep_by_period.png', scale = 4)\n",
    "fig_sleep_distribution"
   ]
  },
  {
   "cell_type": "markdown",
   "metadata": {},
   "source": [
    "## Calculating how much sleep the baby received each day, then plotting the results:"
   ]
  },
  {
   "cell_type": "code",
   "execution_count": 36,
   "metadata": {
    "execution": {
     "iopub.execute_input": "2024-05-14T17:17:22.167364Z",
     "iopub.status.busy": "2024-05-14T17:17:22.167364Z",
     "iopub.status.idle": "2024-05-14T17:17:22.179652Z",
     "shell.execute_reply": "2024-05-14T17:17:22.179652Z",
     "shell.execute_reply.started": "2024-05-14T17:17:22.167364Z"
    }
   },
   "outputs": [
    {
     "data": {
      "text/html": [
       "<div>\n",
       "<style scoped>\n",
       "    .dataframe tbody tr th:only-of-type {\n",
       "        vertical-align: middle;\n",
       "    }\n",
       "\n",
       "    .dataframe tbody tr th {\n",
       "        vertical-align: top;\n",
       "    }\n",
       "\n",
       "    .dataframe thead th {\n",
       "        text-align: right;\n",
       "    }\n",
       "</style>\n",
       "<table border=\"1\" class=\"dataframe\">\n",
       "  <thead>\n",
       "    <tr style=\"text-align: right;\">\n",
       "      <th></th>\n",
       "      <th>Weeks Old</th>\n",
       "      <th>Days Old</th>\n",
       "      <th>Hours</th>\n",
       "      <th>Count</th>\n",
       "    </tr>\n",
       "  </thead>\n",
       "  <tbody>\n",
       "    <tr>\n",
       "      <th>0</th>\n",
       "      <td>0</td>\n",
       "      <td>0</td>\n",
       "      <td>5.466667</td>\n",
       "      <td>1</td>\n",
       "    </tr>\n",
       "    <tr>\n",
       "      <th>1</th>\n",
       "      <td>0</td>\n",
       "      <td>1</td>\n",
       "      <td>12.033333</td>\n",
       "      <td>1</td>\n",
       "    </tr>\n",
       "    <tr>\n",
       "      <th>2</th>\n",
       "      <td>0</td>\n",
       "      <td>2</td>\n",
       "      <td>10.866667</td>\n",
       "      <td>1</td>\n",
       "    </tr>\n",
       "    <tr>\n",
       "      <th>3</th>\n",
       "      <td>0</td>\n",
       "      <td>3</td>\n",
       "      <td>11.500000</td>\n",
       "      <td>1</td>\n",
       "    </tr>\n",
       "    <tr>\n",
       "      <th>4</th>\n",
       "      <td>0</td>\n",
       "      <td>4</td>\n",
       "      <td>12.100000</td>\n",
       "      <td>1</td>\n",
       "    </tr>\n",
       "    <tr>\n",
       "      <th>...</th>\n",
       "      <td>...</td>\n",
       "      <td>...</td>\n",
       "      <td>...</td>\n",
       "      <td>...</td>\n",
       "    </tr>\n",
       "    <tr>\n",
       "      <th>176</th>\n",
       "      <td>25</td>\n",
       "      <td>176</td>\n",
       "      <td>15.966667</td>\n",
       "      <td>1</td>\n",
       "    </tr>\n",
       "    <tr>\n",
       "      <th>177</th>\n",
       "      <td>25</td>\n",
       "      <td>177</td>\n",
       "      <td>16.383333</td>\n",
       "      <td>1</td>\n",
       "    </tr>\n",
       "    <tr>\n",
       "      <th>178</th>\n",
       "      <td>25</td>\n",
       "      <td>178</td>\n",
       "      <td>17.716667</td>\n",
       "      <td>1</td>\n",
       "    </tr>\n",
       "    <tr>\n",
       "      <th>179</th>\n",
       "      <td>25</td>\n",
       "      <td>179</td>\n",
       "      <td>17.083333</td>\n",
       "      <td>1</td>\n",
       "    </tr>\n",
       "    <tr>\n",
       "      <th>180</th>\n",
       "      <td>25</td>\n",
       "      <td>180</td>\n",
       "      <td>15.850000</td>\n",
       "      <td>1</td>\n",
       "    </tr>\n",
       "  </tbody>\n",
       "</table>\n",
       "<p>181 rows × 4 columns</p>\n",
       "</div>"
      ],
      "text/plain": [
       "     Weeks Old  Days Old      Hours  Count\n",
       "0            0         0   5.466667      1\n",
       "1            0         1  12.033333      1\n",
       "2            0         2  10.866667      1\n",
       "3            0         3  11.500000      1\n",
       "4            0         4  12.100000      1\n",
       "..         ...       ...        ...    ...\n",
       "176         25       176  15.966667      1\n",
       "177         25       177  16.383333      1\n",
       "178         25       178  17.716667      1\n",
       "179         25       179  17.083333      1\n",
       "180         25       180  15.850000      1\n",
       "\n",
       "[181 rows x 4 columns]"
      ]
     },
     "execution_count": 36,
     "metadata": {},
     "output_type": "execute_result"
    }
   ],
   "source": [
    "df_daily_sleep = df_sleep_data.pivot_table(\n",
    "    index = ['Weeks Old', 'Days Old'], \n",
    "    values = 'Hours', \n",
    "    aggfunc = 'sum').reset_index()\n",
    "df_daily_sleep['Count'] = 1 # Will be useful for calculating weekly averages\n",
    "df_daily_sleep.to_csv(\n",
    "    f'{data_output_folder}daily_sleep.csv', index = False)\n",
    "\n",
    "df_daily_sleep"
   ]
  },
  {
   "cell_type": "code",
   "execution_count": 37,
   "metadata": {
    "execution": {
     "iopub.execute_input": "2024-05-14T17:17:22.180658Z",
     "iopub.status.busy": "2024-05-14T17:17:22.180658Z",
     "iopub.status.idle": "2024-05-14T17:17:22.337088Z",
     "shell.execute_reply": "2024-05-14T17:17:22.337088Z",
     "shell.execute_reply.started": "2024-05-14T17:17:22.180658Z"
    }
   },
   "outputs": [
    {
     "data": {
      "application/vnd.plotly.v1+json": {
       "config": {
        "plotlyServerURL": "https://plot.ly"
       },
       "data": [
        {
         "hovertemplate": "Days Old=%{x}<br>Hours=%{y}<extra></extra>",
         "legendgroup": "",
         "line": {
          "color": "#636efa",
          "dash": "solid"
         },
         "marker": {
          "symbol": "circle"
         },
         "mode": "lines",
         "name": "",
         "orientation": "v",
         "showlegend": false,
         "type": "scatter",
         "x": [
          0,
          1,
          2,
          3,
          4,
          5,
          6,
          7,
          8,
          9,
          10,
          11,
          12,
          13,
          14,
          15,
          16,
          17,
          18,
          19,
          20,
          21,
          22,
          23,
          24,
          25,
          26,
          27,
          28,
          29,
          30,
          31,
          32,
          33,
          34,
          35,
          36,
          37,
          38,
          39,
          40,
          41,
          42,
          43,
          44,
          45,
          46,
          47,
          48,
          49,
          50,
          51,
          52,
          53,
          54,
          55,
          56,
          57,
          58,
          59,
          60,
          61,
          62,
          63,
          64,
          65,
          66,
          67,
          68,
          69,
          70,
          71,
          72,
          73,
          74,
          75,
          76,
          77,
          78,
          79,
          80,
          81,
          82,
          83,
          84,
          85,
          86,
          87,
          88,
          89,
          90,
          91,
          92,
          93,
          94,
          95,
          96,
          97,
          98,
          99,
          100,
          101,
          102,
          103,
          104,
          105,
          106,
          107,
          108,
          109,
          110,
          111,
          112,
          113,
          114,
          115,
          116,
          117,
          118,
          119,
          120,
          121,
          122,
          123,
          124,
          125,
          126,
          127,
          128,
          129,
          130,
          131,
          132,
          133,
          134,
          135,
          136,
          137,
          138,
          139,
          140,
          141,
          142,
          143,
          144,
          145,
          146,
          147,
          148,
          149,
          150,
          151,
          152,
          153,
          154,
          155,
          156,
          157,
          158,
          159,
          160,
          161,
          162,
          163,
          164,
          165,
          166,
          167,
          168,
          169,
          170,
          171,
          172,
          173,
          174,
          175,
          176,
          177,
          178,
          179,
          180
         ],
         "xaxis": "x",
         "y": [
          5.466666666666667,
          12.033333333333333,
          10.866666666666667,
          11.5,
          12.1,
          10.6,
          11.1,
          12.666666666666666,
          10.533333333333333,
          12.766666666666667,
          12.916666666666668,
          12.25,
          12.966666666666667,
          11.616666666666667,
          13.083333333333332,
          12.533333333333333,
          12.066666666666666,
          14.1,
          12.383333333333333,
          12.9,
          13.9,
          12.966666666666667,
          14.316666666666666,
          13.1,
          13.35,
          14.683333333333334,
          13.633333333333333,
          14.083333333333334,
          14.2,
          14.533333333333333,
          15.200000000000001,
          15.333333333333334,
          15.85,
          14.333333333333334,
          15.783333333333333,
          16.416666666666668,
          15.583333333333332,
          15.216666666666667,
          15.95,
          15.666666666666668,
          15.783333333333333,
          15.75,
          16.7,
          15.866666666666667,
          16.183333333333334,
          17.183333333333334,
          14.883333333333333,
          16.7,
          16.166666666666668,
          15.816666666666666,
          16.033333333333335,
          17.2,
          15.466666666666667,
          16.8,
          16.316666666666666,
          15.716666666666667,
          15.950000000000001,
          15.966666666666667,
          16.05,
          16.1,
          16.683333333333334,
          16.633333333333333,
          16.666666666666668,
          16.3,
          16.6,
          17.3,
          16.566666666666666,
          16.95,
          15.616666666666667,
          15.983333333333334,
          16.53333333333333,
          16.45,
          15.75,
          16.316666666666666,
          17.116666666666667,
          17.133333333333333,
          17.416666666666668,
          16.483333333333334,
          16.3,
          16.166666666666668,
          16.216666666666665,
          16.283333333333335,
          17.016666666666666,
          16.05,
          15.683333333333334,
          16.05,
          16.46666666666667,
          15.933333333333334,
          14.95,
          15.566666666666666,
          16.65,
          16.816666666666666,
          17.666666666666668,
          15.45,
          17.433333333333334,
          16.966666666666665,
          18.8,
          16.9,
          18.016666666666666,
          17.96666666666667,
          16.066666666666666,
          16.333333333333332,
          17.133333333333333,
          15.633333333333333,
          16.599999999999998,
          16.566666666666666,
          16.9,
          16.216666666666665,
          18.633333333333333,
          17.25,
          15.1,
          17.016666666666666,
          17.483333333333334,
          15.866666666666667,
          18.366666666666667,
          15.133333333333333,
          16.55,
          17.883333333333333,
          17.366666666666667,
          16.933333333333334,
          18.2,
          17.46666666666667,
          16.4,
          16.9,
          17.333333333333336,
          17.2,
          16.783333333333335,
          17.4,
          17.75,
          17.633333333333333,
          15.716666666666667,
          15.25,
          16.85,
          16.633333333333333,
          17.8,
          16.316666666666666,
          16.366666666666667,
          16.55,
          16.35,
          16.46666666666667,
          18.766666666666666,
          16.516666666666666,
          14.833333333333334,
          17.366666666666667,
          18.75,
          16.75,
          18.46666666666667,
          17.78333333333333,
          17.883333333333333,
          16.483333333333334,
          15.616666666666667,
          16.483333333333334,
          16.8,
          18.983333333333334,
          17.116666666666667,
          18.6,
          16.366666666666667,
          18.03333333333333,
          17.416666666666668,
          17.116666666666667,
          18.1,
          17.28333333333333,
          15.5,
          18.683333333333334,
          16.46666666666667,
          15.933333333333334,
          17.066666666666666,
          18.25,
          16.4,
          17.833333333333336,
          17.950000000000003,
          14.916666666666668,
          17.78333333333333,
          15.033333333333333,
          17.7,
          17.46666666666667,
          15.966666666666667,
          16.383333333333333,
          17.716666666666665,
          17.083333333333332,
          15.85
         ],
         "yaxis": "y"
        }
       ],
       "layout": {
        "legend": {
         "tracegroupgap": 0
        },
        "template": {
         "data": {
          "bar": [
           {
            "error_x": {
             "color": "#2a3f5f"
            },
            "error_y": {
             "color": "#2a3f5f"
            },
            "marker": {
             "line": {
              "color": "#E5ECF6",
              "width": 0.5
             },
             "pattern": {
              "fillmode": "overlay",
              "size": 10,
              "solidity": 0.2
             }
            },
            "type": "bar"
           }
          ],
          "barpolar": [
           {
            "marker": {
             "line": {
              "color": "#E5ECF6",
              "width": 0.5
             },
             "pattern": {
              "fillmode": "overlay",
              "size": 10,
              "solidity": 0.2
             }
            },
            "type": "barpolar"
           }
          ],
          "carpet": [
           {
            "aaxis": {
             "endlinecolor": "#2a3f5f",
             "gridcolor": "white",
             "linecolor": "white",
             "minorgridcolor": "white",
             "startlinecolor": "#2a3f5f"
            },
            "baxis": {
             "endlinecolor": "#2a3f5f",
             "gridcolor": "white",
             "linecolor": "white",
             "minorgridcolor": "white",
             "startlinecolor": "#2a3f5f"
            },
            "type": "carpet"
           }
          ],
          "choropleth": [
           {
            "colorbar": {
             "outlinewidth": 0,
             "ticks": ""
            },
            "type": "choropleth"
           }
          ],
          "contour": [
           {
            "colorbar": {
             "outlinewidth": 0,
             "ticks": ""
            },
            "colorscale": [
             [
              0,
              "#0d0887"
             ],
             [
              0.1111111111111111,
              "#46039f"
             ],
             [
              0.2222222222222222,
              "#7201a8"
             ],
             [
              0.3333333333333333,
              "#9c179e"
             ],
             [
              0.4444444444444444,
              "#bd3786"
             ],
             [
              0.5555555555555556,
              "#d8576b"
             ],
             [
              0.6666666666666666,
              "#ed7953"
             ],
             [
              0.7777777777777778,
              "#fb9f3a"
             ],
             [
              0.8888888888888888,
              "#fdca26"
             ],
             [
              1,
              "#f0f921"
             ]
            ],
            "type": "contour"
           }
          ],
          "contourcarpet": [
           {
            "colorbar": {
             "outlinewidth": 0,
             "ticks": ""
            },
            "type": "contourcarpet"
           }
          ],
          "heatmap": [
           {
            "colorbar": {
             "outlinewidth": 0,
             "ticks": ""
            },
            "colorscale": [
             [
              0,
              "#0d0887"
             ],
             [
              0.1111111111111111,
              "#46039f"
             ],
             [
              0.2222222222222222,
              "#7201a8"
             ],
             [
              0.3333333333333333,
              "#9c179e"
             ],
             [
              0.4444444444444444,
              "#bd3786"
             ],
             [
              0.5555555555555556,
              "#d8576b"
             ],
             [
              0.6666666666666666,
              "#ed7953"
             ],
             [
              0.7777777777777778,
              "#fb9f3a"
             ],
             [
              0.8888888888888888,
              "#fdca26"
             ],
             [
              1,
              "#f0f921"
             ]
            ],
            "type": "heatmap"
           }
          ],
          "heatmapgl": [
           {
            "colorbar": {
             "outlinewidth": 0,
             "ticks": ""
            },
            "colorscale": [
             [
              0,
              "#0d0887"
             ],
             [
              0.1111111111111111,
              "#46039f"
             ],
             [
              0.2222222222222222,
              "#7201a8"
             ],
             [
              0.3333333333333333,
              "#9c179e"
             ],
             [
              0.4444444444444444,
              "#bd3786"
             ],
             [
              0.5555555555555556,
              "#d8576b"
             ],
             [
              0.6666666666666666,
              "#ed7953"
             ],
             [
              0.7777777777777778,
              "#fb9f3a"
             ],
             [
              0.8888888888888888,
              "#fdca26"
             ],
             [
              1,
              "#f0f921"
             ]
            ],
            "type": "heatmapgl"
           }
          ],
          "histogram": [
           {
            "marker": {
             "pattern": {
              "fillmode": "overlay",
              "size": 10,
              "solidity": 0.2
             }
            },
            "type": "histogram"
           }
          ],
          "histogram2d": [
           {
            "colorbar": {
             "outlinewidth": 0,
             "ticks": ""
            },
            "colorscale": [
             [
              0,
              "#0d0887"
             ],
             [
              0.1111111111111111,
              "#46039f"
             ],
             [
              0.2222222222222222,
              "#7201a8"
             ],
             [
              0.3333333333333333,
              "#9c179e"
             ],
             [
              0.4444444444444444,
              "#bd3786"
             ],
             [
              0.5555555555555556,
              "#d8576b"
             ],
             [
              0.6666666666666666,
              "#ed7953"
             ],
             [
              0.7777777777777778,
              "#fb9f3a"
             ],
             [
              0.8888888888888888,
              "#fdca26"
             ],
             [
              1,
              "#f0f921"
             ]
            ],
            "type": "histogram2d"
           }
          ],
          "histogram2dcontour": [
           {
            "colorbar": {
             "outlinewidth": 0,
             "ticks": ""
            },
            "colorscale": [
             [
              0,
              "#0d0887"
             ],
             [
              0.1111111111111111,
              "#46039f"
             ],
             [
              0.2222222222222222,
              "#7201a8"
             ],
             [
              0.3333333333333333,
              "#9c179e"
             ],
             [
              0.4444444444444444,
              "#bd3786"
             ],
             [
              0.5555555555555556,
              "#d8576b"
             ],
             [
              0.6666666666666666,
              "#ed7953"
             ],
             [
              0.7777777777777778,
              "#fb9f3a"
             ],
             [
              0.8888888888888888,
              "#fdca26"
             ],
             [
              1,
              "#f0f921"
             ]
            ],
            "type": "histogram2dcontour"
           }
          ],
          "mesh3d": [
           {
            "colorbar": {
             "outlinewidth": 0,
             "ticks": ""
            },
            "type": "mesh3d"
           }
          ],
          "parcoords": [
           {
            "line": {
             "colorbar": {
              "outlinewidth": 0,
              "ticks": ""
             }
            },
            "type": "parcoords"
           }
          ],
          "pie": [
           {
            "automargin": true,
            "type": "pie"
           }
          ],
          "scatter": [
           {
            "fillpattern": {
             "fillmode": "overlay",
             "size": 10,
             "solidity": 0.2
            },
            "type": "scatter"
           }
          ],
          "scatter3d": [
           {
            "line": {
             "colorbar": {
              "outlinewidth": 0,
              "ticks": ""
             }
            },
            "marker": {
             "colorbar": {
              "outlinewidth": 0,
              "ticks": ""
             }
            },
            "type": "scatter3d"
           }
          ],
          "scattercarpet": [
           {
            "marker": {
             "colorbar": {
              "outlinewidth": 0,
              "ticks": ""
             }
            },
            "type": "scattercarpet"
           }
          ],
          "scattergeo": [
           {
            "marker": {
             "colorbar": {
              "outlinewidth": 0,
              "ticks": ""
             }
            },
            "type": "scattergeo"
           }
          ],
          "scattergl": [
           {
            "marker": {
             "colorbar": {
              "outlinewidth": 0,
              "ticks": ""
             }
            },
            "type": "scattergl"
           }
          ],
          "scattermapbox": [
           {
            "marker": {
             "colorbar": {
              "outlinewidth": 0,
              "ticks": ""
             }
            },
            "type": "scattermapbox"
           }
          ],
          "scatterpolar": [
           {
            "marker": {
             "colorbar": {
              "outlinewidth": 0,
              "ticks": ""
             }
            },
            "type": "scatterpolar"
           }
          ],
          "scatterpolargl": [
           {
            "marker": {
             "colorbar": {
              "outlinewidth": 0,
              "ticks": ""
             }
            },
            "type": "scatterpolargl"
           }
          ],
          "scatterternary": [
           {
            "marker": {
             "colorbar": {
              "outlinewidth": 0,
              "ticks": ""
             }
            },
            "type": "scatterternary"
           }
          ],
          "surface": [
           {
            "colorbar": {
             "outlinewidth": 0,
             "ticks": ""
            },
            "colorscale": [
             [
              0,
              "#0d0887"
             ],
             [
              0.1111111111111111,
              "#46039f"
             ],
             [
              0.2222222222222222,
              "#7201a8"
             ],
             [
              0.3333333333333333,
              "#9c179e"
             ],
             [
              0.4444444444444444,
              "#bd3786"
             ],
             [
              0.5555555555555556,
              "#d8576b"
             ],
             [
              0.6666666666666666,
              "#ed7953"
             ],
             [
              0.7777777777777778,
              "#fb9f3a"
             ],
             [
              0.8888888888888888,
              "#fdca26"
             ],
             [
              1,
              "#f0f921"
             ]
            ],
            "type": "surface"
           }
          ],
          "table": [
           {
            "cells": {
             "fill": {
              "color": "#EBF0F8"
             },
             "line": {
              "color": "white"
             }
            },
            "header": {
             "fill": {
              "color": "#C8D4E3"
             },
             "line": {
              "color": "white"
             }
            },
            "type": "table"
           }
          ]
         },
         "layout": {
          "annotationdefaults": {
           "arrowcolor": "#2a3f5f",
           "arrowhead": 0,
           "arrowwidth": 1
          },
          "autotypenumbers": "strict",
          "coloraxis": {
           "colorbar": {
            "outlinewidth": 0,
            "ticks": ""
           }
          },
          "colorscale": {
           "diverging": [
            [
             0,
             "#8e0152"
            ],
            [
             0.1,
             "#c51b7d"
            ],
            [
             0.2,
             "#de77ae"
            ],
            [
             0.3,
             "#f1b6da"
            ],
            [
             0.4,
             "#fde0ef"
            ],
            [
             0.5,
             "#f7f7f7"
            ],
            [
             0.6,
             "#e6f5d0"
            ],
            [
             0.7,
             "#b8e186"
            ],
            [
             0.8,
             "#7fbc41"
            ],
            [
             0.9,
             "#4d9221"
            ],
            [
             1,
             "#276419"
            ]
           ],
           "sequential": [
            [
             0,
             "#0d0887"
            ],
            [
             0.1111111111111111,
             "#46039f"
            ],
            [
             0.2222222222222222,
             "#7201a8"
            ],
            [
             0.3333333333333333,
             "#9c179e"
            ],
            [
             0.4444444444444444,
             "#bd3786"
            ],
            [
             0.5555555555555556,
             "#d8576b"
            ],
            [
             0.6666666666666666,
             "#ed7953"
            ],
            [
             0.7777777777777778,
             "#fb9f3a"
            ],
            [
             0.8888888888888888,
             "#fdca26"
            ],
            [
             1,
             "#f0f921"
            ]
           ],
           "sequentialminus": [
            [
             0,
             "#0d0887"
            ],
            [
             0.1111111111111111,
             "#46039f"
            ],
            [
             0.2222222222222222,
             "#7201a8"
            ],
            [
             0.3333333333333333,
             "#9c179e"
            ],
            [
             0.4444444444444444,
             "#bd3786"
            ],
            [
             0.5555555555555556,
             "#d8576b"
            ],
            [
             0.6666666666666666,
             "#ed7953"
            ],
            [
             0.7777777777777778,
             "#fb9f3a"
            ],
            [
             0.8888888888888888,
             "#fdca26"
            ],
            [
             1,
             "#f0f921"
            ]
           ]
          },
          "colorway": [
           "#636efa",
           "#EF553B",
           "#00cc96",
           "#ab63fa",
           "#FFA15A",
           "#19d3f3",
           "#FF6692",
           "#B6E880",
           "#FF97FF",
           "#FECB52"
          ],
          "font": {
           "color": "#2a3f5f"
          },
          "geo": {
           "bgcolor": "white",
           "lakecolor": "white",
           "landcolor": "#E5ECF6",
           "showlakes": true,
           "showland": true,
           "subunitcolor": "white"
          },
          "hoverlabel": {
           "align": "left"
          },
          "hovermode": "closest",
          "mapbox": {
           "style": "light"
          },
          "paper_bgcolor": "white",
          "plot_bgcolor": "#E5ECF6",
          "polar": {
           "angularaxis": {
            "gridcolor": "white",
            "linecolor": "white",
            "ticks": ""
           },
           "bgcolor": "#E5ECF6",
           "radialaxis": {
            "gridcolor": "white",
            "linecolor": "white",
            "ticks": ""
           }
          },
          "scene": {
           "xaxis": {
            "backgroundcolor": "#E5ECF6",
            "gridcolor": "white",
            "gridwidth": 2,
            "linecolor": "white",
            "showbackground": true,
            "ticks": "",
            "zerolinecolor": "white"
           },
           "yaxis": {
            "backgroundcolor": "#E5ECF6",
            "gridcolor": "white",
            "gridwidth": 2,
            "linecolor": "white",
            "showbackground": true,
            "ticks": "",
            "zerolinecolor": "white"
           },
           "zaxis": {
            "backgroundcolor": "#E5ECF6",
            "gridcolor": "white",
            "gridwidth": 2,
            "linecolor": "white",
            "showbackground": true,
            "ticks": "",
            "zerolinecolor": "white"
           }
          },
          "shapedefaults": {
           "line": {
            "color": "#2a3f5f"
           }
          },
          "ternary": {
           "aaxis": {
            "gridcolor": "white",
            "linecolor": "white",
            "ticks": ""
           },
           "baxis": {
            "gridcolor": "white",
            "linecolor": "white",
            "ticks": ""
           },
           "bgcolor": "#E5ECF6",
           "caxis": {
            "gridcolor": "white",
            "linecolor": "white",
            "ticks": ""
           }
          },
          "title": {
           "x": 0.05
          },
          "xaxis": {
           "automargin": true,
           "gridcolor": "white",
           "linecolor": "white",
           "ticks": "",
           "title": {
            "standoff": 15
           },
           "zerolinecolor": "white",
           "zerolinewidth": 2
          },
          "yaxis": {
           "automargin": true,
           "gridcolor": "white",
           "linecolor": "white",
           "ticks": "",
           "title": {
            "standoff": 15
           },
           "zerolinecolor": "white",
           "zerolinewidth": 2
          }
         }
        },
        "title": {
         "text": "Daily Sleep Totals by Age (in Days)"
        },
        "xaxis": {
         "anchor": "y",
         "domain": [
          0,
          1
         ],
         "title": {
          "text": "Days Old"
         }
        },
        "yaxis": {
         "anchor": "x",
         "domain": [
          0,
          1
         ],
         "title": {
          "text": "Hours"
         }
        }
       }
      }
     },
     "metadata": {},
     "output_type": "display_data"
    }
   ],
   "source": [
    "fig_daily_sleep = px.line(\n",
    "    df_daily_sleep, x = 'Days Old', y = 'Hours',\n",
    "title = 'Daily Sleep Totals by Age (in Days)')\n",
    "fig_daily_sleep.write_html(\n",
    "    f'{visualizations_folder}daily_total_sleep.html')\n",
    "fig_daily_sleep.write_image(\n",
    "    f'{visualizations_folder}daily_total_sleep.png', scale = 4)\n",
    "fig_daily_sleep"
   ]
  },
  {
   "cell_type": "markdown",
   "metadata": {},
   "source": [
    "### Calculating and plotting the average amount of day and night sleep received each week:"
   ]
  },
  {
   "cell_type": "code",
   "execution_count": 38,
   "metadata": {
    "execution": {
     "iopub.execute_input": "2024-05-14T17:17:22.338093Z",
     "iopub.status.busy": "2024-05-14T17:17:22.338093Z",
     "iopub.status.idle": "2024-05-14T17:17:22.351708Z",
     "shell.execute_reply": "2024-05-14T17:17:22.351708Z",
     "shell.execute_reply.started": "2024-05-14T17:17:22.338093Z"
    }
   },
   "outputs": [
    {
     "data": {
      "text/html": [
       "<div>\n",
       "<style scoped>\n",
       "    .dataframe tbody tr th:only-of-type {\n",
       "        vertical-align: middle;\n",
       "    }\n",
       "\n",
       "    .dataframe tbody tr th {\n",
       "        vertical-align: top;\n",
       "    }\n",
       "\n",
       "    .dataframe thead th {\n",
       "        text-align: right;\n",
       "    }\n",
       "</style>\n",
       "<table border=\"1\" class=\"dataframe\">\n",
       "  <thead>\n",
       "    <tr style=\"text-align: right;\">\n",
       "      <th></th>\n",
       "      <th>Weeks Old</th>\n",
       "      <th>Count</th>\n",
       "      <th>Day Sleep Hours</th>\n",
       "      <th>Night Sleep Hours</th>\n",
       "      <th>Avg Day Sleep Hours</th>\n",
       "      <th>Avg Night Sleep Hours</th>\n",
       "    </tr>\n",
       "  </thead>\n",
       "  <tbody>\n",
       "    <tr>\n",
       "      <th>0</th>\n",
       "      <td>0</td>\n",
       "      <td>7</td>\n",
       "      <td>45.483333</td>\n",
       "      <td>28.183333</td>\n",
       "      <td>6.497619</td>\n",
       "      <td>4.026190</td>\n",
       "    </tr>\n",
       "    <tr>\n",
       "      <th>1</th>\n",
       "      <td>1</td>\n",
       "      <td>7</td>\n",
       "      <td>50.516667</td>\n",
       "      <td>35.200000</td>\n",
       "      <td>7.216667</td>\n",
       "      <td>5.028571</td>\n",
       "    </tr>\n",
       "    <tr>\n",
       "      <th>2</th>\n",
       "      <td>2</td>\n",
       "      <td>7</td>\n",
       "      <td>54.983333</td>\n",
       "      <td>35.983333</td>\n",
       "      <td>7.854762</td>\n",
       "      <td>5.140476</td>\n",
       "    </tr>\n",
       "    <tr>\n",
       "      <th>3</th>\n",
       "      <td>3</td>\n",
       "      <td>7</td>\n",
       "      <td>52.216667</td>\n",
       "      <td>43.916667</td>\n",
       "      <td>7.459524</td>\n",
       "      <td>6.273810</td>\n",
       "    </tr>\n",
       "    <tr>\n",
       "      <th>4</th>\n",
       "      <td>4</td>\n",
       "      <td>7</td>\n",
       "      <td>57.100000</td>\n",
       "      <td>48.133333</td>\n",
       "      <td>8.157143</td>\n",
       "      <td>6.876190</td>\n",
       "    </tr>\n",
       "    <tr>\n",
       "      <th>5</th>\n",
       "      <td>5</td>\n",
       "      <td>7</td>\n",
       "      <td>53.250000</td>\n",
       "      <td>57.116667</td>\n",
       "      <td>7.607143</td>\n",
       "      <td>8.159524</td>\n",
       "    </tr>\n",
       "    <tr>\n",
       "      <th>6</th>\n",
       "      <td>6</td>\n",
       "      <td>7</td>\n",
       "      <td>55.933333</td>\n",
       "      <td>57.750000</td>\n",
       "      <td>7.990476</td>\n",
       "      <td>8.250000</td>\n",
       "    </tr>\n",
       "    <tr>\n",
       "      <th>7</th>\n",
       "      <td>7</td>\n",
       "      <td>7</td>\n",
       "      <td>52.500000</td>\n",
       "      <td>60.850000</td>\n",
       "      <td>7.500000</td>\n",
       "      <td>8.692857</td>\n",
       "    </tr>\n",
       "    <tr>\n",
       "      <th>8</th>\n",
       "      <td>8</td>\n",
       "      <td>7</td>\n",
       "      <td>53.350000</td>\n",
       "      <td>60.700000</td>\n",
       "      <td>7.621429</td>\n",
       "      <td>8.671429</td>\n",
       "    </tr>\n",
       "    <tr>\n",
       "      <th>9</th>\n",
       "      <td>9</td>\n",
       "      <td>7</td>\n",
       "      <td>53.816667</td>\n",
       "      <td>61.500000</td>\n",
       "      <td>7.688095</td>\n",
       "      <td>8.785714</td>\n",
       "    </tr>\n",
       "    <tr>\n",
       "      <th>10</th>\n",
       "      <td>10</td>\n",
       "      <td>7</td>\n",
       "      <td>53.983333</td>\n",
       "      <td>62.733333</td>\n",
       "      <td>7.711905</td>\n",
       "      <td>8.961905</td>\n",
       "    </tr>\n",
       "    <tr>\n",
       "      <th>11</th>\n",
       "      <td>11</td>\n",
       "      <td>7</td>\n",
       "      <td>51.566667</td>\n",
       "      <td>62.950000</td>\n",
       "      <td>7.366667</td>\n",
       "      <td>8.992857</td>\n",
       "    </tr>\n",
       "    <tr>\n",
       "      <th>12</th>\n",
       "      <td>12</td>\n",
       "      <td>7</td>\n",
       "      <td>48.583333</td>\n",
       "      <td>62.716667</td>\n",
       "      <td>6.940476</td>\n",
       "      <td>8.959524</td>\n",
       "    </tr>\n",
       "    <tr>\n",
       "      <th>13</th>\n",
       "      <td>13</td>\n",
       "      <td>7</td>\n",
       "      <td>52.516667</td>\n",
       "      <td>67.516667</td>\n",
       "      <td>7.502381</td>\n",
       "      <td>9.645238</td>\n",
       "    </tr>\n",
       "    <tr>\n",
       "      <th>14</th>\n",
       "      <td>14</td>\n",
       "      <td>7</td>\n",
       "      <td>49.950000</td>\n",
       "      <td>67.800000</td>\n",
       "      <td>7.135714</td>\n",
       "      <td>9.685714</td>\n",
       "    </tr>\n",
       "    <tr>\n",
       "      <th>15</th>\n",
       "      <td>15</td>\n",
       "      <td>7</td>\n",
       "      <td>51.600000</td>\n",
       "      <td>66.083333</td>\n",
       "      <td>7.371429</td>\n",
       "      <td>9.440476</td>\n",
       "    </tr>\n",
       "    <tr>\n",
       "      <th>16</th>\n",
       "      <td>16</td>\n",
       "      <td>7</td>\n",
       "      <td>48.216667</td>\n",
       "      <td>70.433333</td>\n",
       "      <td>6.888095</td>\n",
       "      <td>10.061905</td>\n",
       "    </tr>\n",
       "    <tr>\n",
       "      <th>17</th>\n",
       "      <td>17</td>\n",
       "      <td>7</td>\n",
       "      <td>48.416667</td>\n",
       "      <td>72.016667</td>\n",
       "      <td>6.916667</td>\n",
       "      <td>10.288095</td>\n",
       "    </tr>\n",
       "    <tr>\n",
       "      <th>18</th>\n",
       "      <td>18</td>\n",
       "      <td>7</td>\n",
       "      <td>48.950000</td>\n",
       "      <td>68.433333</td>\n",
       "      <td>6.992857</td>\n",
       "      <td>9.776190</td>\n",
       "    </tr>\n",
       "    <tr>\n",
       "      <th>19</th>\n",
       "      <td>19</td>\n",
       "      <td>7</td>\n",
       "      <td>46.850000</td>\n",
       "      <td>69.633333</td>\n",
       "      <td>6.692857</td>\n",
       "      <td>9.947619</td>\n",
       "    </tr>\n",
       "    <tr>\n",
       "      <th>20</th>\n",
       "      <td>20</td>\n",
       "      <td>7</td>\n",
       "      <td>47.166667</td>\n",
       "      <td>74.283333</td>\n",
       "      <td>6.738095</td>\n",
       "      <td>10.611905</td>\n",
       "    </tr>\n",
       "    <tr>\n",
       "      <th>21</th>\n",
       "      <td>21</td>\n",
       "      <td>7</td>\n",
       "      <td>48.516667</td>\n",
       "      <td>71.516667</td>\n",
       "      <td>6.930952</td>\n",
       "      <td>10.216667</td>\n",
       "    </tr>\n",
       "    <tr>\n",
       "      <th>22</th>\n",
       "      <td>22</td>\n",
       "      <td>7</td>\n",
       "      <td>47.783333</td>\n",
       "      <td>74.966667</td>\n",
       "      <td>6.826190</td>\n",
       "      <td>10.709524</td>\n",
       "    </tr>\n",
       "    <tr>\n",
       "      <th>23</th>\n",
       "      <td>23</td>\n",
       "      <td>7</td>\n",
       "      <td>46.700000</td>\n",
       "      <td>72.483333</td>\n",
       "      <td>6.671429</td>\n",
       "      <td>10.354762</td>\n",
       "    </tr>\n",
       "    <tr>\n",
       "      <th>24</th>\n",
       "      <td>24</td>\n",
       "      <td>7</td>\n",
       "      <td>48.250000</td>\n",
       "      <td>69.366667</td>\n",
       "      <td>6.892857</td>\n",
       "      <td>9.909524</td>\n",
       "    </tr>\n",
       "    <tr>\n",
       "      <th>25</th>\n",
       "      <td>25</td>\n",
       "      <td>6</td>\n",
       "      <td>40.916667</td>\n",
       "      <td>59.550000</td>\n",
       "      <td>6.819444</td>\n",
       "      <td>9.925000</td>\n",
       "    </tr>\n",
       "  </tbody>\n",
       "</table>\n",
       "</div>"
      ],
      "text/plain": [
       "    Weeks Old  Count  Day Sleep Hours  Night Sleep Hours  Avg Day Sleep Hours  \\\n",
       "0           0      7        45.483333          28.183333             6.497619   \n",
       "1           1      7        50.516667          35.200000             7.216667   \n",
       "2           2      7        54.983333          35.983333             7.854762   \n",
       "3           3      7        52.216667          43.916667             7.459524   \n",
       "4           4      7        57.100000          48.133333             8.157143   \n",
       "5           5      7        53.250000          57.116667             7.607143   \n",
       "6           6      7        55.933333          57.750000             7.990476   \n",
       "7           7      7        52.500000          60.850000             7.500000   \n",
       "8           8      7        53.350000          60.700000             7.621429   \n",
       "9           9      7        53.816667          61.500000             7.688095   \n",
       "10         10      7        53.983333          62.733333             7.711905   \n",
       "11         11      7        51.566667          62.950000             7.366667   \n",
       "12         12      7        48.583333          62.716667             6.940476   \n",
       "13         13      7        52.516667          67.516667             7.502381   \n",
       "14         14      7        49.950000          67.800000             7.135714   \n",
       "15         15      7        51.600000          66.083333             7.371429   \n",
       "16         16      7        48.216667          70.433333             6.888095   \n",
       "17         17      7        48.416667          72.016667             6.916667   \n",
       "18         18      7        48.950000          68.433333             6.992857   \n",
       "19         19      7        46.850000          69.633333             6.692857   \n",
       "20         20      7        47.166667          74.283333             6.738095   \n",
       "21         21      7        48.516667          71.516667             6.930952   \n",
       "22         22      7        47.783333          74.966667             6.826190   \n",
       "23         23      7        46.700000          72.483333             6.671429   \n",
       "24         24      7        48.250000          69.366667             6.892857   \n",
       "25         25      6        40.916667          59.550000             6.819444   \n",
       "\n",
       "    Avg Night Sleep Hours  \n",
       "0                4.026190  \n",
       "1                5.028571  \n",
       "2                5.140476  \n",
       "3                6.273810  \n",
       "4                6.876190  \n",
       "5                8.159524  \n",
       "6                8.250000  \n",
       "7                8.692857  \n",
       "8                8.671429  \n",
       "9                8.785714  \n",
       "10               8.961905  \n",
       "11               8.992857  \n",
       "12               8.959524  \n",
       "13               9.645238  \n",
       "14               9.685714  \n",
       "15               9.440476  \n",
       "16              10.061905  \n",
       "17              10.288095  \n",
       "18               9.776190  \n",
       "19               9.947619  \n",
       "20              10.611905  \n",
       "21              10.216667  \n",
       "22              10.709524  \n",
       "23              10.354762  \n",
       "24               9.909524  \n",
       "25               9.925000  "
      ]
     },
     "execution_count": 38,
     "metadata": {},
     "output_type": "execute_result"
    }
   ],
   "source": [
    "df_weekly_sleep_by_period = df_daily_sleep_by_period.pivot_table(\n",
    "    index = 'Weeks Old', \n",
    "    values = ['Day Sleep Hours', \n",
    "              'Night Sleep Hours', 'Count'], \n",
    "    aggfunc = 'sum').reset_index()\n",
    "for column in ['Day Sleep Hours', 'Night Sleep Hours']:\n",
    "    df_weekly_sleep_by_period[f\"Avg {column}\"] = \\\n",
    "        df_weekly_sleep_by_period[column] / df_weekly_sleep_by_period['Count']\n",
    "df_weekly_sleep_by_period.to_csv(\n",
    "    f'{data_output_folder}weekly_sleep_by_period.csv', \n",
    "    index = False)\n",
    "df_weekly_sleep_by_period"
   ]
  },
  {
   "cell_type": "code",
   "execution_count": 39,
   "metadata": {
    "execution": {
     "iopub.execute_input": "2024-05-14T17:17:22.352717Z",
     "iopub.status.busy": "2024-05-14T17:17:22.352717Z",
     "iopub.status.idle": "2024-05-14T17:17:22.525216Z",
     "shell.execute_reply": "2024-05-14T17:17:22.525216Z",
     "shell.execute_reply.started": "2024-05-14T17:17:22.352717Z"
    }
   },
   "outputs": [
    {
     "data": {
      "application/vnd.plotly.v1+json": {
       "config": {
        "plotlyServerURL": "https://plot.ly"
       },
       "data": [
        {
         "hovertemplate": "variable=Avg Night Sleep Hours<br>Weeks Old=%{x}<br>value=%{y}<extra></extra>",
         "legendgroup": "Avg Night Sleep Hours",
         "line": {
          "color": "#636efa",
          "dash": "solid"
         },
         "marker": {
          "symbol": "circle"
         },
         "mode": "lines",
         "name": "Avg Night Sleep Hours",
         "orientation": "v",
         "showlegend": true,
         "type": "scatter",
         "x": [
          0,
          1,
          2,
          3,
          4,
          5,
          6,
          7,
          8,
          9,
          10,
          11,
          12,
          13,
          14,
          15,
          16,
          17,
          18,
          19,
          20,
          21,
          22,
          23,
          24,
          25
         ],
         "xaxis": "x",
         "y": [
          4.026190476190476,
          5.028571428571429,
          5.140476190476191,
          6.273809523809524,
          6.876190476190476,
          8.15952380952381,
          8.25,
          8.692857142857143,
          8.671428571428573,
          8.785714285714286,
          8.961904761904762,
          8.992857142857144,
          8.95952380952381,
          9.645238095238096,
          9.685714285714285,
          9.44047619047619,
          10.061904761904762,
          10.288095238095238,
          9.776190476190477,
          9.947619047619046,
          10.611904761904762,
          10.216666666666667,
          10.70952380952381,
          10.354761904761904,
          9.90952380952381,
          9.925
         ],
         "yaxis": "y"
        },
        {
         "hovertemplate": "variable=Avg Day Sleep Hours<br>Weeks Old=%{x}<br>value=%{y}<extra></extra>",
         "legendgroup": "Avg Day Sleep Hours",
         "line": {
          "color": "#EF553B",
          "dash": "solid"
         },
         "marker": {
          "symbol": "circle"
         },
         "mode": "lines",
         "name": "Avg Day Sleep Hours",
         "orientation": "v",
         "showlegend": true,
         "type": "scatter",
         "x": [
          0,
          1,
          2,
          3,
          4,
          5,
          6,
          7,
          8,
          9,
          10,
          11,
          12,
          13,
          14,
          15,
          16,
          17,
          18,
          19,
          20,
          21,
          22,
          23,
          24,
          25
         ],
         "xaxis": "x",
         "y": [
          6.497619047619048,
          7.216666666666667,
          7.854761904761905,
          7.45952380952381,
          8.157142857142857,
          7.607142857142857,
          7.990476190476191,
          7.5,
          7.621428571428571,
          7.688095238095237,
          7.711904761904762,
          7.366666666666667,
          6.940476190476191,
          7.502380952380952,
          7.135714285714286,
          7.371428571428572,
          6.8880952380952385,
          6.916666666666666,
          6.992857142857143,
          6.692857142857143,
          6.738095238095239,
          6.930952380952381,
          6.826190476190476,
          6.671428571428572,
          6.892857142857143,
          6.819444444444444
         ],
         "yaxis": "y"
        }
       ],
       "layout": {
        "legend": {
         "title": {
          "text": "Metric"
         },
         "tracegroupgap": 0
        },
        "template": {
         "data": {
          "bar": [
           {
            "error_x": {
             "color": "#2a3f5f"
            },
            "error_y": {
             "color": "#2a3f5f"
            },
            "marker": {
             "line": {
              "color": "#E5ECF6",
              "width": 0.5
             },
             "pattern": {
              "fillmode": "overlay",
              "size": 10,
              "solidity": 0.2
             }
            },
            "type": "bar"
           }
          ],
          "barpolar": [
           {
            "marker": {
             "line": {
              "color": "#E5ECF6",
              "width": 0.5
             },
             "pattern": {
              "fillmode": "overlay",
              "size": 10,
              "solidity": 0.2
             }
            },
            "type": "barpolar"
           }
          ],
          "carpet": [
           {
            "aaxis": {
             "endlinecolor": "#2a3f5f",
             "gridcolor": "white",
             "linecolor": "white",
             "minorgridcolor": "white",
             "startlinecolor": "#2a3f5f"
            },
            "baxis": {
             "endlinecolor": "#2a3f5f",
             "gridcolor": "white",
             "linecolor": "white",
             "minorgridcolor": "white",
             "startlinecolor": "#2a3f5f"
            },
            "type": "carpet"
           }
          ],
          "choropleth": [
           {
            "colorbar": {
             "outlinewidth": 0,
             "ticks": ""
            },
            "type": "choropleth"
           }
          ],
          "contour": [
           {
            "colorbar": {
             "outlinewidth": 0,
             "ticks": ""
            },
            "colorscale": [
             [
              0,
              "#0d0887"
             ],
             [
              0.1111111111111111,
              "#46039f"
             ],
             [
              0.2222222222222222,
              "#7201a8"
             ],
             [
              0.3333333333333333,
              "#9c179e"
             ],
             [
              0.4444444444444444,
              "#bd3786"
             ],
             [
              0.5555555555555556,
              "#d8576b"
             ],
             [
              0.6666666666666666,
              "#ed7953"
             ],
             [
              0.7777777777777778,
              "#fb9f3a"
             ],
             [
              0.8888888888888888,
              "#fdca26"
             ],
             [
              1,
              "#f0f921"
             ]
            ],
            "type": "contour"
           }
          ],
          "contourcarpet": [
           {
            "colorbar": {
             "outlinewidth": 0,
             "ticks": ""
            },
            "type": "contourcarpet"
           }
          ],
          "heatmap": [
           {
            "colorbar": {
             "outlinewidth": 0,
             "ticks": ""
            },
            "colorscale": [
             [
              0,
              "#0d0887"
             ],
             [
              0.1111111111111111,
              "#46039f"
             ],
             [
              0.2222222222222222,
              "#7201a8"
             ],
             [
              0.3333333333333333,
              "#9c179e"
             ],
             [
              0.4444444444444444,
              "#bd3786"
             ],
             [
              0.5555555555555556,
              "#d8576b"
             ],
             [
              0.6666666666666666,
              "#ed7953"
             ],
             [
              0.7777777777777778,
              "#fb9f3a"
             ],
             [
              0.8888888888888888,
              "#fdca26"
             ],
             [
              1,
              "#f0f921"
             ]
            ],
            "type": "heatmap"
           }
          ],
          "heatmapgl": [
           {
            "colorbar": {
             "outlinewidth": 0,
             "ticks": ""
            },
            "colorscale": [
             [
              0,
              "#0d0887"
             ],
             [
              0.1111111111111111,
              "#46039f"
             ],
             [
              0.2222222222222222,
              "#7201a8"
             ],
             [
              0.3333333333333333,
              "#9c179e"
             ],
             [
              0.4444444444444444,
              "#bd3786"
             ],
             [
              0.5555555555555556,
              "#d8576b"
             ],
             [
              0.6666666666666666,
              "#ed7953"
             ],
             [
              0.7777777777777778,
              "#fb9f3a"
             ],
             [
              0.8888888888888888,
              "#fdca26"
             ],
             [
              1,
              "#f0f921"
             ]
            ],
            "type": "heatmapgl"
           }
          ],
          "histogram": [
           {
            "marker": {
             "pattern": {
              "fillmode": "overlay",
              "size": 10,
              "solidity": 0.2
             }
            },
            "type": "histogram"
           }
          ],
          "histogram2d": [
           {
            "colorbar": {
             "outlinewidth": 0,
             "ticks": ""
            },
            "colorscale": [
             [
              0,
              "#0d0887"
             ],
             [
              0.1111111111111111,
              "#46039f"
             ],
             [
              0.2222222222222222,
              "#7201a8"
             ],
             [
              0.3333333333333333,
              "#9c179e"
             ],
             [
              0.4444444444444444,
              "#bd3786"
             ],
             [
              0.5555555555555556,
              "#d8576b"
             ],
             [
              0.6666666666666666,
              "#ed7953"
             ],
             [
              0.7777777777777778,
              "#fb9f3a"
             ],
             [
              0.8888888888888888,
              "#fdca26"
             ],
             [
              1,
              "#f0f921"
             ]
            ],
            "type": "histogram2d"
           }
          ],
          "histogram2dcontour": [
           {
            "colorbar": {
             "outlinewidth": 0,
             "ticks": ""
            },
            "colorscale": [
             [
              0,
              "#0d0887"
             ],
             [
              0.1111111111111111,
              "#46039f"
             ],
             [
              0.2222222222222222,
              "#7201a8"
             ],
             [
              0.3333333333333333,
              "#9c179e"
             ],
             [
              0.4444444444444444,
              "#bd3786"
             ],
             [
              0.5555555555555556,
              "#d8576b"
             ],
             [
              0.6666666666666666,
              "#ed7953"
             ],
             [
              0.7777777777777778,
              "#fb9f3a"
             ],
             [
              0.8888888888888888,
              "#fdca26"
             ],
             [
              1,
              "#f0f921"
             ]
            ],
            "type": "histogram2dcontour"
           }
          ],
          "mesh3d": [
           {
            "colorbar": {
             "outlinewidth": 0,
             "ticks": ""
            },
            "type": "mesh3d"
           }
          ],
          "parcoords": [
           {
            "line": {
             "colorbar": {
              "outlinewidth": 0,
              "ticks": ""
             }
            },
            "type": "parcoords"
           }
          ],
          "pie": [
           {
            "automargin": true,
            "type": "pie"
           }
          ],
          "scatter": [
           {
            "fillpattern": {
             "fillmode": "overlay",
             "size": 10,
             "solidity": 0.2
            },
            "type": "scatter"
           }
          ],
          "scatter3d": [
           {
            "line": {
             "colorbar": {
              "outlinewidth": 0,
              "ticks": ""
             }
            },
            "marker": {
             "colorbar": {
              "outlinewidth": 0,
              "ticks": ""
             }
            },
            "type": "scatter3d"
           }
          ],
          "scattercarpet": [
           {
            "marker": {
             "colorbar": {
              "outlinewidth": 0,
              "ticks": ""
             }
            },
            "type": "scattercarpet"
           }
          ],
          "scattergeo": [
           {
            "marker": {
             "colorbar": {
              "outlinewidth": 0,
              "ticks": ""
             }
            },
            "type": "scattergeo"
           }
          ],
          "scattergl": [
           {
            "marker": {
             "colorbar": {
              "outlinewidth": 0,
              "ticks": ""
             }
            },
            "type": "scattergl"
           }
          ],
          "scattermapbox": [
           {
            "marker": {
             "colorbar": {
              "outlinewidth": 0,
              "ticks": ""
             }
            },
            "type": "scattermapbox"
           }
          ],
          "scatterpolar": [
           {
            "marker": {
             "colorbar": {
              "outlinewidth": 0,
              "ticks": ""
             }
            },
            "type": "scatterpolar"
           }
          ],
          "scatterpolargl": [
           {
            "marker": {
             "colorbar": {
              "outlinewidth": 0,
              "ticks": ""
             }
            },
            "type": "scatterpolargl"
           }
          ],
          "scatterternary": [
           {
            "marker": {
             "colorbar": {
              "outlinewidth": 0,
              "ticks": ""
             }
            },
            "type": "scatterternary"
           }
          ],
          "surface": [
           {
            "colorbar": {
             "outlinewidth": 0,
             "ticks": ""
            },
            "colorscale": [
             [
              0,
              "#0d0887"
             ],
             [
              0.1111111111111111,
              "#46039f"
             ],
             [
              0.2222222222222222,
              "#7201a8"
             ],
             [
              0.3333333333333333,
              "#9c179e"
             ],
             [
              0.4444444444444444,
              "#bd3786"
             ],
             [
              0.5555555555555556,
              "#d8576b"
             ],
             [
              0.6666666666666666,
              "#ed7953"
             ],
             [
              0.7777777777777778,
              "#fb9f3a"
             ],
             [
              0.8888888888888888,
              "#fdca26"
             ],
             [
              1,
              "#f0f921"
             ]
            ],
            "type": "surface"
           }
          ],
          "table": [
           {
            "cells": {
             "fill": {
              "color": "#EBF0F8"
             },
             "line": {
              "color": "white"
             }
            },
            "header": {
             "fill": {
              "color": "#C8D4E3"
             },
             "line": {
              "color": "white"
             }
            },
            "type": "table"
           }
          ]
         },
         "layout": {
          "annotationdefaults": {
           "arrowcolor": "#2a3f5f",
           "arrowhead": 0,
           "arrowwidth": 1
          },
          "autotypenumbers": "strict",
          "coloraxis": {
           "colorbar": {
            "outlinewidth": 0,
            "ticks": ""
           }
          },
          "colorscale": {
           "diverging": [
            [
             0,
             "#8e0152"
            ],
            [
             0.1,
             "#c51b7d"
            ],
            [
             0.2,
             "#de77ae"
            ],
            [
             0.3,
             "#f1b6da"
            ],
            [
             0.4,
             "#fde0ef"
            ],
            [
             0.5,
             "#f7f7f7"
            ],
            [
             0.6,
             "#e6f5d0"
            ],
            [
             0.7,
             "#b8e186"
            ],
            [
             0.8,
             "#7fbc41"
            ],
            [
             0.9,
             "#4d9221"
            ],
            [
             1,
             "#276419"
            ]
           ],
           "sequential": [
            [
             0,
             "#0d0887"
            ],
            [
             0.1111111111111111,
             "#46039f"
            ],
            [
             0.2222222222222222,
             "#7201a8"
            ],
            [
             0.3333333333333333,
             "#9c179e"
            ],
            [
             0.4444444444444444,
             "#bd3786"
            ],
            [
             0.5555555555555556,
             "#d8576b"
            ],
            [
             0.6666666666666666,
             "#ed7953"
            ],
            [
             0.7777777777777778,
             "#fb9f3a"
            ],
            [
             0.8888888888888888,
             "#fdca26"
            ],
            [
             1,
             "#f0f921"
            ]
           ],
           "sequentialminus": [
            [
             0,
             "#0d0887"
            ],
            [
             0.1111111111111111,
             "#46039f"
            ],
            [
             0.2222222222222222,
             "#7201a8"
            ],
            [
             0.3333333333333333,
             "#9c179e"
            ],
            [
             0.4444444444444444,
             "#bd3786"
            ],
            [
             0.5555555555555556,
             "#d8576b"
            ],
            [
             0.6666666666666666,
             "#ed7953"
            ],
            [
             0.7777777777777778,
             "#fb9f3a"
            ],
            [
             0.8888888888888888,
             "#fdca26"
            ],
            [
             1,
             "#f0f921"
            ]
           ]
          },
          "colorway": [
           "#636efa",
           "#EF553B",
           "#00cc96",
           "#ab63fa",
           "#FFA15A",
           "#19d3f3",
           "#FF6692",
           "#B6E880",
           "#FF97FF",
           "#FECB52"
          ],
          "font": {
           "color": "#2a3f5f"
          },
          "geo": {
           "bgcolor": "white",
           "lakecolor": "white",
           "landcolor": "#E5ECF6",
           "showlakes": true,
           "showland": true,
           "subunitcolor": "white"
          },
          "hoverlabel": {
           "align": "left"
          },
          "hovermode": "closest",
          "mapbox": {
           "style": "light"
          },
          "paper_bgcolor": "white",
          "plot_bgcolor": "#E5ECF6",
          "polar": {
           "angularaxis": {
            "gridcolor": "white",
            "linecolor": "white",
            "ticks": ""
           },
           "bgcolor": "#E5ECF6",
           "radialaxis": {
            "gridcolor": "white",
            "linecolor": "white",
            "ticks": ""
           }
          },
          "scene": {
           "xaxis": {
            "backgroundcolor": "#E5ECF6",
            "gridcolor": "white",
            "gridwidth": 2,
            "linecolor": "white",
            "showbackground": true,
            "ticks": "",
            "zerolinecolor": "white"
           },
           "yaxis": {
            "backgroundcolor": "#E5ECF6",
            "gridcolor": "white",
            "gridwidth": 2,
            "linecolor": "white",
            "showbackground": true,
            "ticks": "",
            "zerolinecolor": "white"
           },
           "zaxis": {
            "backgroundcolor": "#E5ECF6",
            "gridcolor": "white",
            "gridwidth": 2,
            "linecolor": "white",
            "showbackground": true,
            "ticks": "",
            "zerolinecolor": "white"
           }
          },
          "shapedefaults": {
           "line": {
            "color": "#2a3f5f"
           }
          },
          "ternary": {
           "aaxis": {
            "gridcolor": "white",
            "linecolor": "white",
            "ticks": ""
           },
           "baxis": {
            "gridcolor": "white",
            "linecolor": "white",
            "ticks": ""
           },
           "bgcolor": "#E5ECF6",
           "caxis": {
            "gridcolor": "white",
            "linecolor": "white",
            "ticks": ""
           }
          },
          "title": {
           "x": 0.05
          },
          "xaxis": {
           "automargin": true,
           "gridcolor": "white",
           "linecolor": "white",
           "ticks": "",
           "title": {
            "standoff": 15
           },
           "zerolinecolor": "white",
           "zerolinewidth": 2
          },
          "yaxis": {
           "automargin": true,
           "gridcolor": "white",
           "linecolor": "white",
           "ticks": "",
           "title": {
            "standoff": 15
           },
           "zerolinecolor": "white",
           "zerolinewidth": 2
          }
         }
        },
        "title": {
         "text": "Average Daily Day and Night Sleep Totals by Age (in Weeks)"
        },
        "xaxis": {
         "anchor": "y",
         "domain": [
          0,
          1
         ],
         "title": {
          "text": "Weeks Old"
         }
        },
        "yaxis": {
         "anchor": "x",
         "domain": [
          0,
          1
         ],
         "title": {
          "text": "Hours"
         }
        }
       }
      }
     },
     "metadata": {},
     "output_type": "display_data"
    }
   ],
   "source": [
    "fig_weekly_sleep_distribution = px.line(\n",
    "    df_weekly_sleep_by_period, x = 'Weeks Old', \n",
    "    y = ['Avg Night Sleep Hours', 'Avg Day Sleep Hours'],\n",
    "    title = 'Average Daily Day and Night Sleep Totals by Age (in Weeks)')\n",
    "fig_weekly_sleep_distribution.update_layout(yaxis_title = 'Hours',\n",
    "                                           legend_title = 'Metric')\n",
    "fig_weekly_sleep_distribution.write_html(\n",
    "    f'{visualizations_folder}weekly_total_sleep_by_period.html')\n",
    "fig_weekly_sleep_distribution.write_image(\n",
    "    f'{visualizations_folder}weekly_total_sleep_by_period.png', scale = 4)\n",
    "fig_weekly_sleep_distribution"
   ]
  },
  {
   "cell_type": "markdown",
   "metadata": {},
   "source": [
    "### Calculating and plotting the average daily total amount of sleep received each week:"
   ]
  },
  {
   "cell_type": "code",
   "execution_count": 40,
   "metadata": {
    "execution": {
     "iopub.execute_input": "2024-05-14T17:17:22.526224Z",
     "iopub.status.busy": "2024-05-14T17:17:22.526224Z",
     "iopub.status.idle": "2024-05-14T17:17:22.540153Z",
     "shell.execute_reply": "2024-05-14T17:17:22.540153Z",
     "shell.execute_reply.started": "2024-05-14T17:17:22.526224Z"
    }
   },
   "outputs": [
    {
     "data": {
      "text/html": [
       "<div>\n",
       "<style scoped>\n",
       "    .dataframe tbody tr th:only-of-type {\n",
       "        vertical-align: middle;\n",
       "    }\n",
       "\n",
       "    .dataframe tbody tr th {\n",
       "        vertical-align: top;\n",
       "    }\n",
       "\n",
       "    .dataframe thead th {\n",
       "        text-align: right;\n",
       "    }\n",
       "</style>\n",
       "<table border=\"1\" class=\"dataframe\">\n",
       "  <thead>\n",
       "    <tr style=\"text-align: right;\">\n",
       "      <th></th>\n",
       "      <th>Weeks Old</th>\n",
       "      <th>Count</th>\n",
       "      <th>Hours</th>\n",
       "      <th>Avg Per Day</th>\n",
       "      <th>Rounded Avg Per Day</th>\n",
       "    </tr>\n",
       "  </thead>\n",
       "  <tbody>\n",
       "    <tr>\n",
       "      <th>0</th>\n",
       "      <td>0</td>\n",
       "      <td>7</td>\n",
       "      <td>73.666667</td>\n",
       "      <td>10.523810</td>\n",
       "      <td>11.0</td>\n",
       "    </tr>\n",
       "    <tr>\n",
       "      <th>1</th>\n",
       "      <td>1</td>\n",
       "      <td>7</td>\n",
       "      <td>85.716667</td>\n",
       "      <td>12.245238</td>\n",
       "      <td>12.0</td>\n",
       "    </tr>\n",
       "    <tr>\n",
       "      <th>2</th>\n",
       "      <td>2</td>\n",
       "      <td>7</td>\n",
       "      <td>90.966667</td>\n",
       "      <td>12.995238</td>\n",
       "      <td>13.0</td>\n",
       "    </tr>\n",
       "    <tr>\n",
       "      <th>3</th>\n",
       "      <td>3</td>\n",
       "      <td>7</td>\n",
       "      <td>96.133333</td>\n",
       "      <td>13.733333</td>\n",
       "      <td>14.0</td>\n",
       "    </tr>\n",
       "    <tr>\n",
       "      <th>4</th>\n",
       "      <td>4</td>\n",
       "      <td>7</td>\n",
       "      <td>105.233333</td>\n",
       "      <td>15.033333</td>\n",
       "      <td>15.0</td>\n",
       "    </tr>\n",
       "    <tr>\n",
       "      <th>5</th>\n",
       "      <td>5</td>\n",
       "      <td>7</td>\n",
       "      <td>110.366667</td>\n",
       "      <td>15.766667</td>\n",
       "      <td>16.0</td>\n",
       "    </tr>\n",
       "    <tr>\n",
       "      <th>6</th>\n",
       "      <td>6</td>\n",
       "      <td>7</td>\n",
       "      <td>113.683333</td>\n",
       "      <td>16.240476</td>\n",
       "      <td>16.0</td>\n",
       "    </tr>\n",
       "    <tr>\n",
       "      <th>7</th>\n",
       "      <td>7</td>\n",
       "      <td>7</td>\n",
       "      <td>113.350000</td>\n",
       "      <td>16.192857</td>\n",
       "      <td>16.0</td>\n",
       "    </tr>\n",
       "    <tr>\n",
       "      <th>8</th>\n",
       "      <td>8</td>\n",
       "      <td>7</td>\n",
       "      <td>114.050000</td>\n",
       "      <td>16.292857</td>\n",
       "      <td>16.0</td>\n",
       "    </tr>\n",
       "    <tr>\n",
       "      <th>9</th>\n",
       "      <td>9</td>\n",
       "      <td>7</td>\n",
       "      <td>115.316667</td>\n",
       "      <td>16.473810</td>\n",
       "      <td>16.0</td>\n",
       "    </tr>\n",
       "    <tr>\n",
       "      <th>10</th>\n",
       "      <td>10</td>\n",
       "      <td>7</td>\n",
       "      <td>116.716667</td>\n",
       "      <td>16.673810</td>\n",
       "      <td>17.0</td>\n",
       "    </tr>\n",
       "    <tr>\n",
       "      <th>11</th>\n",
       "      <td>11</td>\n",
       "      <td>7</td>\n",
       "      <td>114.516667</td>\n",
       "      <td>16.359524</td>\n",
       "      <td>16.0</td>\n",
       "    </tr>\n",
       "    <tr>\n",
       "      <th>12</th>\n",
       "      <td>12</td>\n",
       "      <td>7</td>\n",
       "      <td>111.300000</td>\n",
       "      <td>15.900000</td>\n",
       "      <td>16.0</td>\n",
       "    </tr>\n",
       "    <tr>\n",
       "      <th>13</th>\n",
       "      <td>13</td>\n",
       "      <td>7</td>\n",
       "      <td>120.033333</td>\n",
       "      <td>17.147619</td>\n",
       "      <td>17.0</td>\n",
       "    </tr>\n",
       "    <tr>\n",
       "      <th>14</th>\n",
       "      <td>14</td>\n",
       "      <td>7</td>\n",
       "      <td>117.750000</td>\n",
       "      <td>16.821429</td>\n",
       "      <td>17.0</td>\n",
       "    </tr>\n",
       "    <tr>\n",
       "      <th>15</th>\n",
       "      <td>15</td>\n",
       "      <td>7</td>\n",
       "      <td>117.683333</td>\n",
       "      <td>16.811905</td>\n",
       "      <td>17.0</td>\n",
       "    </tr>\n",
       "    <tr>\n",
       "      <th>16</th>\n",
       "      <td>16</td>\n",
       "      <td>7</td>\n",
       "      <td>118.650000</td>\n",
       "      <td>16.950000</td>\n",
       "      <td>17.0</td>\n",
       "    </tr>\n",
       "    <tr>\n",
       "      <th>17</th>\n",
       "      <td>17</td>\n",
       "      <td>7</td>\n",
       "      <td>120.433333</td>\n",
       "      <td>17.204762</td>\n",
       "      <td>17.0</td>\n",
       "    </tr>\n",
       "    <tr>\n",
       "      <th>18</th>\n",
       "      <td>18</td>\n",
       "      <td>7</td>\n",
       "      <td>117.383333</td>\n",
       "      <td>16.769048</td>\n",
       "      <td>17.0</td>\n",
       "    </tr>\n",
       "    <tr>\n",
       "      <th>19</th>\n",
       "      <td>19</td>\n",
       "      <td>7</td>\n",
       "      <td>116.483333</td>\n",
       "      <td>16.640476</td>\n",
       "      <td>17.0</td>\n",
       "    </tr>\n",
       "    <tr>\n",
       "      <th>20</th>\n",
       "      <td>20</td>\n",
       "      <td>7</td>\n",
       "      <td>121.450000</td>\n",
       "      <td>17.350000</td>\n",
       "      <td>17.0</td>\n",
       "    </tr>\n",
       "    <tr>\n",
       "      <th>21</th>\n",
       "      <td>21</td>\n",
       "      <td>7</td>\n",
       "      <td>120.033333</td>\n",
       "      <td>17.147619</td>\n",
       "      <td>17.0</td>\n",
       "    </tr>\n",
       "    <tr>\n",
       "      <th>22</th>\n",
       "      <td>22</td>\n",
       "      <td>7</td>\n",
       "      <td>122.750000</td>\n",
       "      <td>17.535714</td>\n",
       "      <td>18.0</td>\n",
       "    </tr>\n",
       "    <tr>\n",
       "      <th>23</th>\n",
       "      <td>23</td>\n",
       "      <td>7</td>\n",
       "      <td>119.183333</td>\n",
       "      <td>17.026190</td>\n",
       "      <td>17.0</td>\n",
       "    </tr>\n",
       "    <tr>\n",
       "      <th>24</th>\n",
       "      <td>24</td>\n",
       "      <td>7</td>\n",
       "      <td>117.616667</td>\n",
       "      <td>16.802381</td>\n",
       "      <td>17.0</td>\n",
       "    </tr>\n",
       "    <tr>\n",
       "      <th>25</th>\n",
       "      <td>25</td>\n",
       "      <td>6</td>\n",
       "      <td>100.466667</td>\n",
       "      <td>16.744444</td>\n",
       "      <td>17.0</td>\n",
       "    </tr>\n",
       "  </tbody>\n",
       "</table>\n",
       "</div>"
      ],
      "text/plain": [
       "    Weeks Old  Count       Hours  Avg Per Day  Rounded Avg Per Day\n",
       "0           0      7   73.666667    10.523810                 11.0\n",
       "1           1      7   85.716667    12.245238                 12.0\n",
       "2           2      7   90.966667    12.995238                 13.0\n",
       "3           3      7   96.133333    13.733333                 14.0\n",
       "4           4      7  105.233333    15.033333                 15.0\n",
       "5           5      7  110.366667    15.766667                 16.0\n",
       "6           6      7  113.683333    16.240476                 16.0\n",
       "7           7      7  113.350000    16.192857                 16.0\n",
       "8           8      7  114.050000    16.292857                 16.0\n",
       "9           9      7  115.316667    16.473810                 16.0\n",
       "10         10      7  116.716667    16.673810                 17.0\n",
       "11         11      7  114.516667    16.359524                 16.0\n",
       "12         12      7  111.300000    15.900000                 16.0\n",
       "13         13      7  120.033333    17.147619                 17.0\n",
       "14         14      7  117.750000    16.821429                 17.0\n",
       "15         15      7  117.683333    16.811905                 17.0\n",
       "16         16      7  118.650000    16.950000                 17.0\n",
       "17         17      7  120.433333    17.204762                 17.0\n",
       "18         18      7  117.383333    16.769048                 17.0\n",
       "19         19      7  116.483333    16.640476                 17.0\n",
       "20         20      7  121.450000    17.350000                 17.0\n",
       "21         21      7  120.033333    17.147619                 17.0\n",
       "22         22      7  122.750000    17.535714                 18.0\n",
       "23         23      7  119.183333    17.026190                 17.0\n",
       "24         24      7  117.616667    16.802381                 17.0\n",
       "25         25      6  100.466667    16.744444                 17.0"
      ]
     },
     "execution_count": 40,
     "metadata": {},
     "output_type": "execute_result"
    }
   ],
   "source": [
    "df_weekly_sleep = df_daily_sleep.pivot_table(\n",
    "    index = 'Weeks Old', \n",
    "    values = ['Hours', 'Count'], \n",
    "    aggfunc = 'sum').reset_index()\n",
    "df_weekly_sleep['Avg Per Day'] = \\\n",
    "    df_weekly_sleep['Hours'] / df_weekly_sleep['Count']\n",
    "\n",
    "\n",
    "add_rounded_values(df_weekly_sleep, source_column = 'Avg Per Day', \n",
    "    rounded_column_name = 'Rounded Avg Per Day')\n",
    "\n",
    "\n",
    "df_weekly_sleep.to_csv(\n",
    "    f'{data_output_folder}weekly_total_sleep.csv', \n",
    "    index = False)\n",
    "df_weekly_sleep"
   ]
  },
  {
   "cell_type": "code",
   "execution_count": 41,
   "metadata": {
    "execution": {
     "iopub.execute_input": "2024-05-14T17:17:22.541162Z",
     "iopub.status.busy": "2024-05-14T17:17:22.541162Z",
     "iopub.status.idle": "2024-05-14T17:17:22.694736Z",
     "shell.execute_reply": "2024-05-14T17:17:22.694736Z",
     "shell.execute_reply.started": "2024-05-14T17:17:22.541162Z"
    }
   },
   "outputs": [
    {
     "data": {
      "application/vnd.plotly.v1+json": {
       "config": {
        "plotlyServerURL": "https://plot.ly"
       },
       "data": [
        {
         "hovertemplate": "Weeks Old=%{x}<br>Avg Per Day=%{y}<br>Rounded Avg Per Day=%{text}<extra></extra>",
         "legendgroup": "",
         "line": {
          "color": "#636efa",
          "dash": "solid"
         },
         "marker": {
          "symbol": "circle"
         },
         "mode": "lines+markers+text",
         "name": "",
         "orientation": "v",
         "showlegend": false,
         "text": [
          11,
          12,
          13,
          14,
          15,
          16,
          16,
          16,
          16,
          16,
          17,
          16,
          16,
          17,
          17,
          17,
          17,
          17,
          17,
          17,
          17,
          17,
          18,
          17,
          17,
          17
         ],
         "textposition": "top center",
         "type": "scatter",
         "x": [
          0,
          1,
          2,
          3,
          4,
          5,
          6,
          7,
          8,
          9,
          10,
          11,
          12,
          13,
          14,
          15,
          16,
          17,
          18,
          19,
          20,
          21,
          22,
          23,
          24,
          25
         ],
         "xaxis": "x",
         "y": [
          10.523809523809524,
          12.245238095238095,
          12.995238095238095,
          13.733333333333333,
          15.033333333333333,
          15.766666666666667,
          16.24047619047619,
          16.192857142857143,
          16.292857142857144,
          16.473809523809525,
          16.673809523809524,
          16.35952380952381,
          15.9,
          17.14761904761905,
          16.821428571428573,
          16.811904761904763,
          16.95,
          17.204761904761906,
          16.76904761904762,
          16.64047619047619,
          17.35,
          17.14761904761905,
          17.535714285714285,
          17.026190476190475,
          16.802380952380954,
          16.744444444444444
         ],
         "yaxis": "y"
        }
       ],
       "layout": {
        "legend": {
         "tracegroupgap": 0
        },
        "template": {
         "data": {
          "bar": [
           {
            "error_x": {
             "color": "#2a3f5f"
            },
            "error_y": {
             "color": "#2a3f5f"
            },
            "marker": {
             "line": {
              "color": "#E5ECF6",
              "width": 0.5
             },
             "pattern": {
              "fillmode": "overlay",
              "size": 10,
              "solidity": 0.2
             }
            },
            "type": "bar"
           }
          ],
          "barpolar": [
           {
            "marker": {
             "line": {
              "color": "#E5ECF6",
              "width": 0.5
             },
             "pattern": {
              "fillmode": "overlay",
              "size": 10,
              "solidity": 0.2
             }
            },
            "type": "barpolar"
           }
          ],
          "carpet": [
           {
            "aaxis": {
             "endlinecolor": "#2a3f5f",
             "gridcolor": "white",
             "linecolor": "white",
             "minorgridcolor": "white",
             "startlinecolor": "#2a3f5f"
            },
            "baxis": {
             "endlinecolor": "#2a3f5f",
             "gridcolor": "white",
             "linecolor": "white",
             "minorgridcolor": "white",
             "startlinecolor": "#2a3f5f"
            },
            "type": "carpet"
           }
          ],
          "choropleth": [
           {
            "colorbar": {
             "outlinewidth": 0,
             "ticks": ""
            },
            "type": "choropleth"
           }
          ],
          "contour": [
           {
            "colorbar": {
             "outlinewidth": 0,
             "ticks": ""
            },
            "colorscale": [
             [
              0,
              "#0d0887"
             ],
             [
              0.1111111111111111,
              "#46039f"
             ],
             [
              0.2222222222222222,
              "#7201a8"
             ],
             [
              0.3333333333333333,
              "#9c179e"
             ],
             [
              0.4444444444444444,
              "#bd3786"
             ],
             [
              0.5555555555555556,
              "#d8576b"
             ],
             [
              0.6666666666666666,
              "#ed7953"
             ],
             [
              0.7777777777777778,
              "#fb9f3a"
             ],
             [
              0.8888888888888888,
              "#fdca26"
             ],
             [
              1,
              "#f0f921"
             ]
            ],
            "type": "contour"
           }
          ],
          "contourcarpet": [
           {
            "colorbar": {
             "outlinewidth": 0,
             "ticks": ""
            },
            "type": "contourcarpet"
           }
          ],
          "heatmap": [
           {
            "colorbar": {
             "outlinewidth": 0,
             "ticks": ""
            },
            "colorscale": [
             [
              0,
              "#0d0887"
             ],
             [
              0.1111111111111111,
              "#46039f"
             ],
             [
              0.2222222222222222,
              "#7201a8"
             ],
             [
              0.3333333333333333,
              "#9c179e"
             ],
             [
              0.4444444444444444,
              "#bd3786"
             ],
             [
              0.5555555555555556,
              "#d8576b"
             ],
             [
              0.6666666666666666,
              "#ed7953"
             ],
             [
              0.7777777777777778,
              "#fb9f3a"
             ],
             [
              0.8888888888888888,
              "#fdca26"
             ],
             [
              1,
              "#f0f921"
             ]
            ],
            "type": "heatmap"
           }
          ],
          "heatmapgl": [
           {
            "colorbar": {
             "outlinewidth": 0,
             "ticks": ""
            },
            "colorscale": [
             [
              0,
              "#0d0887"
             ],
             [
              0.1111111111111111,
              "#46039f"
             ],
             [
              0.2222222222222222,
              "#7201a8"
             ],
             [
              0.3333333333333333,
              "#9c179e"
             ],
             [
              0.4444444444444444,
              "#bd3786"
             ],
             [
              0.5555555555555556,
              "#d8576b"
             ],
             [
              0.6666666666666666,
              "#ed7953"
             ],
             [
              0.7777777777777778,
              "#fb9f3a"
             ],
             [
              0.8888888888888888,
              "#fdca26"
             ],
             [
              1,
              "#f0f921"
             ]
            ],
            "type": "heatmapgl"
           }
          ],
          "histogram": [
           {
            "marker": {
             "pattern": {
              "fillmode": "overlay",
              "size": 10,
              "solidity": 0.2
             }
            },
            "type": "histogram"
           }
          ],
          "histogram2d": [
           {
            "colorbar": {
             "outlinewidth": 0,
             "ticks": ""
            },
            "colorscale": [
             [
              0,
              "#0d0887"
             ],
             [
              0.1111111111111111,
              "#46039f"
             ],
             [
              0.2222222222222222,
              "#7201a8"
             ],
             [
              0.3333333333333333,
              "#9c179e"
             ],
             [
              0.4444444444444444,
              "#bd3786"
             ],
             [
              0.5555555555555556,
              "#d8576b"
             ],
             [
              0.6666666666666666,
              "#ed7953"
             ],
             [
              0.7777777777777778,
              "#fb9f3a"
             ],
             [
              0.8888888888888888,
              "#fdca26"
             ],
             [
              1,
              "#f0f921"
             ]
            ],
            "type": "histogram2d"
           }
          ],
          "histogram2dcontour": [
           {
            "colorbar": {
             "outlinewidth": 0,
             "ticks": ""
            },
            "colorscale": [
             [
              0,
              "#0d0887"
             ],
             [
              0.1111111111111111,
              "#46039f"
             ],
             [
              0.2222222222222222,
              "#7201a8"
             ],
             [
              0.3333333333333333,
              "#9c179e"
             ],
             [
              0.4444444444444444,
              "#bd3786"
             ],
             [
              0.5555555555555556,
              "#d8576b"
             ],
             [
              0.6666666666666666,
              "#ed7953"
             ],
             [
              0.7777777777777778,
              "#fb9f3a"
             ],
             [
              0.8888888888888888,
              "#fdca26"
             ],
             [
              1,
              "#f0f921"
             ]
            ],
            "type": "histogram2dcontour"
           }
          ],
          "mesh3d": [
           {
            "colorbar": {
             "outlinewidth": 0,
             "ticks": ""
            },
            "type": "mesh3d"
           }
          ],
          "parcoords": [
           {
            "line": {
             "colorbar": {
              "outlinewidth": 0,
              "ticks": ""
             }
            },
            "type": "parcoords"
           }
          ],
          "pie": [
           {
            "automargin": true,
            "type": "pie"
           }
          ],
          "scatter": [
           {
            "fillpattern": {
             "fillmode": "overlay",
             "size": 10,
             "solidity": 0.2
            },
            "type": "scatter"
           }
          ],
          "scatter3d": [
           {
            "line": {
             "colorbar": {
              "outlinewidth": 0,
              "ticks": ""
             }
            },
            "marker": {
             "colorbar": {
              "outlinewidth": 0,
              "ticks": ""
             }
            },
            "type": "scatter3d"
           }
          ],
          "scattercarpet": [
           {
            "marker": {
             "colorbar": {
              "outlinewidth": 0,
              "ticks": ""
             }
            },
            "type": "scattercarpet"
           }
          ],
          "scattergeo": [
           {
            "marker": {
             "colorbar": {
              "outlinewidth": 0,
              "ticks": ""
             }
            },
            "type": "scattergeo"
           }
          ],
          "scattergl": [
           {
            "marker": {
             "colorbar": {
              "outlinewidth": 0,
              "ticks": ""
             }
            },
            "type": "scattergl"
           }
          ],
          "scattermapbox": [
           {
            "marker": {
             "colorbar": {
              "outlinewidth": 0,
              "ticks": ""
             }
            },
            "type": "scattermapbox"
           }
          ],
          "scatterpolar": [
           {
            "marker": {
             "colorbar": {
              "outlinewidth": 0,
              "ticks": ""
             }
            },
            "type": "scatterpolar"
           }
          ],
          "scatterpolargl": [
           {
            "marker": {
             "colorbar": {
              "outlinewidth": 0,
              "ticks": ""
             }
            },
            "type": "scatterpolargl"
           }
          ],
          "scatterternary": [
           {
            "marker": {
             "colorbar": {
              "outlinewidth": 0,
              "ticks": ""
             }
            },
            "type": "scatterternary"
           }
          ],
          "surface": [
           {
            "colorbar": {
             "outlinewidth": 0,
             "ticks": ""
            },
            "colorscale": [
             [
              0,
              "#0d0887"
             ],
             [
              0.1111111111111111,
              "#46039f"
             ],
             [
              0.2222222222222222,
              "#7201a8"
             ],
             [
              0.3333333333333333,
              "#9c179e"
             ],
             [
              0.4444444444444444,
              "#bd3786"
             ],
             [
              0.5555555555555556,
              "#d8576b"
             ],
             [
              0.6666666666666666,
              "#ed7953"
             ],
             [
              0.7777777777777778,
              "#fb9f3a"
             ],
             [
              0.8888888888888888,
              "#fdca26"
             ],
             [
              1,
              "#f0f921"
             ]
            ],
            "type": "surface"
           }
          ],
          "table": [
           {
            "cells": {
             "fill": {
              "color": "#EBF0F8"
             },
             "line": {
              "color": "white"
             }
            },
            "header": {
             "fill": {
              "color": "#C8D4E3"
             },
             "line": {
              "color": "white"
             }
            },
            "type": "table"
           }
          ]
         },
         "layout": {
          "annotationdefaults": {
           "arrowcolor": "#2a3f5f",
           "arrowhead": 0,
           "arrowwidth": 1
          },
          "autotypenumbers": "strict",
          "coloraxis": {
           "colorbar": {
            "outlinewidth": 0,
            "ticks": ""
           }
          },
          "colorscale": {
           "diverging": [
            [
             0,
             "#8e0152"
            ],
            [
             0.1,
             "#c51b7d"
            ],
            [
             0.2,
             "#de77ae"
            ],
            [
             0.3,
             "#f1b6da"
            ],
            [
             0.4,
             "#fde0ef"
            ],
            [
             0.5,
             "#f7f7f7"
            ],
            [
             0.6,
             "#e6f5d0"
            ],
            [
             0.7,
             "#b8e186"
            ],
            [
             0.8,
             "#7fbc41"
            ],
            [
             0.9,
             "#4d9221"
            ],
            [
             1,
             "#276419"
            ]
           ],
           "sequential": [
            [
             0,
             "#0d0887"
            ],
            [
             0.1111111111111111,
             "#46039f"
            ],
            [
             0.2222222222222222,
             "#7201a8"
            ],
            [
             0.3333333333333333,
             "#9c179e"
            ],
            [
             0.4444444444444444,
             "#bd3786"
            ],
            [
             0.5555555555555556,
             "#d8576b"
            ],
            [
             0.6666666666666666,
             "#ed7953"
            ],
            [
             0.7777777777777778,
             "#fb9f3a"
            ],
            [
             0.8888888888888888,
             "#fdca26"
            ],
            [
             1,
             "#f0f921"
            ]
           ],
           "sequentialminus": [
            [
             0,
             "#0d0887"
            ],
            [
             0.1111111111111111,
             "#46039f"
            ],
            [
             0.2222222222222222,
             "#7201a8"
            ],
            [
             0.3333333333333333,
             "#9c179e"
            ],
            [
             0.4444444444444444,
             "#bd3786"
            ],
            [
             0.5555555555555556,
             "#d8576b"
            ],
            [
             0.6666666666666666,
             "#ed7953"
            ],
            [
             0.7777777777777778,
             "#fb9f3a"
            ],
            [
             0.8888888888888888,
             "#fdca26"
            ],
            [
             1,
             "#f0f921"
            ]
           ]
          },
          "colorway": [
           "#636efa",
           "#EF553B",
           "#00cc96",
           "#ab63fa",
           "#FFA15A",
           "#19d3f3",
           "#FF6692",
           "#B6E880",
           "#FF97FF",
           "#FECB52"
          ],
          "font": {
           "color": "#2a3f5f"
          },
          "geo": {
           "bgcolor": "white",
           "lakecolor": "white",
           "landcolor": "#E5ECF6",
           "showlakes": true,
           "showland": true,
           "subunitcolor": "white"
          },
          "hoverlabel": {
           "align": "left"
          },
          "hovermode": "closest",
          "mapbox": {
           "style": "light"
          },
          "paper_bgcolor": "white",
          "plot_bgcolor": "#E5ECF6",
          "polar": {
           "angularaxis": {
            "gridcolor": "white",
            "linecolor": "white",
            "ticks": ""
           },
           "bgcolor": "#E5ECF6",
           "radialaxis": {
            "gridcolor": "white",
            "linecolor": "white",
            "ticks": ""
           }
          },
          "scene": {
           "xaxis": {
            "backgroundcolor": "#E5ECF6",
            "gridcolor": "white",
            "gridwidth": 2,
            "linecolor": "white",
            "showbackground": true,
            "ticks": "",
            "zerolinecolor": "white"
           },
           "yaxis": {
            "backgroundcolor": "#E5ECF6",
            "gridcolor": "white",
            "gridwidth": 2,
            "linecolor": "white",
            "showbackground": true,
            "ticks": "",
            "zerolinecolor": "white"
           },
           "zaxis": {
            "backgroundcolor": "#E5ECF6",
            "gridcolor": "white",
            "gridwidth": 2,
            "linecolor": "white",
            "showbackground": true,
            "ticks": "",
            "zerolinecolor": "white"
           }
          },
          "shapedefaults": {
           "line": {
            "color": "#2a3f5f"
           }
          },
          "ternary": {
           "aaxis": {
            "gridcolor": "white",
            "linecolor": "white",
            "ticks": ""
           },
           "baxis": {
            "gridcolor": "white",
            "linecolor": "white",
            "ticks": ""
           },
           "bgcolor": "#E5ECF6",
           "caxis": {
            "gridcolor": "white",
            "linecolor": "white",
            "ticks": ""
           }
          },
          "title": {
           "x": 0.05
          },
          "xaxis": {
           "automargin": true,
           "gridcolor": "white",
           "linecolor": "white",
           "ticks": "",
           "title": {
            "standoff": 15
           },
           "zerolinecolor": "white",
           "zerolinewidth": 2
          },
          "yaxis": {
           "automargin": true,
           "gridcolor": "white",
           "linecolor": "white",
           "ticks": "",
           "title": {
            "standoff": 15
           },
           "zerolinecolor": "white",
           "zerolinewidth": 2
          }
         }
        },
        "title": {
         "text": "Average Daily Sleep Totals by Age (in Weeks)"
        },
        "xaxis": {
         "anchor": "y",
         "domain": [
          0,
          1
         ],
         "title": {
          "text": "Weeks Old"
         }
        },
        "yaxis": {
         "anchor": "x",
         "domain": [
          0,
          1
         ],
         "title": {
          "text": "Avg Per Day"
         }
        }
       }
      }
     },
     "metadata": {},
     "output_type": "display_data"
    }
   ],
   "source": [
    "fig_weekly_sleep = px.line(\n",
    "    df_weekly_sleep, x = 'Weeks Old', y = 'Avg Per Day',\n",
    "    title = 'Average Daily Sleep Totals by Age (in Weeks)',\n",
    "    text = 'Rounded Avg Per Day')\n",
    "fig_weekly_sleep.update_traces(textposition = 'top center')\n",
    "fig_weekly_sleep.write_html(\n",
    "    f'{visualizations_folder}weekly_total_sleep.html')\n",
    "fig_weekly_sleep.write_image(\n",
    "    f'{visualizations_folder}weekly_total_sleep.png', scale = 4)\n",
    "fig_weekly_sleep"
   ]
  },
  {
   "cell_type": "markdown",
   "metadata": {},
   "source": [
    "## Analyzing trends in sleep onset:\n",
    "\n",
    "The DataFrame created in the following cell determines, for each day, the *earliest* sleep period that included at least one hour of nighttime sleep. This data can help determine whether a baby is getting to sleep earlier in the evening over time."
   ]
  },
  {
   "cell_type": "code",
   "execution_count": 42,
   "metadata": {
    "execution": {
     "iopub.execute_input": "2024-05-14T17:17:22.695747Z",
     "iopub.status.busy": "2024-05-14T17:17:22.695747Z",
     "iopub.status.idle": "2024-05-14T17:17:22.709079Z",
     "shell.execute_reply": "2024-05-14T17:17:22.709079Z",
     "shell.execute_reply.started": "2024-05-14T17:17:22.695747Z"
    }
   },
   "outputs": [
    {
     "data": {
      "text/html": [
       "<div>\n",
       "<style scoped>\n",
       "    .dataframe tbody tr th:only-of-type {\n",
       "        vertical-align: middle;\n",
       "    }\n",
       "\n",
       "    .dataframe tbody tr th {\n",
       "        vertical-align: top;\n",
       "    }\n",
       "\n",
       "    .dataframe thead th {\n",
       "        text-align: right;\n",
       "    }\n",
       "</style>\n",
       "<table border=\"1\" class=\"dataframe\">\n",
       "  <thead>\n",
       "    <tr style=\"text-align: right;\">\n",
       "      <th></th>\n",
       "      <th>Weeks Old</th>\n",
       "      <th>Days Old</th>\n",
       "      <th>Hours After Night Start Time</th>\n",
       "    </tr>\n",
       "  </thead>\n",
       "  <tbody>\n",
       "    <tr>\n",
       "      <th>0</th>\n",
       "      <td>0</td>\n",
       "      <td>0</td>\n",
       "      <td>-0.233333</td>\n",
       "    </tr>\n",
       "    <tr>\n",
       "      <th>1</th>\n",
       "      <td>0</td>\n",
       "      <td>1</td>\n",
       "      <td>7.700000</td>\n",
       "    </tr>\n",
       "    <tr>\n",
       "      <th>2</th>\n",
       "      <td>0</td>\n",
       "      <td>2</td>\n",
       "      <td>7.683333</td>\n",
       "    </tr>\n",
       "    <tr>\n",
       "      <th>3</th>\n",
       "      <td>0</td>\n",
       "      <td>3</td>\n",
       "      <td>-0.033333</td>\n",
       "    </tr>\n",
       "    <tr>\n",
       "      <th>4</th>\n",
       "      <td>0</td>\n",
       "      <td>4</td>\n",
       "      <td>4.150000</td>\n",
       "    </tr>\n",
       "    <tr>\n",
       "      <th>...</th>\n",
       "      <td>...</td>\n",
       "      <td>...</td>\n",
       "      <td>...</td>\n",
       "    </tr>\n",
       "    <tr>\n",
       "      <th>176</th>\n",
       "      <td>25</td>\n",
       "      <td>176</td>\n",
       "      <td>-0.316667</td>\n",
       "    </tr>\n",
       "    <tr>\n",
       "      <th>177</th>\n",
       "      <td>25</td>\n",
       "      <td>177</td>\n",
       "      <td>0.916667</td>\n",
       "    </tr>\n",
       "    <tr>\n",
       "      <th>178</th>\n",
       "      <td>25</td>\n",
       "      <td>178</td>\n",
       "      <td>1.866667</td>\n",
       "    </tr>\n",
       "    <tr>\n",
       "      <th>179</th>\n",
       "      <td>25</td>\n",
       "      <td>179</td>\n",
       "      <td>2.433333</td>\n",
       "    </tr>\n",
       "    <tr>\n",
       "      <th>180</th>\n",
       "      <td>25</td>\n",
       "      <td>180</td>\n",
       "      <td>0.150000</td>\n",
       "    </tr>\n",
       "  </tbody>\n",
       "</table>\n",
       "<p>181 rows × 3 columns</p>\n",
       "</div>"
      ],
      "text/plain": [
       "     Weeks Old  Days Old  Hours After Night Start Time\n",
       "0            0         0                     -0.233333\n",
       "1            0         1                      7.700000\n",
       "2            0         2                      7.683333\n",
       "3            0         3                     -0.033333\n",
       "4            0         4                      4.150000\n",
       "..         ...       ...                           ...\n",
       "176         25       176                     -0.316667\n",
       "177         25       177                      0.916667\n",
       "178         25       178                      1.866667\n",
       "179         25       179                      2.433333\n",
       "180         25       180                      0.150000\n",
       "\n",
       "[181 rows x 3 columns]"
      ]
     },
     "execution_count": 42,
     "metadata": {},
     "output_type": "execute_result"
    }
   ],
   "source": [
    "df_hours_after_onset = df_sleep_data.query(\n",
    "    \"`Night Sleep Hours` >= 1\").pivot_table(\n",
    "    index = ['Weeks Old', 'Days Old'], \n",
    "    values = 'Hours After Night Start Time', \n",
    "    aggfunc = 'min').reset_index()\n",
    "\n",
    "df_hours_after_onset.to_csv(\n",
    "    f'{data_output_folder}hours_after_onset.csv', \n",
    "    index = False)\n",
    "\n",
    "df_hours_after_onset"
   ]
  },
  {
   "cell_type": "code",
   "execution_count": 43,
   "metadata": {
    "execution": {
     "iopub.execute_input": "2024-05-14T17:17:22.710090Z",
     "iopub.status.busy": "2024-05-14T17:17:22.710090Z",
     "iopub.status.idle": "2024-05-14T17:17:22.864340Z",
     "shell.execute_reply": "2024-05-14T17:17:22.864340Z",
     "shell.execute_reply.started": "2024-05-14T17:17:22.710090Z"
    }
   },
   "outputs": [
    {
     "data": {
      "application/vnd.plotly.v1+json": {
       "config": {
        "plotlyServerURL": "https://plot.ly"
       },
       "data": [
        {
         "hovertemplate": "Days Old=%{x}<br>Hours After Night Start Time=%{y}<extra></extra>",
         "legendgroup": "",
         "line": {
          "color": "#636efa",
          "dash": "solid"
         },
         "marker": {
          "symbol": "circle"
         },
         "mode": "lines",
         "name": "",
         "orientation": "v",
         "showlegend": false,
         "type": "scatter",
         "x": [
          0,
          1,
          2,
          3,
          4,
          5,
          6,
          7,
          8,
          9,
          10,
          11,
          12,
          13,
          14,
          15,
          16,
          17,
          18,
          19,
          20,
          21,
          22,
          23,
          24,
          25,
          26,
          27,
          28,
          29,
          30,
          31,
          32,
          33,
          34,
          35,
          36,
          37,
          38,
          39,
          40,
          41,
          42,
          43,
          44,
          45,
          46,
          47,
          48,
          49,
          50,
          51,
          52,
          53,
          54,
          55,
          56,
          57,
          58,
          59,
          60,
          61,
          62,
          63,
          64,
          65,
          66,
          67,
          68,
          69,
          70,
          71,
          72,
          73,
          74,
          75,
          76,
          77,
          78,
          79,
          80,
          81,
          82,
          83,
          84,
          85,
          86,
          87,
          88,
          89,
          90,
          91,
          92,
          93,
          94,
          95,
          96,
          97,
          98,
          99,
          100,
          101,
          102,
          103,
          104,
          105,
          106,
          107,
          108,
          109,
          110,
          111,
          112,
          113,
          114,
          115,
          116,
          117,
          118,
          119,
          120,
          121,
          122,
          123,
          124,
          125,
          126,
          127,
          128,
          129,
          130,
          131,
          132,
          133,
          134,
          135,
          136,
          137,
          138,
          139,
          140,
          141,
          142,
          143,
          144,
          145,
          146,
          147,
          148,
          149,
          150,
          151,
          152,
          153,
          154,
          155,
          156,
          157,
          158,
          159,
          160,
          161,
          162,
          163,
          164,
          165,
          166,
          167,
          168,
          169,
          170,
          171,
          172,
          173,
          174,
          175,
          176,
          177,
          178,
          179,
          180
         ],
         "xaxis": "x",
         "y": [
          -0.23333333333333334,
          7.7,
          7.683333333333334,
          -0.03333333333333333,
          4.15,
          3.3333333333333335,
          2.4833333333333334,
          -0.7833333333333333,
          2.75,
          -0.13333333333333333,
          4,
          -0.5,
          4.016666666666667,
          1.9333333333333333,
          3.066666666666667,
          3.1666666666666665,
          3,
          -0.4,
          2.85,
          3.183333333333333,
          2.7666666666666666,
          1.4833333333333334,
          -0.5166666666666667,
          -0.43333333333333335,
          2.7333333333333334,
          3.283333333333333,
          3.4,
          2.8666666666666667,
          2.7333333333333334,
          -1.2666666666666666,
          1.7166666666666666,
          1.1166666666666667,
          0.7,
          -0.8666666666666667,
          2.0166666666666666,
          -0.06666666666666667,
          1.6666666666666667,
          -0.85,
          -0.8,
          0.2833333333333333,
          1.4166666666666667,
          0.08333333333333333,
          1.3666666666666667,
          -0.2833333333333333,
          -0.6833333333333333,
          1.0333333333333334,
          0.45,
          1.2333333333333334,
          0.6666666666666666,
          -0.5166666666666667,
          -0.5833333333333334,
          0.1,
          -0.6333333333333333,
          1.7333333333333334,
          1.25,
          0.13333333333333333,
          1.3833333333333333,
          -0.5833333333333334,
          0.7666666666666667,
          -1.15,
          -0.8666666666666667,
          0.13333333333333333,
          -0.4,
          -0.6833333333333333,
          0.3333333333333333,
          0.7,
          1.5,
          2.25,
          -0.35,
          0.8166666666666667,
          0.7166666666666667,
          -0.8666666666666667,
          2.2666666666666666,
          1.7,
          0.55,
          -0.06666666666666667,
          1.9166666666666667,
          0.6166666666666667,
          1.0166666666666666,
          1.8833333333333333,
          -0.25,
          2.05,
          0.95,
          -0.48333333333333334,
          0.48333333333333334,
          0.13333333333333333,
          2.1,
          0.5166666666666667,
          -0.31666666666666665,
          -0.7333333333333333,
          -0.23333333333333334,
          0.7333333333333333,
          1.3,
          0.26666666666666666,
          -0.7,
          1.8666666666666667,
          2.533333333333333,
          -0.8,
          2.15,
          1.7,
          -0.35,
          -0.9333333333333333,
          -0.8666666666666667,
          2.816666666666667,
          0.016666666666666666,
          0.23333333333333334,
          0.9833333333333333,
          1.5,
          2.216666666666667,
          2.1,
          2.716666666666667,
          2.683333333333333,
          0.45,
          -0.7,
          1.95,
          0.43333333333333335,
          1.8666666666666667,
          -0.85,
          2.3833333333333333,
          2.466666666666667,
          1.25,
          -0.8166666666666667,
          -0.45,
          2.15,
          2.716666666666667,
          1.6,
          -0.7166666666666667,
          -0.36666666666666664,
          -0.18333333333333332,
          1.35,
          -0.4,
          0.5,
          0.06666666666666667,
          0.4166666666666667,
          -0.9833333333333333,
          0.95,
          0.18333333333333332,
          1.5666666666666667,
          -0.6333333333333333,
          -0.15,
          0.03333333333333333,
          0.016666666666666666,
          -0.26666666666666666,
          0.25,
          0.5333333333333333,
          -0.13333333333333333,
          0.9666666666666667,
          -0.3,
          -0.55,
          -0.25,
          -1.1,
          -0.7166666666666667,
          1.6,
          0.3333333333333333,
          0.4166666666666667,
          1.1,
          -0.95,
          0.8333333333333334,
          1.3833333333333333,
          2.1666666666666665,
          1.1666666666666667,
          1.9666666666666666,
          1.65,
          0.31666666666666665,
          3.033333333333333,
          2.5,
          1.4333333333333333,
          0.6833333333333333,
          0.26666666666666666,
          2.033333333333333,
          2.1,
          -0.6,
          -0.6666666666666666,
          -0.21666666666666667,
          0.8333333333333334,
          1,
          -0.31666666666666665,
          0.9166666666666666,
          1.8666666666666667,
          2.433333333333333,
          0.15
         ],
         "yaxis": "y"
        }
       ],
       "layout": {
        "legend": {
         "tracegroupgap": 0
        },
        "template": {
         "data": {
          "bar": [
           {
            "error_x": {
             "color": "#2a3f5f"
            },
            "error_y": {
             "color": "#2a3f5f"
            },
            "marker": {
             "line": {
              "color": "#E5ECF6",
              "width": 0.5
             },
             "pattern": {
              "fillmode": "overlay",
              "size": 10,
              "solidity": 0.2
             }
            },
            "type": "bar"
           }
          ],
          "barpolar": [
           {
            "marker": {
             "line": {
              "color": "#E5ECF6",
              "width": 0.5
             },
             "pattern": {
              "fillmode": "overlay",
              "size": 10,
              "solidity": 0.2
             }
            },
            "type": "barpolar"
           }
          ],
          "carpet": [
           {
            "aaxis": {
             "endlinecolor": "#2a3f5f",
             "gridcolor": "white",
             "linecolor": "white",
             "minorgridcolor": "white",
             "startlinecolor": "#2a3f5f"
            },
            "baxis": {
             "endlinecolor": "#2a3f5f",
             "gridcolor": "white",
             "linecolor": "white",
             "minorgridcolor": "white",
             "startlinecolor": "#2a3f5f"
            },
            "type": "carpet"
           }
          ],
          "choropleth": [
           {
            "colorbar": {
             "outlinewidth": 0,
             "ticks": ""
            },
            "type": "choropleth"
           }
          ],
          "contour": [
           {
            "colorbar": {
             "outlinewidth": 0,
             "ticks": ""
            },
            "colorscale": [
             [
              0,
              "#0d0887"
             ],
             [
              0.1111111111111111,
              "#46039f"
             ],
             [
              0.2222222222222222,
              "#7201a8"
             ],
             [
              0.3333333333333333,
              "#9c179e"
             ],
             [
              0.4444444444444444,
              "#bd3786"
             ],
             [
              0.5555555555555556,
              "#d8576b"
             ],
             [
              0.6666666666666666,
              "#ed7953"
             ],
             [
              0.7777777777777778,
              "#fb9f3a"
             ],
             [
              0.8888888888888888,
              "#fdca26"
             ],
             [
              1,
              "#f0f921"
             ]
            ],
            "type": "contour"
           }
          ],
          "contourcarpet": [
           {
            "colorbar": {
             "outlinewidth": 0,
             "ticks": ""
            },
            "type": "contourcarpet"
           }
          ],
          "heatmap": [
           {
            "colorbar": {
             "outlinewidth": 0,
             "ticks": ""
            },
            "colorscale": [
             [
              0,
              "#0d0887"
             ],
             [
              0.1111111111111111,
              "#46039f"
             ],
             [
              0.2222222222222222,
              "#7201a8"
             ],
             [
              0.3333333333333333,
              "#9c179e"
             ],
             [
              0.4444444444444444,
              "#bd3786"
             ],
             [
              0.5555555555555556,
              "#d8576b"
             ],
             [
              0.6666666666666666,
              "#ed7953"
             ],
             [
              0.7777777777777778,
              "#fb9f3a"
             ],
             [
              0.8888888888888888,
              "#fdca26"
             ],
             [
              1,
              "#f0f921"
             ]
            ],
            "type": "heatmap"
           }
          ],
          "heatmapgl": [
           {
            "colorbar": {
             "outlinewidth": 0,
             "ticks": ""
            },
            "colorscale": [
             [
              0,
              "#0d0887"
             ],
             [
              0.1111111111111111,
              "#46039f"
             ],
             [
              0.2222222222222222,
              "#7201a8"
             ],
             [
              0.3333333333333333,
              "#9c179e"
             ],
             [
              0.4444444444444444,
              "#bd3786"
             ],
             [
              0.5555555555555556,
              "#d8576b"
             ],
             [
              0.6666666666666666,
              "#ed7953"
             ],
             [
              0.7777777777777778,
              "#fb9f3a"
             ],
             [
              0.8888888888888888,
              "#fdca26"
             ],
             [
              1,
              "#f0f921"
             ]
            ],
            "type": "heatmapgl"
           }
          ],
          "histogram": [
           {
            "marker": {
             "pattern": {
              "fillmode": "overlay",
              "size": 10,
              "solidity": 0.2
             }
            },
            "type": "histogram"
           }
          ],
          "histogram2d": [
           {
            "colorbar": {
             "outlinewidth": 0,
             "ticks": ""
            },
            "colorscale": [
             [
              0,
              "#0d0887"
             ],
             [
              0.1111111111111111,
              "#46039f"
             ],
             [
              0.2222222222222222,
              "#7201a8"
             ],
             [
              0.3333333333333333,
              "#9c179e"
             ],
             [
              0.4444444444444444,
              "#bd3786"
             ],
             [
              0.5555555555555556,
              "#d8576b"
             ],
             [
              0.6666666666666666,
              "#ed7953"
             ],
             [
              0.7777777777777778,
              "#fb9f3a"
             ],
             [
              0.8888888888888888,
              "#fdca26"
             ],
             [
              1,
              "#f0f921"
             ]
            ],
            "type": "histogram2d"
           }
          ],
          "histogram2dcontour": [
           {
            "colorbar": {
             "outlinewidth": 0,
             "ticks": ""
            },
            "colorscale": [
             [
              0,
              "#0d0887"
             ],
             [
              0.1111111111111111,
              "#46039f"
             ],
             [
              0.2222222222222222,
              "#7201a8"
             ],
             [
              0.3333333333333333,
              "#9c179e"
             ],
             [
              0.4444444444444444,
              "#bd3786"
             ],
             [
              0.5555555555555556,
              "#d8576b"
             ],
             [
              0.6666666666666666,
              "#ed7953"
             ],
             [
              0.7777777777777778,
              "#fb9f3a"
             ],
             [
              0.8888888888888888,
              "#fdca26"
             ],
             [
              1,
              "#f0f921"
             ]
            ],
            "type": "histogram2dcontour"
           }
          ],
          "mesh3d": [
           {
            "colorbar": {
             "outlinewidth": 0,
             "ticks": ""
            },
            "type": "mesh3d"
           }
          ],
          "parcoords": [
           {
            "line": {
             "colorbar": {
              "outlinewidth": 0,
              "ticks": ""
             }
            },
            "type": "parcoords"
           }
          ],
          "pie": [
           {
            "automargin": true,
            "type": "pie"
           }
          ],
          "scatter": [
           {
            "fillpattern": {
             "fillmode": "overlay",
             "size": 10,
             "solidity": 0.2
            },
            "type": "scatter"
           }
          ],
          "scatter3d": [
           {
            "line": {
             "colorbar": {
              "outlinewidth": 0,
              "ticks": ""
             }
            },
            "marker": {
             "colorbar": {
              "outlinewidth": 0,
              "ticks": ""
             }
            },
            "type": "scatter3d"
           }
          ],
          "scattercarpet": [
           {
            "marker": {
             "colorbar": {
              "outlinewidth": 0,
              "ticks": ""
             }
            },
            "type": "scattercarpet"
           }
          ],
          "scattergeo": [
           {
            "marker": {
             "colorbar": {
              "outlinewidth": 0,
              "ticks": ""
             }
            },
            "type": "scattergeo"
           }
          ],
          "scattergl": [
           {
            "marker": {
             "colorbar": {
              "outlinewidth": 0,
              "ticks": ""
             }
            },
            "type": "scattergl"
           }
          ],
          "scattermapbox": [
           {
            "marker": {
             "colorbar": {
              "outlinewidth": 0,
              "ticks": ""
             }
            },
            "type": "scattermapbox"
           }
          ],
          "scatterpolar": [
           {
            "marker": {
             "colorbar": {
              "outlinewidth": 0,
              "ticks": ""
             }
            },
            "type": "scatterpolar"
           }
          ],
          "scatterpolargl": [
           {
            "marker": {
             "colorbar": {
              "outlinewidth": 0,
              "ticks": ""
             }
            },
            "type": "scatterpolargl"
           }
          ],
          "scatterternary": [
           {
            "marker": {
             "colorbar": {
              "outlinewidth": 0,
              "ticks": ""
             }
            },
            "type": "scatterternary"
           }
          ],
          "surface": [
           {
            "colorbar": {
             "outlinewidth": 0,
             "ticks": ""
            },
            "colorscale": [
             [
              0,
              "#0d0887"
             ],
             [
              0.1111111111111111,
              "#46039f"
             ],
             [
              0.2222222222222222,
              "#7201a8"
             ],
             [
              0.3333333333333333,
              "#9c179e"
             ],
             [
              0.4444444444444444,
              "#bd3786"
             ],
             [
              0.5555555555555556,
              "#d8576b"
             ],
             [
              0.6666666666666666,
              "#ed7953"
             ],
             [
              0.7777777777777778,
              "#fb9f3a"
             ],
             [
              0.8888888888888888,
              "#fdca26"
             ],
             [
              1,
              "#f0f921"
             ]
            ],
            "type": "surface"
           }
          ],
          "table": [
           {
            "cells": {
             "fill": {
              "color": "#EBF0F8"
             },
             "line": {
              "color": "white"
             }
            },
            "header": {
             "fill": {
              "color": "#C8D4E3"
             },
             "line": {
              "color": "white"
             }
            },
            "type": "table"
           }
          ]
         },
         "layout": {
          "annotationdefaults": {
           "arrowcolor": "#2a3f5f",
           "arrowhead": 0,
           "arrowwidth": 1
          },
          "autotypenumbers": "strict",
          "coloraxis": {
           "colorbar": {
            "outlinewidth": 0,
            "ticks": ""
           }
          },
          "colorscale": {
           "diverging": [
            [
             0,
             "#8e0152"
            ],
            [
             0.1,
             "#c51b7d"
            ],
            [
             0.2,
             "#de77ae"
            ],
            [
             0.3,
             "#f1b6da"
            ],
            [
             0.4,
             "#fde0ef"
            ],
            [
             0.5,
             "#f7f7f7"
            ],
            [
             0.6,
             "#e6f5d0"
            ],
            [
             0.7,
             "#b8e186"
            ],
            [
             0.8,
             "#7fbc41"
            ],
            [
             0.9,
             "#4d9221"
            ],
            [
             1,
             "#276419"
            ]
           ],
           "sequential": [
            [
             0,
             "#0d0887"
            ],
            [
             0.1111111111111111,
             "#46039f"
            ],
            [
             0.2222222222222222,
             "#7201a8"
            ],
            [
             0.3333333333333333,
             "#9c179e"
            ],
            [
             0.4444444444444444,
             "#bd3786"
            ],
            [
             0.5555555555555556,
             "#d8576b"
            ],
            [
             0.6666666666666666,
             "#ed7953"
            ],
            [
             0.7777777777777778,
             "#fb9f3a"
            ],
            [
             0.8888888888888888,
             "#fdca26"
            ],
            [
             1,
             "#f0f921"
            ]
           ],
           "sequentialminus": [
            [
             0,
             "#0d0887"
            ],
            [
             0.1111111111111111,
             "#46039f"
            ],
            [
             0.2222222222222222,
             "#7201a8"
            ],
            [
             0.3333333333333333,
             "#9c179e"
            ],
            [
             0.4444444444444444,
             "#bd3786"
            ],
            [
             0.5555555555555556,
             "#d8576b"
            ],
            [
             0.6666666666666666,
             "#ed7953"
            ],
            [
             0.7777777777777778,
             "#fb9f3a"
            ],
            [
             0.8888888888888888,
             "#fdca26"
            ],
            [
             1,
             "#f0f921"
            ]
           ]
          },
          "colorway": [
           "#636efa",
           "#EF553B",
           "#00cc96",
           "#ab63fa",
           "#FFA15A",
           "#19d3f3",
           "#FF6692",
           "#B6E880",
           "#FF97FF",
           "#FECB52"
          ],
          "font": {
           "color": "#2a3f5f"
          },
          "geo": {
           "bgcolor": "white",
           "lakecolor": "white",
           "landcolor": "#E5ECF6",
           "showlakes": true,
           "showland": true,
           "subunitcolor": "white"
          },
          "hoverlabel": {
           "align": "left"
          },
          "hovermode": "closest",
          "mapbox": {
           "style": "light"
          },
          "paper_bgcolor": "white",
          "plot_bgcolor": "#E5ECF6",
          "polar": {
           "angularaxis": {
            "gridcolor": "white",
            "linecolor": "white",
            "ticks": ""
           },
           "bgcolor": "#E5ECF6",
           "radialaxis": {
            "gridcolor": "white",
            "linecolor": "white",
            "ticks": ""
           }
          },
          "scene": {
           "xaxis": {
            "backgroundcolor": "#E5ECF6",
            "gridcolor": "white",
            "gridwidth": 2,
            "linecolor": "white",
            "showbackground": true,
            "ticks": "",
            "zerolinecolor": "white"
           },
           "yaxis": {
            "backgroundcolor": "#E5ECF6",
            "gridcolor": "white",
            "gridwidth": 2,
            "linecolor": "white",
            "showbackground": true,
            "ticks": "",
            "zerolinecolor": "white"
           },
           "zaxis": {
            "backgroundcolor": "#E5ECF6",
            "gridcolor": "white",
            "gridwidth": 2,
            "linecolor": "white",
            "showbackground": true,
            "ticks": "",
            "zerolinecolor": "white"
           }
          },
          "shapedefaults": {
           "line": {
            "color": "#2a3f5f"
           }
          },
          "ternary": {
           "aaxis": {
            "gridcolor": "white",
            "linecolor": "white",
            "ticks": ""
           },
           "baxis": {
            "gridcolor": "white",
            "linecolor": "white",
            "ticks": ""
           },
           "bgcolor": "#E5ECF6",
           "caxis": {
            "gridcolor": "white",
            "linecolor": "white",
            "ticks": ""
           }
          },
          "title": {
           "x": 0.05
          },
          "xaxis": {
           "automargin": true,
           "gridcolor": "white",
           "linecolor": "white",
           "ticks": "",
           "title": {
            "standoff": 15
           },
           "zerolinecolor": "white",
           "zerolinewidth": 2
          },
          "yaxis": {
           "automargin": true,
           "gridcolor": "white",
           "linecolor": "white",
           "ticks": "",
           "title": {
            "standoff": 15
           },
           "zerolinecolor": "white",
           "zerolinewidth": 2
          }
         }
        },
        "title": {
         "text": "Hours Into the Night That Sleep Began by Age (in Days)"
        },
        "xaxis": {
         "anchor": "y",
         "domain": [
          0,
          1
         ],
         "title": {
          "text": "Days Old"
         }
        },
        "yaxis": {
         "anchor": "x",
         "domain": [
          0,
          1
         ],
         "title": {
          "text": "Hours After Night Start Time"
         }
        }
       }
      }
     },
     "metadata": {},
     "output_type": "display_data"
    }
   ],
   "source": [
    "fig_hours_after_onset = px.line(\n",
    "    df_hours_after_onset, x = 'Days Old', \n",
    "    y = 'Hours After Night Start Time',\n",
    "    title = 'Hours Into the Night That Sleep Began by Age (in Days)')\n",
    "\n",
    "fig_hours_after_onset.write_html(\n",
    "    f'{visualizations_folder}hours_after_onset.html')\n",
    "fig_hours_after_onset.write_image(\n",
    "    f'{visualizations_folder}hours_after_onset.png', scale = 4)\n",
    "fig_hours_after_onset"
   ]
  },
  {
   "cell_type": "markdown",
   "metadata": {},
   "source": [
    "## Calculating and visualizing weekly averages of these nighttime sleep onset data:"
   ]
  },
  {
   "cell_type": "code",
   "execution_count": 44,
   "metadata": {
    "execution": {
     "iopub.execute_input": "2024-05-14T17:17:22.865349Z",
     "iopub.status.busy": "2024-05-14T17:17:22.865349Z",
     "iopub.status.idle": "2024-05-14T17:17:22.878602Z",
     "shell.execute_reply": "2024-05-14T17:17:22.878602Z",
     "shell.execute_reply.started": "2024-05-14T17:17:22.865349Z"
    }
   },
   "outputs": [
    {
     "data": {
      "text/html": [
       "<div>\n",
       "<style scoped>\n",
       "    .dataframe tbody tr th:only-of-type {\n",
       "        vertical-align: middle;\n",
       "    }\n",
       "\n",
       "    .dataframe tbody tr th {\n",
       "        vertical-align: top;\n",
       "    }\n",
       "\n",
       "    .dataframe thead th {\n",
       "        text-align: right;\n",
       "    }\n",
       "</style>\n",
       "<table border=\"1\" class=\"dataframe\">\n",
       "  <thead>\n",
       "    <tr style=\"text-align: right;\">\n",
       "      <th></th>\n",
       "      <th>Weeks Old</th>\n",
       "      <th>Hours After Night Start Time</th>\n",
       "      <th>Rounded Hours After Night Start Time</th>\n",
       "    </tr>\n",
       "  </thead>\n",
       "  <tbody>\n",
       "    <tr>\n",
       "      <th>0</th>\n",
       "      <td>0</td>\n",
       "      <td>3.583333</td>\n",
       "      <td>4.0</td>\n",
       "    </tr>\n",
       "    <tr>\n",
       "      <th>1</th>\n",
       "      <td>1</td>\n",
       "      <td>1.611905</td>\n",
       "      <td>2.0</td>\n",
       "    </tr>\n",
       "    <tr>\n",
       "      <th>2</th>\n",
       "      <td>2</td>\n",
       "      <td>2.519048</td>\n",
       "      <td>3.0</td>\n",
       "    </tr>\n",
       "    <tr>\n",
       "      <th>3</th>\n",
       "      <td>3</td>\n",
       "      <td>1.830952</td>\n",
       "      <td>2.0</td>\n",
       "    </tr>\n",
       "    <tr>\n",
       "      <th>4</th>\n",
       "      <td>4</td>\n",
       "      <td>0.878571</td>\n",
       "      <td>1.0</td>\n",
       "    </tr>\n",
       "    <tr>\n",
       "      <th>5</th>\n",
       "      <td>5</td>\n",
       "      <td>0.247619</td>\n",
       "      <td>0.0</td>\n",
       "    </tr>\n",
       "    <tr>\n",
       "      <th>6</th>\n",
       "      <td>6</td>\n",
       "      <td>0.540476</td>\n",
       "      <td>1.0</td>\n",
       "    </tr>\n",
       "    <tr>\n",
       "      <th>7</th>\n",
       "      <td>7</td>\n",
       "      <td>0.211905</td>\n",
       "      <td>0.0</td>\n",
       "    </tr>\n",
       "    <tr>\n",
       "      <th>8</th>\n",
       "      <td>8</td>\n",
       "      <td>-0.102381</td>\n",
       "      <td>-0.0</td>\n",
       "    </tr>\n",
       "    <tr>\n",
       "      <th>9</th>\n",
       "      <td>9</td>\n",
       "      <td>0.652381</td>\n",
       "      <td>1.0</td>\n",
       "    </tr>\n",
       "    <tr>\n",
       "      <th>10</th>\n",
       "      <td>10</td>\n",
       "      <td>0.888095</td>\n",
       "      <td>1.0</td>\n",
       "    </tr>\n",
       "    <tr>\n",
       "      <th>11</th>\n",
       "      <td>11</td>\n",
       "      <td>0.826190</td>\n",
       "      <td>1.0</td>\n",
       "    </tr>\n",
       "    <tr>\n",
       "      <th>12</th>\n",
       "      <td>12</td>\n",
       "      <td>0.278571</td>\n",
       "      <td>0.0</td>\n",
       "    </tr>\n",
       "    <tr>\n",
       "      <th>13</th>\n",
       "      <td>13</td>\n",
       "      <td>0.742857</td>\n",
       "      <td>1.0</td>\n",
       "    </tr>\n",
       "    <tr>\n",
       "      <th>14</th>\n",
       "      <td>14</td>\n",
       "      <td>0.647619</td>\n",
       "      <td>1.0</td>\n",
       "    </tr>\n",
       "    <tr>\n",
       "      <th>15</th>\n",
       "      <td>15</td>\n",
       "      <td>1.776190</td>\n",
       "      <td>2.0</td>\n",
       "    </tr>\n",
       "    <tr>\n",
       "      <th>16</th>\n",
       "      <td>16</td>\n",
       "      <td>0.790476</td>\n",
       "      <td>1.0</td>\n",
       "    </tr>\n",
       "    <tr>\n",
       "      <th>17</th>\n",
       "      <td>17</td>\n",
       "      <td>1.273810</td>\n",
       "      <td>1.0</td>\n",
       "    </tr>\n",
       "    <tr>\n",
       "      <th>18</th>\n",
       "      <td>18</td>\n",
       "      <td>0.035714</td>\n",
       "      <td>0.0</td>\n",
       "    </tr>\n",
       "    <tr>\n",
       "      <th>19</th>\n",
       "      <td>19</td>\n",
       "      <td>0.192857</td>\n",
       "      <td>0.0</td>\n",
       "    </tr>\n",
       "    <tr>\n",
       "      <th>20</th>\n",
       "      <td>20</td>\n",
       "      <td>0.200000</td>\n",
       "      <td>0.0</td>\n",
       "    </tr>\n",
       "    <tr>\n",
       "      <th>21</th>\n",
       "      <td>21</td>\n",
       "      <td>-0.140476</td>\n",
       "      <td>-0.0</td>\n",
       "    </tr>\n",
       "    <tr>\n",
       "      <th>22</th>\n",
       "      <td>22</td>\n",
       "      <td>0.873810</td>\n",
       "      <td>1.0</td>\n",
       "    </tr>\n",
       "    <tr>\n",
       "      <th>23</th>\n",
       "      <td>23</td>\n",
       "      <td>1.654762</td>\n",
       "      <td>2.0</td>\n",
       "    </tr>\n",
       "    <tr>\n",
       "      <th>24</th>\n",
       "      <td>24</td>\n",
       "      <td>0.535714</td>\n",
       "      <td>1.0</td>\n",
       "    </tr>\n",
       "    <tr>\n",
       "      <th>25</th>\n",
       "      <td>25</td>\n",
       "      <td>1.008333</td>\n",
       "      <td>1.0</td>\n",
       "    </tr>\n",
       "  </tbody>\n",
       "</table>\n",
       "</div>"
      ],
      "text/plain": [
       "    Weeks Old  Hours After Night Start Time  \\\n",
       "0           0                      3.583333   \n",
       "1           1                      1.611905   \n",
       "2           2                      2.519048   \n",
       "3           3                      1.830952   \n",
       "4           4                      0.878571   \n",
       "5           5                      0.247619   \n",
       "6           6                      0.540476   \n",
       "7           7                      0.211905   \n",
       "8           8                     -0.102381   \n",
       "9           9                      0.652381   \n",
       "10         10                      0.888095   \n",
       "11         11                      0.826190   \n",
       "12         12                      0.278571   \n",
       "13         13                      0.742857   \n",
       "14         14                      0.647619   \n",
       "15         15                      1.776190   \n",
       "16         16                      0.790476   \n",
       "17         17                      1.273810   \n",
       "18         18                      0.035714   \n",
       "19         19                      0.192857   \n",
       "20         20                      0.200000   \n",
       "21         21                     -0.140476   \n",
       "22         22                      0.873810   \n",
       "23         23                      1.654762   \n",
       "24         24                      0.535714   \n",
       "25         25                      1.008333   \n",
       "\n",
       "    Rounded Hours After Night Start Time  \n",
       "0                                    4.0  \n",
       "1                                    2.0  \n",
       "2                                    3.0  \n",
       "3                                    2.0  \n",
       "4                                    1.0  \n",
       "5                                    0.0  \n",
       "6                                    1.0  \n",
       "7                                    0.0  \n",
       "8                                   -0.0  \n",
       "9                                    1.0  \n",
       "10                                   1.0  \n",
       "11                                   1.0  \n",
       "12                                   0.0  \n",
       "13                                   1.0  \n",
       "14                                   1.0  \n",
       "15                                   2.0  \n",
       "16                                   1.0  \n",
       "17                                   1.0  \n",
       "18                                   0.0  \n",
       "19                                   0.0  \n",
       "20                                   0.0  \n",
       "21                                  -0.0  \n",
       "22                                   1.0  \n",
       "23                                   2.0  \n",
       "24                                   1.0  \n",
       "25                                   1.0  "
      ]
     },
     "execution_count": 44,
     "metadata": {},
     "output_type": "execute_result"
    }
   ],
   "source": [
    "df_weekly_avg_hours_after_onset = df_hours_after_onset.pivot_table(\n",
    "    index = 'Weeks Old', \n",
    "    values = 'Hours After Night Start Time', \n",
    "    aggfunc = 'mean').reset_index()\n",
    "\n",
    "add_rounded_values(df_weekly_avg_hours_after_onset, \n",
    "    source_column = 'Hours After Night Start Time', \n",
    "    rounded_column_name = 'Rounded Hours After Night Start Time')\n",
    "\n",
    "df_weekly_avg_hours_after_onset.to_csv(\n",
    "    f'{data_output_folder}weekly_avg_hours_after_onset.csv', \n",
    "    index = False)\n",
    "\n",
    "df_weekly_avg_hours_after_onset"
   ]
  },
  {
   "cell_type": "code",
   "execution_count": 45,
   "metadata": {
    "execution": {
     "iopub.execute_input": "2024-05-14T17:17:22.879611Z",
     "iopub.status.busy": "2024-05-14T17:17:22.879611Z",
     "iopub.status.idle": "2024-05-14T17:17:23.090460Z",
     "shell.execute_reply": "2024-05-14T17:17:23.090460Z",
     "shell.execute_reply.started": "2024-05-14T17:17:22.879611Z"
    }
   },
   "outputs": [
    {
     "data": {
      "application/vnd.plotly.v1+json": {
       "config": {
        "plotlyServerURL": "https://plot.ly"
       },
       "data": [
        {
         "hovertemplate": "Weeks Old=%{x}<br>Hours After Night Start Time=%{y}<br>Rounded Hours After Night Start Time=%{text}<extra></extra>",
         "legendgroup": "",
         "line": {
          "color": "#636efa",
          "dash": "solid"
         },
         "marker": {
          "symbol": "circle"
         },
         "mode": "lines+markers+text",
         "name": "",
         "orientation": "v",
         "showlegend": false,
         "text": [
          4,
          2,
          3,
          2,
          1,
          0,
          1,
          0,
          0,
          1,
          1,
          1,
          0,
          1,
          1,
          2,
          1,
          1,
          0,
          0,
          0,
          0,
          1,
          2,
          1,
          1
         ],
         "textposition": "top center",
         "type": "scatter",
         "x": [
          0,
          1,
          2,
          3,
          4,
          5,
          6,
          7,
          8,
          9,
          10,
          11,
          12,
          13,
          14,
          15,
          16,
          17,
          18,
          19,
          20,
          21,
          22,
          23,
          24,
          25
         ],
         "xaxis": "x",
         "y": [
          3.5833333333333335,
          1.611904761904762,
          2.519047619047619,
          1.8309523809523809,
          0.8785714285714287,
          0.24761904761904763,
          0.5404761904761904,
          0.2119047619047619,
          -0.10238095238095238,
          0.6523809523809524,
          0.8880952380952382,
          0.8261904761904761,
          0.2785714285714286,
          0.7428571428571429,
          0.6476190476190476,
          1.7761904761904763,
          0.7904761904761904,
          1.273809523809524,
          0.03571428571428573,
          0.1928571428571429,
          0.19999999999999998,
          -0.1404761904761905,
          0.8738095238095239,
          1.6547619047619047,
          0.5357142857142857,
          1.0083333333333333
         ],
         "yaxis": "y"
        }
       ],
       "layout": {
        "legend": {
         "tracegroupgap": 0
        },
        "template": {
         "data": {
          "bar": [
           {
            "error_x": {
             "color": "#2a3f5f"
            },
            "error_y": {
             "color": "#2a3f5f"
            },
            "marker": {
             "line": {
              "color": "#E5ECF6",
              "width": 0.5
             },
             "pattern": {
              "fillmode": "overlay",
              "size": 10,
              "solidity": 0.2
             }
            },
            "type": "bar"
           }
          ],
          "barpolar": [
           {
            "marker": {
             "line": {
              "color": "#E5ECF6",
              "width": 0.5
             },
             "pattern": {
              "fillmode": "overlay",
              "size": 10,
              "solidity": 0.2
             }
            },
            "type": "barpolar"
           }
          ],
          "carpet": [
           {
            "aaxis": {
             "endlinecolor": "#2a3f5f",
             "gridcolor": "white",
             "linecolor": "white",
             "minorgridcolor": "white",
             "startlinecolor": "#2a3f5f"
            },
            "baxis": {
             "endlinecolor": "#2a3f5f",
             "gridcolor": "white",
             "linecolor": "white",
             "minorgridcolor": "white",
             "startlinecolor": "#2a3f5f"
            },
            "type": "carpet"
           }
          ],
          "choropleth": [
           {
            "colorbar": {
             "outlinewidth": 0,
             "ticks": ""
            },
            "type": "choropleth"
           }
          ],
          "contour": [
           {
            "colorbar": {
             "outlinewidth": 0,
             "ticks": ""
            },
            "colorscale": [
             [
              0,
              "#0d0887"
             ],
             [
              0.1111111111111111,
              "#46039f"
             ],
             [
              0.2222222222222222,
              "#7201a8"
             ],
             [
              0.3333333333333333,
              "#9c179e"
             ],
             [
              0.4444444444444444,
              "#bd3786"
             ],
             [
              0.5555555555555556,
              "#d8576b"
             ],
             [
              0.6666666666666666,
              "#ed7953"
             ],
             [
              0.7777777777777778,
              "#fb9f3a"
             ],
             [
              0.8888888888888888,
              "#fdca26"
             ],
             [
              1,
              "#f0f921"
             ]
            ],
            "type": "contour"
           }
          ],
          "contourcarpet": [
           {
            "colorbar": {
             "outlinewidth": 0,
             "ticks": ""
            },
            "type": "contourcarpet"
           }
          ],
          "heatmap": [
           {
            "colorbar": {
             "outlinewidth": 0,
             "ticks": ""
            },
            "colorscale": [
             [
              0,
              "#0d0887"
             ],
             [
              0.1111111111111111,
              "#46039f"
             ],
             [
              0.2222222222222222,
              "#7201a8"
             ],
             [
              0.3333333333333333,
              "#9c179e"
             ],
             [
              0.4444444444444444,
              "#bd3786"
             ],
             [
              0.5555555555555556,
              "#d8576b"
             ],
             [
              0.6666666666666666,
              "#ed7953"
             ],
             [
              0.7777777777777778,
              "#fb9f3a"
             ],
             [
              0.8888888888888888,
              "#fdca26"
             ],
             [
              1,
              "#f0f921"
             ]
            ],
            "type": "heatmap"
           }
          ],
          "heatmapgl": [
           {
            "colorbar": {
             "outlinewidth": 0,
             "ticks": ""
            },
            "colorscale": [
             [
              0,
              "#0d0887"
             ],
             [
              0.1111111111111111,
              "#46039f"
             ],
             [
              0.2222222222222222,
              "#7201a8"
             ],
             [
              0.3333333333333333,
              "#9c179e"
             ],
             [
              0.4444444444444444,
              "#bd3786"
             ],
             [
              0.5555555555555556,
              "#d8576b"
             ],
             [
              0.6666666666666666,
              "#ed7953"
             ],
             [
              0.7777777777777778,
              "#fb9f3a"
             ],
             [
              0.8888888888888888,
              "#fdca26"
             ],
             [
              1,
              "#f0f921"
             ]
            ],
            "type": "heatmapgl"
           }
          ],
          "histogram": [
           {
            "marker": {
             "pattern": {
              "fillmode": "overlay",
              "size": 10,
              "solidity": 0.2
             }
            },
            "type": "histogram"
           }
          ],
          "histogram2d": [
           {
            "colorbar": {
             "outlinewidth": 0,
             "ticks": ""
            },
            "colorscale": [
             [
              0,
              "#0d0887"
             ],
             [
              0.1111111111111111,
              "#46039f"
             ],
             [
              0.2222222222222222,
              "#7201a8"
             ],
             [
              0.3333333333333333,
              "#9c179e"
             ],
             [
              0.4444444444444444,
              "#bd3786"
             ],
             [
              0.5555555555555556,
              "#d8576b"
             ],
             [
              0.6666666666666666,
              "#ed7953"
             ],
             [
              0.7777777777777778,
              "#fb9f3a"
             ],
             [
              0.8888888888888888,
              "#fdca26"
             ],
             [
              1,
              "#f0f921"
             ]
            ],
            "type": "histogram2d"
           }
          ],
          "histogram2dcontour": [
           {
            "colorbar": {
             "outlinewidth": 0,
             "ticks": ""
            },
            "colorscale": [
             [
              0,
              "#0d0887"
             ],
             [
              0.1111111111111111,
              "#46039f"
             ],
             [
              0.2222222222222222,
              "#7201a8"
             ],
             [
              0.3333333333333333,
              "#9c179e"
             ],
             [
              0.4444444444444444,
              "#bd3786"
             ],
             [
              0.5555555555555556,
              "#d8576b"
             ],
             [
              0.6666666666666666,
              "#ed7953"
             ],
             [
              0.7777777777777778,
              "#fb9f3a"
             ],
             [
              0.8888888888888888,
              "#fdca26"
             ],
             [
              1,
              "#f0f921"
             ]
            ],
            "type": "histogram2dcontour"
           }
          ],
          "mesh3d": [
           {
            "colorbar": {
             "outlinewidth": 0,
             "ticks": ""
            },
            "type": "mesh3d"
           }
          ],
          "parcoords": [
           {
            "line": {
             "colorbar": {
              "outlinewidth": 0,
              "ticks": ""
             }
            },
            "type": "parcoords"
           }
          ],
          "pie": [
           {
            "automargin": true,
            "type": "pie"
           }
          ],
          "scatter": [
           {
            "fillpattern": {
             "fillmode": "overlay",
             "size": 10,
             "solidity": 0.2
            },
            "type": "scatter"
           }
          ],
          "scatter3d": [
           {
            "line": {
             "colorbar": {
              "outlinewidth": 0,
              "ticks": ""
             }
            },
            "marker": {
             "colorbar": {
              "outlinewidth": 0,
              "ticks": ""
             }
            },
            "type": "scatter3d"
           }
          ],
          "scattercarpet": [
           {
            "marker": {
             "colorbar": {
              "outlinewidth": 0,
              "ticks": ""
             }
            },
            "type": "scattercarpet"
           }
          ],
          "scattergeo": [
           {
            "marker": {
             "colorbar": {
              "outlinewidth": 0,
              "ticks": ""
             }
            },
            "type": "scattergeo"
           }
          ],
          "scattergl": [
           {
            "marker": {
             "colorbar": {
              "outlinewidth": 0,
              "ticks": ""
             }
            },
            "type": "scattergl"
           }
          ],
          "scattermapbox": [
           {
            "marker": {
             "colorbar": {
              "outlinewidth": 0,
              "ticks": ""
             }
            },
            "type": "scattermapbox"
           }
          ],
          "scatterpolar": [
           {
            "marker": {
             "colorbar": {
              "outlinewidth": 0,
              "ticks": ""
             }
            },
            "type": "scatterpolar"
           }
          ],
          "scatterpolargl": [
           {
            "marker": {
             "colorbar": {
              "outlinewidth": 0,
              "ticks": ""
             }
            },
            "type": "scatterpolargl"
           }
          ],
          "scatterternary": [
           {
            "marker": {
             "colorbar": {
              "outlinewidth": 0,
              "ticks": ""
             }
            },
            "type": "scatterternary"
           }
          ],
          "surface": [
           {
            "colorbar": {
             "outlinewidth": 0,
             "ticks": ""
            },
            "colorscale": [
             [
              0,
              "#0d0887"
             ],
             [
              0.1111111111111111,
              "#46039f"
             ],
             [
              0.2222222222222222,
              "#7201a8"
             ],
             [
              0.3333333333333333,
              "#9c179e"
             ],
             [
              0.4444444444444444,
              "#bd3786"
             ],
             [
              0.5555555555555556,
              "#d8576b"
             ],
             [
              0.6666666666666666,
              "#ed7953"
             ],
             [
              0.7777777777777778,
              "#fb9f3a"
             ],
             [
              0.8888888888888888,
              "#fdca26"
             ],
             [
              1,
              "#f0f921"
             ]
            ],
            "type": "surface"
           }
          ],
          "table": [
           {
            "cells": {
             "fill": {
              "color": "#EBF0F8"
             },
             "line": {
              "color": "white"
             }
            },
            "header": {
             "fill": {
              "color": "#C8D4E3"
             },
             "line": {
              "color": "white"
             }
            },
            "type": "table"
           }
          ]
         },
         "layout": {
          "annotationdefaults": {
           "arrowcolor": "#2a3f5f",
           "arrowhead": 0,
           "arrowwidth": 1
          },
          "autotypenumbers": "strict",
          "coloraxis": {
           "colorbar": {
            "outlinewidth": 0,
            "ticks": ""
           }
          },
          "colorscale": {
           "diverging": [
            [
             0,
             "#8e0152"
            ],
            [
             0.1,
             "#c51b7d"
            ],
            [
             0.2,
             "#de77ae"
            ],
            [
             0.3,
             "#f1b6da"
            ],
            [
             0.4,
             "#fde0ef"
            ],
            [
             0.5,
             "#f7f7f7"
            ],
            [
             0.6,
             "#e6f5d0"
            ],
            [
             0.7,
             "#b8e186"
            ],
            [
             0.8,
             "#7fbc41"
            ],
            [
             0.9,
             "#4d9221"
            ],
            [
             1,
             "#276419"
            ]
           ],
           "sequential": [
            [
             0,
             "#0d0887"
            ],
            [
             0.1111111111111111,
             "#46039f"
            ],
            [
             0.2222222222222222,
             "#7201a8"
            ],
            [
             0.3333333333333333,
             "#9c179e"
            ],
            [
             0.4444444444444444,
             "#bd3786"
            ],
            [
             0.5555555555555556,
             "#d8576b"
            ],
            [
             0.6666666666666666,
             "#ed7953"
            ],
            [
             0.7777777777777778,
             "#fb9f3a"
            ],
            [
             0.8888888888888888,
             "#fdca26"
            ],
            [
             1,
             "#f0f921"
            ]
           ],
           "sequentialminus": [
            [
             0,
             "#0d0887"
            ],
            [
             0.1111111111111111,
             "#46039f"
            ],
            [
             0.2222222222222222,
             "#7201a8"
            ],
            [
             0.3333333333333333,
             "#9c179e"
            ],
            [
             0.4444444444444444,
             "#bd3786"
            ],
            [
             0.5555555555555556,
             "#d8576b"
            ],
            [
             0.6666666666666666,
             "#ed7953"
            ],
            [
             0.7777777777777778,
             "#fb9f3a"
            ],
            [
             0.8888888888888888,
             "#fdca26"
            ],
            [
             1,
             "#f0f921"
            ]
           ]
          },
          "colorway": [
           "#636efa",
           "#EF553B",
           "#00cc96",
           "#ab63fa",
           "#FFA15A",
           "#19d3f3",
           "#FF6692",
           "#B6E880",
           "#FF97FF",
           "#FECB52"
          ],
          "font": {
           "color": "#2a3f5f"
          },
          "geo": {
           "bgcolor": "white",
           "lakecolor": "white",
           "landcolor": "#E5ECF6",
           "showlakes": true,
           "showland": true,
           "subunitcolor": "white"
          },
          "hoverlabel": {
           "align": "left"
          },
          "hovermode": "closest",
          "mapbox": {
           "style": "light"
          },
          "paper_bgcolor": "white",
          "plot_bgcolor": "#E5ECF6",
          "polar": {
           "angularaxis": {
            "gridcolor": "white",
            "linecolor": "white",
            "ticks": ""
           },
           "bgcolor": "#E5ECF6",
           "radialaxis": {
            "gridcolor": "white",
            "linecolor": "white",
            "ticks": ""
           }
          },
          "scene": {
           "xaxis": {
            "backgroundcolor": "#E5ECF6",
            "gridcolor": "white",
            "gridwidth": 2,
            "linecolor": "white",
            "showbackground": true,
            "ticks": "",
            "zerolinecolor": "white"
           },
           "yaxis": {
            "backgroundcolor": "#E5ECF6",
            "gridcolor": "white",
            "gridwidth": 2,
            "linecolor": "white",
            "showbackground": true,
            "ticks": "",
            "zerolinecolor": "white"
           },
           "zaxis": {
            "backgroundcolor": "#E5ECF6",
            "gridcolor": "white",
            "gridwidth": 2,
            "linecolor": "white",
            "showbackground": true,
            "ticks": "",
            "zerolinecolor": "white"
           }
          },
          "shapedefaults": {
           "line": {
            "color": "#2a3f5f"
           }
          },
          "ternary": {
           "aaxis": {
            "gridcolor": "white",
            "linecolor": "white",
            "ticks": ""
           },
           "baxis": {
            "gridcolor": "white",
            "linecolor": "white",
            "ticks": ""
           },
           "bgcolor": "#E5ECF6",
           "caxis": {
            "gridcolor": "white",
            "linecolor": "white",
            "ticks": ""
           }
          },
          "title": {
           "x": 0.05
          },
          "xaxis": {
           "automargin": true,
           "gridcolor": "white",
           "linecolor": "white",
           "ticks": "",
           "title": {
            "standoff": 15
           },
           "zerolinecolor": "white",
           "zerolinewidth": 2
          },
          "yaxis": {
           "automargin": true,
           "gridcolor": "white",
           "linecolor": "white",
           "ticks": "",
           "title": {
            "standoff": 15
           },
           "zerolinecolor": "white",
           "zerolinewidth": 2
          }
         }
        },
        "title": {
         "text": "Average Hours Into the Night That Sleep Began by Age (in Weeks)"
        },
        "xaxis": {
         "anchor": "y",
         "domain": [
          0,
          1
         ],
         "title": {
          "text": "Weeks Old"
         }
        },
        "yaxis": {
         "anchor": "x",
         "domain": [
          0,
          1
         ],
         "title": {
          "text": "Hours After Night Start Time"
         }
        }
       }
      }
     },
     "metadata": {},
     "output_type": "display_data"
    }
   ],
   "source": [
    "fig_weekly_hours_after_onset = px.line(\n",
    "    df_weekly_avg_hours_after_onset, \n",
    "    x = 'Weeks Old', y = 'Hours After Night Start Time',\n",
    "    title = 'Average Hours Into the Night That Sleep Began by Age (in Weeks)',\n",
    "    text = 'Rounded Hours After Night Start Time')\n",
    "fig_weekly_hours_after_onset.update_traces(\n",
    "    textposition = 'top center')\n",
    "fig_weekly_hours_after_onset.write_html(\n",
    "    f'{visualizations_folder}weekly_avg_hours_after_onset.html')\n",
    "fig_weekly_hours_after_onset.write_image(\n",
    "    f'{visualizations_folder}weekly_avg_hours_after_onset.png', scale = 4)\n",
    "fig_weekly_hours_after_onset"
   ]
  },
  {
   "cell_type": "markdown",
   "metadata": {},
   "source": [
    "### Saving updated sleep data table to a .csv file:\n",
    "\n",
    "(Waiting until now to save it ensures that the .csv file will include all updates made to it throughout the script.)"
   ]
  },
  {
   "cell_type": "code",
   "execution_count": 46,
   "metadata": {
    "execution": {
     "iopub.execute_input": "2024-05-14T17:17:23.091473Z",
     "iopub.status.busy": "2024-05-14T17:17:23.091473Z",
     "iopub.status.idle": "2024-05-14T17:17:23.108866Z",
     "shell.execute_reply": "2024-05-14T17:17:23.108866Z",
     "shell.execute_reply.started": "2024-05-14T17:17:23.091473Z"
    }
   },
   "outputs": [],
   "source": [
    "df_sleep_data.to_csv(\n",
    "    f'{data_output_folder}updated_sleep_data.csv', index = False)"
   ]
  },
  {
   "cell_type": "code",
   "execution_count": 47,
   "metadata": {
    "execution": {
     "iopub.execute_input": "2024-05-14T17:17:23.109874Z",
     "iopub.status.busy": "2024-05-14T17:17:23.109874Z",
     "iopub.status.idle": "2024-05-14T17:17:23.113576Z",
     "shell.execute_reply": "2024-05-14T17:17:23.113576Z",
     "shell.execute_reply.started": "2024-05-14T17:17:23.109874Z"
    }
   },
   "outputs": [
    {
     "name": "stdout",
     "output_type": "stream",
     "text": [
      "Finished running the script in 5.901 seconds.\n"
     ]
    }
   ],
   "source": [
    "script_end_time = time.time()\n",
    "run_time = script_end_time - script_start_time\n",
    "print(f\"Finished running the script in {round(run_time, 3)} seconds.\")"
   ]
  },
  {
   "cell_type": "markdown",
   "metadata": {},
   "source": [
    "And that's how you can analyze and visualize baby sleep data within Python! Feel free to modify this script for use within your own data analysis projects."
   ]
  },
  {
   "cell_type": "markdown",
   "metadata": {},
   "source": []
  }
 ],
 "metadata": {
  "kernelspec": {
   "display_name": "Python 3 (ipykernel)",
   "language": "python",
   "name": "python3"
  },
  "language_info": {
   "codemirror_mode": {
    "name": "ipython",
    "version": 3
   },
   "file_extension": ".py",
   "mimetype": "text/x-python",
   "name": "python",
   "nbconvert_exporter": "python",
   "pygments_lexer": "ipython3",
   "version": "3.12.1"
  }
 },
 "nbformat": 4,
 "nbformat_minor": 4
}
